{
  "nbformat": 4,
  "nbformat_minor": 0,
  "metadata": {
    "colab": {
      "name": "Clone_this_repository_to_Google_Drive.ipynb",
      "version": "0.3.2",
      "provenance": [],
      "collapsed_sections": [],
      "include_colab_link": true
    }
  },
  "cells": [
    {
      "cell_type": "markdown",
      "metadata": {
        "id": "view-in-github",
        "colab_type": "text"
      },
      "source": [
        "<a href=\"https://colab.research.google.com/github/Data-Science-and-Data-Analytics-Courses/UCSanDiegoX---Python-for-Data-Science-03-Jan-2019-audit-/blob/master/Clone_this_repository_to_Google_Drive.ipynb\" target=\"_parent\"><img src=\"https://colab.research.google.com/assets/colab-badge.svg\" alt=\"Open In Colab\"/></a>"
      ]
    },
    {
      "metadata": {
        "id": "N0IvA_33gDYM",
        "colab_type": "text"
      },
      "cell_type": "markdown",
      "source": [
        "## Step 0: \n",
        "Save a copy of this Jupyter notebook to your google drive and open it in Google Colab. "
      ]
    },
    {
      "metadata": {
        "id": "OsYe5jYOeFz5",
        "colab_type": "text"
      },
      "cell_type": "markdown",
      "source": [
        "## Step 1: Authenticate google colab \n",
        "\n",
        "By running the code below you are authenticating use of googe collab with your google account. "
      ]
    },
    {
      "metadata": {
        "id": "FwIOwosG_nfw",
        "colab_type": "code",
        "outputId": "badb90e8-5e25-4d89-8bef-c44cea9339d0",
        "colab": {
          "base_uri": "https://localhost:8080/",
          "height": 367
        }
      },
      "cell_type": "code",
      "source": [
        "## Code to install necessary libraries and perform authorization\n",
        "\n",
        "\"\"\"\n",
        "When you run this code, you will be asked to authenticate which can be done by \n",
        "clicking the click outputed and copy pasting the access code. Sometime you have to do this couple of time to gain access\n",
        "\n",
        "If you ran this code after successful authentication during your session,\n",
        "when asked for verification code without any link to browser, enter your google password\n",
        "\"\"\"\n",
        "\n",
        "!apt-get install -y -qq software-properties-common python-software-properties module-init-tools\n",
        "!add-apt-repository -y ppa:alessandro-strada/ppa 2>&1 > /dev/null\n",
        "!apt-get update -qq 2>&1 > /dev/null\n",
        "!apt-get -y install -qq google-drive-ocamlfuse fuse\n",
        "from google.colab import auth\n",
        "auth.authenticate_user()\n",
        "from oauth2client.client import GoogleCredentials\n",
        "creds = GoogleCredentials.get_application_default()\n",
        "import getpass\n",
        "!google-drive-ocamlfuse -headless -id={creds.client_id} -secret={creds.client_secret} < /dev/null 2>&1 | grep URL\n",
        "vcode = getpass.getpass()\n",
        "!echo {vcode} | google-drive-ocamlfuse -headless -id={creds.client_id} -secret={creds.client_secret}"
      ],
      "execution_count": 1,
      "outputs": [
        {
          "output_type": "stream",
          "text": [
            "E: Package 'python-software-properties' has no installation candidate\n",
            "Selecting previously unselected package google-drive-ocamlfuse.\n",
            "(Reading database ... 110842 files and directories currently installed.)\n",
            "Preparing to unpack .../google-drive-ocamlfuse_0.7.1-0ubuntu3~ubuntu18.04.1_amd64.deb ...\n",
            "Unpacking google-drive-ocamlfuse (0.7.1-0ubuntu3~ubuntu18.04.1) ...\n",
            "Setting up google-drive-ocamlfuse (0.7.1-0ubuntu3~ubuntu18.04.1) ...\n",
            "Processing triggers for man-db (2.8.3-2ubuntu0.1) ...\n",
            "Please, open the following URL in a web browser: https://accounts.google.com/o/oauth2/auth?client_id=32555940559.apps.googleusercontent.com&redirect_uri=urn%3Aietf%3Awg%3Aoauth%3A2.0%3Aoob&scope=https%3A%2F%2Fwww.googleapis.com%2Fauth%2Fdrive&response_type=code&access_type=offline&approval_prompt=force\n",
            "··········\n",
            "Please, open the following URL in a web browser: https://accounts.google.com/o/oauth2/auth?client_id=32555940559.apps.googleusercontent.com&redirect_uri=urn%3Aietf%3Awg%3Aoauth%3A2.0%3Aoob&scope=https%3A%2F%2Fwww.googleapis.com%2Fauth%2Fdrive&response_type=code&access_type=offline&approval_prompt=force\n",
            "Please enter the verification code: Access token retrieved correctly.\n"
          ],
          "name": "stdout"
        }
      ]
    },
    {
      "metadata": {
        "id": "MXXmLKY5ieUW",
        "colab_type": "text"
      },
      "cell_type": "markdown",
      "source": [
        "## Step 2:  Setting working directory"
      ]
    },
    {
      "metadata": {
        "id": "PTbf_OCo_nt5",
        "colab_type": "code",
        "colab": {}
      },
      "cell_type": "code",
      "source": [
        "## Mount google drive \n",
        "\n",
        "!mkdir -p drive \n",
        "!google-drive-ocamlfuse drive"
      ],
      "execution_count": 0,
      "outputs": []
    },
    {
      "metadata": {
        "id": "5gq6pe0T-sli",
        "colab_type": "code",
        "outputId": "f5606831-6c28-41a1-965a-1f3962994042",
        "colab": {
          "base_uri": "https://localhost:8080/",
          "height": 35
        }
      },
      "cell_type": "code",
      "source": [
        "## Create a folder called \"GitHub\"(any name you want) in Google Drive\n",
        "\n",
        "## Setting the working directory\n",
        "import os\n",
        "os.chdir(\"drive/GitHub\")\n",
        "os.getcwd()"
      ],
      "execution_count": 3,
      "outputs": [
        {
          "output_type": "execute_result",
          "data": {
            "text/plain": [
              "'/content/drive/GitHub'"
            ]
          },
          "metadata": {
            "tags": []
          },
          "execution_count": 3
        }
      ]
    },
    {
      "metadata": {
        "id": "FG76B7MWil03",
        "colab_type": "text"
      },
      "cell_type": "markdown",
      "source": [
        "## Step 3: Cloning github repository on to your google drive"
      ]
    },
    {
      "metadata": {
        "id": "rZ-pq2pf_nwx",
        "colab_type": "code",
        "outputId": "7de12c5d-927b-413d-8249-e9b711897f79",
        "colab": {
          "base_uri": "https://localhost:8080/",
          "height": 189
        }
      },
      "cell_type": "code",
      "source": [
        "\"\"\"\n",
        "Run this command. This will clone/download Github repository into current working directory\n",
        "\"\"\"\n",
        "\n",
        "!git clone https://github.com/Data-Science-and-Data-Analytics-Courses/UCSanDiegoX---Python-for-Data-Science-03-Jan-2019-audit-\n",
        "  \n",
        "  \n",
        "  \n"
      ],
      "execution_count": 0,
      "outputs": [
        {
          "output_type": "stream",
          "text": [
            "Cloning into 'UCSanDiegoX---Python-for-Data-Science-03-Jan-2019-audit-'...\n",
            "remote: Enumerating objects: 77, done.\u001b[K\n",
            "remote: Counting objects: 100% (77/77), done.\u001b[K\n",
            "remote: Compressing objects: 100% (73/73), done.\u001b[K\n",
            "remote: Total 197 (delta 33), reused 0 (delta 0), pack-reused 120\u001b[K\n",
            "Receiving objects: 100% (197/197), 13.29 MiB | 8.70 MiB/s, done.\n",
            "Resolving deltas: 100% (74/74), done.\n",
            "Checking out files: 100% (22/22), done.\n"
          ],
          "name": "stdout"
        }
      ]
    },
    {
      "metadata": {
        "id": "ZP60YIkwiu79",
        "colab_type": "text"
      },
      "cell_type": "markdown",
      "source": [
        "That's all ! If everything went well, you should see the cloned repository on your google drive.\n",
        "\n",
        "## Go back to article\n",
        "\n",
        "## [SOCR Home Page ](http://www.socr.umich.edu/)   \n"
      ]
    }
  ]
}