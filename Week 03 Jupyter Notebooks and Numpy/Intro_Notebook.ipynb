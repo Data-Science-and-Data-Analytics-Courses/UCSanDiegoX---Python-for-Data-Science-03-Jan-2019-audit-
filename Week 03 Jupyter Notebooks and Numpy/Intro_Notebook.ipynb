{
  "nbformat": 4,
  "nbformat_minor": 0,
  "metadata": {
    "colab": {
      "name": "Intro Notebook.ipynb",
      "version": "0.3.2",
      "provenance": [],
      "collapsed_sections": [],
      "include_colab_link": true
    },
    "kernelspec": {
      "name": "python3",
      "display_name": "Python 3"
    }
  },
  "cells": [
    {
      "cell_type": "markdown",
      "metadata": {
        "id": "view-in-github",
        "colab_type": "text"
      },
      "source": [
        "<a href=\"https://colab.research.google.com/github/Data-Science-and-Data-Analytics-Courses/UCSanDiegoX---Python-for-Data-Science-03-Jan-2019-audit-/blob/master/Week%2003%20Jupiter%20Notebooks%20and%20Numpy/Intro_Notebook.ipynb\" target=\"_parent\"><img src=\"https://colab.research.google.com/assets/colab-badge.svg\" alt=\"Open In Colab\"/></a>"
      ]
    },
    {
      "metadata": {
        "id": "tnY5GSfRL9gC",
        "colab_type": "code",
        "colab": {
          "base_uri": "https://localhost:8080/",
          "height": 34
        },
        "outputId": "7f0a8038-cd1d-4e38-9785-d06ed32b7a49"
      },
      "cell_type": "code",
      "source": [
        "print(\"Hello World!\")"
      ],
      "execution_count": 2,
      "outputs": [
        {
          "output_type": "stream",
          "text": [
            "Hello World!\n"
          ],
          "name": "stdout"
        }
      ]
    },
    {
      "metadata": {
        "id": "0b85OzOpOBr1",
        "colab_type": "code",
        "colab": {
          "base_uri": "https://localhost:8080/",
          "height": 34
        },
        "outputId": "468f1b46-a4c3-4ef2-cb42-2cfe0cd520d2"
      },
      "cell_type": "code",
      "source": [
        "5*5"
      ],
      "execution_count": 3,
      "outputs": [
        {
          "output_type": "execute_result",
          "data": {
            "text/plain": [
              "25"
            ]
          },
          "metadata": {
            "tags": []
          },
          "execution_count": 3
        }
      ]
    },
    {
      "metadata": {
        "id": "56xZdyohOCK5",
        "colab_type": "code",
        "colab": {
          "base_uri": "https://localhost:8080/",
          "height": 34
        },
        "outputId": "e301ce02-8634-4246-83ce-5922dacb82f3"
      },
      "cell_type": "code",
      "source": [
        "_ / 1e2"
      ],
      "execution_count": 5,
      "outputs": [
        {
          "output_type": "execute_result",
          "data": {
            "text/plain": [
              "0.025"
            ]
          },
          "metadata": {
            "tags": []
          },
          "execution_count": 5
        }
      ]
    },
    {
      "metadata": {
        "id": "s8lAm_H5O58X",
        "colab_type": "code",
        "colab": {
          "base_uri": "https://localhost:8080/",
          "height": 34
        },
        "outputId": "e680c418-e6b1-4999-df2d-98f74637e542"
      },
      "cell_type": "code",
      "source": [
        "x = 2+4\n",
        "print(x)"
      ],
      "execution_count": 6,
      "outputs": [
        {
          "output_type": "stream",
          "text": [
            "6\n"
          ],
          "name": "stdout"
        }
      ]
    },
    {
      "metadata": {
        "id": "ozVPAvAvQWhz",
        "colab_type": "text"
      },
      "cell_type": "markdown",
      "source": [
        "# This is a markdown cell\n",
        "## Heading 2\n",
        "### Heading 3\n",
        "Hi!\n",
        "* One fish\n",
        "* Two fish\n",
        "\n",
        "**bold**\n",
        "\n",
        "*italic*"
      ]
    },
    {
      "metadata": {
        "id": "Wg8l_7h7RKV4",
        "colab_type": "text"
      },
      "cell_type": "markdown",
      "source": [
        "**Latex equation**\n",
        "$$\n",
        "\\int_0^\\infty x^{-\\alpha}\n",
        "$$"
      ]
    },
    {
      "metadata": {
        "id": "oRl-VVLhRpwm",
        "colab_type": "code",
        "colab": {}
      },
      "cell_type": "code",
      "source": [
        ""
      ],
      "execution_count": 0,
      "outputs": []
    }
  ]
}
