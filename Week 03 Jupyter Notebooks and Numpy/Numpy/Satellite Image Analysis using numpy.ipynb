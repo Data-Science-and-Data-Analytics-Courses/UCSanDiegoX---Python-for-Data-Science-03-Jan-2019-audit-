{
  "nbformat": 4,
  "nbformat_minor": 0,
  "metadata": {
    "colab": {
      "name": "Satellite Image Analysis using numpy.ipynb",
      "version": "0.3.2",
      "provenance": []
    },
    "kernelspec": {
      "name": "python3",
      "display_name": "Python 3"
    },
    "accelerator": "GPU"
  },
  "cells": [
    {
      "metadata": {
        "id": "SKnoL08o6zvg",
        "colab_type": "text"
      },
      "cell_type": "markdown",
      "source": [
        "<p style=\"font-family: Arial; font-size:3.75em;color:purple; font-style:bold\"><br>\n",
        "Satellite Image Data <br><br><br>Analysis using numpy</p>\n",
        "\n",
        "<p style=\"font-family: Arial; font-size:1.75em;color:#2462C0; font-style:bold\"><br>Data Source: Satellite Image from WIFIRE Project</p>\n",
        "\n",
        "\n",
        "WIFIRE is an integrated system for wildfire analysis, with specific regard to changing urban dynamics and climate. The system integrates networked observations such as heterogeneous satellite data and real-time remote sensor data, with computational techniques in signal processing, visualization, modeling, and data assimilation to provide a scalable method to monitor such phenomena as weather patterns that can help predict a wildfire's rate of spread. You can read more about WIFIRE at: https://wifire.ucsd.edu/\n",
        "\n",
        "In this example, we will analyze a sample satellite image dataset from WIFIRE using the numpy Library.\n"
      ]
    },
    {
      "metadata": {
        "id": "v6Silt4ZuVVK",
        "colab_type": "text"
      },
      "cell_type": "markdown",
      "source": [
        "# Set up Google Colaboratory (run the following code cell one time only)"
      ]
    },
    {
      "metadata": {
        "id": "Pml8FJvJD4e4",
        "colab_type": "code",
        "colab": {
          "base_uri": "https://localhost:8080/",
          "height": 153
        },
        "outputId": "921b2e2a-7375-44e3-a686-4a6fee05cdcd"
      },
      "cell_type": "code",
      "source": [
        "# Clone GitHub repository to Google Colab\n",
        "!git clone https://github.com/Data-Science-and-Data-Analytics-Courses/UCSanDiegoX---Python-for-Data-Science-03-Jan-2019-audit-\n",
        "\n",
        "\n",
        "# Set working directory same as that of notebook\n",
        "import os\n",
        "import re\n",
        "\n",
        "notebook_paths = []\n",
        "for root, dirs, files in os.walk(\"UCSanDiegoX---Python-for-Data-Science-03-Jan-2019-audit-\"):\n",
        "  for f in files:\n",
        "    if f.endswith(\".ipynb\"):\n",
        "      notebook_paths.append(os.path.join(root, f))\n",
        "      \n",
        "keywords = [\"3\", \"Satellite\", \"image\", \"analysis\", \"numpy\"]\n",
        "for nb_path in notebook_paths:\n",
        "  if all(re.search(word, nb_path, re.IGNORECASE) for word in keywords):\n",
        "    os.chdir(os.path.dirname(nb_path))\n",
        "    break\n",
        "os.getcwd()"
      ],
      "execution_count": 1,
      "outputs": [
        {
          "output_type": "stream",
          "text": [
            "Cloning into 'UCSanDiegoX---Python-for-Data-Science-03-Jan-2019-audit-'...\n",
            "remote: Enumerating objects: 101, done.\u001b[K\n",
            "remote: Counting objects: 100% (101/101), done.\u001b[K\n",
            "remote: Compressing objects: 100% (97/97), done.\u001b[K\n",
            "remote: Total 221 (delta 47), reused 0 (delta 0), pack-reused 120\u001b[K\n",
            "Receiving objects: 100% (221/221), 13.29 MiB | 14.96 MiB/s, done.\n",
            "Resolving deltas: 100% (88/88), done.\n"
          ],
          "name": "stdout"
        },
        {
          "output_type": "execute_result",
          "data": {
            "text/plain": [
              "'/content/UCSanDiegoX---Python-for-Data-Science-03-Jan-2019-audit-/Week 03 Jupyter Notebooks and Numpy/Numpy'"
            ]
          },
          "metadata": {
            "tags": []
          },
          "execution_count": 1
        }
      ]
    },
    {
      "metadata": {
        "collapsed": true,
        "id": "5krXTTVS6zvl",
        "colab_type": "text"
      },
      "cell_type": "markdown",
      "source": [
        "<p style=\"font-family: Arial; font-size:1.75em;color:#2462C0; font-style:bold\">Loading the libraries we need: numpy, scipy, matplotlib</p>"
      ]
    },
    {
      "metadata": {
        "id": "riZx5LSc6zvn",
        "colab_type": "code",
        "colab": {}
      },
      "cell_type": "code",
      "source": [
        "%matplotlib inline\n",
        "import numpy as np\n",
        "from scipy import misc\n",
        "import matplotlib.pyplot as plt"
      ],
      "execution_count": 0,
      "outputs": []
    },
    {
      "metadata": {
        "collapsed": true,
        "id": "ljrZ57Jp6zvu",
        "colab_type": "text"
      },
      "cell_type": "markdown",
      "source": [
        "<p style=\"font-family: Arial; font-size:1.75em;color:#2462C0; font-style:bold\">\n",
        "Creating a numpy array from an image file:</p> \n",
        "\n",
        "<br>\n",
        "Lets choose a WIFIRE satellite image file as an ndarray and display its type.\n"
      ]
    },
    {
      "metadata": {
        "id": "PnjD9Edx6zvu",
        "colab_type": "code",
        "colab": {}
      },
      "cell_type": "code",
      "source": [
        "from skimage import data\n",
        "\n",
        "photo_data = misc.imread('./wifire/sd-3layers.jpg')\n",
        "\n",
        "type(photo_data)\n"
      ],
      "execution_count": 0,
      "outputs": []
    },
    {
      "metadata": {
        "id": "9_fqc7j66zvz",
        "colab_type": "text"
      },
      "cell_type": "markdown",
      "source": [
        "Let's see what is in this image. "
      ]
    },
    {
      "metadata": {
        "id": "fkf9BapB6zvz",
        "colab_type": "code",
        "colab": {}
      },
      "cell_type": "code",
      "source": [
        "plt.figure(figsize=(15,15))\n",
        "plt.imshow(photo_data)"
      ],
      "execution_count": 0,
      "outputs": []
    },
    {
      "metadata": {
        "id": "Mf8TUEJQ6zv2",
        "colab_type": "code",
        "colab": {}
      },
      "cell_type": "code",
      "source": [
        "photo_data.shape\n",
        "\n",
        "#print(photo_data)"
      ],
      "execution_count": 0,
      "outputs": []
    },
    {
      "metadata": {
        "id": "elMBTRsu6zv4",
        "colab_type": "text"
      },
      "cell_type": "markdown",
      "source": [
        "The shape of the ndarray show that it is a three layered matrix. The first two numbers here are length and width, and the third number (i.e. 3) is for three layers: Red, Green and Blue.\n",
        "\n",
        "<p style=\"font-family: Arial; font-size:1.75em;color:#2462C0; font-style:bold\">\n",
        "RGB Color Mapping in the Photo:</p> <br>\n",
        "<ul>\n",
        "<li><p style=\"font-family: Arial; font-size:1.75em;color:red; font-style:bold\">\n",
        "RED pixel indicates Altitude</p>\n",
        "<li><p style=\"font-family: Arial; font-size:1.75em;color:blue; font-style:bold\">\n",
        "BLUE pixel indicates Aspect\n",
        "</p>\n",
        "<li><p style=\"font-family: Arial; font-size:1.75em;color:green; font-style:bold\">\n",
        "GREEN pixel indicates Slope\n",
        "</p>\n",
        "</ul>\n",
        "<br>\n",
        "The higher values denote higher altitude, aspect and slope.\n"
      ]
    },
    {
      "metadata": {
        "id": "OA9vKQ_S6zv5",
        "colab_type": "code",
        "colab": {}
      },
      "cell_type": "code",
      "source": [
        "photo_data.size"
      ],
      "execution_count": 0,
      "outputs": []
    },
    {
      "metadata": {
        "id": "jnaQcNih6zv7",
        "colab_type": "code",
        "colab": {}
      },
      "cell_type": "code",
      "source": [
        "photo_data.min(), photo_data.max()"
      ],
      "execution_count": 0,
      "outputs": []
    },
    {
      "metadata": {
        "id": "btEBQiRx6zv-",
        "colab_type": "code",
        "colab": {}
      },
      "cell_type": "code",
      "source": [
        "photo_data.mean()"
      ],
      "execution_count": 0,
      "outputs": []
    },
    {
      "metadata": {
        "id": "02o2i5266zwC",
        "colab_type": "text"
      },
      "cell_type": "markdown",
      "source": [
        "<p style=\"font-family: Arial; font-size:1.75em;color:#2462C0; font-style:bold\"><br>\n",
        "\n",
        "Pixel on the 150th Row and 250th Column</p>"
      ]
    },
    {
      "metadata": {
        "id": "yqXtygVc6zwD",
        "colab_type": "code",
        "colab": {}
      },
      "cell_type": "code",
      "source": [
        "photo_data[150, 250]"
      ],
      "execution_count": 0,
      "outputs": []
    },
    {
      "metadata": {
        "id": "tNB-sPXu6zwF",
        "colab_type": "code",
        "colab": {}
      },
      "cell_type": "code",
      "source": [
        "photo_data[150, 250, 1]"
      ],
      "execution_count": 0,
      "outputs": []
    },
    {
      "metadata": {
        "id": "QnWB5PKP6zwJ",
        "colab_type": "text"
      },
      "cell_type": "markdown",
      "source": [
        "<p style=\"font-family: Arial; font-size:1.75em;color:#2462C0; font-style:bold\"><br>\n",
        "Set a Pixel to All Zeros</p>\n",
        "<br/>\n",
        "We can set all three layer in a pixel as once by assigning zero globally to that (row,column) pairing. However, setting one pixel to zero is not noticeable."
      ]
    },
    {
      "metadata": {
        "id": "ACbLEk6e6zwJ",
        "colab_type": "code",
        "colab": {}
      },
      "cell_type": "code",
      "source": [
        "#photo_data = misc.imread('./wifire/sd-3layers.jpg')\n",
        "photo_data[150, 250] = 0\n",
        "plt.figure(figsize=(10,10))\n",
        "plt.imshow(photo_data)"
      ],
      "execution_count": 0,
      "outputs": []
    },
    {
      "metadata": {
        "id": "lD2qYGCv6zwM",
        "colab_type": "text"
      },
      "cell_type": "markdown",
      "source": [
        "<p style=\"font-family: Arial; font-size:1.75em;color:#2462C0; font-style:bold\"><br>\n",
        "Changing colors in a Range<p/>\n",
        "<br/>\n",
        "We can also use a range to change the pixel values. As an example, let's set the green layer for rows 200 t0 800 to full intensity."
      ]
    },
    {
      "metadata": {
        "id": "e_kMHSH26zwM",
        "colab_type": "code",
        "colab": {}
      },
      "cell_type": "code",
      "source": [
        "photo_data = misc.imread('./wifire/sd-3layers.jpg')\n",
        "\n",
        "photo_data[200:800, : ,1] = 255\n",
        "plt.figure(figsize=(10,10))\n",
        "plt.imshow(photo_data)"
      ],
      "execution_count": 0,
      "outputs": []
    },
    {
      "metadata": {
        "id": "jXBNAjv76zwO",
        "colab_type": "code",
        "colab": {}
      },
      "cell_type": "code",
      "source": [
        "photo_data = misc.imread('./wifire/sd-3layers.jpg')\n",
        "\n",
        "photo_data[200:800, :] = 255\n",
        "plt.figure(figsize=(10,10))\n",
        "plt.imshow(photo_data)"
      ],
      "execution_count": 0,
      "outputs": []
    },
    {
      "metadata": {
        "id": "snup4REN6zwQ",
        "colab_type": "code",
        "colab": {}
      },
      "cell_type": "code",
      "source": [
        "photo_data = misc.imread('./wifire/sd-3layers.jpg')\n",
        "\n",
        "photo_data[200:800, :] = 0\n",
        "plt.figure(figsize=(10,10))\n",
        "plt.imshow(photo_data)"
      ],
      "execution_count": 0,
      "outputs": []
    },
    {
      "metadata": {
        "id": "2UHj06sI6zwS",
        "colab_type": "text"
      },
      "cell_type": "markdown",
      "source": [
        "<p style=\"font-family: Arial; font-size:1.75em;color:#2462C0; font-style:bold\"><br>\n",
        "Pick all Pixels with Low Values</p>"
      ]
    },
    {
      "metadata": {
        "id": "Auvmhuf16zwT",
        "colab_type": "code",
        "colab": {}
      },
      "cell_type": "code",
      "source": [
        "photo_data = misc.imread('./wifire/sd-3layers.jpg')\n",
        "print(\"Shape of photo_data:\", photo_data.shape)\n",
        "low_value_filter = photo_data < 200\n",
        "print(\"Shape of low_value_filter:\", low_value_filter.shape)"
      ],
      "execution_count": 0,
      "outputs": []
    },
    {
      "metadata": {
        "id": "K7pwS9bM6zwW",
        "colab_type": "text"
      },
      "cell_type": "markdown",
      "source": [
        "<p style=\"font-family: Arial; font-size:1.75em;color:#2462C0; font-style:bold\">\n",
        "Filtering Out Low Values</p><br/>\n",
        "Whenever the low_value_filter is True, set value to 0."
      ]
    },
    {
      "metadata": {
        "id": "4umEMgGu6zwX",
        "colab_type": "code",
        "colab": {}
      },
      "cell_type": "code",
      "source": [
        "#import random\n",
        "plt.figure(figsize=(10,10))\n",
        "plt.imshow(photo_data)\n",
        "photo_data[low_value_filter] = 0\n",
        "plt.figure(figsize=(10,10))\n",
        "plt.imshow(photo_data)"
      ],
      "execution_count": 0,
      "outputs": []
    },
    {
      "metadata": {
        "id": "DCcidgZU6zwb",
        "colab_type": "text"
      },
      "cell_type": "markdown",
      "source": [
        "<p style=\"font-family: Arial; font-size:1.75em;color:#2462C0; font-style:bold\">\n",
        "More Row and Column Operations</p><br>\n",
        "You can design complex patters by making cols a function of rows or vice-versa. Here we try a linear relationship between rows and columns."
      ]
    },
    {
      "metadata": {
        "id": "JyNoBh-z6zwd",
        "colab_type": "code",
        "colab": {}
      },
      "cell_type": "code",
      "source": [
        "rows_range = np.arange(len(photo_data))\n",
        "cols_range = rows_range\n",
        "print(type(rows_range))"
      ],
      "execution_count": 0,
      "outputs": []
    },
    {
      "metadata": {
        "id": "dI44ErUk6zwf",
        "colab_type": "code",
        "colab": {}
      },
      "cell_type": "code",
      "source": [
        "photo_data[rows_range, cols_range] = 255"
      ],
      "execution_count": 0,
      "outputs": []
    },
    {
      "metadata": {
        "id": "UKDIdMXG6zwi",
        "colab_type": "code",
        "colab": {}
      },
      "cell_type": "code",
      "source": [
        "plt.figure(figsize=(15,15))\n",
        "plt.imshow(photo_data)"
      ],
      "execution_count": 0,
      "outputs": []
    },
    {
      "metadata": {
        "id": "poYc6PjE6zwl",
        "colab_type": "text"
      },
      "cell_type": "markdown",
      "source": [
        "<p style=\"font-family: Arial; font-size:1.75em;color:#2462C0; font-style:bold\"><br>\n",
        "Masking Images</p>\n",
        "<br>Now let us try something even cooler...a mask that is in shape of a circular disc."
      ]
    },
    {
      "metadata": {
        "id": "UR8_9aEz6zwl",
        "colab_type": "text"
      },
      "cell_type": "markdown",
      "source": [
        "<img src=\"https://github.com/Data-Science-and-Data-Analytics-Courses/UCSanDiegoX---Python-for-Data-Science-03-Jan-2019-audit-/blob/master/Week%2003%20Jupyter%20Notebooks%20and%20Numpy/Numpy/1494532821.png?raw=1\" align=\"left\" style=\"width:550px;height:360px;\"/>"
      ]
    },
    {
      "metadata": {
        "id": "TJuz4LNt6zwn",
        "colab_type": "code",
        "colab": {}
      },
      "cell_type": "code",
      "source": [
        "total_rows, total_cols, total_layers = photo_data.shape\n",
        "#print(\"photo_data = \", photo_data.shape)\n",
        "\n",
        "X, Y = np.ogrid[:total_rows, :total_cols]\n",
        "#print(\"X = \", X.shape, \" and Y = \", Y.shape)"
      ],
      "execution_count": 0,
      "outputs": []
    },
    {
      "metadata": {
        "id": "Mnne2gWG6zwq",
        "colab_type": "code",
        "colab": {}
      },
      "cell_type": "code",
      "source": [
        "center_row, center_col = total_rows / 2, total_cols / 2\n",
        "#print(\"center_row = \", center_row, \"AND center_col = \", center_col)\n",
        "#print(X - center_row)\n",
        "#print(Y - center_col)\n",
        "dist_from_center = (X - center_row)**2 + (Y - center_col)**2\n",
        "#print(dist_from_center)\n",
        "radius = (total_rows / 2)**2\n",
        "#print(\"Radius = \", radius)\n",
        "circular_mask = (dist_from_center > radius)\n",
        "#print(circular_mask)\n",
        "print(circular_mask[1500:1700,2000:2200])"
      ],
      "execution_count": 0,
      "outputs": []
    },
    {
      "metadata": {
        "id": "go-l1lrl6zws",
        "colab_type": "code",
        "colab": {}
      },
      "cell_type": "code",
      "source": [
        "photo_data = misc.imread('./wifire/sd-3layers.jpg')\n",
        "photo_data[circular_mask] = 0\n",
        "plt.figure(figsize=(15,15))\n",
        "plt.imshow(photo_data)"
      ],
      "execution_count": 0,
      "outputs": []
    },
    {
      "metadata": {
        "id": "GvMKret06zwu",
        "colab_type": "text"
      },
      "cell_type": "markdown",
      "source": [
        "<p style=\"font-family: Arial; font-size:1.75em;color:#2462C0; font-style:bold\">\n",
        "Further Masking</p>\n",
        "<br/>You can further improve the mask, for example just get upper half disc."
      ]
    },
    {
      "metadata": {
        "id": "pSkubP-l6zwu",
        "colab_type": "code",
        "colab": {}
      },
      "cell_type": "code",
      "source": [
        "X, Y = np.ogrid[:total_rows, :total_cols]\n",
        "half_upper = X < center_row # this line generates a mask for all rows above the center\n",
        "\n",
        "half_upper_mask = np.logical_and(half_upper, circular_mask)"
      ],
      "execution_count": 0,
      "outputs": []
    },
    {
      "metadata": {
        "id": "5HEy9oHb6zww",
        "colab_type": "code",
        "colab": {}
      },
      "cell_type": "code",
      "source": [
        "photo_data = misc.imread('./wifire/sd-3layers.jpg')\n",
        "photo_data[half_upper_mask] = 255\n",
        "#photo_data[half_upper_mask] = random.randint(200,255)\n",
        "plt.figure(figsize=(15,15))\n",
        "plt.imshow(photo_data)"
      ],
      "execution_count": 0,
      "outputs": []
    },
    {
      "metadata": {
        "collapsed": true,
        "id": "8QK4x4LU6zwx",
        "colab_type": "text"
      },
      "cell_type": "markdown",
      "source": [
        "<p style=\"font-family: Arial; font-size:2.75em;color:purple; font-style:bold\"><br>\n",
        "Further Processing of our Satellite Imagery </p>\n",
        "\n",
        "<p style=\"font-family: Arial; font-size:1.75em;color:#2462C0; font-style:bold\">\n",
        "Processing of RED Pixels</p>\n",
        "\n",
        "Remember that red pixels tell us about the height. Let us try to highlight all the high altitude areas. We will do this by detecting high intensity RED Pixels and muting down other areas."
      ]
    },
    {
      "metadata": {
        "id": "hDo2hKB26zwy",
        "colab_type": "code",
        "colab": {}
      },
      "cell_type": "code",
      "source": [
        "photo_data = misc.imread('./wifire/sd-3layers.jpg')\n",
        "red_mask   = photo_data[:, : ,0] < 150\n",
        "\n",
        "photo_data[red_mask] = 0\n",
        "plt.figure(figsize=(15,15))\n",
        "plt.imshow(photo_data)"
      ],
      "execution_count": 0,
      "outputs": []
    },
    {
      "metadata": {
        "id": "giEJ13v76zw1",
        "colab_type": "text"
      },
      "cell_type": "markdown",
      "source": [
        "<p style=\"font-family: Arial; font-size:1.75em;color:#2462C0; font-style:bold\"><br>\n",
        "Detecting Highl-GREEN Pixels</p>"
      ]
    },
    {
      "metadata": {
        "id": "tBQNmyyp6zw2",
        "colab_type": "code",
        "colab": {}
      },
      "cell_type": "code",
      "source": [
        "photo_data = misc.imread('./wifire/sd-3layers.jpg')\n",
        "green_mask = photo_data[:, : ,1] < 150\n",
        "\n",
        "photo_data[green_mask] = 0\n",
        "plt.figure(figsize=(15,15))\n",
        "plt.imshow(photo_data)"
      ],
      "execution_count": 0,
      "outputs": []
    },
    {
      "metadata": {
        "id": "dncCoZYU6zw5",
        "colab_type": "text"
      },
      "cell_type": "markdown",
      "source": [
        "<p style=\"font-family: Arial; font-size:1.75em;color:#2462C0; font-style:bold\"><br>\n",
        "Detecting Highly-BLUE Pixels</p>"
      ]
    },
    {
      "metadata": {
        "id": "k1rz8-p26zw6",
        "colab_type": "code",
        "colab": {}
      },
      "cell_type": "code",
      "source": [
        "photo_data = misc.imread('./wifire/sd-3layers.jpg')\n",
        "blue_mask  = photo_data[:, : ,2] < 150\n",
        "\n",
        "photo_data[blue_mask] = 0\n",
        "plt.figure(figsize=(15,15))\n",
        "plt.imshow(photo_data)"
      ],
      "execution_count": 0,
      "outputs": []
    },
    {
      "metadata": {
        "id": "0en6rwJv6zw8",
        "colab_type": "text"
      },
      "cell_type": "markdown",
      "source": [
        "<p style=\"font-family: Arial; font-size:1.75em;color:#2462C0; font-style:bold\"><br>\n",
        "\n",
        "Composite mask that takes thresholds on all three layers: RED, GREEN, BLUE</p>"
      ]
    },
    {
      "metadata": {
        "id": "Ah_t8W2D6zw8",
        "colab_type": "code",
        "colab": {}
      },
      "cell_type": "code",
      "source": [
        "photo_data = misc.imread('./wifire/sd-3layers.jpg')\n",
        "\n",
        "red_mask   = photo_data[:, : ,0] < 150\n",
        "green_mask = photo_data[:, : ,1] > 100\n",
        "blue_mask  = photo_data[:, : ,2] < 100\n",
        "\n",
        "final_mask = np.logical_and(red_mask, green_mask, blue_mask)\n",
        "photo_data[final_mask] = 0\n",
        "plt.figure(figsize=(15,15))\n",
        "plt.imshow(photo_data)"
      ],
      "execution_count": 0,
      "outputs": []
    },
    {
      "metadata": {
        "id": "06XhecEJ6zw-",
        "colab_type": "code",
        "colab": {}
      },
      "cell_type": "code",
      "source": [
        ""
      ],
      "execution_count": 0,
      "outputs": []
    }
  ]
}