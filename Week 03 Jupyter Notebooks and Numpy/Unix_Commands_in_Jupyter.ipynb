{
  "nbformat": 4,
  "nbformat_minor": 0,
  "metadata": {
    "colab": {
      "name": "Unix Commands in Jupyter.ipynb",
      "version": "0.3.2",
      "provenance": [],
      "collapsed_sections": [],
      "include_colab_link": true
    },
    "kernelspec": {
      "name": "python3",
      "display_name": "Python 3"
    }
  },
  "cells": [
    {
      "cell_type": "markdown",
      "metadata": {
        "id": "view-in-github",
        "colab_type": "text"
      },
      "source": [
        "<a href=\"https://colab.research.google.com/github/Data-Science-and-Data-Analytics-Courses/UCSanDiegoX---Python-for-Data-Science-03-Jan-2019-audit-/blob/master/Week%2003%20Jupyter%20Notebooks%20and%20Numpy/Unix_Commands_in_Jupyter.ipynb\" target=\"_parent\"><img src=\"https://colab.research.google.com/assets/colab-badge.svg\" alt=\"Open In Colab\"/></a>"
      ]
    },
    {
      "metadata": {
        "id": "ThL6c-lRURag",
        "colab_type": "text"
      },
      "cell_type": "markdown",
      "source": [
        "# Declare Filename"
      ]
    },
    {
      "metadata": {
        "id": "NfiDKWGuUf7u",
        "colab_type": "code",
        "outputId": "06ad8e38-6ac3-479b-c2e2-752c686fc6da",
        "colab": {
          "base_uri": "https://localhost:8080/",
          "height": 34
        }
      },
      "cell_type": "code",
      "source": [
        "filename = \"./unix/shakespeare.txt\"\n",
        "print(filename)"
      ],
      "execution_count": 0,
      "outputs": [
        {
          "output_type": "stream",
          "text": [
            "./unix/shakespeare.txt\n"
          ],
          "name": "stdout"
        }
      ]
    },
    {
      "metadata": {
        "id": "T3M9N6C_Vh_z",
        "colab_type": "text"
      },
      "cell_type": "markdown",
      "source": [
        "# head"
      ]
    },
    {
      "metadata": {
        "id": "vngCnv3rVkE1",
        "colab_type": "code",
        "outputId": "99f11204-9b75-4dd6-d5c0-45aa0e5c0615",
        "colab": {
          "base_uri": "https://localhost:8080/",
          "height": 34
        }
      },
      "cell_type": "code",
      "source": [
        "!head -n 3 $filename"
      ],
      "execution_count": 0,
      "outputs": [
        {
          "output_type": "stream",
          "text": [
            "head: cannot open './unix/shakespeare.txt' for reading: No such file or directory\n"
          ],
          "name": "stdout"
        }
      ]
    },
    {
      "metadata": {
        "id": "h9eD6fslUZfW",
        "colab_type": "code",
        "outputId": "b2462c13-71b7-4693-f541-38979ebe0cb2",
        "colab": {
          "base_uri": "https://localhost:8080/",
          "height": 34
        }
      },
      "cell_type": "code",
      "source": [
        "!list ./unix"
      ],
      "execution_count": 0,
      "outputs": [
        {
          "output_type": "stream",
          "text": [
            "/bin/bash: list: command not found\n"
          ],
          "name": "stdout"
        }
      ]
    },
    {
      "metadata": {
        "id": "yMYtqA4vU_Qe",
        "colab_type": "code",
        "colab": {}
      },
      "cell_type": "code",
      "source": [
        ""
      ],
      "execution_count": 0,
      "outputs": []
    }
  ]
}