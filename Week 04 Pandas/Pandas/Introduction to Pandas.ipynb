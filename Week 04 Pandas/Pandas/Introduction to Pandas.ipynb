{
  "nbformat": 4,
  "nbformat_minor": 0,
  "metadata": {
    "colab": {
      "name": "Introduction to Pandas.ipynb",
      "version": "0.3.2",
      "provenance": [],
      "include_colab_link": true
    },
    "kernelspec": {
      "name": "python3",
      "display_name": "Python 3"
    },
    "accelerator": "GPU"
  },
  "cells": [
    {
      "cell_type": "markdown",
      "metadata": {
        "id": "view-in-github",
        "colab_type": "text"
      },
      "source": [
        "<a href=\"https://colab.research.google.com/github/Data-Science-and-Data-Analytics-Courses/UCSanDiegoX---Python-for-Data-Science-03-Jan-2019-audit-/blob/master/Week%2004%20Pandas/Pandas/Introduction%20to%20Pandas.ipynb\" target=\"_parent\"><img src=\"https://colab.research.google.com/assets/colab-badge.svg\" alt=\"Open In Colab\"/></a>"
      ]
    },
    {
      "metadata": {
        "id": "OqtX6aiey8RL",
        "colab_type": "text"
      },
      "cell_type": "markdown",
      "source": [
        "<p style=\"font-family: Arial; font-size:3.75em;color:purple; font-style:bold\"><br>\n",
        "Pandas</p><br>\n",
        "\n",
        "*pandas* is a Python library for data analysis. It offers a number of data exploration, cleaning and transformation operations that are critical in working with data in Python. \n",
        "\n",
        "*pandas* build upon *numpy* and *scipy* providing easy-to-use data structures and data manipulation functions with integrated indexing.\n",
        "\n",
        "The main data structures *pandas* provides are *Series* and *DataFrames*. After a brief introduction to these two data structures and data ingestion, the key features of *pandas* this notebook covers are:\n",
        "* Generating descriptive statistics on data\n",
        "* Data cleaning using built in pandas functions\n",
        "* Frequent data operations for subsetting, filtering, insertion, deletion and aggregation of data\n",
        "* Merging multiple datasets using dataframes\n",
        "* Working with timestamps and time-series data\n",
        "\n",
        "**Additional Recommended Resources:**\n",
        "* *pandas* Documentation: http://pandas.pydata.org/pandas-docs/stable/\n",
        "* *Python for Data Analysis* by Wes McKinney\n",
        "* *Python Data Science Handbook* by Jake VanderPlas\n",
        "\n",
        "Let's get started with our first *pandas* notebook!"
      ]
    },
    {
      "metadata": {
        "id": "tkOoCjiMzC2d",
        "colab_type": "text"
      },
      "cell_type": "markdown",
      "source": [
        "# Set up Google Colaboratory (run the following code cell one time only)"
      ]
    },
    {
      "metadata": {
        "id": "L9zxvcHxzr-t",
        "colab_type": "code",
        "colab": {}
      },
      "cell_type": "code",
      "source": [
        "import os\n",
        "\n",
        "PULL_URL = \"http://github.com/Data-Science-and-Data-Analytics-Courses/UCSanDiegoX---Python-for-Data-Science-03-Jan-2019-audit-\"\n",
        "\n",
        "# Clone GitHub repository to local repository\n",
        "!git clone $PULL_URL\n",
        "os.chdir(os.path.basename(PULL_URL)) # change working directory to local repository directory\n",
        "LOCAL_REPO = os.getcwd()\n",
        "\n",
        "# Change working directory to notebook's directory\n",
        "%cd Week 04 Pandas/Pandas"
      ],
      "execution_count": 0,
      "outputs": []
    },
    {
      "metadata": {
        "id": "q_U9MHj3idAr",
        "colab_type": "text"
      },
      "cell_type": "markdown",
      "source": [
        "# Pandas"
      ]
    },
    {
      "metadata": {
        "id": "CUvb0m4py8RQ",
        "colab_type": "text"
      },
      "cell_type": "markdown",
      "source": [
        "<p style=\"font-family: Arial; font-size:1.75em;color:#2462C0; font-style:bold\"><br>\n",
        "\n",
        "Import Libraries\n",
        "</p>"
      ]
    },
    {
      "metadata": {
        "id": "xo9Q8vF3y8RT",
        "colab_type": "code",
        "colab": {}
      },
      "cell_type": "code",
      "source": [
        "import pandas as pd"
      ],
      "execution_count": 0,
      "outputs": []
    },
    {
      "metadata": {
        "id": "dAKW4nR9y8Rb",
        "colab_type": "text"
      },
      "cell_type": "markdown",
      "source": [
        "<p style=\"font-family: Arial; font-size:1.75em;color:#2462C0; font-style:bold\">\n",
        "Introduction to pandas Data Structures</p>\n",
        "<br>\n",
        "*pandas* has two main data structures it uses, namely, *Series* and *DataFrames*. \n",
        "\n",
        "<p style=\"font-family: Arial; font-size:1.75em;color:#2462C0; font-style:bold\">\n",
        "pandas Series</p>\n",
        "\n",
        "*pandas Series* one-dimensional labeled array. \n"
      ]
    },
    {
      "metadata": {
        "id": "9jOYiFEoy8Rf",
        "colab_type": "code",
        "colab": {}
      },
      "cell_type": "code",
      "source": [
        "ser = pd.Series([100, 'foo', 300, 'bar', 500], ['tom', 'bob', 'nancy', 'dan', 'eric'])"
      ],
      "execution_count": 0,
      "outputs": []
    },
    {
      "metadata": {
        "id": "WgEi4HWPy8Rl",
        "colab_type": "code",
        "colab": {}
      },
      "cell_type": "code",
      "source": [
        "ser"
      ],
      "execution_count": 0,
      "outputs": []
    },
    {
      "metadata": {
        "id": "4JfHMMBsy8Ro",
        "colab_type": "code",
        "colab": {}
      },
      "cell_type": "code",
      "source": [
        "ser.index"
      ],
      "execution_count": 0,
      "outputs": []
    },
    {
      "metadata": {
        "id": "nhUKD5why8Rq",
        "colab_type": "code",
        "colab": {}
      },
      "cell_type": "code",
      "source": [
        "ser.loc[['nancy','bob']]"
      ],
      "execution_count": 0,
      "outputs": []
    },
    {
      "metadata": {
        "id": "2iublJFSy8Rs",
        "colab_type": "code",
        "colab": {}
      },
      "cell_type": "code",
      "source": [
        "ser[[4, 3, 1]]"
      ],
      "execution_count": 0,
      "outputs": []
    },
    {
      "metadata": {
        "id": "zr6X0Z56y8Ru",
        "colab_type": "code",
        "colab": {}
      },
      "cell_type": "code",
      "source": [
        "ser.iloc[2]"
      ],
      "execution_count": 0,
      "outputs": []
    },
    {
      "metadata": {
        "id": "pKdRp_uTy8Rw",
        "colab_type": "code",
        "colab": {}
      },
      "cell_type": "code",
      "source": [
        "'bob' in ser"
      ],
      "execution_count": 0,
      "outputs": []
    },
    {
      "metadata": {
        "id": "Xjbzb126y8Rx",
        "colab_type": "code",
        "colab": {}
      },
      "cell_type": "code",
      "source": [
        "ser"
      ],
      "execution_count": 0,
      "outputs": []
    },
    {
      "metadata": {
        "id": "4gSYQVoJy8Rz",
        "colab_type": "code",
        "colab": {}
      },
      "cell_type": "code",
      "source": [
        "ser * 2"
      ],
      "execution_count": 0,
      "outputs": []
    },
    {
      "metadata": {
        "id": "wutAIhLWy8R1",
        "colab_type": "code",
        "colab": {}
      },
      "cell_type": "code",
      "source": [
        "ser[['nancy', 'eric']] ** 2"
      ],
      "execution_count": 0,
      "outputs": []
    },
    {
      "metadata": {
        "id": "3yLCKnsTy8R2",
        "colab_type": "text"
      },
      "cell_type": "markdown",
      "source": [
        "<p style=\"font-family: Arial; font-size:1.75em;color:#2462C0; font-style:bold\">\n",
        "pandas DataFrame</p>\n",
        "\n",
        "*pandas DataFrame* is a 2-dimensional labeled data structure."
      ]
    },
    {
      "metadata": {
        "id": "qIx_dayAy8R4",
        "colab_type": "text"
      },
      "cell_type": "markdown",
      "source": [
        "<p style=\"font-family: Arial; font-size:1.25em;color:#2462C0; font-style:bold\">\n",
        "Create DataFrame from dictionary of Python Series</p>"
      ]
    },
    {
      "metadata": {
        "id": "DDwut2R-y8R6",
        "colab_type": "code",
        "colab": {}
      },
      "cell_type": "code",
      "source": [
        "d = {'one' : pd.Series([100., 200., 300.], index=['apple', 'ball', 'clock']),\n",
        "     'two' : pd.Series([111., 222., 333., 4444.], index=['apple', 'ball', 'cerill', 'dancy'])}"
      ],
      "execution_count": 0,
      "outputs": []
    },
    {
      "metadata": {
        "id": "MtZdOYv-y8R_",
        "colab_type": "code",
        "colab": {}
      },
      "cell_type": "code",
      "source": [
        "df = pd.DataFrame(d)\n",
        "print(df)"
      ],
      "execution_count": 0,
      "outputs": []
    },
    {
      "metadata": {
        "id": "S-UrcIUTy8SA",
        "colab_type": "code",
        "colab": {}
      },
      "cell_type": "code",
      "source": [
        "df.index"
      ],
      "execution_count": 0,
      "outputs": []
    },
    {
      "metadata": {
        "id": "nzOX6fOay8SB",
        "colab_type": "code",
        "colab": {}
      },
      "cell_type": "code",
      "source": [
        "df.columns"
      ],
      "execution_count": 0,
      "outputs": []
    },
    {
      "metadata": {
        "id": "Z_QJcUMwy8SD",
        "colab_type": "code",
        "colab": {}
      },
      "cell_type": "code",
      "source": [
        "pd.DataFrame(d, index=['dancy', 'ball', 'apple'])"
      ],
      "execution_count": 0,
      "outputs": []
    },
    {
      "metadata": {
        "id": "zejYnQxiy8SE",
        "colab_type": "code",
        "colab": {}
      },
      "cell_type": "code",
      "source": [
        "pd.DataFrame(d, index=['dancy', 'ball', 'apple'], columns=['two', 'five'])"
      ],
      "execution_count": 0,
      "outputs": []
    },
    {
      "metadata": {
        "id": "i9R49gPJy8SF",
        "colab_type": "text"
      },
      "cell_type": "markdown",
      "source": [
        "<p style=\"font-family: Arial; font-size:1.25em;color:#2462C0; font-style:bold\">\n",
        "Create DataFrame from list of Python dictionaries</p>"
      ]
    },
    {
      "metadata": {
        "id": "OLGp0wusy8SF",
        "colab_type": "code",
        "colab": {}
      },
      "cell_type": "code",
      "source": [
        "data = [{'alex': 1, 'joe': 2}, {'ema': 5, 'dora': 10, 'alice': 20}]"
      ],
      "execution_count": 0,
      "outputs": []
    },
    {
      "metadata": {
        "id": "sZEZeJo9y8SG",
        "colab_type": "code",
        "colab": {}
      },
      "cell_type": "code",
      "source": [
        "pd.DataFrame(data)"
      ],
      "execution_count": 0,
      "outputs": []
    },
    {
      "metadata": {
        "id": "FMPSUBDdy8SI",
        "colab_type": "code",
        "colab": {}
      },
      "cell_type": "code",
      "source": [
        "pd.DataFrame(data, index=['orange', 'red'])"
      ],
      "execution_count": 0,
      "outputs": []
    },
    {
      "metadata": {
        "id": "_aS0_bpZy8SI",
        "colab_type": "code",
        "colab": {}
      },
      "cell_type": "code",
      "source": [
        "pd.DataFrame(data, columns=['joe', 'dora','alice'])"
      ],
      "execution_count": 0,
      "outputs": []
    },
    {
      "metadata": {
        "id": "zolbOvBOy8SJ",
        "colab_type": "text"
      },
      "cell_type": "markdown",
      "source": [
        "<p style=\"font-family: Arial; font-size:1.25em;color:#2462C0; font-style:bold\">\n",
        "Basic DataFrame operations</p>"
      ]
    },
    {
      "metadata": {
        "id": "n1z6QE0Dy8SK",
        "colab_type": "code",
        "colab": {}
      },
      "cell_type": "code",
      "source": [
        "df"
      ],
      "execution_count": 0,
      "outputs": []
    },
    {
      "metadata": {
        "id": "oVC9GwPSy8SL",
        "colab_type": "code",
        "colab": {}
      },
      "cell_type": "code",
      "source": [
        "df['one']"
      ],
      "execution_count": 0,
      "outputs": []
    },
    {
      "metadata": {
        "id": "f8Y0qo7ey8SM",
        "colab_type": "code",
        "colab": {}
      },
      "cell_type": "code",
      "source": [
        "df['three'] = df['one'] * df['two']\n",
        "df"
      ],
      "execution_count": 0,
      "outputs": []
    },
    {
      "metadata": {
        "id": "G1hGK9Tay8SN",
        "colab_type": "code",
        "colab": {}
      },
      "cell_type": "code",
      "source": [
        "df['flag'] = df['one'] > 250\n",
        "df"
      ],
      "execution_count": 0,
      "outputs": []
    },
    {
      "metadata": {
        "id": "FHiE67tay8SO",
        "colab_type": "code",
        "colab": {}
      },
      "cell_type": "code",
      "source": [
        "three = df.pop('three')"
      ],
      "execution_count": 0,
      "outputs": []
    },
    {
      "metadata": {
        "id": "Tsbqb3C7y8SQ",
        "colab_type": "code",
        "colab": {}
      },
      "cell_type": "code",
      "source": [
        "three"
      ],
      "execution_count": 0,
      "outputs": []
    },
    {
      "metadata": {
        "id": "x9ysmz6Jy8SU",
        "colab_type": "code",
        "colab": {}
      },
      "cell_type": "code",
      "source": [
        "df"
      ],
      "execution_count": 0,
      "outputs": []
    },
    {
      "metadata": {
        "id": "gwb2UGl0y8SZ",
        "colab_type": "code",
        "colab": {}
      },
      "cell_type": "code",
      "source": [
        "del df['two']"
      ],
      "execution_count": 0,
      "outputs": []
    },
    {
      "metadata": {
        "id": "FJ8AMZ3My8Se",
        "colab_type": "code",
        "colab": {}
      },
      "cell_type": "code",
      "source": [
        "df"
      ],
      "execution_count": 0,
      "outputs": []
    },
    {
      "metadata": {
        "id": "TfA9kAYsy8Si",
        "colab_type": "code",
        "colab": {}
      },
      "cell_type": "code",
      "source": [
        "df.insert(2, 'copy_of_one', df['one'])\n",
        "df"
      ],
      "execution_count": 0,
      "outputs": []
    },
    {
      "metadata": {
        "id": "NXNMA987y8Sj",
        "colab_type": "code",
        "colab": {}
      },
      "cell_type": "code",
      "source": [
        "df['one_upper_half'] = df['one'][:2]\n",
        "df"
      ],
      "execution_count": 0,
      "outputs": []
    },
    {
      "metadata": {
        "id": "8OToDGzEy8Sk",
        "colab_type": "text"
      },
      "cell_type": "markdown",
      "source": [
        "<p style=\"font-family: Arial; font-size:1.75em;color:#2462C0; font-style:bold\">\n",
        "Case Study: Movie Data Analysis</p>\n",
        "<br>This notebook uses a dataset from the MovieLens website. We will describe the dataset further as we explore with it using *pandas*. \n",
        "\n",
        "## Download the Dataset\n",
        "\n",
        "Please note that **you will need to download the dataset**. Although the video for this notebook says that the data is in your folder, the folder turned out to be too large to fit on the edX platform due to size constraints.\n",
        "\n",
        "Here are the links to the data source and location:\n",
        "* **Data Source:** MovieLens web site (filename: ml-20m.zip)\n",
        "* **Location:** https://grouplens.org/datasets/movielens/\n",
        "\n",
        "Once the download completes, please make sure the data files are in a directory called *movielens* in your *Week-3-pandas* folder. \n",
        "\n",
        "Let us look at the files in this dataset using the UNIX command ls.\n"
      ]
    },
    {
      "metadata": {
        "id": "UAXplZo1q_cg",
        "colab_type": "code",
        "colab": {}
      },
      "cell_type": "code",
      "source": [
        "import requests, zipfile, io\n",
        "\n",
        "# Download dataset\n",
        "url = \"http://files.grouplens.org/datasets/movielens/ml-20m.zip\"\n",
        "r = requests.get(url)\n",
        "z = zipfile.ZipFile(io.BytesIO(r.content))\n",
        "z.infolist()"
      ],
      "execution_count": 0,
      "outputs": []
    },
    {
      "metadata": {
        "id": "L8pDF0kly8Sk",
        "colab_type": "code",
        "colab": {}
      },
      "cell_type": "code",
      "source": [
        "# Note: Adjust the name of the folder to match your local directory\n",
        "\n",
        "# Extract data files\n",
        "data_filenames = [\"ratings.csv\", \"tags.csv\", \"movies.csv\"]\n",
        "for fpath in z.namelist():\n",
        "  # Look for file names of interest\n",
        "  if os.path.basename(fpath) in data_filenames:\n",
        "    # Extract a single file from zip\n",
        "    z.extract(fpath)\n",
        "    \n",
        "# Rename extracted directory\n",
        "!mv ml-20m movielens\n",
        "!ls\n",
        "!ls movielens"
      ],
      "execution_count": 0,
      "outputs": []
    },
    {
      "metadata": {
        "id": "qvJDpkWxy8Sl",
        "colab_type": "code",
        "colab": {}
      },
      "cell_type": "code",
      "source": [
        "!cat ./movielens/movies.csv | wc -l"
      ],
      "execution_count": 0,
      "outputs": []
    },
    {
      "metadata": {
        "id": "BRVoRzG8y8Sm",
        "colab_type": "code",
        "colab": {}
      },
      "cell_type": "code",
      "source": [
        "!head -5 ./movielens/ratings.csv"
      ],
      "execution_count": 0,
      "outputs": []
    },
    {
      "metadata": {
        "id": "fCR6ldRqy8Sn",
        "colab_type": "text"
      },
      "cell_type": "markdown",
      "source": [
        "<p style=\"font-family: Arial; font-size:1.75em;color:#2462C0; font-style:bold\">\n",
        "Use Pandas to Read the Dataset<br>\n",
        "</p>\n",
        "<br>\n",
        "In this notebook, we will be using three CSV files:\n",
        "* **ratings.csv :** *userId*,*movieId*,*rating*, *timestamp*\n",
        "* **tags.csv :** *userId*,*movieId*, *tag*, *timestamp*\n",
        "* **movies.csv :** *movieId*, *title*, *genres* <br>\n",
        "\n",
        "Using the *read_csv* function in pandas, we will ingest these three files."
      ]
    },
    {
      "metadata": {
        "id": "ahX8oQXLy8So",
        "colab_type": "code",
        "colab": {}
      },
      "cell_type": "code",
      "source": [
        "movies = pd.read_csv('./movielens/movies.csv', sep=',')\n",
        "print(type(movies))\n",
        "movies.head(15)"
      ],
      "execution_count": 0,
      "outputs": []
    },
    {
      "metadata": {
        "id": "b9enMNNEy8Sp",
        "colab_type": "code",
        "colab": {}
      },
      "cell_type": "code",
      "source": [
        "# Timestamps represent seconds since midnight Coordinated Universal Time (UTC) of January 1, 1970\n",
        "\n",
        "tags = pd.read_csv('./movielens/tags.csv', sep=',')\n",
        "tags.head()"
      ],
      "execution_count": 0,
      "outputs": []
    },
    {
      "metadata": {
        "id": "wMyYf6e0y8Sq",
        "colab_type": "code",
        "colab": {}
      },
      "cell_type": "code",
      "source": [
        "ratings = pd.read_csv('./movielens/ratings.csv', sep=',', parse_dates=['timestamp'])\n",
        "ratings.head()"
      ],
      "execution_count": 0,
      "outputs": []
    },
    {
      "metadata": {
        "id": "zS01oRGFy8Ss",
        "colab_type": "code",
        "colab": {}
      },
      "cell_type": "code",
      "source": [
        "# For current analysis, we will remove timestamp (we will come back to it!)\n",
        "\n",
        "del ratings['timestamp']\n",
        "del tags['timestamp']"
      ],
      "execution_count": 0,
      "outputs": []
    },
    {
      "metadata": {
        "id": "SyDwoM-Gy8St",
        "colab_type": "text"
      },
      "cell_type": "markdown",
      "source": [
        "<h1 style=\"font-size:2em;color:#2467C0\">Data Structures </h1>"
      ]
    },
    {
      "metadata": {
        "id": "o8H2kP3py8St",
        "colab_type": "text"
      },
      "cell_type": "markdown",
      "source": [
        "<h1 style=\"font-size:1.5em;color:#2467C0\">Series</h1>"
      ]
    },
    {
      "metadata": {
        "id": "6TBKVteDy8St",
        "colab_type": "code",
        "colab": {}
      },
      "cell_type": "code",
      "source": [
        "#Extract 0th row: notice that it is infact a Series\n",
        "\n",
        "row_0 = tags.iloc[0]\n",
        "type(row_0)"
      ],
      "execution_count": 0,
      "outputs": []
    },
    {
      "metadata": {
        "id": "bV17DG3Ny8Su",
        "colab_type": "code",
        "colab": {}
      },
      "cell_type": "code",
      "source": [
        "print(row_0)"
      ],
      "execution_count": 0,
      "outputs": []
    },
    {
      "metadata": {
        "id": "Ilm8ayHGy8Sv",
        "colab_type": "code",
        "colab": {}
      },
      "cell_type": "code",
      "source": [
        "row_0.index"
      ],
      "execution_count": 0,
      "outputs": []
    },
    {
      "metadata": {
        "id": "_nUlIJRFy8Sv",
        "colab_type": "code",
        "colab": {}
      },
      "cell_type": "code",
      "source": [
        "row_0['userId']"
      ],
      "execution_count": 0,
      "outputs": []
    },
    {
      "metadata": {
        "id": "rrcOiuYvy8Sw",
        "colab_type": "code",
        "colab": {}
      },
      "cell_type": "code",
      "source": [
        "'rating' in row_0"
      ],
      "execution_count": 0,
      "outputs": []
    },
    {
      "metadata": {
        "id": "Wcgg1ya3y8Sx",
        "colab_type": "code",
        "colab": {}
      },
      "cell_type": "code",
      "source": [
        "row_0.name"
      ],
      "execution_count": 0,
      "outputs": []
    },
    {
      "metadata": {
        "id": "BdlI3jRTy8Sy",
        "colab_type": "code",
        "colab": {}
      },
      "cell_type": "code",
      "source": [
        "row_0 = row_0.rename('first_row')\n",
        "row_0.name"
      ],
      "execution_count": 0,
      "outputs": []
    },
    {
      "metadata": {
        "id": "XiYxf0cRy8Sy",
        "colab_type": "text"
      },
      "cell_type": "markdown",
      "source": [
        "<h1 style=\"font-size:1.5em;color:#2467C0\">DataFrames </h1>"
      ]
    },
    {
      "metadata": {
        "id": "9UpubD2Ly8Sy",
        "colab_type": "code",
        "colab": {}
      },
      "cell_type": "code",
      "source": [
        "tags.head()"
      ],
      "execution_count": 0,
      "outputs": []
    },
    {
      "metadata": {
        "id": "KqToi3xBy8S0",
        "colab_type": "code",
        "colab": {}
      },
      "cell_type": "code",
      "source": [
        "tags.index"
      ],
      "execution_count": 0,
      "outputs": []
    },
    {
      "metadata": {
        "id": "wByIlmHPy8S1",
        "colab_type": "code",
        "colab": {}
      },
      "cell_type": "code",
      "source": [
        "tags.columns"
      ],
      "execution_count": 0,
      "outputs": []
    },
    {
      "metadata": {
        "id": "zT752lWAy8S2",
        "colab_type": "code",
        "colab": {}
      },
      "cell_type": "code",
      "source": [
        "# Extract row 0, 11, 2000 from DataFrame\n",
        "\n",
        "tags.iloc[ [0,11,2000] ]"
      ],
      "execution_count": 0,
      "outputs": []
    },
    {
      "metadata": {
        "id": "FUzdeW88y8S2",
        "colab_type": "text"
      },
      "cell_type": "markdown",
      "source": [
        "<h1 style=\"font-size:2em;color:#2467C0\">Descriptive Statistics</h1>\n",
        "\n",
        "Let's look how the ratings are distributed! "
      ]
    },
    {
      "metadata": {
        "id": "oi1fb4m0y8S3",
        "colab_type": "code",
        "colab": {}
      },
      "cell_type": "code",
      "source": [
        "ratings['rating'].describe()"
      ],
      "execution_count": 0,
      "outputs": []
    },
    {
      "metadata": {
        "id": "mjAjronwy8S3",
        "colab_type": "code",
        "colab": {}
      },
      "cell_type": "code",
      "source": [
        "ratings.describe()"
      ],
      "execution_count": 0,
      "outputs": []
    },
    {
      "metadata": {
        "id": "M_rwechOy8S4",
        "colab_type": "code",
        "colab": {}
      },
      "cell_type": "code",
      "source": [
        "ratings['rating'].mean()"
      ],
      "execution_count": 0,
      "outputs": []
    },
    {
      "metadata": {
        "id": "rh2mLi4Uy8S5",
        "colab_type": "code",
        "colab": {}
      },
      "cell_type": "code",
      "source": [
        "ratings.mean()"
      ],
      "execution_count": 0,
      "outputs": []
    },
    {
      "metadata": {
        "id": "06PIV1tOy8S5",
        "colab_type": "code",
        "colab": {}
      },
      "cell_type": "code",
      "source": [
        "ratings['rating'].min()"
      ],
      "execution_count": 0,
      "outputs": []
    },
    {
      "metadata": {
        "id": "59LjcPoCy8S6",
        "colab_type": "code",
        "colab": {}
      },
      "cell_type": "code",
      "source": [
        "ratings['rating'].max()"
      ],
      "execution_count": 0,
      "outputs": []
    },
    {
      "metadata": {
        "id": "rT7qd7DXy8S7",
        "colab_type": "code",
        "colab": {}
      },
      "cell_type": "code",
      "source": [
        "ratings['rating'].std()"
      ],
      "execution_count": 0,
      "outputs": []
    },
    {
      "metadata": {
        "id": "kSny7iHDy8S7",
        "colab_type": "code",
        "colab": {}
      },
      "cell_type": "code",
      "source": [
        "ratings['rating'].mode()"
      ],
      "execution_count": 0,
      "outputs": []
    },
    {
      "metadata": {
        "scrolled": true,
        "id": "7vwNe_aBy8S8",
        "colab_type": "code",
        "colab": {}
      },
      "cell_type": "code",
      "source": [
        "ratings.corr()"
      ],
      "execution_count": 0,
      "outputs": []
    },
    {
      "metadata": {
        "id": "qJGv-kb2y8S9",
        "colab_type": "code",
        "colab": {}
      },
      "cell_type": "code",
      "source": [
        "filter_1 = ratings['rating'] > 5\n",
        "print(filter_1)\n",
        "filter_1.any()"
      ],
      "execution_count": 0,
      "outputs": []
    },
    {
      "metadata": {
        "id": "eP_qV7Tiy8S9",
        "colab_type": "code",
        "colab": {}
      },
      "cell_type": "code",
      "source": [
        "filter_2 = ratings['rating'] > 0\n",
        "filter_2.all()"
      ],
      "execution_count": 0,
      "outputs": []
    },
    {
      "metadata": {
        "id": "3A7HvGqFy8S-",
        "colab_type": "text"
      },
      "cell_type": "markdown",
      "source": [
        "<h1 style=\"font-size:2em;color:#2467C0\">Data Cleaning: Handling Missing Data</h1>"
      ]
    },
    {
      "metadata": {
        "id": "yxrWTjEdy8S-",
        "colab_type": "code",
        "colab": {}
      },
      "cell_type": "code",
      "source": [
        "movies.shape"
      ],
      "execution_count": 0,
      "outputs": []
    },
    {
      "metadata": {
        "id": "cFbxgSK3y8S_",
        "colab_type": "code",
        "colab": {}
      },
      "cell_type": "code",
      "source": [
        "#is any row NULL ?\n",
        "\n",
        "movies.isnull().any()"
      ],
      "execution_count": 0,
      "outputs": []
    },
    {
      "metadata": {
        "collapsed": true,
        "id": "ScmcRa1Wy8TA",
        "colab_type": "text"
      },
      "cell_type": "markdown",
      "source": [
        "Thats nice ! No NULL values !"
      ]
    },
    {
      "metadata": {
        "id": "gEwl7Gc8y8TA",
        "colab_type": "code",
        "colab": {}
      },
      "cell_type": "code",
      "source": [
        "ratings.shape"
      ],
      "execution_count": 0,
      "outputs": []
    },
    {
      "metadata": {
        "id": "s4WZ1__Wy8TB",
        "colab_type": "code",
        "colab": {}
      },
      "cell_type": "code",
      "source": [
        "#is any row NULL ?\n",
        "\n",
        "ratings.isnull().any()"
      ],
      "execution_count": 0,
      "outputs": []
    },
    {
      "metadata": {
        "collapsed": true,
        "id": "T2cjNOtqy8TB",
        "colab_type": "text"
      },
      "cell_type": "markdown",
      "source": [
        "Thats nice ! No NULL values !"
      ]
    },
    {
      "metadata": {
        "id": "owQTfHv7y8TB",
        "colab_type": "code",
        "colab": {}
      },
      "cell_type": "code",
      "source": [
        "tags.shape"
      ],
      "execution_count": 0,
      "outputs": []
    },
    {
      "metadata": {
        "id": "zovCZ5Bby8TD",
        "colab_type": "code",
        "colab": {}
      },
      "cell_type": "code",
      "source": [
        "#is any row NULL ?\n",
        "\n",
        "tags.isnull().any()"
      ],
      "execution_count": 0,
      "outputs": []
    },
    {
      "metadata": {
        "collapsed": true,
        "id": "usbF8nYKy8TE",
        "colab_type": "text"
      },
      "cell_type": "markdown",
      "source": [
        "We have some tags which are NULL."
      ]
    },
    {
      "metadata": {
        "id": "7E8nz4rfy8TE",
        "colab_type": "code",
        "colab": {}
      },
      "cell_type": "code",
      "source": [
        "tags = tags.dropna()"
      ],
      "execution_count": 0,
      "outputs": []
    },
    {
      "metadata": {
        "id": "CDr3HdJYy8TF",
        "colab_type": "code",
        "colab": {}
      },
      "cell_type": "code",
      "source": [
        "#Check again: is any row NULL ?\n",
        "\n",
        "tags.isnull().any()"
      ],
      "execution_count": 0,
      "outputs": []
    },
    {
      "metadata": {
        "id": "gVRLGO0Hy8TF",
        "colab_type": "code",
        "colab": {}
      },
      "cell_type": "code",
      "source": [
        "tags.shape"
      ],
      "execution_count": 0,
      "outputs": []
    },
    {
      "metadata": {
        "collapsed": true,
        "id": "dx31TS3Sy8TG",
        "colab_type": "text"
      },
      "cell_type": "markdown",
      "source": [
        "Thats nice ! No NULL values ! Notice the number of lines have reduced."
      ]
    },
    {
      "metadata": {
        "id": "6gTV0rJzy8TG",
        "colab_type": "text"
      },
      "cell_type": "markdown",
      "source": [
        "<h1 style=\"font-size:2em;color:#2467C0\">Data Visualization</h1>"
      ]
    },
    {
      "metadata": {
        "id": "3E7w0w5Vy8TG",
        "colab_type": "code",
        "colab": {}
      },
      "cell_type": "code",
      "source": [
        "%matplotlib inline\n",
        "\n",
        "ratings.hist(column='rating', figsize=(15,10))"
      ],
      "execution_count": 0,
      "outputs": []
    },
    {
      "metadata": {
        "id": "-0rSm1YRy8TH",
        "colab_type": "code",
        "colab": {}
      },
      "cell_type": "code",
      "source": [
        "ratings.boxplot(column='rating', figsize=(15,20))"
      ],
      "execution_count": 0,
      "outputs": []
    },
    {
      "metadata": {
        "id": "Zh4kUP-Fy8TI",
        "colab_type": "text"
      },
      "cell_type": "markdown",
      "source": [
        "<h1 style=\"font-size:2em;color:#2467C0\">Slicing Out Columns</h1>\n",
        " "
      ]
    },
    {
      "metadata": {
        "id": "kO_zPWwYy8TI",
        "colab_type": "code",
        "colab": {}
      },
      "cell_type": "code",
      "source": [
        "tags['tag'].head()"
      ],
      "execution_count": 0,
      "outputs": []
    },
    {
      "metadata": {
        "id": "lZHl2VJxy8TI",
        "colab_type": "code",
        "colab": {}
      },
      "cell_type": "code",
      "source": [
        "movies[['title','genres']].head()"
      ],
      "execution_count": 0,
      "outputs": []
    },
    {
      "metadata": {
        "id": "yIpEs51Yy8TJ",
        "colab_type": "code",
        "colab": {}
      },
      "cell_type": "code",
      "source": [
        "ratings[-10:]"
      ],
      "execution_count": 0,
      "outputs": []
    },
    {
      "metadata": {
        "id": "FCPcOkO8y8TK",
        "colab_type": "code",
        "colab": {}
      },
      "cell_type": "code",
      "source": [
        "tag_counts = tags['tag'].value_counts()\n",
        "tag_counts[-10:]"
      ],
      "execution_count": 0,
      "outputs": []
    },
    {
      "metadata": {
        "id": "eHOrGSSHy8TK",
        "colab_type": "code",
        "colab": {}
      },
      "cell_type": "code",
      "source": [
        "tag_counts[:10].plot(kind='bar', figsize=(15,10))"
      ],
      "execution_count": 0,
      "outputs": []
    },
    {
      "metadata": {
        "id": "NYsvPP4dy8TL",
        "colab_type": "text"
      },
      "cell_type": "markdown",
      "source": [
        "<h1 style=\"font-size:2em;color:#2467C0\">Filters for Selecting Rows</h1>"
      ]
    },
    {
      "metadata": {
        "id": "ErzMpwdwy8TL",
        "colab_type": "code",
        "colab": {}
      },
      "cell_type": "code",
      "source": [
        "is_highly_rated = ratings['rating'] >= 4.0\n",
        "\n",
        "ratings[is_highly_rated][30:50]"
      ],
      "execution_count": 0,
      "outputs": []
    },
    {
      "metadata": {
        "id": "ChWMauvTy8TM",
        "colab_type": "code",
        "colab": {}
      },
      "cell_type": "code",
      "source": [
        "is_animation = movies['genres'].str.contains('Animation')\n",
        "\n",
        "movies[is_animation][5:15]"
      ],
      "execution_count": 0,
      "outputs": []
    },
    {
      "metadata": {
        "id": "P1fEwt5Ay8TN",
        "colab_type": "code",
        "colab": {}
      },
      "cell_type": "code",
      "source": [
        "movies[is_animation].head(15)"
      ],
      "execution_count": 0,
      "outputs": []
    },
    {
      "metadata": {
        "id": "bEUtOi09y8TN",
        "colab_type": "text"
      },
      "cell_type": "markdown",
      "source": [
        "<h1 style=\"font-size:2em;color:#2467C0\">Group By and Aggregate </h1>"
      ]
    },
    {
      "metadata": {
        "id": "tcLcwviHy8TN",
        "colab_type": "code",
        "colab": {}
      },
      "cell_type": "code",
      "source": [
        "ratings_count = ratings[['movieId','rating']].groupby('rating').count()\n",
        "ratings_count"
      ],
      "execution_count": 0,
      "outputs": []
    },
    {
      "metadata": {
        "id": "Cm2ORjLly8TO",
        "colab_type": "code",
        "colab": {}
      },
      "cell_type": "code",
      "source": [
        "average_rating = ratings[['movieId','rating']].groupby('movieId').mean()\n",
        "average_rating.head()"
      ],
      "execution_count": 0,
      "outputs": []
    },
    {
      "metadata": {
        "id": "EDMYKRpBy8TP",
        "colab_type": "code",
        "colab": {}
      },
      "cell_type": "code",
      "source": [
        "movie_count = ratings[['movieId','rating']].groupby('movieId').count()\n",
        "movie_count.head()"
      ],
      "execution_count": 0,
      "outputs": []
    },
    {
      "metadata": {
        "id": "WLPSN5g3y8TP",
        "colab_type": "code",
        "colab": {}
      },
      "cell_type": "code",
      "source": [
        "movie_count = ratings[['movieId','rating']].groupby('movieId').count()\n",
        "movie_count.tail()"
      ],
      "execution_count": 0,
      "outputs": []
    },
    {
      "metadata": {
        "id": "GqdoTXMIy8TQ",
        "colab_type": "text"
      },
      "cell_type": "markdown",
      "source": [
        "<h1 style=\"font-size:2em;color:#2467C0\">Merge Dataframes</h1>"
      ]
    },
    {
      "metadata": {
        "id": "zYCmTWTcy8TQ",
        "colab_type": "code",
        "colab": {}
      },
      "cell_type": "code",
      "source": [
        "tags.head()"
      ],
      "execution_count": 0,
      "outputs": []
    },
    {
      "metadata": {
        "id": "kCTQ67Hgy8TR",
        "colab_type": "code",
        "colab": {}
      },
      "cell_type": "code",
      "source": [
        "movies.head()"
      ],
      "execution_count": 0,
      "outputs": []
    },
    {
      "metadata": {
        "id": "CUM_h4nhy8TS",
        "colab_type": "code",
        "colab": {}
      },
      "cell_type": "code",
      "source": [
        "t = movies.merge(tags, on='movieId', how='inner')\n",
        "t.head()"
      ],
      "execution_count": 0,
      "outputs": []
    },
    {
      "metadata": {
        "id": "yqGw3Igmy8TS",
        "colab_type": "text"
      },
      "cell_type": "markdown",
      "source": [
        "More examples: http://pandas.pydata.org/pandas-docs/stable/merging.html"
      ]
    },
    {
      "metadata": {
        "id": "HaKNqmV5y8TS",
        "colab_type": "text"
      },
      "cell_type": "markdown",
      "source": [
        "<p style=\"font-family: Arial; font-size:1.75em;color:#2462C0; font-style:bold\"><br>\n",
        "\n",
        "\n",
        "Combine aggreagation, merging, and filters to get useful analytics\n",
        "</p>"
      ]
    },
    {
      "metadata": {
        "id": "EOpgvm1Ey8TT",
        "colab_type": "code",
        "colab": {}
      },
      "cell_type": "code",
      "source": [
        "avg_ratings = ratings.groupby('movieId', as_index=False).mean()\n",
        "del avg_ratings['userId']\n",
        "avg_ratings.head()"
      ],
      "execution_count": 0,
      "outputs": []
    },
    {
      "metadata": {
        "id": "4faFz8LNy8TT",
        "colab_type": "code",
        "colab": {}
      },
      "cell_type": "code",
      "source": [
        "box_office = movies.merge(avg_ratings, on='movieId', how='inner')\n",
        "box_office.tail()"
      ],
      "execution_count": 0,
      "outputs": []
    },
    {
      "metadata": {
        "id": "X0m2yiCOy8TU",
        "colab_type": "code",
        "colab": {}
      },
      "cell_type": "code",
      "source": [
        "is_highly_rated = box_office['rating'] >= 4.0\n",
        "\n",
        "box_office[is_highly_rated][-5:]"
      ],
      "execution_count": 0,
      "outputs": []
    },
    {
      "metadata": {
        "id": "j9V2U0Qky8TV",
        "colab_type": "code",
        "colab": {}
      },
      "cell_type": "code",
      "source": [
        "is_comedy = box_office['genres'].str.contains('Comedy')\n",
        "\n",
        "box_office[is_comedy][:5]"
      ],
      "execution_count": 0,
      "outputs": []
    },
    {
      "metadata": {
        "id": "jilUjk6vy8TV",
        "colab_type": "code",
        "colab": {}
      },
      "cell_type": "code",
      "source": [
        "box_office[is_comedy & is_highly_rated][-5:]"
      ],
      "execution_count": 0,
      "outputs": []
    },
    {
      "metadata": {
        "id": "6ZL5YzxQy8TW",
        "colab_type": "text"
      },
      "cell_type": "markdown",
      "source": [
        "<h1 style=\"font-size:2em;color:#2467C0\">Vectorized String Operations</h1>\n"
      ]
    },
    {
      "metadata": {
        "id": "QEpR7heTy8TW",
        "colab_type": "code",
        "colab": {}
      },
      "cell_type": "code",
      "source": [
        "movies.head()"
      ],
      "execution_count": 0,
      "outputs": []
    },
    {
      "metadata": {
        "id": "5WW-Vebcy8TW",
        "colab_type": "text"
      },
      "cell_type": "markdown",
      "source": [
        "<p style=\"font-family: Arial; font-size:1.35em;color:#2462C0; font-style:bold\"><br>\n",
        "\n",
        "Split 'genres' into multiple columns\n",
        "\n",
        "<br> </p>"
      ]
    },
    {
      "metadata": {
        "id": "yM8HgsIoy8TX",
        "colab_type": "code",
        "colab": {}
      },
      "cell_type": "code",
      "source": [
        "movie_genres = movies['genres'].str.split('|', expand=True)"
      ],
      "execution_count": 0,
      "outputs": []
    },
    {
      "metadata": {
        "id": "YkwxxwNfy8TX",
        "colab_type": "code",
        "colab": {}
      },
      "cell_type": "code",
      "source": [
        "movie_genres[:10]"
      ],
      "execution_count": 0,
      "outputs": []
    },
    {
      "metadata": {
        "id": "aHswkqs7y8TY",
        "colab_type": "text"
      },
      "cell_type": "markdown",
      "source": [
        "<p style=\"font-family: Arial; font-size:1.35em;color:#2462C0; font-style:bold\"><br>\n",
        "\n",
        "Add a new column for comedy genre flag\n",
        "\n",
        "<br> </p>"
      ]
    },
    {
      "metadata": {
        "id": "Gq3GPHRry8TY",
        "colab_type": "code",
        "colab": {}
      },
      "cell_type": "code",
      "source": [
        "movie_genres['isComedy'] = movies['genres'].str.contains('Comedy')"
      ],
      "execution_count": 0,
      "outputs": []
    },
    {
      "metadata": {
        "id": "fWV9K_qyy8TZ",
        "colab_type": "code",
        "colab": {}
      },
      "cell_type": "code",
      "source": [
        "movie_genres[:10]"
      ],
      "execution_count": 0,
      "outputs": []
    },
    {
      "metadata": {
        "id": "kGNxNvVpy8Ta",
        "colab_type": "text"
      },
      "cell_type": "markdown",
      "source": [
        "<p style=\"font-family: Arial; font-size:1.35em;color:#2462C0; font-style:bold\"><br>\n",
        "\n",
        "Extract year from title e.g. (1995)\n",
        "\n",
        "<br> </p>"
      ]
    },
    {
      "metadata": {
        "id": "MDMHXO9Py8Tb",
        "colab_type": "code",
        "colab": {}
      },
      "cell_type": "code",
      "source": [
        "movies['year'] = movies['title'].str.extract('.*\\((.*)\\).*', expand=True)"
      ],
      "execution_count": 0,
      "outputs": []
    },
    {
      "metadata": {
        "id": "1zNU6R-Wy8Td",
        "colab_type": "code",
        "colab": {}
      },
      "cell_type": "code",
      "source": [
        "movies.tail()"
      ],
      "execution_count": 0,
      "outputs": []
    },
    {
      "metadata": {
        "id": "98IVLnkAy8Te",
        "colab_type": "text"
      },
      "cell_type": "markdown",
      "source": [
        "<p style=\"font-family: Arial; font-size:1.35em;color:#2462C0; font-style:bold\"><br>\n",
        "\n",
        "More here: http://pandas.pydata.org/pandas-docs/stable/text.html#text-string-methods\n",
        "<br> </p>"
      ]
    },
    {
      "metadata": {
        "id": "cHak6-dHy8Tf",
        "colab_type": "text"
      },
      "cell_type": "markdown",
      "source": [
        "<h1 style=\"font-size:2em;color:#2467C0\">Parsing Timestamps</h1>"
      ]
    },
    {
      "metadata": {
        "id": "xKe91_VJy8Tf",
        "colab_type": "text"
      },
      "cell_type": "markdown",
      "source": [
        "Timestamps are common in sensor data or other time series datasets.\n",
        "Let us revisit the *tags.csv* dataset and read the timestamps!\n"
      ]
    },
    {
      "metadata": {
        "id": "fKZCNEQsy8Tf",
        "colab_type": "code",
        "colab": {}
      },
      "cell_type": "code",
      "source": [
        "tags = pd.read_csv('./movielens/tags.csv', sep=',')\n",
        "tags.head()"
      ],
      "execution_count": 0,
      "outputs": []
    },
    {
      "metadata": {
        "id": "wsyP37Z7y8Tf",
        "colab_type": "code",
        "colab": {}
      },
      "cell_type": "code",
      "source": [
        "tags.dtypes"
      ],
      "execution_count": 0,
      "outputs": []
    },
    {
      "metadata": {
        "collapsed": true,
        "id": "LBO_mvM0y8Tg",
        "colab_type": "text"
      },
      "cell_type": "markdown",
      "source": [
        "<p style=\"font-family: Arial; font-size:1.35em;color:#2462C0; font-style:bold\">\n",
        "\n",
        "Unix time / POSIX time / epoch time records \n",
        "time in seconds <br> since midnight Coordinated Universal Time (UTC) of January 1, 1970\n",
        "</p>"
      ]
    },
    {
      "metadata": {
        "id": "DBMP9YWFy8Tg",
        "colab_type": "code",
        "colab": {}
      },
      "cell_type": "code",
      "source": [
        "tags.head(5)"
      ],
      "execution_count": 0,
      "outputs": []
    },
    {
      "metadata": {
        "id": "5PNRnSUiy8Th",
        "colab_type": "code",
        "colab": {}
      },
      "cell_type": "code",
      "source": [
        "tags['parsed_time'] = pd.to_datetime(tags['timestamp'], unit='s')"
      ],
      "execution_count": 0,
      "outputs": []
    },
    {
      "metadata": {
        "id": "MOeZViiOy8Th",
        "colab_type": "text"
      },
      "cell_type": "markdown",
      "source": [
        "<p style=\"font-family: Arial; font-size:1.35em;color:#2462C0; font-style:bold\">\n",
        "\n",
        "Data Type datetime64[ns] maps to either <M8[ns] or >M8[ns] depending on the hardware\n",
        "\n",
        "</p>"
      ]
    },
    {
      "metadata": {
        "id": "bUHPNVAFy8Th",
        "colab_type": "code",
        "colab": {}
      },
      "cell_type": "code",
      "source": [
        "\n",
        "tags['parsed_time'].dtype"
      ],
      "execution_count": 0,
      "outputs": []
    },
    {
      "metadata": {
        "id": "4ye0qPiby8Ti",
        "colab_type": "code",
        "colab": {}
      },
      "cell_type": "code",
      "source": [
        "tags.head(2)"
      ],
      "execution_count": 0,
      "outputs": []
    },
    {
      "metadata": {
        "id": "ZraSpCYfy8Tj",
        "colab_type": "text"
      },
      "cell_type": "markdown",
      "source": [
        "<p style=\"font-family: Arial; font-size:1.35em;color:#2462C0; font-style:bold\">\n",
        "\n",
        "Selecting rows based on timestamps\n",
        "</p>"
      ]
    },
    {
      "metadata": {
        "id": "zvE5PI49y8Tj",
        "colab_type": "code",
        "colab": {}
      },
      "cell_type": "code",
      "source": [
        "greater_than_t = tags['parsed_time'] > '2015-02-01'\n",
        "\n",
        "selected_rows = tags[greater_than_t]\n",
        "\n",
        "tags.shape, selected_rows.shape"
      ],
      "execution_count": 0,
      "outputs": []
    },
    {
      "metadata": {
        "id": "mMfxBzpyy8Tj",
        "colab_type": "text"
      },
      "cell_type": "markdown",
      "source": [
        "<p style=\"font-family: Arial; font-size:1.35em;color:#2462C0; font-style:bold\">\n",
        "\n",
        "Sorting the table using the timestamps\n",
        "</p>"
      ]
    },
    {
      "metadata": {
        "id": "CT3wy4u1y8Tj",
        "colab_type": "code",
        "colab": {}
      },
      "cell_type": "code",
      "source": [
        "tags.sort_values(by='parsed_time', ascending=True)[:10]"
      ],
      "execution_count": 0,
      "outputs": []
    },
    {
      "metadata": {
        "id": "PX-HLWgLy8Tk",
        "colab_type": "text"
      },
      "cell_type": "markdown",
      "source": [
        "<h1 style=\"font-size:2em;color:#2467C0\">Average Movie Ratings over Time </h1>\n",
        "## Are Movie ratings related to the year of launch?"
      ]
    },
    {
      "metadata": {
        "id": "du6iGxNoy8Tk",
        "colab_type": "code",
        "colab": {}
      },
      "cell_type": "code",
      "source": [
        "average_rating = ratings[['movieId','rating']].groupby('movieId', as_index=False).mean()\n",
        "average_rating.tail()"
      ],
      "execution_count": 0,
      "outputs": []
    },
    {
      "metadata": {
        "id": "6L05wLgGy8Tl",
        "colab_type": "code",
        "colab": {}
      },
      "cell_type": "code",
      "source": [
        "joined = movies.merge(average_rating, on='movieId', how='inner')\n",
        "joined.head()\n",
        "joined.corr()"
      ],
      "execution_count": 0,
      "outputs": []
    },
    {
      "metadata": {
        "id": "HYLFefhiy8Tl",
        "colab_type": "code",
        "colab": {}
      },
      "cell_type": "code",
      "source": [
        "yearly_average = joined[['year','rating']].groupby('year', as_index=False).mean()\n",
        "yearly_average[:10]"
      ],
      "execution_count": 0,
      "outputs": []
    },
    {
      "metadata": {
        "id": "stEmeNgRy8Tm",
        "colab_type": "code",
        "colab": {}
      },
      "cell_type": "code",
      "source": [
        "yearly_average[-20:].plot(x='year', y='rating', figsize=(15,10), grid=True)"
      ],
      "execution_count": 0,
      "outputs": []
    },
    {
      "metadata": {
        "id": "m78IagTJy8Tm",
        "colab_type": "text"
      },
      "cell_type": "markdown",
      "source": [
        "<p style=\"font-family: Arial; font-size:1.35em;color:#2462C0; font-style:bold\">\n",
        "\n",
        "Do some years look better for the boxoffice movies than others? <br><br>\n",
        "\n",
        "Does any data point seem like an outlier in some sense?\n",
        "\n",
        "</p>"
      ]
    },
    {
      "metadata": {
        "id": "3yYJKw69y8Tn",
        "colab_type": "code",
        "colab": {}
      },
      "cell_type": "code",
      "source": [
        ""
      ],
      "execution_count": 0,
      "outputs": []
    }
  ]
}