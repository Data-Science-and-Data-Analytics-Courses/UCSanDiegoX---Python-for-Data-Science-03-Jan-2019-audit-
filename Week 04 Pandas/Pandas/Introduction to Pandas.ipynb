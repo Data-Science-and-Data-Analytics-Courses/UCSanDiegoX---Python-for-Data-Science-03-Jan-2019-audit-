{
  "nbformat": 4,
  "nbformat_minor": 0,
  "metadata": {
    "colab": {
      "name": "Introduction to Pandas.ipynb",
      "version": "0.3.2",
      "provenance": [],
      "include_colab_link": true
    },
    "kernelspec": {
      "display_name": "Python 3",
      "language": "python",
      "name": "python3"
    }
  },
  "cells": [
    {
      "cell_type": "markdown",
      "metadata": {
        "id": "view-in-github",
        "colab_type": "text"
      },
      "source": [
        "<a href=\"https://colab.research.google.com/github/Data-Science-and-Data-Analytics-Courses/UCSanDiegoX---Python-for-Data-Science-03-Jan-2019-audit-/blob/master/Week%2004%20Pandas/Pandas/Introduction%20to%20Pandas.ipynb\" target=\"_parent\"><img src=\"https://colab.research.google.com/assets/colab-badge.svg\" alt=\"Open In Colab\"/></a>"
      ]
    },
    {
      "metadata": {
        "id": "OqtX6aiey8RL",
        "colab_type": "text"
      },
      "cell_type": "markdown",
      "source": [
        "<p style=\"font-family: Arial; font-size:3.75em;color:purple; font-style:bold\"><br>\n",
        "Pandas</p><br>\n",
        "\n",
        "*pandas* is a Python library for data analysis. It offers a number of data exploration, cleaning and transformation operations that are critical in working with data in Python. \n",
        "\n",
        "*pandas* build upon *numpy* and *scipy* providing easy-to-use data structures and data manipulation functions with integrated indexing.\n",
        "\n",
        "The main data structures *pandas* provides are *Series* and *DataFrames*. After a brief introduction to these two data structures and data ingestion, the key features of *pandas* this notebook covers are:\n",
        "* Generating descriptive statistics on data\n",
        "* Data cleaning using built in pandas functions\n",
        "* Frequent data operations for subsetting, filtering, insertion, deletion and aggregation of data\n",
        "* Merging multiple datasets using dataframes\n",
        "* Working with timestamps and time-series data\n",
        "\n",
        "**Additional Recommended Resources:**\n",
        "* *pandas* Documentation: http://pandas.pydata.org/pandas-docs/stable/\n",
        "* *Python for Data Analysis* by Wes McKinney\n",
        "* *Python Data Science Handbook* by Jake VanderPlas\n",
        "\n",
        "Let's get started with our first *pandas* notebook!"
      ]
    },
    {
      "metadata": {
        "id": "tkOoCjiMzC2d",
        "colab_type": "text"
      },
      "cell_type": "markdown",
      "source": [
        "# Set up Google Colaboratory (run the following code cell one time only)"
      ]
    },
    {
      "metadata": {
        "id": "L9zxvcHxzr-t",
        "colab_type": "code",
        "outputId": "7bb0c65a-3529-439e-99e1-a9cc59203f9e",
        "colab": {
          "base_uri": "https://localhost:8080/",
          "height": 34
        }
      },
      "cell_type": "code",
      "source": [
        "import os\n",
        "\n",
        "PULL_URL = \"http://github.com/Data-Science-and-Data-Analytics-Courses/UCSanDiegoX---Python-for-Data-Science-03-Jan-2019-audit-\"\n",
        "\n",
        "# Clone GitHub repository to local repository\n",
        "!git clone $PULL_URL\n",
        "os.chdir(os.path.basename(PULL_URL)) # change working directory to local repository directory\n",
        "LOCAL_REPO = os.getcwd()\n",
        "\n",
        "# Change working directory to notebook's directory\n",
        "%cd Week 04 Pandas/Pandas"
      ],
      "execution_count": 6,
      "outputs": [
        {
          "output_type": "stream",
          "text": [
            "/content/UCSanDiegoX---Python-for-Data-Science-03-Jan-2019-audit-/Week 04 Pandas/Pandas\n"
          ],
          "name": "stdout"
        }
      ]
    },
    {
      "metadata": {
        "id": "q_U9MHj3idAr",
        "colab_type": "text"
      },
      "cell_type": "markdown",
      "source": [
        "# Pandas"
      ]
    },
    {
      "metadata": {
        "id": "CUvb0m4py8RQ",
        "colab_type": "text"
      },
      "cell_type": "markdown",
      "source": [
        "<p style=\"font-family: Arial; font-size:1.75em;color:#2462C0; font-style:bold\"><br>\n",
        "\n",
        "Import Libraries\n",
        "</p>"
      ]
    },
    {
      "metadata": {
        "id": "xo9Q8vF3y8RT",
        "colab_type": "code",
        "colab": {}
      },
      "cell_type": "code",
      "source": [
        "import pandas as pd"
      ],
      "execution_count": 0,
      "outputs": []
    },
    {
      "metadata": {
        "id": "dAKW4nR9y8Rb",
        "colab_type": "text"
      },
      "cell_type": "markdown",
      "source": [
        "<p style=\"font-family: Arial; font-size:1.75em;color:#2462C0; font-style:bold\">\n",
        "Introduction to pandas Data Structures</p>\n",
        "<br>\n",
        "*pandas* has two main data structures it uses, namely, *Series* and *DataFrames*. \n",
        "\n",
        "<p style=\"font-family: Arial; font-size:1.75em;color:#2462C0; font-style:bold\">\n",
        "pandas Series</p>\n",
        "\n",
        "*pandas Series* one-dimensional labeled array. \n"
      ]
    },
    {
      "metadata": {
        "id": "9jOYiFEoy8Rf",
        "colab_type": "code",
        "colab": {}
      },
      "cell_type": "code",
      "source": [
        "ser = pd.Series([100, 'foo', 300, 'bar', 500], ['tom', 'bob', 'nancy', 'dan', 'eric'])"
      ],
      "execution_count": 0,
      "outputs": []
    },
    {
      "metadata": {
        "id": "WgEi4HWPy8Rl",
        "colab_type": "code",
        "outputId": "cb163b5e-ec33-4b70-889f-5946f3b5f093",
        "colab": {
          "base_uri": "https://localhost:8080/",
          "height": 125
        }
      },
      "cell_type": "code",
      "source": [
        "ser"
      ],
      "execution_count": 0,
      "outputs": [
        {
          "output_type": "execute_result",
          "data": {
            "text/plain": [
              "tom      100\n",
              "bob      foo\n",
              "nancy    300\n",
              "dan      bar\n",
              "eric     500\n",
              "dtype: object"
            ]
          },
          "metadata": {
            "tags": []
          },
          "execution_count": 5
        }
      ]
    },
    {
      "metadata": {
        "id": "4JfHMMBsy8Ro",
        "colab_type": "code",
        "outputId": "b4094038-5f95-444e-ec91-5d3baf3a8736",
        "colab": {
          "base_uri": "https://localhost:8080/",
          "height": 55
        }
      },
      "cell_type": "code",
      "source": [
        "ser.index"
      ],
      "execution_count": 0,
      "outputs": [
        {
          "output_type": "execute_result",
          "data": {
            "text/plain": [
              "Index(['tom', 'bob', 'nancy', 'dan', 'eric'], dtype='object')"
            ]
          },
          "metadata": {
            "tags": []
          },
          "execution_count": 6
        }
      ]
    },
    {
      "metadata": {
        "id": "nhUKD5why8Rq",
        "colab_type": "code",
        "outputId": "449f627e-5023-4213-a344-178878048d8f",
        "colab": {
          "base_uri": "https://localhost:8080/",
          "height": 71
        }
      },
      "cell_type": "code",
      "source": [
        "ser.loc[['nancy','bob']]"
      ],
      "execution_count": 0,
      "outputs": [
        {
          "output_type": "execute_result",
          "data": {
            "text/plain": [
              "nancy    300\n",
              "bob      foo\n",
              "dtype: object"
            ]
          },
          "metadata": {
            "tags": []
          },
          "execution_count": 7
        }
      ]
    },
    {
      "metadata": {
        "id": "2iublJFSy8Rs",
        "colab_type": "code",
        "outputId": "213a9156-a111-47d0-abbe-0648748079aa",
        "colab": {
          "base_uri": "https://localhost:8080/",
          "height": 89
        }
      },
      "cell_type": "code",
      "source": [
        "ser[[4, 3, 1]]"
      ],
      "execution_count": 0,
      "outputs": [
        {
          "output_type": "execute_result",
          "data": {
            "text/plain": [
              "eric    500\n",
              "dan     bar\n",
              "bob     foo\n",
              "dtype: object"
            ]
          },
          "metadata": {
            "tags": []
          },
          "execution_count": 8
        }
      ]
    },
    {
      "metadata": {
        "id": "zr6X0Z56y8Ru",
        "colab_type": "code",
        "outputId": "eee607b6-050a-4f0e-aa56-94cb9cb2404e",
        "colab": {
          "base_uri": "https://localhost:8080/",
          "height": 35
        }
      },
      "cell_type": "code",
      "source": [
        "ser.iloc[2]"
      ],
      "execution_count": 0,
      "outputs": [
        {
          "output_type": "execute_result",
          "data": {
            "text/plain": [
              "300"
            ]
          },
          "metadata": {
            "tags": []
          },
          "execution_count": 9
        }
      ]
    },
    {
      "metadata": {
        "id": "pKdRp_uTy8Rw",
        "colab_type": "code",
        "outputId": "39d9a7c1-dad4-4585-9892-9de5f16244e4",
        "colab": {
          "base_uri": "https://localhost:8080/",
          "height": 35
        }
      },
      "cell_type": "code",
      "source": [
        "'bob' in ser"
      ],
      "execution_count": 0,
      "outputs": [
        {
          "output_type": "execute_result",
          "data": {
            "text/plain": [
              "True"
            ]
          },
          "metadata": {
            "tags": []
          },
          "execution_count": 10
        }
      ]
    },
    {
      "metadata": {
        "id": "Xjbzb126y8Rx",
        "colab_type": "code",
        "outputId": "16242c29-9cde-46f4-bb3e-ef06230c47c0",
        "colab": {
          "base_uri": "https://localhost:8080/",
          "height": 125
        }
      },
      "cell_type": "code",
      "source": [
        "ser"
      ],
      "execution_count": 0,
      "outputs": [
        {
          "output_type": "execute_result",
          "data": {
            "text/plain": [
              "tom      100\n",
              "bob      foo\n",
              "nancy    300\n",
              "dan      bar\n",
              "eric     500\n",
              "dtype: object"
            ]
          },
          "metadata": {
            "tags": []
          },
          "execution_count": 11
        }
      ]
    },
    {
      "metadata": {
        "id": "4gSYQVoJy8Rz",
        "colab_type": "code",
        "outputId": "c9cf506c-1515-4331-823a-ae6dd0c75521",
        "colab": {
          "base_uri": "https://localhost:8080/",
          "height": 125
        }
      },
      "cell_type": "code",
      "source": [
        "ser * 2"
      ],
      "execution_count": 0,
      "outputs": [
        {
          "output_type": "execute_result",
          "data": {
            "text/plain": [
              "tom         200\n",
              "bob      foofoo\n",
              "nancy       600\n",
              "dan      barbar\n",
              "eric       1000\n",
              "dtype: object"
            ]
          },
          "metadata": {
            "tags": []
          },
          "execution_count": 12
        }
      ]
    },
    {
      "metadata": {
        "id": "wutAIhLWy8R1",
        "colab_type": "code",
        "outputId": "fc87e414-3438-4681-fa05-4a3b5f5fab70",
        "colab": {
          "base_uri": "https://localhost:8080/",
          "height": 71
        }
      },
      "cell_type": "code",
      "source": [
        "ser[['nancy', 'eric']] ** 2"
      ],
      "execution_count": 0,
      "outputs": [
        {
          "output_type": "execute_result",
          "data": {
            "text/plain": [
              "nancy     90000\n",
              "eric     250000\n",
              "dtype: object"
            ]
          },
          "metadata": {
            "tags": []
          },
          "execution_count": 13
        }
      ]
    },
    {
      "metadata": {
        "id": "3yLCKnsTy8R2",
        "colab_type": "text"
      },
      "cell_type": "markdown",
      "source": [
        "<p style=\"font-family: Arial; font-size:1.75em;color:#2462C0; font-style:bold\">\n",
        "pandas DataFrame</p>\n",
        "\n",
        "*pandas DataFrame* is a 2-dimensional labeled data structure."
      ]
    },
    {
      "metadata": {
        "id": "qIx_dayAy8R4",
        "colab_type": "text"
      },
      "cell_type": "markdown",
      "source": [
        "<p style=\"font-family: Arial; font-size:1.25em;color:#2462C0; font-style:bold\">\n",
        "Create DataFrame from dictionary of Python Series</p>"
      ]
    },
    {
      "metadata": {
        "id": "DDwut2R-y8R6",
        "colab_type": "code",
        "colab": {}
      },
      "cell_type": "code",
      "source": [
        "d = {'one' : pd.Series([100., 200., 300.], index=['apple', 'ball', 'clock']),\n",
        "     'two' : pd.Series([111., 222., 333., 4444.], index=['apple', 'ball', 'cerill', 'dancy'])}"
      ],
      "execution_count": 0,
      "outputs": []
    },
    {
      "metadata": {
        "id": "MtZdOYv-y8R_",
        "colab_type": "code",
        "outputId": "abd64c3b-ef18-4e3c-d557-a156efd0bbf6",
        "colab": {
          "base_uri": "https://localhost:8080/",
          "height": 125
        }
      },
      "cell_type": "code",
      "source": [
        "df = pd.DataFrame(d)\n",
        "print(df)"
      ],
      "execution_count": 0,
      "outputs": [
        {
          "output_type": "stream",
          "text": [
            "          one     two\n",
            "apple   100.0   111.0\n",
            "ball    200.0   222.0\n",
            "cerill    NaN   333.0\n",
            "clock   300.0     NaN\n",
            "dancy     NaN  4444.0\n"
          ],
          "name": "stdout"
        }
      ]
    },
    {
      "metadata": {
        "id": "S-UrcIUTy8SA",
        "colab_type": "code",
        "outputId": "b8e529a3-af49-4a67-be80-2ecd9a2c286f",
        "colab": {
          "base_uri": "https://localhost:8080/",
          "height": 55
        }
      },
      "cell_type": "code",
      "source": [
        "df.index"
      ],
      "execution_count": 0,
      "outputs": [
        {
          "output_type": "execute_result",
          "data": {
            "text/plain": [
              "Index(['apple', 'ball', 'cerill', 'clock', 'dancy'], dtype='object')"
            ]
          },
          "metadata": {
            "tags": []
          },
          "execution_count": 16
        }
      ]
    },
    {
      "metadata": {
        "id": "nzOX6fOay8SB",
        "colab_type": "code",
        "outputId": "a514de49-421d-4602-b0d8-5cfccd6b4e02",
        "colab": {
          "base_uri": "https://localhost:8080/",
          "height": 55
        }
      },
      "cell_type": "code",
      "source": [
        "df.columns"
      ],
      "execution_count": 0,
      "outputs": [
        {
          "output_type": "execute_result",
          "data": {
            "text/plain": [
              "Index(['one', 'two'], dtype='object')"
            ]
          },
          "metadata": {
            "tags": []
          },
          "execution_count": 17
        }
      ]
    },
    {
      "metadata": {
        "id": "Z_QJcUMwy8SD",
        "colab_type": "code",
        "outputId": "6e8b8831-9043-4bc4-ac64-c1fc675dc54d",
        "colab": {
          "base_uri": "https://localhost:8080/",
          "height": 142
        }
      },
      "cell_type": "code",
      "source": [
        "pd.DataFrame(d, index=['dancy', 'ball', 'apple'])"
      ],
      "execution_count": 0,
      "outputs": [
        {
          "output_type": "execute_result",
          "data": {
            "text/html": [
              "<div>\n",
              "<style scoped>\n",
              "    .dataframe tbody tr th:only-of-type {\n",
              "        vertical-align: middle;\n",
              "    }\n",
              "\n",
              "    .dataframe tbody tr th {\n",
              "        vertical-align: top;\n",
              "    }\n",
              "\n",
              "    .dataframe thead th {\n",
              "        text-align: right;\n",
              "    }\n",
              "</style>\n",
              "<table border=\"1\" class=\"dataframe\">\n",
              "  <thead>\n",
              "    <tr style=\"text-align: right;\">\n",
              "      <th></th>\n",
              "      <th>one</th>\n",
              "      <th>two</th>\n",
              "    </tr>\n",
              "  </thead>\n",
              "  <tbody>\n",
              "    <tr>\n",
              "      <th>dancy</th>\n",
              "      <td>NaN</td>\n",
              "      <td>4444.0</td>\n",
              "    </tr>\n",
              "    <tr>\n",
              "      <th>ball</th>\n",
              "      <td>200.0</td>\n",
              "      <td>222.0</td>\n",
              "    </tr>\n",
              "    <tr>\n",
              "      <th>apple</th>\n",
              "      <td>100.0</td>\n",
              "      <td>111.0</td>\n",
              "    </tr>\n",
              "  </tbody>\n",
              "</table>\n",
              "</div>"
            ],
            "text/plain": [
              "         one     two\n",
              "dancy    NaN  4444.0\n",
              "ball   200.0   222.0\n",
              "apple  100.0   111.0"
            ]
          },
          "metadata": {
            "tags": []
          },
          "execution_count": 18
        }
      ]
    },
    {
      "metadata": {
        "id": "zejYnQxiy8SE",
        "colab_type": "code",
        "outputId": "08e5ff9d-730e-4427-c76e-287c14b2f37b",
        "colab": {
          "base_uri": "https://localhost:8080/",
          "height": 142
        }
      },
      "cell_type": "code",
      "source": [
        "pd.DataFrame(d, index=['dancy', 'ball', 'apple'], columns=['two', 'five'])"
      ],
      "execution_count": 0,
      "outputs": [
        {
          "output_type": "execute_result",
          "data": {
            "text/html": [
              "<div>\n",
              "<style scoped>\n",
              "    .dataframe tbody tr th:only-of-type {\n",
              "        vertical-align: middle;\n",
              "    }\n",
              "\n",
              "    .dataframe tbody tr th {\n",
              "        vertical-align: top;\n",
              "    }\n",
              "\n",
              "    .dataframe thead th {\n",
              "        text-align: right;\n",
              "    }\n",
              "</style>\n",
              "<table border=\"1\" class=\"dataframe\">\n",
              "  <thead>\n",
              "    <tr style=\"text-align: right;\">\n",
              "      <th></th>\n",
              "      <th>two</th>\n",
              "      <th>five</th>\n",
              "    </tr>\n",
              "  </thead>\n",
              "  <tbody>\n",
              "    <tr>\n",
              "      <th>dancy</th>\n",
              "      <td>4444.0</td>\n",
              "      <td>NaN</td>\n",
              "    </tr>\n",
              "    <tr>\n",
              "      <th>ball</th>\n",
              "      <td>222.0</td>\n",
              "      <td>NaN</td>\n",
              "    </tr>\n",
              "    <tr>\n",
              "      <th>apple</th>\n",
              "      <td>111.0</td>\n",
              "      <td>NaN</td>\n",
              "    </tr>\n",
              "  </tbody>\n",
              "</table>\n",
              "</div>"
            ],
            "text/plain": [
              "          two five\n",
              "dancy  4444.0  NaN\n",
              "ball    222.0  NaN\n",
              "apple   111.0  NaN"
            ]
          },
          "metadata": {
            "tags": []
          },
          "execution_count": 19
        }
      ]
    },
    {
      "metadata": {
        "id": "i9R49gPJy8SF",
        "colab_type": "text"
      },
      "cell_type": "markdown",
      "source": [
        "<p style=\"font-family: Arial; font-size:1.25em;color:#2462C0; font-style:bold\">\n",
        "Create DataFrame from list of Python dictionaries</p>"
      ]
    },
    {
      "metadata": {
        "id": "OLGp0wusy8SF",
        "colab_type": "code",
        "colab": {}
      },
      "cell_type": "code",
      "source": [
        "data = [{'alex': 1, 'joe': 2}, {'ema': 5, 'dora': 10, 'alice': 20}]"
      ],
      "execution_count": 0,
      "outputs": []
    },
    {
      "metadata": {
        "id": "sZEZeJo9y8SG",
        "colab_type": "code",
        "outputId": "62a9a70f-728b-499c-cf7f-1eee9d49010b",
        "colab": {
          "base_uri": "https://localhost:8080/",
          "height": 111
        }
      },
      "cell_type": "code",
      "source": [
        "pd.DataFrame(data)"
      ],
      "execution_count": 0,
      "outputs": [
        {
          "output_type": "execute_result",
          "data": {
            "text/html": [
              "<div>\n",
              "<style scoped>\n",
              "    .dataframe tbody tr th:only-of-type {\n",
              "        vertical-align: middle;\n",
              "    }\n",
              "\n",
              "    .dataframe tbody tr th {\n",
              "        vertical-align: top;\n",
              "    }\n",
              "\n",
              "    .dataframe thead th {\n",
              "        text-align: right;\n",
              "    }\n",
              "</style>\n",
              "<table border=\"1\" class=\"dataframe\">\n",
              "  <thead>\n",
              "    <tr style=\"text-align: right;\">\n",
              "      <th></th>\n",
              "      <th>alex</th>\n",
              "      <th>alice</th>\n",
              "      <th>dora</th>\n",
              "      <th>ema</th>\n",
              "      <th>joe</th>\n",
              "    </tr>\n",
              "  </thead>\n",
              "  <tbody>\n",
              "    <tr>\n",
              "      <th>0</th>\n",
              "      <td>1.0</td>\n",
              "      <td>NaN</td>\n",
              "      <td>NaN</td>\n",
              "      <td>NaN</td>\n",
              "      <td>2.0</td>\n",
              "    </tr>\n",
              "    <tr>\n",
              "      <th>1</th>\n",
              "      <td>NaN</td>\n",
              "      <td>20.0</td>\n",
              "      <td>10.0</td>\n",
              "      <td>5.0</td>\n",
              "      <td>NaN</td>\n",
              "    </tr>\n",
              "  </tbody>\n",
              "</table>\n",
              "</div>"
            ],
            "text/plain": [
              "   alex  alice  dora  ema  joe\n",
              "0   1.0    NaN   NaN  NaN  2.0\n",
              "1   NaN   20.0  10.0  5.0  NaN"
            ]
          },
          "metadata": {
            "tags": []
          },
          "execution_count": 21
        }
      ]
    },
    {
      "metadata": {
        "id": "FMPSUBDdy8SI",
        "colab_type": "code",
        "outputId": "9f35848e-14c5-4c16-9d7b-731c0426019c",
        "colab": {
          "base_uri": "https://localhost:8080/",
          "height": 131
        }
      },
      "cell_type": "code",
      "source": [
        "pd.DataFrame(data, index=['orange', 'red'])"
      ],
      "execution_count": 0,
      "outputs": [
        {
          "output_type": "execute_result",
          "data": {
            "text/html": [
              "<div>\n",
              "<style scoped>\n",
              "    .dataframe tbody tr th:only-of-type {\n",
              "        vertical-align: middle;\n",
              "    }\n",
              "\n",
              "    .dataframe tbody tr th {\n",
              "        vertical-align: top;\n",
              "    }\n",
              "\n",
              "    .dataframe thead th {\n",
              "        text-align: right;\n",
              "    }\n",
              "</style>\n",
              "<table border=\"1\" class=\"dataframe\">\n",
              "  <thead>\n",
              "    <tr style=\"text-align: right;\">\n",
              "      <th></th>\n",
              "      <th>alex</th>\n",
              "      <th>alice</th>\n",
              "      <th>dora</th>\n",
              "      <th>ema</th>\n",
              "      <th>joe</th>\n",
              "    </tr>\n",
              "  </thead>\n",
              "  <tbody>\n",
              "    <tr>\n",
              "      <th>orange</th>\n",
              "      <td>1.0</td>\n",
              "      <td>NaN</td>\n",
              "      <td>NaN</td>\n",
              "      <td>NaN</td>\n",
              "      <td>2.0</td>\n",
              "    </tr>\n",
              "    <tr>\n",
              "      <th>red</th>\n",
              "      <td>NaN</td>\n",
              "      <td>20.0</td>\n",
              "      <td>10.0</td>\n",
              "      <td>5.0</td>\n",
              "      <td>NaN</td>\n",
              "    </tr>\n",
              "  </tbody>\n",
              "</table>\n",
              "</div>"
            ],
            "text/plain": [
              "        alex  alice  dora  ema  joe\n",
              "orange   1.0    NaN   NaN  NaN  2.0\n",
              "red      NaN   20.0  10.0  5.0  NaN"
            ]
          },
          "metadata": {
            "tags": []
          },
          "execution_count": 22
        }
      ]
    },
    {
      "metadata": {
        "id": "_aS0_bpZy8SI",
        "colab_type": "code",
        "outputId": "5eda5eff-d0a9-49a4-f920-4483ed43150c",
        "colab": {
          "base_uri": "https://localhost:8080/",
          "height": 111
        }
      },
      "cell_type": "code",
      "source": [
        "pd.DataFrame(data, columns=['joe', 'dora','alice'])"
      ],
      "execution_count": 0,
      "outputs": [
        {
          "output_type": "execute_result",
          "data": {
            "text/html": [
              "<div>\n",
              "<style scoped>\n",
              "    .dataframe tbody tr th:only-of-type {\n",
              "        vertical-align: middle;\n",
              "    }\n",
              "\n",
              "    .dataframe tbody tr th {\n",
              "        vertical-align: top;\n",
              "    }\n",
              "\n",
              "    .dataframe thead th {\n",
              "        text-align: right;\n",
              "    }\n",
              "</style>\n",
              "<table border=\"1\" class=\"dataframe\">\n",
              "  <thead>\n",
              "    <tr style=\"text-align: right;\">\n",
              "      <th></th>\n",
              "      <th>joe</th>\n",
              "      <th>dora</th>\n",
              "      <th>alice</th>\n",
              "    </tr>\n",
              "  </thead>\n",
              "  <tbody>\n",
              "    <tr>\n",
              "      <th>0</th>\n",
              "      <td>2.0</td>\n",
              "      <td>NaN</td>\n",
              "      <td>NaN</td>\n",
              "    </tr>\n",
              "    <tr>\n",
              "      <th>1</th>\n",
              "      <td>NaN</td>\n",
              "      <td>10.0</td>\n",
              "      <td>20.0</td>\n",
              "    </tr>\n",
              "  </tbody>\n",
              "</table>\n",
              "</div>"
            ],
            "text/plain": [
              "   joe  dora  alice\n",
              "0  2.0   NaN    NaN\n",
              "1  NaN  10.0   20.0"
            ]
          },
          "metadata": {
            "tags": []
          },
          "execution_count": 23
        }
      ]
    },
    {
      "metadata": {
        "id": "zolbOvBOy8SJ",
        "colab_type": "text"
      },
      "cell_type": "markdown",
      "source": [
        "<p style=\"font-family: Arial; font-size:1.25em;color:#2462C0; font-style:bold\">\n",
        "Basic DataFrame operations</p>"
      ]
    },
    {
      "metadata": {
        "id": "n1z6QE0Dy8SK",
        "colab_type": "code",
        "outputId": "3727c0b1-8127-48ac-86c5-7520d8267904",
        "colab": {
          "base_uri": "https://localhost:8080/",
          "height": 204
        }
      },
      "cell_type": "code",
      "source": [
        "df"
      ],
      "execution_count": 0,
      "outputs": [
        {
          "output_type": "execute_result",
          "data": {
            "text/html": [
              "<div>\n",
              "<style scoped>\n",
              "    .dataframe tbody tr th:only-of-type {\n",
              "        vertical-align: middle;\n",
              "    }\n",
              "\n",
              "    .dataframe tbody tr th {\n",
              "        vertical-align: top;\n",
              "    }\n",
              "\n",
              "    .dataframe thead th {\n",
              "        text-align: right;\n",
              "    }\n",
              "</style>\n",
              "<table border=\"1\" class=\"dataframe\">\n",
              "  <thead>\n",
              "    <tr style=\"text-align: right;\">\n",
              "      <th></th>\n",
              "      <th>one</th>\n",
              "      <th>two</th>\n",
              "    </tr>\n",
              "  </thead>\n",
              "  <tbody>\n",
              "    <tr>\n",
              "      <th>apple</th>\n",
              "      <td>100.0</td>\n",
              "      <td>111.0</td>\n",
              "    </tr>\n",
              "    <tr>\n",
              "      <th>ball</th>\n",
              "      <td>200.0</td>\n",
              "      <td>222.0</td>\n",
              "    </tr>\n",
              "    <tr>\n",
              "      <th>cerill</th>\n",
              "      <td>NaN</td>\n",
              "      <td>333.0</td>\n",
              "    </tr>\n",
              "    <tr>\n",
              "      <th>clock</th>\n",
              "      <td>300.0</td>\n",
              "      <td>NaN</td>\n",
              "    </tr>\n",
              "    <tr>\n",
              "      <th>dancy</th>\n",
              "      <td>NaN</td>\n",
              "      <td>4444.0</td>\n",
              "    </tr>\n",
              "  </tbody>\n",
              "</table>\n",
              "</div>"
            ],
            "text/plain": [
              "          one     two\n",
              "apple   100.0   111.0\n",
              "ball    200.0   222.0\n",
              "cerill    NaN   333.0\n",
              "clock   300.0     NaN\n",
              "dancy     NaN  4444.0"
            ]
          },
          "metadata": {
            "tags": []
          },
          "execution_count": 24
        }
      ]
    },
    {
      "metadata": {
        "id": "oVC9GwPSy8SL",
        "colab_type": "code",
        "outputId": "a111efef-47e8-412a-c282-79288e2a5802",
        "colab": {
          "base_uri": "https://localhost:8080/",
          "height": 125
        }
      },
      "cell_type": "code",
      "source": [
        "df['one']"
      ],
      "execution_count": 0,
      "outputs": [
        {
          "output_type": "execute_result",
          "data": {
            "text/plain": [
              "apple     100.0\n",
              "ball      200.0\n",
              "cerill      NaN\n",
              "clock     300.0\n",
              "dancy       NaN\n",
              "Name: one, dtype: float64"
            ]
          },
          "metadata": {
            "tags": []
          },
          "execution_count": 25
        }
      ]
    },
    {
      "metadata": {
        "id": "f8Y0qo7ey8SM",
        "colab_type": "code",
        "outputId": "0398ec6f-ffb8-4f75-b28e-44f631eba7bd",
        "colab": {
          "base_uri": "https://localhost:8080/",
          "height": 204
        }
      },
      "cell_type": "code",
      "source": [
        "df['three'] = df['one'] * df['two']\n",
        "df"
      ],
      "execution_count": 0,
      "outputs": [
        {
          "output_type": "execute_result",
          "data": {
            "text/html": [
              "<div>\n",
              "<style scoped>\n",
              "    .dataframe tbody tr th:only-of-type {\n",
              "        vertical-align: middle;\n",
              "    }\n",
              "\n",
              "    .dataframe tbody tr th {\n",
              "        vertical-align: top;\n",
              "    }\n",
              "\n",
              "    .dataframe thead th {\n",
              "        text-align: right;\n",
              "    }\n",
              "</style>\n",
              "<table border=\"1\" class=\"dataframe\">\n",
              "  <thead>\n",
              "    <tr style=\"text-align: right;\">\n",
              "      <th></th>\n",
              "      <th>one</th>\n",
              "      <th>two</th>\n",
              "      <th>three</th>\n",
              "    </tr>\n",
              "  </thead>\n",
              "  <tbody>\n",
              "    <tr>\n",
              "      <th>apple</th>\n",
              "      <td>100.0</td>\n",
              "      <td>111.0</td>\n",
              "      <td>11100.0</td>\n",
              "    </tr>\n",
              "    <tr>\n",
              "      <th>ball</th>\n",
              "      <td>200.0</td>\n",
              "      <td>222.0</td>\n",
              "      <td>44400.0</td>\n",
              "    </tr>\n",
              "    <tr>\n",
              "      <th>cerill</th>\n",
              "      <td>NaN</td>\n",
              "      <td>333.0</td>\n",
              "      <td>NaN</td>\n",
              "    </tr>\n",
              "    <tr>\n",
              "      <th>clock</th>\n",
              "      <td>300.0</td>\n",
              "      <td>NaN</td>\n",
              "      <td>NaN</td>\n",
              "    </tr>\n",
              "    <tr>\n",
              "      <th>dancy</th>\n",
              "      <td>NaN</td>\n",
              "      <td>4444.0</td>\n",
              "      <td>NaN</td>\n",
              "    </tr>\n",
              "  </tbody>\n",
              "</table>\n",
              "</div>"
            ],
            "text/plain": [
              "          one     two    three\n",
              "apple   100.0   111.0  11100.0\n",
              "ball    200.0   222.0  44400.0\n",
              "cerill    NaN   333.0      NaN\n",
              "clock   300.0     NaN      NaN\n",
              "dancy     NaN  4444.0      NaN"
            ]
          },
          "metadata": {
            "tags": []
          },
          "execution_count": 26
        }
      ]
    },
    {
      "metadata": {
        "id": "G1hGK9Tay8SN",
        "colab_type": "code",
        "outputId": "07894b7a-902a-428f-9877-1a0c596d81ab",
        "colab": {
          "base_uri": "https://localhost:8080/",
          "height": 204
        }
      },
      "cell_type": "code",
      "source": [
        "df['flag'] = df['one'] > 250\n",
        "df"
      ],
      "execution_count": 0,
      "outputs": [
        {
          "output_type": "execute_result",
          "data": {
            "text/html": [
              "<div>\n",
              "<style scoped>\n",
              "    .dataframe tbody tr th:only-of-type {\n",
              "        vertical-align: middle;\n",
              "    }\n",
              "\n",
              "    .dataframe tbody tr th {\n",
              "        vertical-align: top;\n",
              "    }\n",
              "\n",
              "    .dataframe thead th {\n",
              "        text-align: right;\n",
              "    }\n",
              "</style>\n",
              "<table border=\"1\" class=\"dataframe\">\n",
              "  <thead>\n",
              "    <tr style=\"text-align: right;\">\n",
              "      <th></th>\n",
              "      <th>one</th>\n",
              "      <th>two</th>\n",
              "      <th>three</th>\n",
              "      <th>flag</th>\n",
              "    </tr>\n",
              "  </thead>\n",
              "  <tbody>\n",
              "    <tr>\n",
              "      <th>apple</th>\n",
              "      <td>100.0</td>\n",
              "      <td>111.0</td>\n",
              "      <td>11100.0</td>\n",
              "      <td>False</td>\n",
              "    </tr>\n",
              "    <tr>\n",
              "      <th>ball</th>\n",
              "      <td>200.0</td>\n",
              "      <td>222.0</td>\n",
              "      <td>44400.0</td>\n",
              "      <td>False</td>\n",
              "    </tr>\n",
              "    <tr>\n",
              "      <th>cerill</th>\n",
              "      <td>NaN</td>\n",
              "      <td>333.0</td>\n",
              "      <td>NaN</td>\n",
              "      <td>False</td>\n",
              "    </tr>\n",
              "    <tr>\n",
              "      <th>clock</th>\n",
              "      <td>300.0</td>\n",
              "      <td>NaN</td>\n",
              "      <td>NaN</td>\n",
              "      <td>True</td>\n",
              "    </tr>\n",
              "    <tr>\n",
              "      <th>dancy</th>\n",
              "      <td>NaN</td>\n",
              "      <td>4444.0</td>\n",
              "      <td>NaN</td>\n",
              "      <td>False</td>\n",
              "    </tr>\n",
              "  </tbody>\n",
              "</table>\n",
              "</div>"
            ],
            "text/plain": [
              "          one     two    three   flag\n",
              "apple   100.0   111.0  11100.0  False\n",
              "ball    200.0   222.0  44400.0  False\n",
              "cerill    NaN   333.0      NaN  False\n",
              "clock   300.0     NaN      NaN   True\n",
              "dancy     NaN  4444.0      NaN  False"
            ]
          },
          "metadata": {
            "tags": []
          },
          "execution_count": 27
        }
      ]
    },
    {
      "metadata": {
        "id": "FHiE67tay8SO",
        "colab_type": "code",
        "colab": {}
      },
      "cell_type": "code",
      "source": [
        "three = df.pop('three')"
      ],
      "execution_count": 0,
      "outputs": []
    },
    {
      "metadata": {
        "id": "Tsbqb3C7y8SQ",
        "colab_type": "code",
        "outputId": "7b089bff-660b-4133-9c1c-82880d125a1c",
        "colab": {
          "base_uri": "https://localhost:8080/",
          "height": 125
        }
      },
      "cell_type": "code",
      "source": [
        "three"
      ],
      "execution_count": 0,
      "outputs": [
        {
          "output_type": "execute_result",
          "data": {
            "text/plain": [
              "apple     11100.0\n",
              "ball      44400.0\n",
              "cerill        NaN\n",
              "clock         NaN\n",
              "dancy         NaN\n",
              "Name: three, dtype: float64"
            ]
          },
          "metadata": {
            "tags": []
          },
          "execution_count": 29
        }
      ]
    },
    {
      "metadata": {
        "id": "x9ysmz6Jy8SU",
        "colab_type": "code",
        "outputId": "a10444e8-39b7-4a34-b3a7-60fa69f33961",
        "colab": {
          "base_uri": "https://localhost:8080/",
          "height": 204
        }
      },
      "cell_type": "code",
      "source": [
        "df"
      ],
      "execution_count": 0,
      "outputs": [
        {
          "output_type": "execute_result",
          "data": {
            "text/html": [
              "<div>\n",
              "<style scoped>\n",
              "    .dataframe tbody tr th:only-of-type {\n",
              "        vertical-align: middle;\n",
              "    }\n",
              "\n",
              "    .dataframe tbody tr th {\n",
              "        vertical-align: top;\n",
              "    }\n",
              "\n",
              "    .dataframe thead th {\n",
              "        text-align: right;\n",
              "    }\n",
              "</style>\n",
              "<table border=\"1\" class=\"dataframe\">\n",
              "  <thead>\n",
              "    <tr style=\"text-align: right;\">\n",
              "      <th></th>\n",
              "      <th>one</th>\n",
              "      <th>two</th>\n",
              "      <th>flag</th>\n",
              "    </tr>\n",
              "  </thead>\n",
              "  <tbody>\n",
              "    <tr>\n",
              "      <th>apple</th>\n",
              "      <td>100.0</td>\n",
              "      <td>111.0</td>\n",
              "      <td>False</td>\n",
              "    </tr>\n",
              "    <tr>\n",
              "      <th>ball</th>\n",
              "      <td>200.0</td>\n",
              "      <td>222.0</td>\n",
              "      <td>False</td>\n",
              "    </tr>\n",
              "    <tr>\n",
              "      <th>cerill</th>\n",
              "      <td>NaN</td>\n",
              "      <td>333.0</td>\n",
              "      <td>False</td>\n",
              "    </tr>\n",
              "    <tr>\n",
              "      <th>clock</th>\n",
              "      <td>300.0</td>\n",
              "      <td>NaN</td>\n",
              "      <td>True</td>\n",
              "    </tr>\n",
              "    <tr>\n",
              "      <th>dancy</th>\n",
              "      <td>NaN</td>\n",
              "      <td>4444.0</td>\n",
              "      <td>False</td>\n",
              "    </tr>\n",
              "  </tbody>\n",
              "</table>\n",
              "</div>"
            ],
            "text/plain": [
              "          one     two   flag\n",
              "apple   100.0   111.0  False\n",
              "ball    200.0   222.0  False\n",
              "cerill    NaN   333.0  False\n",
              "clock   300.0     NaN   True\n",
              "dancy     NaN  4444.0  False"
            ]
          },
          "metadata": {
            "tags": []
          },
          "execution_count": 30
        }
      ]
    },
    {
      "metadata": {
        "id": "gwb2UGl0y8SZ",
        "colab_type": "code",
        "outputId": "f8637fee-f4ea-4ca2-9235-9e977daf18aa",
        "colab": {
          "base_uri": "https://localhost:8080/",
          "height": 1600
        }
      },
      "cell_type": "code",
      "source": [
        "del df['two']"
      ],
      "execution_count": 0,
      "outputs": [
        {
          "output_type": "error",
          "ename": "KeyError",
          "evalue": "ignored",
          "traceback": [
            "\u001b[0;31m---------------------------------------------------------------------------\u001b[0m",
            "\u001b[0;31mKeyError\u001b[0m                                  Traceback (most recent call last)",
            "\u001b[0;32m/usr/local/lib/python3.6/dist-packages/pandas/core/indexes/base.py\u001b[0m in \u001b[0;36mget_loc\u001b[0;34m(self, key, method, tolerance)\u001b[0m\n\u001b[1;32m   2524\u001b[0m             \u001b[0;32mtry\u001b[0m\u001b[0;34m:\u001b[0m\u001b[0;34m\u001b[0m\u001b[0;34m\u001b[0m\u001b[0m\n\u001b[0;32m-> 2525\u001b[0;31m                 \u001b[0;32mreturn\u001b[0m \u001b[0mself\u001b[0m\u001b[0;34m.\u001b[0m\u001b[0m_engine\u001b[0m\u001b[0;34m.\u001b[0m\u001b[0mget_loc\u001b[0m\u001b[0;34m(\u001b[0m\u001b[0mkey\u001b[0m\u001b[0;34m)\u001b[0m\u001b[0;34m\u001b[0m\u001b[0;34m\u001b[0m\u001b[0m\n\u001b[0m\u001b[1;32m   2526\u001b[0m             \u001b[0;32mexcept\u001b[0m \u001b[0mKeyError\u001b[0m\u001b[0;34m:\u001b[0m\u001b[0;34m\u001b[0m\u001b[0;34m\u001b[0m\u001b[0m\n",
            "\u001b[0;32mpandas/_libs/index.pyx\u001b[0m in \u001b[0;36mpandas._libs.index.IndexEngine.get_loc\u001b[0;34m()\u001b[0m\n",
            "\u001b[0;32mpandas/_libs/index.pyx\u001b[0m in \u001b[0;36mpandas._libs.index.IndexEngine.get_loc\u001b[0;34m()\u001b[0m\n",
            "\u001b[0;32mpandas/_libs/hashtable_class_helper.pxi\u001b[0m in \u001b[0;36mpandas._libs.hashtable.PyObjectHashTable.get_item\u001b[0;34m()\u001b[0m\n",
            "\u001b[0;32mpandas/_libs/hashtable_class_helper.pxi\u001b[0m in \u001b[0;36mpandas._libs.hashtable.PyObjectHashTable.get_item\u001b[0;34m()\u001b[0m\n",
            "\u001b[0;31mKeyError\u001b[0m: 'two'",
            "\nDuring handling of the above exception, another exception occurred:\n",
            "\u001b[0;31mKeyError\u001b[0m                                  Traceback (most recent call last)",
            "\u001b[0;32m<ipython-input-32-63e9919bacc4>\u001b[0m in \u001b[0;36m<module>\u001b[0;34m()\u001b[0m\n\u001b[0;32m----> 1\u001b[0;31m \u001b[0;32mdel\u001b[0m \u001b[0mdf\u001b[0m\u001b[0;34m[\u001b[0m\u001b[0;34m'two'\u001b[0m\u001b[0;34m]\u001b[0m\u001b[0;34m\u001b[0m\u001b[0;34m\u001b[0m\u001b[0m\n\u001b[0m",
            "\u001b[0;32m/usr/local/lib/python3.6/dist-packages/pandas/core/generic.py\u001b[0m in \u001b[0;36m__delitem__\u001b[0;34m(self, key)\u001b[0m\n\u001b[1;32m   2094\u001b[0m             \u001b[0;31m# there was no match, this call should raise the appropriate\u001b[0m\u001b[0;34m\u001b[0m\u001b[0;34m\u001b[0m\u001b[0;34m\u001b[0m\u001b[0m\n\u001b[1;32m   2095\u001b[0m             \u001b[0;31m# exception:\u001b[0m\u001b[0;34m\u001b[0m\u001b[0;34m\u001b[0m\u001b[0;34m\u001b[0m\u001b[0m\n\u001b[0;32m-> 2096\u001b[0;31m             \u001b[0mself\u001b[0m\u001b[0;34m.\u001b[0m\u001b[0m_data\u001b[0m\u001b[0;34m.\u001b[0m\u001b[0mdelete\u001b[0m\u001b[0;34m(\u001b[0m\u001b[0mkey\u001b[0m\u001b[0;34m)\u001b[0m\u001b[0;34m\u001b[0m\u001b[0;34m\u001b[0m\u001b[0m\n\u001b[0m\u001b[1;32m   2097\u001b[0m \u001b[0;34m\u001b[0m\u001b[0m\n\u001b[1;32m   2098\u001b[0m         \u001b[0;31m# delete from the caches\u001b[0m\u001b[0;34m\u001b[0m\u001b[0;34m\u001b[0m\u001b[0;34m\u001b[0m\u001b[0m\n",
            "\u001b[0;32m/usr/local/lib/python3.6/dist-packages/pandas/core/internals.py\u001b[0m in \u001b[0;36mdelete\u001b[0;34m(self, item)\u001b[0m\n\u001b[1;32m   3900\u001b[0m         \u001b[0mDelete\u001b[0m \u001b[0mselected\u001b[0m \u001b[0mitem\u001b[0m \u001b[0;34m(\u001b[0m\u001b[0mitems\u001b[0m \u001b[0;32mif\u001b[0m \u001b[0mnon\u001b[0m\u001b[0;34m-\u001b[0m\u001b[0munique\u001b[0m\u001b[0;34m)\u001b[0m \u001b[0;32min\u001b[0m\u001b[0;34m-\u001b[0m\u001b[0mplace\u001b[0m\u001b[0;34m.\u001b[0m\u001b[0;34m\u001b[0m\u001b[0;34m\u001b[0m\u001b[0m\n\u001b[1;32m   3901\u001b[0m         \"\"\"\n\u001b[0;32m-> 3902\u001b[0;31m         \u001b[0mindexer\u001b[0m \u001b[0;34m=\u001b[0m \u001b[0mself\u001b[0m\u001b[0;34m.\u001b[0m\u001b[0mitems\u001b[0m\u001b[0;34m.\u001b[0m\u001b[0mget_loc\u001b[0m\u001b[0;34m(\u001b[0m\u001b[0mitem\u001b[0m\u001b[0;34m)\u001b[0m\u001b[0;34m\u001b[0m\u001b[0;34m\u001b[0m\u001b[0m\n\u001b[0m\u001b[1;32m   3903\u001b[0m \u001b[0;34m\u001b[0m\u001b[0m\n\u001b[1;32m   3904\u001b[0m         \u001b[0mis_deleted\u001b[0m \u001b[0;34m=\u001b[0m \u001b[0mnp\u001b[0m\u001b[0;34m.\u001b[0m\u001b[0mzeros\u001b[0m\u001b[0;34m(\u001b[0m\u001b[0mself\u001b[0m\u001b[0;34m.\u001b[0m\u001b[0mshape\u001b[0m\u001b[0;34m[\u001b[0m\u001b[0;36m0\u001b[0m\u001b[0;34m]\u001b[0m\u001b[0;34m,\u001b[0m \u001b[0mdtype\u001b[0m\u001b[0;34m=\u001b[0m\u001b[0mnp\u001b[0m\u001b[0;34m.\u001b[0m\u001b[0mbool_\u001b[0m\u001b[0;34m)\u001b[0m\u001b[0;34m\u001b[0m\u001b[0;34m\u001b[0m\u001b[0m\n",
            "\u001b[0;32m/usr/local/lib/python3.6/dist-packages/pandas/core/indexes/base.py\u001b[0m in \u001b[0;36mget_loc\u001b[0;34m(self, key, method, tolerance)\u001b[0m\n\u001b[1;32m   2525\u001b[0m                 \u001b[0;32mreturn\u001b[0m \u001b[0mself\u001b[0m\u001b[0;34m.\u001b[0m\u001b[0m_engine\u001b[0m\u001b[0;34m.\u001b[0m\u001b[0mget_loc\u001b[0m\u001b[0;34m(\u001b[0m\u001b[0mkey\u001b[0m\u001b[0;34m)\u001b[0m\u001b[0;34m\u001b[0m\u001b[0;34m\u001b[0m\u001b[0m\n\u001b[1;32m   2526\u001b[0m             \u001b[0;32mexcept\u001b[0m \u001b[0mKeyError\u001b[0m\u001b[0;34m:\u001b[0m\u001b[0;34m\u001b[0m\u001b[0;34m\u001b[0m\u001b[0m\n\u001b[0;32m-> 2527\u001b[0;31m                 \u001b[0;32mreturn\u001b[0m \u001b[0mself\u001b[0m\u001b[0;34m.\u001b[0m\u001b[0m_engine\u001b[0m\u001b[0;34m.\u001b[0m\u001b[0mget_loc\u001b[0m\u001b[0;34m(\u001b[0m\u001b[0mself\u001b[0m\u001b[0;34m.\u001b[0m\u001b[0m_maybe_cast_indexer\u001b[0m\u001b[0;34m(\u001b[0m\u001b[0mkey\u001b[0m\u001b[0;34m)\u001b[0m\u001b[0;34m)\u001b[0m\u001b[0;34m\u001b[0m\u001b[0;34m\u001b[0m\u001b[0m\n\u001b[0m\u001b[1;32m   2528\u001b[0m \u001b[0;34m\u001b[0m\u001b[0m\n\u001b[1;32m   2529\u001b[0m         \u001b[0mindexer\u001b[0m \u001b[0;34m=\u001b[0m \u001b[0mself\u001b[0m\u001b[0;34m.\u001b[0m\u001b[0mget_indexer\u001b[0m\u001b[0;34m(\u001b[0m\u001b[0;34m[\u001b[0m\u001b[0mkey\u001b[0m\u001b[0;34m]\u001b[0m\u001b[0;34m,\u001b[0m \u001b[0mmethod\u001b[0m\u001b[0;34m=\u001b[0m\u001b[0mmethod\u001b[0m\u001b[0;34m,\u001b[0m \u001b[0mtolerance\u001b[0m\u001b[0;34m=\u001b[0m\u001b[0mtolerance\u001b[0m\u001b[0;34m)\u001b[0m\u001b[0;34m\u001b[0m\u001b[0;34m\u001b[0m\u001b[0m\n",
            "\u001b[0;32mpandas/_libs/index.pyx\u001b[0m in \u001b[0;36mpandas._libs.index.IndexEngine.get_loc\u001b[0;34m()\u001b[0m\n",
            "\u001b[0;32mpandas/_libs/index.pyx\u001b[0m in \u001b[0;36mpandas._libs.index.IndexEngine.get_loc\u001b[0;34m()\u001b[0m\n",
            "\u001b[0;32mpandas/_libs/hashtable_class_helper.pxi\u001b[0m in \u001b[0;36mpandas._libs.hashtable.PyObjectHashTable.get_item\u001b[0;34m()\u001b[0m\n",
            "\u001b[0;32mpandas/_libs/hashtable_class_helper.pxi\u001b[0m in \u001b[0;36mpandas._libs.hashtable.PyObjectHashTable.get_item\u001b[0;34m()\u001b[0m\n",
            "\u001b[0;31mKeyError\u001b[0m: 'two'"
          ]
        }
      ]
    },
    {
      "metadata": {
        "id": "FJ8AMZ3My8Se",
        "colab_type": "code",
        "outputId": "2054df7a-4de4-499a-e1f0-894d853696c8",
        "colab": {
          "base_uri": "https://localhost:8080/",
          "height": 204
        }
      },
      "cell_type": "code",
      "source": [
        "df"
      ],
      "execution_count": 0,
      "outputs": [
        {
          "output_type": "execute_result",
          "data": {
            "text/html": [
              "<div>\n",
              "<style scoped>\n",
              "    .dataframe tbody tr th:only-of-type {\n",
              "        vertical-align: middle;\n",
              "    }\n",
              "\n",
              "    .dataframe tbody tr th {\n",
              "        vertical-align: top;\n",
              "    }\n",
              "\n",
              "    .dataframe thead th {\n",
              "        text-align: right;\n",
              "    }\n",
              "</style>\n",
              "<table border=\"1\" class=\"dataframe\">\n",
              "  <thead>\n",
              "    <tr style=\"text-align: right;\">\n",
              "      <th></th>\n",
              "      <th>one</th>\n",
              "      <th>flag</th>\n",
              "    </tr>\n",
              "  </thead>\n",
              "  <tbody>\n",
              "    <tr>\n",
              "      <th>apple</th>\n",
              "      <td>100.0</td>\n",
              "      <td>False</td>\n",
              "    </tr>\n",
              "    <tr>\n",
              "      <th>ball</th>\n",
              "      <td>200.0</td>\n",
              "      <td>False</td>\n",
              "    </tr>\n",
              "    <tr>\n",
              "      <th>cerill</th>\n",
              "      <td>NaN</td>\n",
              "      <td>False</td>\n",
              "    </tr>\n",
              "    <tr>\n",
              "      <th>clock</th>\n",
              "      <td>300.0</td>\n",
              "      <td>True</td>\n",
              "    </tr>\n",
              "    <tr>\n",
              "      <th>dancy</th>\n",
              "      <td>NaN</td>\n",
              "      <td>False</td>\n",
              "    </tr>\n",
              "  </tbody>\n",
              "</table>\n",
              "</div>"
            ],
            "text/plain": [
              "          one   flag\n",
              "apple   100.0  False\n",
              "ball    200.0  False\n",
              "cerill    NaN  False\n",
              "clock   300.0   True\n",
              "dancy     NaN  False"
            ]
          },
          "metadata": {
            "tags": []
          },
          "execution_count": 33
        }
      ]
    },
    {
      "metadata": {
        "id": "TfA9kAYsy8Si",
        "colab_type": "code",
        "outputId": "77004c45-f847-4605-a75a-0c64ce9f18c5",
        "colab": {
          "base_uri": "https://localhost:8080/",
          "height": 204
        }
      },
      "cell_type": "code",
      "source": [
        "df.insert(2, 'copy_of_one', df['one'])\n",
        "df"
      ],
      "execution_count": 0,
      "outputs": [
        {
          "output_type": "execute_result",
          "data": {
            "text/html": [
              "<div>\n",
              "<style scoped>\n",
              "    .dataframe tbody tr th:only-of-type {\n",
              "        vertical-align: middle;\n",
              "    }\n",
              "\n",
              "    .dataframe tbody tr th {\n",
              "        vertical-align: top;\n",
              "    }\n",
              "\n",
              "    .dataframe thead th {\n",
              "        text-align: right;\n",
              "    }\n",
              "</style>\n",
              "<table border=\"1\" class=\"dataframe\">\n",
              "  <thead>\n",
              "    <tr style=\"text-align: right;\">\n",
              "      <th></th>\n",
              "      <th>one</th>\n",
              "      <th>flag</th>\n",
              "      <th>copy_of_one</th>\n",
              "    </tr>\n",
              "  </thead>\n",
              "  <tbody>\n",
              "    <tr>\n",
              "      <th>apple</th>\n",
              "      <td>100.0</td>\n",
              "      <td>False</td>\n",
              "      <td>100.0</td>\n",
              "    </tr>\n",
              "    <tr>\n",
              "      <th>ball</th>\n",
              "      <td>200.0</td>\n",
              "      <td>False</td>\n",
              "      <td>200.0</td>\n",
              "    </tr>\n",
              "    <tr>\n",
              "      <th>cerill</th>\n",
              "      <td>NaN</td>\n",
              "      <td>False</td>\n",
              "      <td>NaN</td>\n",
              "    </tr>\n",
              "    <tr>\n",
              "      <th>clock</th>\n",
              "      <td>300.0</td>\n",
              "      <td>True</td>\n",
              "      <td>300.0</td>\n",
              "    </tr>\n",
              "    <tr>\n",
              "      <th>dancy</th>\n",
              "      <td>NaN</td>\n",
              "      <td>False</td>\n",
              "      <td>NaN</td>\n",
              "    </tr>\n",
              "  </tbody>\n",
              "</table>\n",
              "</div>"
            ],
            "text/plain": [
              "          one   flag  copy_of_one\n",
              "apple   100.0  False        100.0\n",
              "ball    200.0  False        200.0\n",
              "cerill    NaN  False          NaN\n",
              "clock   300.0   True        300.0\n",
              "dancy     NaN  False          NaN"
            ]
          },
          "metadata": {
            "tags": []
          },
          "execution_count": 34
        }
      ]
    },
    {
      "metadata": {
        "id": "NXNMA987y8Sj",
        "colab_type": "code",
        "outputId": "e94706d7-b2a4-44ff-8a34-fee32d203244",
        "colab": {
          "base_uri": "https://localhost:8080/",
          "height": 224
        }
      },
      "cell_type": "code",
      "source": [
        "df['one_upper_half'] = df['one'][:2]\n",
        "df"
      ],
      "execution_count": 0,
      "outputs": [
        {
          "output_type": "execute_result",
          "data": {
            "text/html": [
              "<div>\n",
              "<style scoped>\n",
              "    .dataframe tbody tr th:only-of-type {\n",
              "        vertical-align: middle;\n",
              "    }\n",
              "\n",
              "    .dataframe tbody tr th {\n",
              "        vertical-align: top;\n",
              "    }\n",
              "\n",
              "    .dataframe thead th {\n",
              "        text-align: right;\n",
              "    }\n",
              "</style>\n",
              "<table border=\"1\" class=\"dataframe\">\n",
              "  <thead>\n",
              "    <tr style=\"text-align: right;\">\n",
              "      <th></th>\n",
              "      <th>one</th>\n",
              "      <th>flag</th>\n",
              "      <th>copy_of_one</th>\n",
              "      <th>one_upper_half</th>\n",
              "    </tr>\n",
              "  </thead>\n",
              "  <tbody>\n",
              "    <tr>\n",
              "      <th>apple</th>\n",
              "      <td>100.0</td>\n",
              "      <td>False</td>\n",
              "      <td>100.0</td>\n",
              "      <td>100.0</td>\n",
              "    </tr>\n",
              "    <tr>\n",
              "      <th>ball</th>\n",
              "      <td>200.0</td>\n",
              "      <td>False</td>\n",
              "      <td>200.0</td>\n",
              "      <td>200.0</td>\n",
              "    </tr>\n",
              "    <tr>\n",
              "      <th>cerill</th>\n",
              "      <td>NaN</td>\n",
              "      <td>False</td>\n",
              "      <td>NaN</td>\n",
              "      <td>NaN</td>\n",
              "    </tr>\n",
              "    <tr>\n",
              "      <th>clock</th>\n",
              "      <td>300.0</td>\n",
              "      <td>True</td>\n",
              "      <td>300.0</td>\n",
              "      <td>NaN</td>\n",
              "    </tr>\n",
              "    <tr>\n",
              "      <th>dancy</th>\n",
              "      <td>NaN</td>\n",
              "      <td>False</td>\n",
              "      <td>NaN</td>\n",
              "      <td>NaN</td>\n",
              "    </tr>\n",
              "  </tbody>\n",
              "</table>\n",
              "</div>"
            ],
            "text/plain": [
              "          one   flag  copy_of_one  one_upper_half\n",
              "apple   100.0  False        100.0           100.0\n",
              "ball    200.0  False        200.0           200.0\n",
              "cerill    NaN  False          NaN             NaN\n",
              "clock   300.0   True        300.0             NaN\n",
              "dancy     NaN  False          NaN             NaN"
            ]
          },
          "metadata": {
            "tags": []
          },
          "execution_count": 35
        }
      ]
    },
    {
      "metadata": {
        "id": "8OToDGzEy8Sk",
        "colab_type": "text"
      },
      "cell_type": "markdown",
      "source": [
        "<p style=\"font-family: Arial; font-size:1.75em;color:#2462C0; font-style:bold\">\n",
        "Case Study: Movie Data Analysis</p>\n",
        "<br>This notebook uses a dataset from the MovieLens website. We will describe the dataset further as we explore with it using *pandas*. \n",
        "\n",
        "## Download the Dataset\n",
        "\n",
        "Please note that **you will need to download the dataset**. Although the video for this notebook says that the data is in your folder, the folder turned out to be too large to fit on the edX platform due to size constraints.\n",
        "\n",
        "Here are the links to the data source and location:\n",
        "* **Data Source:** MovieLens web site (filename: ml-20m.zip)\n",
        "* **Location:** https://grouplens.org/datasets/movielens/\n",
        "\n",
        "Once the download completes, please make sure the data files are in a directory called *movielens* in your *Week-3-pandas* folder. \n",
        "\n",
        "Let us look at the files in this dataset using the UNIX command ls.\n"
      ]
    },
    {
      "metadata": {
        "id": "UAXplZo1q_cg",
        "colab_type": "code",
        "colab": {
          "base_uri": "https://localhost:8080/",
          "height": 153
        },
        "outputId": "96c3dc36-57d6-4f94-9ae1-075117ea5af9"
      },
      "cell_type": "code",
      "source": [
        "import requests, zipfile, io\n",
        "\n",
        "# Download dataset\n",
        "url = \"http://files.grouplens.org/datasets/movielens/ml-20m.zip\"\n",
        "r = requests.get(url)\n",
        "z = zipfile.ZipFile(io.BytesIO(r.content))\n",
        "z.namelist()"
      ],
      "execution_count": 8,
      "outputs": [
        {
          "output_type": "execute_result",
          "data": {
            "text/plain": [
              "['ml-20m/',\n",
              " 'ml-20m/genome-scores.csv',\n",
              " 'ml-20m/genome-tags.csv',\n",
              " 'ml-20m/links.csv',\n",
              " 'ml-20m/movies.csv',\n",
              " 'ml-20m/ratings.csv',\n",
              " 'ml-20m/README.txt',\n",
              " 'ml-20m/tags.csv']"
            ]
          },
          "metadata": {
            "tags": []
          },
          "execution_count": 8
        }
      ]
    },
    {
      "metadata": {
        "id": "L8pDF0kly8Sk",
        "colab_type": "code",
        "colab": {
          "base_uri": "https://localhost:8080/",
          "height": 34
        },
        "outputId": "4a691fe2-1103-4515-c959-a79d0642332e"
      },
      "cell_type": "code",
      "source": [
        "# Note: Adjust the name of the folder to match your local directory\n",
        "\n",
        "data_filenames = [\"ratings.csv\", \"tags.csv\", \"movies.csv\"]\n",
        "!mkdir movielens\n",
        "for fpath in z.namelist():\n",
        "  # Look for file names of interest\n",
        "  if os.path.basename(fpath) in data_filenames:\n",
        "    # Extract a single file from zip\n",
        "    print(fpath)\n",
        "    z.extract(fpath, 'movielens')\n",
        "\n",
        "z.extract('ml-20m/movies.csv', 'movielens')\n",
        "!ls ./movielens\n",
        "!pwd"
      ],
      "execution_count": 20,
      "outputs": [
        {
          "output_type": "execute_result",
          "data": {
            "text/plain": [
              "'movielens/ml-20m/movies.csv'"
            ]
          },
          "metadata": {
            "tags": []
          },
          "execution_count": 20
        }
      ]
    },
    {
      "metadata": {
        "id": "qvJDpkWxy8Sl",
        "colab_type": "code",
        "colab": {}
      },
      "cell_type": "code",
      "source": [
        "!cat ./movielens/movies.csv | wc -l"
      ],
      "execution_count": 0,
      "outputs": []
    },
    {
      "metadata": {
        "id": "BRVoRzG8y8Sm",
        "colab_type": "code",
        "colab": {}
      },
      "cell_type": "code",
      "source": [
        "!head -5 ./movielens/ratings.csv"
      ],
      "execution_count": 0,
      "outputs": []
    },
    {
      "metadata": {
        "id": "fCR6ldRqy8Sn",
        "colab_type": "text"
      },
      "cell_type": "markdown",
      "source": [
        "<p style=\"font-family: Arial; font-size:1.75em;color:#2462C0; font-style:bold\">\n",
        "Use Pandas to Read the Dataset<br>\n",
        "</p>\n",
        "<br>\n",
        "In this notebook, we will be using three CSV files:\n",
        "* **ratings.csv :** *userId*,*movieId*,*rating*, *timestamp*\n",
        "* **tags.csv :** *userId*,*movieId*, *tag*, *timestamp*\n",
        "* **movies.csv :** *movieId*, *title*, *genres* <br>\n",
        "\n",
        "Using the *read_csv* function in pandas, we will ingest these three files."
      ]
    },
    {
      "metadata": {
        "id": "ahX8oQXLy8So",
        "colab_type": "code",
        "colab": {}
      },
      "cell_type": "code",
      "source": [
        "movies = pd.read_csv('./movielens/movies.csv', sep=',')\n",
        "print(type(movies))\n",
        "movies.head(15)"
      ],
      "execution_count": 0,
      "outputs": []
    },
    {
      "metadata": {
        "id": "b9enMNNEy8Sp",
        "colab_type": "code",
        "colab": {}
      },
      "cell_type": "code",
      "source": [
        "# Timestamps represent seconds since midnight Coordinated Universal Time (UTC) of January 1, 1970\n",
        "\n",
        "tags = pd.read_csv('./movielens/tags.csv', sep=',')\n",
        "tags.head()"
      ],
      "execution_count": 0,
      "outputs": []
    },
    {
      "metadata": {
        "id": "wMyYf6e0y8Sq",
        "colab_type": "code",
        "colab": {}
      },
      "cell_type": "code",
      "source": [
        "ratings = pd.read_csv('./movielens/ratings.csv', sep=',', parse_dates=['timestamp'])\n",
        "ratings.head()"
      ],
      "execution_count": 0,
      "outputs": []
    },
    {
      "metadata": {
        "id": "zS01oRGFy8Ss",
        "colab_type": "code",
        "colab": {}
      },
      "cell_type": "code",
      "source": [
        "# For current analysis, we will remove timestamp (we will come back to it!)\n",
        "\n",
        "del ratings['timestamp']\n",
        "del tags['timestamp']"
      ],
      "execution_count": 0,
      "outputs": []
    },
    {
      "metadata": {
        "id": "SyDwoM-Gy8St",
        "colab_type": "text"
      },
      "cell_type": "markdown",
      "source": [
        "<h1 style=\"font-size:2em;color:#2467C0\">Data Structures </h1>"
      ]
    },
    {
      "metadata": {
        "id": "o8H2kP3py8St",
        "colab_type": "text"
      },
      "cell_type": "markdown",
      "source": [
        "<h1 style=\"font-size:1.5em;color:#2467C0\">Series</h1>"
      ]
    },
    {
      "metadata": {
        "id": "6TBKVteDy8St",
        "colab_type": "code",
        "colab": {}
      },
      "cell_type": "code",
      "source": [
        "#Extract 0th row: notice that it is infact a Series\n",
        "\n",
        "row_0 = tags.iloc[0]\n",
        "type(row_0)"
      ],
      "execution_count": 0,
      "outputs": []
    },
    {
      "metadata": {
        "id": "bV17DG3Ny8Su",
        "colab_type": "code",
        "colab": {}
      },
      "cell_type": "code",
      "source": [
        "print(row_0)"
      ],
      "execution_count": 0,
      "outputs": []
    },
    {
      "metadata": {
        "id": "Ilm8ayHGy8Sv",
        "colab_type": "code",
        "colab": {}
      },
      "cell_type": "code",
      "source": [
        "row_0.index"
      ],
      "execution_count": 0,
      "outputs": []
    },
    {
      "metadata": {
        "id": "_nUlIJRFy8Sv",
        "colab_type": "code",
        "colab": {}
      },
      "cell_type": "code",
      "source": [
        "row_0['userId']"
      ],
      "execution_count": 0,
      "outputs": []
    },
    {
      "metadata": {
        "id": "rrcOiuYvy8Sw",
        "colab_type": "code",
        "colab": {}
      },
      "cell_type": "code",
      "source": [
        "'rating' in row_0"
      ],
      "execution_count": 0,
      "outputs": []
    },
    {
      "metadata": {
        "id": "Wcgg1ya3y8Sx",
        "colab_type": "code",
        "colab": {}
      },
      "cell_type": "code",
      "source": [
        "row_0.name"
      ],
      "execution_count": 0,
      "outputs": []
    },
    {
      "metadata": {
        "id": "BdlI3jRTy8Sy",
        "colab_type": "code",
        "colab": {}
      },
      "cell_type": "code",
      "source": [
        "row_0 = row_0.rename('first_row')\n",
        "row_0.name"
      ],
      "execution_count": 0,
      "outputs": []
    },
    {
      "metadata": {
        "id": "XiYxf0cRy8Sy",
        "colab_type": "text"
      },
      "cell_type": "markdown",
      "source": [
        "<h1 style=\"font-size:1.5em;color:#2467C0\">DataFrames </h1>"
      ]
    },
    {
      "metadata": {
        "id": "9UpubD2Ly8Sy",
        "colab_type": "code",
        "colab": {}
      },
      "cell_type": "code",
      "source": [
        "tags.head()"
      ],
      "execution_count": 0,
      "outputs": []
    },
    {
      "metadata": {
        "id": "KqToi3xBy8S0",
        "colab_type": "code",
        "colab": {}
      },
      "cell_type": "code",
      "source": [
        "tags.index"
      ],
      "execution_count": 0,
      "outputs": []
    },
    {
      "metadata": {
        "id": "wByIlmHPy8S1",
        "colab_type": "code",
        "colab": {}
      },
      "cell_type": "code",
      "source": [
        "tags.columns"
      ],
      "execution_count": 0,
      "outputs": []
    },
    {
      "metadata": {
        "id": "zT752lWAy8S2",
        "colab_type": "code",
        "colab": {}
      },
      "cell_type": "code",
      "source": [
        "# Extract row 0, 11, 2000 from DataFrame\n",
        "\n",
        "tags.iloc[ [0,11,2000] ]"
      ],
      "execution_count": 0,
      "outputs": []
    },
    {
      "metadata": {
        "id": "FUzdeW88y8S2",
        "colab_type": "text"
      },
      "cell_type": "markdown",
      "source": [
        "<h1 style=\"font-size:2em;color:#2467C0\">Descriptive Statistics</h1>\n",
        "\n",
        "Let's look how the ratings are distributed! "
      ]
    },
    {
      "metadata": {
        "id": "oi1fb4m0y8S3",
        "colab_type": "code",
        "colab": {}
      },
      "cell_type": "code",
      "source": [
        "ratings['rating'].describe()"
      ],
      "execution_count": 0,
      "outputs": []
    },
    {
      "metadata": {
        "id": "mjAjronwy8S3",
        "colab_type": "code",
        "colab": {}
      },
      "cell_type": "code",
      "source": [
        "ratings.describe()"
      ],
      "execution_count": 0,
      "outputs": []
    },
    {
      "metadata": {
        "id": "M_rwechOy8S4",
        "colab_type": "code",
        "colab": {}
      },
      "cell_type": "code",
      "source": [
        "ratings['rating'].mean()"
      ],
      "execution_count": 0,
      "outputs": []
    },
    {
      "metadata": {
        "id": "rh2mLi4Uy8S5",
        "colab_type": "code",
        "colab": {}
      },
      "cell_type": "code",
      "source": [
        "ratings.mean()"
      ],
      "execution_count": 0,
      "outputs": []
    },
    {
      "metadata": {
        "id": "06PIV1tOy8S5",
        "colab_type": "code",
        "colab": {}
      },
      "cell_type": "code",
      "source": [
        "ratings['rating'].min()"
      ],
      "execution_count": 0,
      "outputs": []
    },
    {
      "metadata": {
        "id": "59LjcPoCy8S6",
        "colab_type": "code",
        "colab": {}
      },
      "cell_type": "code",
      "source": [
        "ratings['rating'].max()"
      ],
      "execution_count": 0,
      "outputs": []
    },
    {
      "metadata": {
        "id": "rT7qd7DXy8S7",
        "colab_type": "code",
        "colab": {}
      },
      "cell_type": "code",
      "source": [
        "ratings['rating'].std()"
      ],
      "execution_count": 0,
      "outputs": []
    },
    {
      "metadata": {
        "id": "kSny7iHDy8S7",
        "colab_type": "code",
        "colab": {}
      },
      "cell_type": "code",
      "source": [
        "ratings['rating'].mode()"
      ],
      "execution_count": 0,
      "outputs": []
    },
    {
      "metadata": {
        "scrolled": true,
        "id": "7vwNe_aBy8S8",
        "colab_type": "code",
        "colab": {}
      },
      "cell_type": "code",
      "source": [
        "ratings.corr()"
      ],
      "execution_count": 0,
      "outputs": []
    },
    {
      "metadata": {
        "id": "qJGv-kb2y8S9",
        "colab_type": "code",
        "colab": {}
      },
      "cell_type": "code",
      "source": [
        "filter_1 = ratings['rating'] > 5\n",
        "print(filter_1)\n",
        "filter_1.any()"
      ],
      "execution_count": 0,
      "outputs": []
    },
    {
      "metadata": {
        "id": "eP_qV7Tiy8S9",
        "colab_type": "code",
        "colab": {}
      },
      "cell_type": "code",
      "source": [
        "filter_2 = ratings['rating'] > 0\n",
        "filter_2.all()"
      ],
      "execution_count": 0,
      "outputs": []
    },
    {
      "metadata": {
        "id": "3A7HvGqFy8S-",
        "colab_type": "text"
      },
      "cell_type": "markdown",
      "source": [
        "<h1 style=\"font-size:2em;color:#2467C0\">Data Cleaning: Handling Missing Data</h1>"
      ]
    },
    {
      "metadata": {
        "id": "yxrWTjEdy8S-",
        "colab_type": "code",
        "colab": {}
      },
      "cell_type": "code",
      "source": [
        "movies.shape"
      ],
      "execution_count": 0,
      "outputs": []
    },
    {
      "metadata": {
        "id": "cFbxgSK3y8S_",
        "colab_type": "code",
        "colab": {}
      },
      "cell_type": "code",
      "source": [
        "#is any row NULL ?\n",
        "\n",
        "movies.isnull().any()"
      ],
      "execution_count": 0,
      "outputs": []
    },
    {
      "metadata": {
        "collapsed": true,
        "id": "ScmcRa1Wy8TA",
        "colab_type": "text"
      },
      "cell_type": "markdown",
      "source": [
        "Thats nice ! No NULL values !"
      ]
    },
    {
      "metadata": {
        "id": "gEwl7Gc8y8TA",
        "colab_type": "code",
        "colab": {}
      },
      "cell_type": "code",
      "source": [
        "ratings.shape"
      ],
      "execution_count": 0,
      "outputs": []
    },
    {
      "metadata": {
        "id": "s4WZ1__Wy8TB",
        "colab_type": "code",
        "colab": {}
      },
      "cell_type": "code",
      "source": [
        "#is any row NULL ?\n",
        "\n",
        "ratings.isnull().any()"
      ],
      "execution_count": 0,
      "outputs": []
    },
    {
      "metadata": {
        "collapsed": true,
        "id": "T2cjNOtqy8TB",
        "colab_type": "text"
      },
      "cell_type": "markdown",
      "source": [
        "Thats nice ! No NULL values !"
      ]
    },
    {
      "metadata": {
        "id": "owQTfHv7y8TB",
        "colab_type": "code",
        "colab": {}
      },
      "cell_type": "code",
      "source": [
        "tags.shape"
      ],
      "execution_count": 0,
      "outputs": []
    },
    {
      "metadata": {
        "id": "zovCZ5Bby8TD",
        "colab_type": "code",
        "colab": {}
      },
      "cell_type": "code",
      "source": [
        "#is any row NULL ?\n",
        "\n",
        "tags.isnull().any()"
      ],
      "execution_count": 0,
      "outputs": []
    },
    {
      "metadata": {
        "collapsed": true,
        "id": "usbF8nYKy8TE",
        "colab_type": "text"
      },
      "cell_type": "markdown",
      "source": [
        "We have some tags which are NULL."
      ]
    },
    {
      "metadata": {
        "id": "7E8nz4rfy8TE",
        "colab_type": "code",
        "colab": {}
      },
      "cell_type": "code",
      "source": [
        "tags = tags.dropna()"
      ],
      "execution_count": 0,
      "outputs": []
    },
    {
      "metadata": {
        "id": "CDr3HdJYy8TF",
        "colab_type": "code",
        "colab": {}
      },
      "cell_type": "code",
      "source": [
        "#Check again: is any row NULL ?\n",
        "\n",
        "tags.isnull().any()"
      ],
      "execution_count": 0,
      "outputs": []
    },
    {
      "metadata": {
        "id": "gVRLGO0Hy8TF",
        "colab_type": "code",
        "colab": {}
      },
      "cell_type": "code",
      "source": [
        "tags.shape"
      ],
      "execution_count": 0,
      "outputs": []
    },
    {
      "metadata": {
        "collapsed": true,
        "id": "dx31TS3Sy8TG",
        "colab_type": "text"
      },
      "cell_type": "markdown",
      "source": [
        "Thats nice ! No NULL values ! Notice the number of lines have reduced."
      ]
    },
    {
      "metadata": {
        "id": "6gTV0rJzy8TG",
        "colab_type": "text"
      },
      "cell_type": "markdown",
      "source": [
        "<h1 style=\"font-size:2em;color:#2467C0\">Data Visualization</h1>"
      ]
    },
    {
      "metadata": {
        "id": "3E7w0w5Vy8TG",
        "colab_type": "code",
        "colab": {}
      },
      "cell_type": "code",
      "source": [
        "%matplotlib inline\n",
        "\n",
        "ratings.hist(column='rating', figsize=(15,10))"
      ],
      "execution_count": 0,
      "outputs": []
    },
    {
      "metadata": {
        "id": "-0rSm1YRy8TH",
        "colab_type": "code",
        "colab": {}
      },
      "cell_type": "code",
      "source": [
        "ratings.boxplot(column='rating', figsize=(15,20))"
      ],
      "execution_count": 0,
      "outputs": []
    },
    {
      "metadata": {
        "id": "Zh4kUP-Fy8TI",
        "colab_type": "text"
      },
      "cell_type": "markdown",
      "source": [
        "<h1 style=\"font-size:2em;color:#2467C0\">Slicing Out Columns</h1>\n",
        " "
      ]
    },
    {
      "metadata": {
        "id": "kO_zPWwYy8TI",
        "colab_type": "code",
        "colab": {}
      },
      "cell_type": "code",
      "source": [
        "tags['tag'].head()"
      ],
      "execution_count": 0,
      "outputs": []
    },
    {
      "metadata": {
        "id": "lZHl2VJxy8TI",
        "colab_type": "code",
        "colab": {}
      },
      "cell_type": "code",
      "source": [
        "movies[['title','genres']].head()"
      ],
      "execution_count": 0,
      "outputs": []
    },
    {
      "metadata": {
        "id": "yIpEs51Yy8TJ",
        "colab_type": "code",
        "colab": {}
      },
      "cell_type": "code",
      "source": [
        "ratings[-10:]"
      ],
      "execution_count": 0,
      "outputs": []
    },
    {
      "metadata": {
        "id": "FCPcOkO8y8TK",
        "colab_type": "code",
        "colab": {}
      },
      "cell_type": "code",
      "source": [
        "tag_counts = tags['tag'].value_counts()\n",
        "tag_counts[-10:]"
      ],
      "execution_count": 0,
      "outputs": []
    },
    {
      "metadata": {
        "id": "eHOrGSSHy8TK",
        "colab_type": "code",
        "colab": {}
      },
      "cell_type": "code",
      "source": [
        "tag_counts[:10].plot(kind='bar', figsize=(15,10))"
      ],
      "execution_count": 0,
      "outputs": []
    },
    {
      "metadata": {
        "id": "NYsvPP4dy8TL",
        "colab_type": "text"
      },
      "cell_type": "markdown",
      "source": [
        "<h1 style=\"font-size:2em;color:#2467C0\">Filters for Selecting Rows</h1>"
      ]
    },
    {
      "metadata": {
        "id": "ErzMpwdwy8TL",
        "colab_type": "code",
        "colab": {}
      },
      "cell_type": "code",
      "source": [
        "is_highly_rated = ratings['rating'] >= 4.0\n",
        "\n",
        "ratings[is_highly_rated][30:50]"
      ],
      "execution_count": 0,
      "outputs": []
    },
    {
      "metadata": {
        "id": "ChWMauvTy8TM",
        "colab_type": "code",
        "colab": {}
      },
      "cell_type": "code",
      "source": [
        "is_animation = movies['genres'].str.contains('Animation')\n",
        "\n",
        "movies[is_animation][5:15]"
      ],
      "execution_count": 0,
      "outputs": []
    },
    {
      "metadata": {
        "id": "P1fEwt5Ay8TN",
        "colab_type": "code",
        "colab": {}
      },
      "cell_type": "code",
      "source": [
        "movies[is_animation].head(15)"
      ],
      "execution_count": 0,
      "outputs": []
    },
    {
      "metadata": {
        "id": "bEUtOi09y8TN",
        "colab_type": "text"
      },
      "cell_type": "markdown",
      "source": [
        "<h1 style=\"font-size:2em;color:#2467C0\">Group By and Aggregate </h1>"
      ]
    },
    {
      "metadata": {
        "id": "tcLcwviHy8TN",
        "colab_type": "code",
        "colab": {}
      },
      "cell_type": "code",
      "source": [
        "ratings_count = ratings[['movieId','rating']].groupby('rating').count()\n",
        "ratings_count"
      ],
      "execution_count": 0,
      "outputs": []
    },
    {
      "metadata": {
        "id": "Cm2ORjLly8TO",
        "colab_type": "code",
        "colab": {}
      },
      "cell_type": "code",
      "source": [
        "average_rating = ratings[['movieId','rating']].groupby('movieId').mean()\n",
        "average_rating.head()"
      ],
      "execution_count": 0,
      "outputs": []
    },
    {
      "metadata": {
        "id": "EDMYKRpBy8TP",
        "colab_type": "code",
        "colab": {}
      },
      "cell_type": "code",
      "source": [
        "movie_count = ratings[['movieId','rating']].groupby('movieId').count()\n",
        "movie_count.head()"
      ],
      "execution_count": 0,
      "outputs": []
    },
    {
      "metadata": {
        "id": "WLPSN5g3y8TP",
        "colab_type": "code",
        "colab": {}
      },
      "cell_type": "code",
      "source": [
        "movie_count = ratings[['movieId','rating']].groupby('movieId').count()\n",
        "movie_count.tail()"
      ],
      "execution_count": 0,
      "outputs": []
    },
    {
      "metadata": {
        "id": "GqdoTXMIy8TQ",
        "colab_type": "text"
      },
      "cell_type": "markdown",
      "source": [
        "<h1 style=\"font-size:2em;color:#2467C0\">Merge Dataframes</h1>"
      ]
    },
    {
      "metadata": {
        "id": "zYCmTWTcy8TQ",
        "colab_type": "code",
        "colab": {}
      },
      "cell_type": "code",
      "source": [
        "tags.head()"
      ],
      "execution_count": 0,
      "outputs": []
    },
    {
      "metadata": {
        "id": "kCTQ67Hgy8TR",
        "colab_type": "code",
        "colab": {}
      },
      "cell_type": "code",
      "source": [
        "movies.head()"
      ],
      "execution_count": 0,
      "outputs": []
    },
    {
      "metadata": {
        "id": "CUM_h4nhy8TS",
        "colab_type": "code",
        "colab": {}
      },
      "cell_type": "code",
      "source": [
        "t = movies.merge(tags, on='movieId', how='inner')\n",
        "t.head()"
      ],
      "execution_count": 0,
      "outputs": []
    },
    {
      "metadata": {
        "id": "yqGw3Igmy8TS",
        "colab_type": "text"
      },
      "cell_type": "markdown",
      "source": [
        "More examples: http://pandas.pydata.org/pandas-docs/stable/merging.html"
      ]
    },
    {
      "metadata": {
        "id": "HaKNqmV5y8TS",
        "colab_type": "text"
      },
      "cell_type": "markdown",
      "source": [
        "<p style=\"font-family: Arial; font-size:1.75em;color:#2462C0; font-style:bold\"><br>\n",
        "\n",
        "\n",
        "Combine aggreagation, merging, and filters to get useful analytics\n",
        "</p>"
      ]
    },
    {
      "metadata": {
        "id": "EOpgvm1Ey8TT",
        "colab_type": "code",
        "colab": {}
      },
      "cell_type": "code",
      "source": [
        "avg_ratings = ratings.groupby('movieId', as_index=False).mean()\n",
        "del avg_ratings['userId']\n",
        "avg_ratings.head()"
      ],
      "execution_count": 0,
      "outputs": []
    },
    {
      "metadata": {
        "id": "4faFz8LNy8TT",
        "colab_type": "code",
        "colab": {}
      },
      "cell_type": "code",
      "source": [
        "box_office = movies.merge(avg_ratings, on='movieId', how='inner')\n",
        "box_office.tail()"
      ],
      "execution_count": 0,
      "outputs": []
    },
    {
      "metadata": {
        "id": "X0m2yiCOy8TU",
        "colab_type": "code",
        "colab": {}
      },
      "cell_type": "code",
      "source": [
        "is_highly_rated = box_office['rating'] >= 4.0\n",
        "\n",
        "box_office[is_highly_rated][-5:]"
      ],
      "execution_count": 0,
      "outputs": []
    },
    {
      "metadata": {
        "id": "j9V2U0Qky8TV",
        "colab_type": "code",
        "colab": {}
      },
      "cell_type": "code",
      "source": [
        "is_comedy = box_office['genres'].str.contains('Comedy')\n",
        "\n",
        "box_office[is_comedy][:5]"
      ],
      "execution_count": 0,
      "outputs": []
    },
    {
      "metadata": {
        "id": "jilUjk6vy8TV",
        "colab_type": "code",
        "colab": {}
      },
      "cell_type": "code",
      "source": [
        "box_office[is_comedy & is_highly_rated][-5:]"
      ],
      "execution_count": 0,
      "outputs": []
    },
    {
      "metadata": {
        "id": "6ZL5YzxQy8TW",
        "colab_type": "text"
      },
      "cell_type": "markdown",
      "source": [
        "<h1 style=\"font-size:2em;color:#2467C0\">Vectorized String Operations</h1>\n"
      ]
    },
    {
      "metadata": {
        "id": "QEpR7heTy8TW",
        "colab_type": "code",
        "colab": {}
      },
      "cell_type": "code",
      "source": [
        "movies.head()"
      ],
      "execution_count": 0,
      "outputs": []
    },
    {
      "metadata": {
        "id": "5WW-Vebcy8TW",
        "colab_type": "text"
      },
      "cell_type": "markdown",
      "source": [
        "<p style=\"font-family: Arial; font-size:1.35em;color:#2462C0; font-style:bold\"><br>\n",
        "\n",
        "Split 'genres' into multiple columns\n",
        "\n",
        "<br> </p>"
      ]
    },
    {
      "metadata": {
        "id": "yM8HgsIoy8TX",
        "colab_type": "code",
        "colab": {}
      },
      "cell_type": "code",
      "source": [
        "movie_genres = movies['genres'].str.split('|', expand=True)"
      ],
      "execution_count": 0,
      "outputs": []
    },
    {
      "metadata": {
        "id": "YkwxxwNfy8TX",
        "colab_type": "code",
        "colab": {}
      },
      "cell_type": "code",
      "source": [
        "movie_genres[:10]"
      ],
      "execution_count": 0,
      "outputs": []
    },
    {
      "metadata": {
        "id": "aHswkqs7y8TY",
        "colab_type": "text"
      },
      "cell_type": "markdown",
      "source": [
        "<p style=\"font-family: Arial; font-size:1.35em;color:#2462C0; font-style:bold\"><br>\n",
        "\n",
        "Add a new column for comedy genre flag\n",
        "\n",
        "<br> </p>"
      ]
    },
    {
      "metadata": {
        "id": "Gq3GPHRry8TY",
        "colab_type": "code",
        "colab": {}
      },
      "cell_type": "code",
      "source": [
        "movie_genres['isComedy'] = movies['genres'].str.contains('Comedy')"
      ],
      "execution_count": 0,
      "outputs": []
    },
    {
      "metadata": {
        "id": "fWV9K_qyy8TZ",
        "colab_type": "code",
        "colab": {}
      },
      "cell_type": "code",
      "source": [
        "movie_genres[:10]"
      ],
      "execution_count": 0,
      "outputs": []
    },
    {
      "metadata": {
        "id": "kGNxNvVpy8Ta",
        "colab_type": "text"
      },
      "cell_type": "markdown",
      "source": [
        "<p style=\"font-family: Arial; font-size:1.35em;color:#2462C0; font-style:bold\"><br>\n",
        "\n",
        "Extract year from title e.g. (1995)\n",
        "\n",
        "<br> </p>"
      ]
    },
    {
      "metadata": {
        "id": "MDMHXO9Py8Tb",
        "colab_type": "code",
        "colab": {}
      },
      "cell_type": "code",
      "source": [
        "movies['year'] = movies['title'].str.extract('.*\\((.*)\\).*', expand=True)"
      ],
      "execution_count": 0,
      "outputs": []
    },
    {
      "metadata": {
        "id": "1zNU6R-Wy8Td",
        "colab_type": "code",
        "colab": {}
      },
      "cell_type": "code",
      "source": [
        "movies.tail()"
      ],
      "execution_count": 0,
      "outputs": []
    },
    {
      "metadata": {
        "id": "98IVLnkAy8Te",
        "colab_type": "text"
      },
      "cell_type": "markdown",
      "source": [
        "<p style=\"font-family: Arial; font-size:1.35em;color:#2462C0; font-style:bold\"><br>\n",
        "\n",
        "More here: http://pandas.pydata.org/pandas-docs/stable/text.html#text-string-methods\n",
        "<br> </p>"
      ]
    },
    {
      "metadata": {
        "id": "cHak6-dHy8Tf",
        "colab_type": "text"
      },
      "cell_type": "markdown",
      "source": [
        "<h1 style=\"font-size:2em;color:#2467C0\">Parsing Timestamps</h1>"
      ]
    },
    {
      "metadata": {
        "id": "xKe91_VJy8Tf",
        "colab_type": "text"
      },
      "cell_type": "markdown",
      "source": [
        "Timestamps are common in sensor data or other time series datasets.\n",
        "Let us revisit the *tags.csv* dataset and read the timestamps!\n"
      ]
    },
    {
      "metadata": {
        "id": "fKZCNEQsy8Tf",
        "colab_type": "code",
        "colab": {}
      },
      "cell_type": "code",
      "source": [
        "tags = pd.read_csv('./movielens/tags.csv', sep=',')"
      ],
      "execution_count": 0,
      "outputs": []
    },
    {
      "metadata": {
        "id": "wsyP37Z7y8Tf",
        "colab_type": "code",
        "colab": {}
      },
      "cell_type": "code",
      "source": [
        "tags.dtypes"
      ],
      "execution_count": 0,
      "outputs": []
    },
    {
      "metadata": {
        "collapsed": true,
        "id": "LBO_mvM0y8Tg",
        "colab_type": "text"
      },
      "cell_type": "markdown",
      "source": [
        "<p style=\"font-family: Arial; font-size:1.35em;color:#2462C0; font-style:bold\">\n",
        "\n",
        "Unix time / POSIX time / epoch time records \n",
        "time in seconds <br> since midnight Coordinated Universal Time (UTC) of January 1, 1970\n",
        "</p>"
      ]
    },
    {
      "metadata": {
        "id": "DBMP9YWFy8Tg",
        "colab_type": "code",
        "colab": {}
      },
      "cell_type": "code",
      "source": [
        "tags.head(5)"
      ],
      "execution_count": 0,
      "outputs": []
    },
    {
      "metadata": {
        "id": "5PNRnSUiy8Th",
        "colab_type": "code",
        "colab": {}
      },
      "cell_type": "code",
      "source": [
        "tags['parsed_time'] = pd.to_datetime(tags['timestamp'], unit='s')"
      ],
      "execution_count": 0,
      "outputs": []
    },
    {
      "metadata": {
        "id": "MOeZViiOy8Th",
        "colab_type": "text"
      },
      "cell_type": "markdown",
      "source": [
        "<p style=\"font-family: Arial; font-size:1.35em;color:#2462C0; font-style:bold\">\n",
        "\n",
        "Data Type datetime64[ns] maps to either <M8[ns] or >M8[ns] depending on the hardware\n",
        "\n",
        "</p>"
      ]
    },
    {
      "metadata": {
        "id": "bUHPNVAFy8Th",
        "colab_type": "code",
        "colab": {}
      },
      "cell_type": "code",
      "source": [
        "\n",
        "tags['parsed_time'].dtype"
      ],
      "execution_count": 0,
      "outputs": []
    },
    {
      "metadata": {
        "id": "4ye0qPiby8Ti",
        "colab_type": "code",
        "colab": {}
      },
      "cell_type": "code",
      "source": [
        "tags.head(2)"
      ],
      "execution_count": 0,
      "outputs": []
    },
    {
      "metadata": {
        "id": "ZraSpCYfy8Tj",
        "colab_type": "text"
      },
      "cell_type": "markdown",
      "source": [
        "<p style=\"font-family: Arial; font-size:1.35em;color:#2462C0; font-style:bold\">\n",
        "\n",
        "Selecting rows based on timestamps\n",
        "</p>"
      ]
    },
    {
      "metadata": {
        "id": "zvE5PI49y8Tj",
        "colab_type": "code",
        "colab": {}
      },
      "cell_type": "code",
      "source": [
        "greater_than_t = tags['parsed_time'] > '2015-02-01'\n",
        "\n",
        "selected_rows = tags[greater_than_t]\n",
        "\n",
        "tags.shape, selected_rows.shape"
      ],
      "execution_count": 0,
      "outputs": []
    },
    {
      "metadata": {
        "id": "mMfxBzpyy8Tj",
        "colab_type": "text"
      },
      "cell_type": "markdown",
      "source": [
        "<p style=\"font-family: Arial; font-size:1.35em;color:#2462C0; font-style:bold\">\n",
        "\n",
        "Sorting the table using the timestamps\n",
        "</p>"
      ]
    },
    {
      "metadata": {
        "id": "CT3wy4u1y8Tj",
        "colab_type": "code",
        "colab": {}
      },
      "cell_type": "code",
      "source": [
        "tags.sort_values(by='parsed_time', ascending=True)[:10]"
      ],
      "execution_count": 0,
      "outputs": []
    },
    {
      "metadata": {
        "id": "PX-HLWgLy8Tk",
        "colab_type": "text"
      },
      "cell_type": "markdown",
      "source": [
        "<h1 style=\"font-size:2em;color:#2467C0\">Average Movie Ratings over Time </h1>\n",
        "## Are Movie ratings related to the year of launch?"
      ]
    },
    {
      "metadata": {
        "id": "du6iGxNoy8Tk",
        "colab_type": "code",
        "colab": {}
      },
      "cell_type": "code",
      "source": [
        "average_rating = ratings[['movieId','rating']].groupby('movieId', as_index=False).mean()\n",
        "average_rating.tail()"
      ],
      "execution_count": 0,
      "outputs": []
    },
    {
      "metadata": {
        "id": "6L05wLgGy8Tl",
        "colab_type": "code",
        "colab": {}
      },
      "cell_type": "code",
      "source": [
        "joined = movies.merge(average_rating, on='movieId', how='inner')\n",
        "joined.head()\n",
        "joined.corr()"
      ],
      "execution_count": 0,
      "outputs": []
    },
    {
      "metadata": {
        "id": "HYLFefhiy8Tl",
        "colab_type": "code",
        "colab": {}
      },
      "cell_type": "code",
      "source": [
        "yearly_average = joined[['year','rating']].groupby('year', as_index=False).mean()\n",
        "yearly_average[:10]"
      ],
      "execution_count": 0,
      "outputs": []
    },
    {
      "metadata": {
        "id": "stEmeNgRy8Tm",
        "colab_type": "code",
        "colab": {}
      },
      "cell_type": "code",
      "source": [
        "yearly_average[-20:].plot(x='year', y='rating', figsize=(15,10), grid=True)"
      ],
      "execution_count": 0,
      "outputs": []
    },
    {
      "metadata": {
        "id": "m78IagTJy8Tm",
        "colab_type": "text"
      },
      "cell_type": "markdown",
      "source": [
        "<p style=\"font-family: Arial; font-size:1.35em;color:#2462C0; font-style:bold\">\n",
        "\n",
        "Do some years look better for the boxoffice movies than others? <br><br>\n",
        "\n",
        "Does any data point seem like an outlier in some sense?\n",
        "\n",
        "</p>"
      ]
    },
    {
      "metadata": {
        "collapsed": true,
        "id": "3yYJKw69y8Tn",
        "colab_type": "code",
        "colab": {}
      },
      "cell_type": "code",
      "source": [
        ""
      ],
      "execution_count": 0,
      "outputs": []
    }
  ]
}