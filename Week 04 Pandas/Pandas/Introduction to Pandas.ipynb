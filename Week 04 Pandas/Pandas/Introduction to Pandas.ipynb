{
  "nbformat": 4,
  "nbformat_minor": 0,
  "metadata": {
    "colab": {
      "name": "Introduction to Pandas.ipynb",
      "version": "0.3.2",
      "provenance": [],
      "include_colab_link": true
    },
    "kernelspec": {
      "name": "python3",
      "display_name": "Python 3"
    },
    "accelerator": "GPU"
  },
  "cells": [
    {
      "cell_type": "markdown",
      "metadata": {
        "id": "view-in-github",
        "colab_type": "text"
      },
      "source": [
        "<a href=\"https://colab.research.google.com/github/Data-Science-and-Data-Analytics-Courses/UCSanDiegoX---Python-for-Data-Science-03-Jan-2019-audit-/blob/master/Week%2004%20Pandas/Pandas/Introduction%20to%20Pandas.ipynb\" target=\"_parent\"><img src=\"https://colab.research.google.com/assets/colab-badge.svg\" alt=\"Open In Colab\"/></a>"
      ]
    },
    {
      "metadata": {
        "id": "OqtX6aiey8RL",
        "colab_type": "text"
      },
      "cell_type": "markdown",
      "source": [
        "<p style=\"font-family: Arial; font-size:3.75em;color:purple; font-style:bold\"><br>\n",
        "Pandas</p><br>\n",
        "\n",
        "*pandas* is a Python library for data analysis. It offers a number of data exploration, cleaning and transformation operations that are critical in working with data in Python. \n",
        "\n",
        "*pandas* build upon *numpy* and *scipy* providing easy-to-use data structures and data manipulation functions with integrated indexing.\n",
        "\n",
        "The main data structures *pandas* provides are *Series* and *DataFrames*. After a brief introduction to these two data structures and data ingestion, the key features of *pandas* this notebook covers are:\n",
        "* Generating descriptive statistics on data\n",
        "* Data cleaning using built in pandas functions\n",
        "* Frequent data operations for subsetting, filtering, insertion, deletion and aggregation of data\n",
        "* Merging multiple datasets using dataframes\n",
        "* Working with timestamps and time-series data\n",
        "\n",
        "**Additional Recommended Resources:**\n",
        "* *pandas* Documentation: http://pandas.pydata.org/pandas-docs/stable/\n",
        "* *Python for Data Analysis* by Wes McKinney\n",
        "* *Python Data Science Handbook* by Jake VanderPlas\n",
        "\n",
        "Let's get started with our first *pandas* notebook!"
      ]
    },
    {
      "metadata": {
        "id": "tkOoCjiMzC2d",
        "colab_type": "text"
      },
      "cell_type": "markdown",
      "source": [
        "# Set up Google Colaboratory (run the following code cell one time only)"
      ]
    },
    {
      "metadata": {
        "id": "L9zxvcHxzr-t",
        "colab_type": "code",
        "outputId": "ffa098f2-6a3e-422b-8d72-f04981f6263b",
        "colab": {
          "base_uri": "https://localhost:8080/",
          "height": 170
        }
      },
      "cell_type": "code",
      "source": [
        "import os\n",
        "\n",
        "PULL_URL = \"http://github.com/Data-Science-and-Data-Analytics-Courses/UCSanDiegoX---Python-for-Data-Science-03-Jan-2019-audit-\"\n",
        "\n",
        "# Clone GitHub repository to local repository\n",
        "!git clone $PULL_URL\n",
        "os.chdir(os.path.basename(PULL_URL)) # change working directory to local repository directory\n",
        "LOCAL_REPO = os.getcwd()\n",
        "\n",
        "# Change working directory to notebook's directory\n",
        "%cd Week 04 Pandas/Pandas"
      ],
      "execution_count": 1,
      "outputs": [
        {
          "output_type": "stream",
          "text": [
            "Cloning into 'UCSanDiegoX---Python-for-Data-Science-03-Jan-2019-audit-'...\n",
            "warning: redirecting to https://github.com/Data-Science-and-Data-Analytics-Courses/UCSanDiegoX---Python-for-Data-Science-03-Jan-2019-audit-/\n",
            "remote: Enumerating objects: 87, done.\u001b[K\n",
            "remote: Counting objects: 100% (87/87), done.\u001b[K\n",
            "remote: Compressing objects: 100% (79/79), done.\u001b[K\n",
            "remote: Total 318 (delta 32), reused 3 (delta 1), pack-reused 231\u001b[K\n",
            "Receiving objects: 100% (318/318), 29.39 MiB | 19.95 MiB/s, done.\n",
            "Resolving deltas: 100% (131/131), done.\n",
            "/content/UCSanDiegoX---Python-for-Data-Science-03-Jan-2019-audit-/Week 04 Pandas/Pandas\n"
          ],
          "name": "stdout"
        }
      ]
    },
    {
      "metadata": {
        "id": "q_U9MHj3idAr",
        "colab_type": "text"
      },
      "cell_type": "markdown",
      "source": [
        "# Pandas"
      ]
    },
    {
      "metadata": {
        "id": "CUvb0m4py8RQ",
        "colab_type": "text"
      },
      "cell_type": "markdown",
      "source": [
        "<p style=\"font-family: Arial; font-size:1.75em;color:#2462C0; font-style:bold\"><br>\n",
        "\n",
        "Import Libraries\n",
        "</p>"
      ]
    },
    {
      "metadata": {
        "id": "xo9Q8vF3y8RT",
        "colab_type": "code",
        "colab": {}
      },
      "cell_type": "code",
      "source": [
        "import pandas as pd"
      ],
      "execution_count": 0,
      "outputs": []
    },
    {
      "metadata": {
        "id": "dAKW4nR9y8Rb",
        "colab_type": "text"
      },
      "cell_type": "markdown",
      "source": [
        "<p style=\"font-family: Arial; font-size:1.75em;color:#2462C0; font-style:bold\">\n",
        "Introduction to pandas Data Structures</p>\n",
        "<br>\n",
        "*pandas* has two main data structures it uses, namely, *Series* and *DataFrames*. \n",
        "\n",
        "<p style=\"font-family: Arial; font-size:1.75em;color:#2462C0; font-style:bold\">\n",
        "pandas Series</p>\n",
        "\n",
        "*pandas Series* one-dimensional labeled array. \n"
      ]
    },
    {
      "metadata": {
        "id": "9jOYiFEoy8Rf",
        "colab_type": "code",
        "colab": {}
      },
      "cell_type": "code",
      "source": [
        "ser = pd.Series([100, 'foo', 300, 'bar', 500], ['tom', 'bob', 'nancy', 'dan', 'eric'])"
      ],
      "execution_count": 0,
      "outputs": []
    },
    {
      "metadata": {
        "id": "WgEi4HWPy8Rl",
        "colab_type": "code",
        "outputId": "cb163b5e-ec33-4b70-889f-5946f3b5f093",
        "colab": {
          "base_uri": "https://localhost:8080/",
          "height": 125
        }
      },
      "cell_type": "code",
      "source": [
        "ser"
      ],
      "execution_count": 0,
      "outputs": [
        {
          "output_type": "execute_result",
          "data": {
            "text/plain": [
              "tom      100\n",
              "bob      foo\n",
              "nancy    300\n",
              "dan      bar\n",
              "eric     500\n",
              "dtype: object"
            ]
          },
          "metadata": {
            "tags": []
          },
          "execution_count": 5
        }
      ]
    },
    {
      "metadata": {
        "id": "4JfHMMBsy8Ro",
        "colab_type": "code",
        "outputId": "b4094038-5f95-444e-ec91-5d3baf3a8736",
        "colab": {
          "base_uri": "https://localhost:8080/",
          "height": 55
        }
      },
      "cell_type": "code",
      "source": [
        "ser.index"
      ],
      "execution_count": 0,
      "outputs": [
        {
          "output_type": "execute_result",
          "data": {
            "text/plain": [
              "Index(['tom', 'bob', 'nancy', 'dan', 'eric'], dtype='object')"
            ]
          },
          "metadata": {
            "tags": []
          },
          "execution_count": 6
        }
      ]
    },
    {
      "metadata": {
        "id": "nhUKD5why8Rq",
        "colab_type": "code",
        "outputId": "449f627e-5023-4213-a344-178878048d8f",
        "colab": {
          "base_uri": "https://localhost:8080/",
          "height": 71
        }
      },
      "cell_type": "code",
      "source": [
        "ser.loc[['nancy','bob']]"
      ],
      "execution_count": 0,
      "outputs": [
        {
          "output_type": "execute_result",
          "data": {
            "text/plain": [
              "nancy    300\n",
              "bob      foo\n",
              "dtype: object"
            ]
          },
          "metadata": {
            "tags": []
          },
          "execution_count": 7
        }
      ]
    },
    {
      "metadata": {
        "id": "2iublJFSy8Rs",
        "colab_type": "code",
        "outputId": "213a9156-a111-47d0-abbe-0648748079aa",
        "colab": {
          "base_uri": "https://localhost:8080/",
          "height": 89
        }
      },
      "cell_type": "code",
      "source": [
        "ser[[4, 3, 1]]"
      ],
      "execution_count": 0,
      "outputs": [
        {
          "output_type": "execute_result",
          "data": {
            "text/plain": [
              "eric    500\n",
              "dan     bar\n",
              "bob     foo\n",
              "dtype: object"
            ]
          },
          "metadata": {
            "tags": []
          },
          "execution_count": 8
        }
      ]
    },
    {
      "metadata": {
        "id": "zr6X0Z56y8Ru",
        "colab_type": "code",
        "outputId": "eee607b6-050a-4f0e-aa56-94cb9cb2404e",
        "colab": {
          "base_uri": "https://localhost:8080/",
          "height": 35
        }
      },
      "cell_type": "code",
      "source": [
        "ser.iloc[2]"
      ],
      "execution_count": 0,
      "outputs": [
        {
          "output_type": "execute_result",
          "data": {
            "text/plain": [
              "300"
            ]
          },
          "metadata": {
            "tags": []
          },
          "execution_count": 9
        }
      ]
    },
    {
      "metadata": {
        "id": "pKdRp_uTy8Rw",
        "colab_type": "code",
        "outputId": "39d9a7c1-dad4-4585-9892-9de5f16244e4",
        "colab": {
          "base_uri": "https://localhost:8080/",
          "height": 35
        }
      },
      "cell_type": "code",
      "source": [
        "'bob' in ser"
      ],
      "execution_count": 0,
      "outputs": [
        {
          "output_type": "execute_result",
          "data": {
            "text/plain": [
              "True"
            ]
          },
          "metadata": {
            "tags": []
          },
          "execution_count": 10
        }
      ]
    },
    {
      "metadata": {
        "id": "Xjbzb126y8Rx",
        "colab_type": "code",
        "outputId": "16242c29-9cde-46f4-bb3e-ef06230c47c0",
        "colab": {
          "base_uri": "https://localhost:8080/",
          "height": 125
        }
      },
      "cell_type": "code",
      "source": [
        "ser"
      ],
      "execution_count": 0,
      "outputs": [
        {
          "output_type": "execute_result",
          "data": {
            "text/plain": [
              "tom      100\n",
              "bob      foo\n",
              "nancy    300\n",
              "dan      bar\n",
              "eric     500\n",
              "dtype: object"
            ]
          },
          "metadata": {
            "tags": []
          },
          "execution_count": 11
        }
      ]
    },
    {
      "metadata": {
        "id": "4gSYQVoJy8Rz",
        "colab_type": "code",
        "outputId": "c9cf506c-1515-4331-823a-ae6dd0c75521",
        "colab": {
          "base_uri": "https://localhost:8080/",
          "height": 125
        }
      },
      "cell_type": "code",
      "source": [
        "ser * 2"
      ],
      "execution_count": 0,
      "outputs": [
        {
          "output_type": "execute_result",
          "data": {
            "text/plain": [
              "tom         200\n",
              "bob      foofoo\n",
              "nancy       600\n",
              "dan      barbar\n",
              "eric       1000\n",
              "dtype: object"
            ]
          },
          "metadata": {
            "tags": []
          },
          "execution_count": 12
        }
      ]
    },
    {
      "metadata": {
        "id": "wutAIhLWy8R1",
        "colab_type": "code",
        "outputId": "fc87e414-3438-4681-fa05-4a3b5f5fab70",
        "colab": {
          "base_uri": "https://localhost:8080/",
          "height": 71
        }
      },
      "cell_type": "code",
      "source": [
        "ser[['nancy', 'eric']] ** 2"
      ],
      "execution_count": 0,
      "outputs": [
        {
          "output_type": "execute_result",
          "data": {
            "text/plain": [
              "nancy     90000\n",
              "eric     250000\n",
              "dtype: object"
            ]
          },
          "metadata": {
            "tags": []
          },
          "execution_count": 13
        }
      ]
    },
    {
      "metadata": {
        "id": "3yLCKnsTy8R2",
        "colab_type": "text"
      },
      "cell_type": "markdown",
      "source": [
        "<p style=\"font-family: Arial; font-size:1.75em;color:#2462C0; font-style:bold\">\n",
        "pandas DataFrame</p>\n",
        "\n",
        "*pandas DataFrame* is a 2-dimensional labeled data structure."
      ]
    },
    {
      "metadata": {
        "id": "qIx_dayAy8R4",
        "colab_type": "text"
      },
      "cell_type": "markdown",
      "source": [
        "<p style=\"font-family: Arial; font-size:1.25em;color:#2462C0; font-style:bold\">\n",
        "Create DataFrame from dictionary of Python Series</p>"
      ]
    },
    {
      "metadata": {
        "id": "DDwut2R-y8R6",
        "colab_type": "code",
        "colab": {}
      },
      "cell_type": "code",
      "source": [
        "d = {'one' : pd.Series([100., 200., 300.], index=['apple', 'ball', 'clock']),\n",
        "     'two' : pd.Series([111., 222., 333., 4444.], index=['apple', 'ball', 'cerill', 'dancy'])}"
      ],
      "execution_count": 0,
      "outputs": []
    },
    {
      "metadata": {
        "id": "MtZdOYv-y8R_",
        "colab_type": "code",
        "outputId": "abd64c3b-ef18-4e3c-d557-a156efd0bbf6",
        "colab": {
          "base_uri": "https://localhost:8080/",
          "height": 125
        }
      },
      "cell_type": "code",
      "source": [
        "df = pd.DataFrame(d)\n",
        "print(df)"
      ],
      "execution_count": 0,
      "outputs": [
        {
          "output_type": "stream",
          "text": [
            "          one     two\n",
            "apple   100.0   111.0\n",
            "ball    200.0   222.0\n",
            "cerill    NaN   333.0\n",
            "clock   300.0     NaN\n",
            "dancy     NaN  4444.0\n"
          ],
          "name": "stdout"
        }
      ]
    },
    {
      "metadata": {
        "id": "S-UrcIUTy8SA",
        "colab_type": "code",
        "outputId": "b8e529a3-af49-4a67-be80-2ecd9a2c286f",
        "colab": {
          "base_uri": "https://localhost:8080/",
          "height": 55
        }
      },
      "cell_type": "code",
      "source": [
        "df.index"
      ],
      "execution_count": 0,
      "outputs": [
        {
          "output_type": "execute_result",
          "data": {
            "text/plain": [
              "Index(['apple', 'ball', 'cerill', 'clock', 'dancy'], dtype='object')"
            ]
          },
          "metadata": {
            "tags": []
          },
          "execution_count": 16
        }
      ]
    },
    {
      "metadata": {
        "id": "nzOX6fOay8SB",
        "colab_type": "code",
        "outputId": "a514de49-421d-4602-b0d8-5cfccd6b4e02",
        "colab": {
          "base_uri": "https://localhost:8080/",
          "height": 55
        }
      },
      "cell_type": "code",
      "source": [
        "df.columns"
      ],
      "execution_count": 0,
      "outputs": [
        {
          "output_type": "execute_result",
          "data": {
            "text/plain": [
              "Index(['one', 'two'], dtype='object')"
            ]
          },
          "metadata": {
            "tags": []
          },
          "execution_count": 17
        }
      ]
    },
    {
      "metadata": {
        "id": "Z_QJcUMwy8SD",
        "colab_type": "code",
        "outputId": "6e8b8831-9043-4bc4-ac64-c1fc675dc54d",
        "colab": {
          "base_uri": "https://localhost:8080/",
          "height": 142
        }
      },
      "cell_type": "code",
      "source": [
        "pd.DataFrame(d, index=['dancy', 'ball', 'apple'])"
      ],
      "execution_count": 0,
      "outputs": [
        {
          "output_type": "execute_result",
          "data": {
            "text/html": [
              "<div>\n",
              "<style scoped>\n",
              "    .dataframe tbody tr th:only-of-type {\n",
              "        vertical-align: middle;\n",
              "    }\n",
              "\n",
              "    .dataframe tbody tr th {\n",
              "        vertical-align: top;\n",
              "    }\n",
              "\n",
              "    .dataframe thead th {\n",
              "        text-align: right;\n",
              "    }\n",
              "</style>\n",
              "<table border=\"1\" class=\"dataframe\">\n",
              "  <thead>\n",
              "    <tr style=\"text-align: right;\">\n",
              "      <th></th>\n",
              "      <th>one</th>\n",
              "      <th>two</th>\n",
              "    </tr>\n",
              "  </thead>\n",
              "  <tbody>\n",
              "    <tr>\n",
              "      <th>dancy</th>\n",
              "      <td>NaN</td>\n",
              "      <td>4444.0</td>\n",
              "    </tr>\n",
              "    <tr>\n",
              "      <th>ball</th>\n",
              "      <td>200.0</td>\n",
              "      <td>222.0</td>\n",
              "    </tr>\n",
              "    <tr>\n",
              "      <th>apple</th>\n",
              "      <td>100.0</td>\n",
              "      <td>111.0</td>\n",
              "    </tr>\n",
              "  </tbody>\n",
              "</table>\n",
              "</div>"
            ],
            "text/plain": [
              "         one     two\n",
              "dancy    NaN  4444.0\n",
              "ball   200.0   222.0\n",
              "apple  100.0   111.0"
            ]
          },
          "metadata": {
            "tags": []
          },
          "execution_count": 18
        }
      ]
    },
    {
      "metadata": {
        "id": "zejYnQxiy8SE",
        "colab_type": "code",
        "outputId": "08e5ff9d-730e-4427-c76e-287c14b2f37b",
        "colab": {
          "base_uri": "https://localhost:8080/",
          "height": 142
        }
      },
      "cell_type": "code",
      "source": [
        "pd.DataFrame(d, index=['dancy', 'ball', 'apple'], columns=['two', 'five'])"
      ],
      "execution_count": 0,
      "outputs": [
        {
          "output_type": "execute_result",
          "data": {
            "text/html": [
              "<div>\n",
              "<style scoped>\n",
              "    .dataframe tbody tr th:only-of-type {\n",
              "        vertical-align: middle;\n",
              "    }\n",
              "\n",
              "    .dataframe tbody tr th {\n",
              "        vertical-align: top;\n",
              "    }\n",
              "\n",
              "    .dataframe thead th {\n",
              "        text-align: right;\n",
              "    }\n",
              "</style>\n",
              "<table border=\"1\" class=\"dataframe\">\n",
              "  <thead>\n",
              "    <tr style=\"text-align: right;\">\n",
              "      <th></th>\n",
              "      <th>two</th>\n",
              "      <th>five</th>\n",
              "    </tr>\n",
              "  </thead>\n",
              "  <tbody>\n",
              "    <tr>\n",
              "      <th>dancy</th>\n",
              "      <td>4444.0</td>\n",
              "      <td>NaN</td>\n",
              "    </tr>\n",
              "    <tr>\n",
              "      <th>ball</th>\n",
              "      <td>222.0</td>\n",
              "      <td>NaN</td>\n",
              "    </tr>\n",
              "    <tr>\n",
              "      <th>apple</th>\n",
              "      <td>111.0</td>\n",
              "      <td>NaN</td>\n",
              "    </tr>\n",
              "  </tbody>\n",
              "</table>\n",
              "</div>"
            ],
            "text/plain": [
              "          two five\n",
              "dancy  4444.0  NaN\n",
              "ball    222.0  NaN\n",
              "apple   111.0  NaN"
            ]
          },
          "metadata": {
            "tags": []
          },
          "execution_count": 19
        }
      ]
    },
    {
      "metadata": {
        "id": "i9R49gPJy8SF",
        "colab_type": "text"
      },
      "cell_type": "markdown",
      "source": [
        "<p style=\"font-family: Arial; font-size:1.25em;color:#2462C0; font-style:bold\">\n",
        "Create DataFrame from list of Python dictionaries</p>"
      ]
    },
    {
      "metadata": {
        "id": "OLGp0wusy8SF",
        "colab_type": "code",
        "colab": {}
      },
      "cell_type": "code",
      "source": [
        "data = [{'alex': 1, 'joe': 2}, {'ema': 5, 'dora': 10, 'alice': 20}]"
      ],
      "execution_count": 0,
      "outputs": []
    },
    {
      "metadata": {
        "id": "sZEZeJo9y8SG",
        "colab_type": "code",
        "outputId": "62a9a70f-728b-499c-cf7f-1eee9d49010b",
        "colab": {
          "base_uri": "https://localhost:8080/",
          "height": 111
        }
      },
      "cell_type": "code",
      "source": [
        "pd.DataFrame(data)"
      ],
      "execution_count": 0,
      "outputs": [
        {
          "output_type": "execute_result",
          "data": {
            "text/html": [
              "<div>\n",
              "<style scoped>\n",
              "    .dataframe tbody tr th:only-of-type {\n",
              "        vertical-align: middle;\n",
              "    }\n",
              "\n",
              "    .dataframe tbody tr th {\n",
              "        vertical-align: top;\n",
              "    }\n",
              "\n",
              "    .dataframe thead th {\n",
              "        text-align: right;\n",
              "    }\n",
              "</style>\n",
              "<table border=\"1\" class=\"dataframe\">\n",
              "  <thead>\n",
              "    <tr style=\"text-align: right;\">\n",
              "      <th></th>\n",
              "      <th>alex</th>\n",
              "      <th>alice</th>\n",
              "      <th>dora</th>\n",
              "      <th>ema</th>\n",
              "      <th>joe</th>\n",
              "    </tr>\n",
              "  </thead>\n",
              "  <tbody>\n",
              "    <tr>\n",
              "      <th>0</th>\n",
              "      <td>1.0</td>\n",
              "      <td>NaN</td>\n",
              "      <td>NaN</td>\n",
              "      <td>NaN</td>\n",
              "      <td>2.0</td>\n",
              "    </tr>\n",
              "    <tr>\n",
              "      <th>1</th>\n",
              "      <td>NaN</td>\n",
              "      <td>20.0</td>\n",
              "      <td>10.0</td>\n",
              "      <td>5.0</td>\n",
              "      <td>NaN</td>\n",
              "    </tr>\n",
              "  </tbody>\n",
              "</table>\n",
              "</div>"
            ],
            "text/plain": [
              "   alex  alice  dora  ema  joe\n",
              "0   1.0    NaN   NaN  NaN  2.0\n",
              "1   NaN   20.0  10.0  5.0  NaN"
            ]
          },
          "metadata": {
            "tags": []
          },
          "execution_count": 21
        }
      ]
    },
    {
      "metadata": {
        "id": "FMPSUBDdy8SI",
        "colab_type": "code",
        "outputId": "9f35848e-14c5-4c16-9d7b-731c0426019c",
        "colab": {
          "base_uri": "https://localhost:8080/",
          "height": 131
        }
      },
      "cell_type": "code",
      "source": [
        "pd.DataFrame(data, index=['orange', 'red'])"
      ],
      "execution_count": 0,
      "outputs": [
        {
          "output_type": "execute_result",
          "data": {
            "text/html": [
              "<div>\n",
              "<style scoped>\n",
              "    .dataframe tbody tr th:only-of-type {\n",
              "        vertical-align: middle;\n",
              "    }\n",
              "\n",
              "    .dataframe tbody tr th {\n",
              "        vertical-align: top;\n",
              "    }\n",
              "\n",
              "    .dataframe thead th {\n",
              "        text-align: right;\n",
              "    }\n",
              "</style>\n",
              "<table border=\"1\" class=\"dataframe\">\n",
              "  <thead>\n",
              "    <tr style=\"text-align: right;\">\n",
              "      <th></th>\n",
              "      <th>alex</th>\n",
              "      <th>alice</th>\n",
              "      <th>dora</th>\n",
              "      <th>ema</th>\n",
              "      <th>joe</th>\n",
              "    </tr>\n",
              "  </thead>\n",
              "  <tbody>\n",
              "    <tr>\n",
              "      <th>orange</th>\n",
              "      <td>1.0</td>\n",
              "      <td>NaN</td>\n",
              "      <td>NaN</td>\n",
              "      <td>NaN</td>\n",
              "      <td>2.0</td>\n",
              "    </tr>\n",
              "    <tr>\n",
              "      <th>red</th>\n",
              "      <td>NaN</td>\n",
              "      <td>20.0</td>\n",
              "      <td>10.0</td>\n",
              "      <td>5.0</td>\n",
              "      <td>NaN</td>\n",
              "    </tr>\n",
              "  </tbody>\n",
              "</table>\n",
              "</div>"
            ],
            "text/plain": [
              "        alex  alice  dora  ema  joe\n",
              "orange   1.0    NaN   NaN  NaN  2.0\n",
              "red      NaN   20.0  10.0  5.0  NaN"
            ]
          },
          "metadata": {
            "tags": []
          },
          "execution_count": 22
        }
      ]
    },
    {
      "metadata": {
        "id": "_aS0_bpZy8SI",
        "colab_type": "code",
        "outputId": "5eda5eff-d0a9-49a4-f920-4483ed43150c",
        "colab": {
          "base_uri": "https://localhost:8080/",
          "height": 111
        }
      },
      "cell_type": "code",
      "source": [
        "pd.DataFrame(data, columns=['joe', 'dora','alice'])"
      ],
      "execution_count": 0,
      "outputs": [
        {
          "output_type": "execute_result",
          "data": {
            "text/html": [
              "<div>\n",
              "<style scoped>\n",
              "    .dataframe tbody tr th:only-of-type {\n",
              "        vertical-align: middle;\n",
              "    }\n",
              "\n",
              "    .dataframe tbody tr th {\n",
              "        vertical-align: top;\n",
              "    }\n",
              "\n",
              "    .dataframe thead th {\n",
              "        text-align: right;\n",
              "    }\n",
              "</style>\n",
              "<table border=\"1\" class=\"dataframe\">\n",
              "  <thead>\n",
              "    <tr style=\"text-align: right;\">\n",
              "      <th></th>\n",
              "      <th>joe</th>\n",
              "      <th>dora</th>\n",
              "      <th>alice</th>\n",
              "    </tr>\n",
              "  </thead>\n",
              "  <tbody>\n",
              "    <tr>\n",
              "      <th>0</th>\n",
              "      <td>2.0</td>\n",
              "      <td>NaN</td>\n",
              "      <td>NaN</td>\n",
              "    </tr>\n",
              "    <tr>\n",
              "      <th>1</th>\n",
              "      <td>NaN</td>\n",
              "      <td>10.0</td>\n",
              "      <td>20.0</td>\n",
              "    </tr>\n",
              "  </tbody>\n",
              "</table>\n",
              "</div>"
            ],
            "text/plain": [
              "   joe  dora  alice\n",
              "0  2.0   NaN    NaN\n",
              "1  NaN  10.0   20.0"
            ]
          },
          "metadata": {
            "tags": []
          },
          "execution_count": 23
        }
      ]
    },
    {
      "metadata": {
        "id": "zolbOvBOy8SJ",
        "colab_type": "text"
      },
      "cell_type": "markdown",
      "source": [
        "<p style=\"font-family: Arial; font-size:1.25em;color:#2462C0; font-style:bold\">\n",
        "Basic DataFrame operations</p>"
      ]
    },
    {
      "metadata": {
        "id": "n1z6QE0Dy8SK",
        "colab_type": "code",
        "outputId": "3727c0b1-8127-48ac-86c5-7520d8267904",
        "colab": {
          "base_uri": "https://localhost:8080/",
          "height": 204
        }
      },
      "cell_type": "code",
      "source": [
        "df"
      ],
      "execution_count": 0,
      "outputs": [
        {
          "output_type": "execute_result",
          "data": {
            "text/html": [
              "<div>\n",
              "<style scoped>\n",
              "    .dataframe tbody tr th:only-of-type {\n",
              "        vertical-align: middle;\n",
              "    }\n",
              "\n",
              "    .dataframe tbody tr th {\n",
              "        vertical-align: top;\n",
              "    }\n",
              "\n",
              "    .dataframe thead th {\n",
              "        text-align: right;\n",
              "    }\n",
              "</style>\n",
              "<table border=\"1\" class=\"dataframe\">\n",
              "  <thead>\n",
              "    <tr style=\"text-align: right;\">\n",
              "      <th></th>\n",
              "      <th>one</th>\n",
              "      <th>two</th>\n",
              "    </tr>\n",
              "  </thead>\n",
              "  <tbody>\n",
              "    <tr>\n",
              "      <th>apple</th>\n",
              "      <td>100.0</td>\n",
              "      <td>111.0</td>\n",
              "    </tr>\n",
              "    <tr>\n",
              "      <th>ball</th>\n",
              "      <td>200.0</td>\n",
              "      <td>222.0</td>\n",
              "    </tr>\n",
              "    <tr>\n",
              "      <th>cerill</th>\n",
              "      <td>NaN</td>\n",
              "      <td>333.0</td>\n",
              "    </tr>\n",
              "    <tr>\n",
              "      <th>clock</th>\n",
              "      <td>300.0</td>\n",
              "      <td>NaN</td>\n",
              "    </tr>\n",
              "    <tr>\n",
              "      <th>dancy</th>\n",
              "      <td>NaN</td>\n",
              "      <td>4444.0</td>\n",
              "    </tr>\n",
              "  </tbody>\n",
              "</table>\n",
              "</div>"
            ],
            "text/plain": [
              "          one     two\n",
              "apple   100.0   111.0\n",
              "ball    200.0   222.0\n",
              "cerill    NaN   333.0\n",
              "clock   300.0     NaN\n",
              "dancy     NaN  4444.0"
            ]
          },
          "metadata": {
            "tags": []
          },
          "execution_count": 24
        }
      ]
    },
    {
      "metadata": {
        "id": "oVC9GwPSy8SL",
        "colab_type": "code",
        "outputId": "a111efef-47e8-412a-c282-79288e2a5802",
        "colab": {
          "base_uri": "https://localhost:8080/",
          "height": 125
        }
      },
      "cell_type": "code",
      "source": [
        "df['one']"
      ],
      "execution_count": 0,
      "outputs": [
        {
          "output_type": "execute_result",
          "data": {
            "text/plain": [
              "apple     100.0\n",
              "ball      200.0\n",
              "cerill      NaN\n",
              "clock     300.0\n",
              "dancy       NaN\n",
              "Name: one, dtype: float64"
            ]
          },
          "metadata": {
            "tags": []
          },
          "execution_count": 25
        }
      ]
    },
    {
      "metadata": {
        "id": "f8Y0qo7ey8SM",
        "colab_type": "code",
        "outputId": "0398ec6f-ffb8-4f75-b28e-44f631eba7bd",
        "colab": {
          "base_uri": "https://localhost:8080/",
          "height": 204
        }
      },
      "cell_type": "code",
      "source": [
        "df['three'] = df['one'] * df['two']\n",
        "df"
      ],
      "execution_count": 0,
      "outputs": [
        {
          "output_type": "execute_result",
          "data": {
            "text/html": [
              "<div>\n",
              "<style scoped>\n",
              "    .dataframe tbody tr th:only-of-type {\n",
              "        vertical-align: middle;\n",
              "    }\n",
              "\n",
              "    .dataframe tbody tr th {\n",
              "        vertical-align: top;\n",
              "    }\n",
              "\n",
              "    .dataframe thead th {\n",
              "        text-align: right;\n",
              "    }\n",
              "</style>\n",
              "<table border=\"1\" class=\"dataframe\">\n",
              "  <thead>\n",
              "    <tr style=\"text-align: right;\">\n",
              "      <th></th>\n",
              "      <th>one</th>\n",
              "      <th>two</th>\n",
              "      <th>three</th>\n",
              "    </tr>\n",
              "  </thead>\n",
              "  <tbody>\n",
              "    <tr>\n",
              "      <th>apple</th>\n",
              "      <td>100.0</td>\n",
              "      <td>111.0</td>\n",
              "      <td>11100.0</td>\n",
              "    </tr>\n",
              "    <tr>\n",
              "      <th>ball</th>\n",
              "      <td>200.0</td>\n",
              "      <td>222.0</td>\n",
              "      <td>44400.0</td>\n",
              "    </tr>\n",
              "    <tr>\n",
              "      <th>cerill</th>\n",
              "      <td>NaN</td>\n",
              "      <td>333.0</td>\n",
              "      <td>NaN</td>\n",
              "    </tr>\n",
              "    <tr>\n",
              "      <th>clock</th>\n",
              "      <td>300.0</td>\n",
              "      <td>NaN</td>\n",
              "      <td>NaN</td>\n",
              "    </tr>\n",
              "    <tr>\n",
              "      <th>dancy</th>\n",
              "      <td>NaN</td>\n",
              "      <td>4444.0</td>\n",
              "      <td>NaN</td>\n",
              "    </tr>\n",
              "  </tbody>\n",
              "</table>\n",
              "</div>"
            ],
            "text/plain": [
              "          one     two    three\n",
              "apple   100.0   111.0  11100.0\n",
              "ball    200.0   222.0  44400.0\n",
              "cerill    NaN   333.0      NaN\n",
              "clock   300.0     NaN      NaN\n",
              "dancy     NaN  4444.0      NaN"
            ]
          },
          "metadata": {
            "tags": []
          },
          "execution_count": 26
        }
      ]
    },
    {
      "metadata": {
        "id": "G1hGK9Tay8SN",
        "colab_type": "code",
        "outputId": "07894b7a-902a-428f-9877-1a0c596d81ab",
        "colab": {
          "base_uri": "https://localhost:8080/",
          "height": 204
        }
      },
      "cell_type": "code",
      "source": [
        "df['flag'] = df['one'] > 250\n",
        "df"
      ],
      "execution_count": 0,
      "outputs": [
        {
          "output_type": "execute_result",
          "data": {
            "text/html": [
              "<div>\n",
              "<style scoped>\n",
              "    .dataframe tbody tr th:only-of-type {\n",
              "        vertical-align: middle;\n",
              "    }\n",
              "\n",
              "    .dataframe tbody tr th {\n",
              "        vertical-align: top;\n",
              "    }\n",
              "\n",
              "    .dataframe thead th {\n",
              "        text-align: right;\n",
              "    }\n",
              "</style>\n",
              "<table border=\"1\" class=\"dataframe\">\n",
              "  <thead>\n",
              "    <tr style=\"text-align: right;\">\n",
              "      <th></th>\n",
              "      <th>one</th>\n",
              "      <th>two</th>\n",
              "      <th>three</th>\n",
              "      <th>flag</th>\n",
              "    </tr>\n",
              "  </thead>\n",
              "  <tbody>\n",
              "    <tr>\n",
              "      <th>apple</th>\n",
              "      <td>100.0</td>\n",
              "      <td>111.0</td>\n",
              "      <td>11100.0</td>\n",
              "      <td>False</td>\n",
              "    </tr>\n",
              "    <tr>\n",
              "      <th>ball</th>\n",
              "      <td>200.0</td>\n",
              "      <td>222.0</td>\n",
              "      <td>44400.0</td>\n",
              "      <td>False</td>\n",
              "    </tr>\n",
              "    <tr>\n",
              "      <th>cerill</th>\n",
              "      <td>NaN</td>\n",
              "      <td>333.0</td>\n",
              "      <td>NaN</td>\n",
              "      <td>False</td>\n",
              "    </tr>\n",
              "    <tr>\n",
              "      <th>clock</th>\n",
              "      <td>300.0</td>\n",
              "      <td>NaN</td>\n",
              "      <td>NaN</td>\n",
              "      <td>True</td>\n",
              "    </tr>\n",
              "    <tr>\n",
              "      <th>dancy</th>\n",
              "      <td>NaN</td>\n",
              "      <td>4444.0</td>\n",
              "      <td>NaN</td>\n",
              "      <td>False</td>\n",
              "    </tr>\n",
              "  </tbody>\n",
              "</table>\n",
              "</div>"
            ],
            "text/plain": [
              "          one     two    three   flag\n",
              "apple   100.0   111.0  11100.0  False\n",
              "ball    200.0   222.0  44400.0  False\n",
              "cerill    NaN   333.0      NaN  False\n",
              "clock   300.0     NaN      NaN   True\n",
              "dancy     NaN  4444.0      NaN  False"
            ]
          },
          "metadata": {
            "tags": []
          },
          "execution_count": 27
        }
      ]
    },
    {
      "metadata": {
        "id": "FHiE67tay8SO",
        "colab_type": "code",
        "colab": {}
      },
      "cell_type": "code",
      "source": [
        "three = df.pop('three')"
      ],
      "execution_count": 0,
      "outputs": []
    },
    {
      "metadata": {
        "id": "Tsbqb3C7y8SQ",
        "colab_type": "code",
        "outputId": "7b089bff-660b-4133-9c1c-82880d125a1c",
        "colab": {
          "base_uri": "https://localhost:8080/",
          "height": 125
        }
      },
      "cell_type": "code",
      "source": [
        "three"
      ],
      "execution_count": 0,
      "outputs": [
        {
          "output_type": "execute_result",
          "data": {
            "text/plain": [
              "apple     11100.0\n",
              "ball      44400.0\n",
              "cerill        NaN\n",
              "clock         NaN\n",
              "dancy         NaN\n",
              "Name: three, dtype: float64"
            ]
          },
          "metadata": {
            "tags": []
          },
          "execution_count": 29
        }
      ]
    },
    {
      "metadata": {
        "id": "x9ysmz6Jy8SU",
        "colab_type": "code",
        "outputId": "a10444e8-39b7-4a34-b3a7-60fa69f33961",
        "colab": {
          "base_uri": "https://localhost:8080/",
          "height": 204
        }
      },
      "cell_type": "code",
      "source": [
        "df"
      ],
      "execution_count": 0,
      "outputs": [
        {
          "output_type": "execute_result",
          "data": {
            "text/html": [
              "<div>\n",
              "<style scoped>\n",
              "    .dataframe tbody tr th:only-of-type {\n",
              "        vertical-align: middle;\n",
              "    }\n",
              "\n",
              "    .dataframe tbody tr th {\n",
              "        vertical-align: top;\n",
              "    }\n",
              "\n",
              "    .dataframe thead th {\n",
              "        text-align: right;\n",
              "    }\n",
              "</style>\n",
              "<table border=\"1\" class=\"dataframe\">\n",
              "  <thead>\n",
              "    <tr style=\"text-align: right;\">\n",
              "      <th></th>\n",
              "      <th>one</th>\n",
              "      <th>two</th>\n",
              "      <th>flag</th>\n",
              "    </tr>\n",
              "  </thead>\n",
              "  <tbody>\n",
              "    <tr>\n",
              "      <th>apple</th>\n",
              "      <td>100.0</td>\n",
              "      <td>111.0</td>\n",
              "      <td>False</td>\n",
              "    </tr>\n",
              "    <tr>\n",
              "      <th>ball</th>\n",
              "      <td>200.0</td>\n",
              "      <td>222.0</td>\n",
              "      <td>False</td>\n",
              "    </tr>\n",
              "    <tr>\n",
              "      <th>cerill</th>\n",
              "      <td>NaN</td>\n",
              "      <td>333.0</td>\n",
              "      <td>False</td>\n",
              "    </tr>\n",
              "    <tr>\n",
              "      <th>clock</th>\n",
              "      <td>300.0</td>\n",
              "      <td>NaN</td>\n",
              "      <td>True</td>\n",
              "    </tr>\n",
              "    <tr>\n",
              "      <th>dancy</th>\n",
              "      <td>NaN</td>\n",
              "      <td>4444.0</td>\n",
              "      <td>False</td>\n",
              "    </tr>\n",
              "  </tbody>\n",
              "</table>\n",
              "</div>"
            ],
            "text/plain": [
              "          one     two   flag\n",
              "apple   100.0   111.0  False\n",
              "ball    200.0   222.0  False\n",
              "cerill    NaN   333.0  False\n",
              "clock   300.0     NaN   True\n",
              "dancy     NaN  4444.0  False"
            ]
          },
          "metadata": {
            "tags": []
          },
          "execution_count": 30
        }
      ]
    },
    {
      "metadata": {
        "id": "gwb2UGl0y8SZ",
        "colab_type": "code",
        "outputId": "f8637fee-f4ea-4ca2-9235-9e977daf18aa",
        "colab": {
          "base_uri": "https://localhost:8080/",
          "height": 1600
        }
      },
      "cell_type": "code",
      "source": [
        "del df['two']"
      ],
      "execution_count": 0,
      "outputs": [
        {
          "output_type": "error",
          "ename": "KeyError",
          "evalue": "ignored",
          "traceback": [
            "\u001b[0;31m---------------------------------------------------------------------------\u001b[0m",
            "\u001b[0;31mKeyError\u001b[0m                                  Traceback (most recent call last)",
            "\u001b[0;32m/usr/local/lib/python3.6/dist-packages/pandas/core/indexes/base.py\u001b[0m in \u001b[0;36mget_loc\u001b[0;34m(self, key, method, tolerance)\u001b[0m\n\u001b[1;32m   2524\u001b[0m             \u001b[0;32mtry\u001b[0m\u001b[0;34m:\u001b[0m\u001b[0;34m\u001b[0m\u001b[0;34m\u001b[0m\u001b[0m\n\u001b[0;32m-> 2525\u001b[0;31m                 \u001b[0;32mreturn\u001b[0m \u001b[0mself\u001b[0m\u001b[0;34m.\u001b[0m\u001b[0m_engine\u001b[0m\u001b[0;34m.\u001b[0m\u001b[0mget_loc\u001b[0m\u001b[0;34m(\u001b[0m\u001b[0mkey\u001b[0m\u001b[0;34m)\u001b[0m\u001b[0;34m\u001b[0m\u001b[0;34m\u001b[0m\u001b[0m\n\u001b[0m\u001b[1;32m   2526\u001b[0m             \u001b[0;32mexcept\u001b[0m \u001b[0mKeyError\u001b[0m\u001b[0;34m:\u001b[0m\u001b[0;34m\u001b[0m\u001b[0;34m\u001b[0m\u001b[0m\n",
            "\u001b[0;32mpandas/_libs/index.pyx\u001b[0m in \u001b[0;36mpandas._libs.index.IndexEngine.get_loc\u001b[0;34m()\u001b[0m\n",
            "\u001b[0;32mpandas/_libs/index.pyx\u001b[0m in \u001b[0;36mpandas._libs.index.IndexEngine.get_loc\u001b[0;34m()\u001b[0m\n",
            "\u001b[0;32mpandas/_libs/hashtable_class_helper.pxi\u001b[0m in \u001b[0;36mpandas._libs.hashtable.PyObjectHashTable.get_item\u001b[0;34m()\u001b[0m\n",
            "\u001b[0;32mpandas/_libs/hashtable_class_helper.pxi\u001b[0m in \u001b[0;36mpandas._libs.hashtable.PyObjectHashTable.get_item\u001b[0;34m()\u001b[0m\n",
            "\u001b[0;31mKeyError\u001b[0m: 'two'",
            "\nDuring handling of the above exception, another exception occurred:\n",
            "\u001b[0;31mKeyError\u001b[0m                                  Traceback (most recent call last)",
            "\u001b[0;32m<ipython-input-32-63e9919bacc4>\u001b[0m in \u001b[0;36m<module>\u001b[0;34m()\u001b[0m\n\u001b[0;32m----> 1\u001b[0;31m \u001b[0;32mdel\u001b[0m \u001b[0mdf\u001b[0m\u001b[0;34m[\u001b[0m\u001b[0;34m'two'\u001b[0m\u001b[0;34m]\u001b[0m\u001b[0;34m\u001b[0m\u001b[0;34m\u001b[0m\u001b[0m\n\u001b[0m",
            "\u001b[0;32m/usr/local/lib/python3.6/dist-packages/pandas/core/generic.py\u001b[0m in \u001b[0;36m__delitem__\u001b[0;34m(self, key)\u001b[0m\n\u001b[1;32m   2094\u001b[0m             \u001b[0;31m# there was no match, this call should raise the appropriate\u001b[0m\u001b[0;34m\u001b[0m\u001b[0;34m\u001b[0m\u001b[0;34m\u001b[0m\u001b[0m\n\u001b[1;32m   2095\u001b[0m             \u001b[0;31m# exception:\u001b[0m\u001b[0;34m\u001b[0m\u001b[0;34m\u001b[0m\u001b[0;34m\u001b[0m\u001b[0m\n\u001b[0;32m-> 2096\u001b[0;31m             \u001b[0mself\u001b[0m\u001b[0;34m.\u001b[0m\u001b[0m_data\u001b[0m\u001b[0;34m.\u001b[0m\u001b[0mdelete\u001b[0m\u001b[0;34m(\u001b[0m\u001b[0mkey\u001b[0m\u001b[0;34m)\u001b[0m\u001b[0;34m\u001b[0m\u001b[0;34m\u001b[0m\u001b[0m\n\u001b[0m\u001b[1;32m   2097\u001b[0m \u001b[0;34m\u001b[0m\u001b[0m\n\u001b[1;32m   2098\u001b[0m         \u001b[0;31m# delete from the caches\u001b[0m\u001b[0;34m\u001b[0m\u001b[0;34m\u001b[0m\u001b[0;34m\u001b[0m\u001b[0m\n",
            "\u001b[0;32m/usr/local/lib/python3.6/dist-packages/pandas/core/internals.py\u001b[0m in \u001b[0;36mdelete\u001b[0;34m(self, item)\u001b[0m\n\u001b[1;32m   3900\u001b[0m         \u001b[0mDelete\u001b[0m \u001b[0mselected\u001b[0m \u001b[0mitem\u001b[0m \u001b[0;34m(\u001b[0m\u001b[0mitems\u001b[0m \u001b[0;32mif\u001b[0m \u001b[0mnon\u001b[0m\u001b[0;34m-\u001b[0m\u001b[0munique\u001b[0m\u001b[0;34m)\u001b[0m \u001b[0;32min\u001b[0m\u001b[0;34m-\u001b[0m\u001b[0mplace\u001b[0m\u001b[0;34m.\u001b[0m\u001b[0;34m\u001b[0m\u001b[0;34m\u001b[0m\u001b[0m\n\u001b[1;32m   3901\u001b[0m         \"\"\"\n\u001b[0;32m-> 3902\u001b[0;31m         \u001b[0mindexer\u001b[0m \u001b[0;34m=\u001b[0m \u001b[0mself\u001b[0m\u001b[0;34m.\u001b[0m\u001b[0mitems\u001b[0m\u001b[0;34m.\u001b[0m\u001b[0mget_loc\u001b[0m\u001b[0;34m(\u001b[0m\u001b[0mitem\u001b[0m\u001b[0;34m)\u001b[0m\u001b[0;34m\u001b[0m\u001b[0;34m\u001b[0m\u001b[0m\n\u001b[0m\u001b[1;32m   3903\u001b[0m \u001b[0;34m\u001b[0m\u001b[0m\n\u001b[1;32m   3904\u001b[0m         \u001b[0mis_deleted\u001b[0m \u001b[0;34m=\u001b[0m \u001b[0mnp\u001b[0m\u001b[0;34m.\u001b[0m\u001b[0mzeros\u001b[0m\u001b[0;34m(\u001b[0m\u001b[0mself\u001b[0m\u001b[0;34m.\u001b[0m\u001b[0mshape\u001b[0m\u001b[0;34m[\u001b[0m\u001b[0;36m0\u001b[0m\u001b[0;34m]\u001b[0m\u001b[0;34m,\u001b[0m \u001b[0mdtype\u001b[0m\u001b[0;34m=\u001b[0m\u001b[0mnp\u001b[0m\u001b[0;34m.\u001b[0m\u001b[0mbool_\u001b[0m\u001b[0;34m)\u001b[0m\u001b[0;34m\u001b[0m\u001b[0;34m\u001b[0m\u001b[0m\n",
            "\u001b[0;32m/usr/local/lib/python3.6/dist-packages/pandas/core/indexes/base.py\u001b[0m in \u001b[0;36mget_loc\u001b[0;34m(self, key, method, tolerance)\u001b[0m\n\u001b[1;32m   2525\u001b[0m                 \u001b[0;32mreturn\u001b[0m \u001b[0mself\u001b[0m\u001b[0;34m.\u001b[0m\u001b[0m_engine\u001b[0m\u001b[0;34m.\u001b[0m\u001b[0mget_loc\u001b[0m\u001b[0;34m(\u001b[0m\u001b[0mkey\u001b[0m\u001b[0;34m)\u001b[0m\u001b[0;34m\u001b[0m\u001b[0;34m\u001b[0m\u001b[0m\n\u001b[1;32m   2526\u001b[0m             \u001b[0;32mexcept\u001b[0m \u001b[0mKeyError\u001b[0m\u001b[0;34m:\u001b[0m\u001b[0;34m\u001b[0m\u001b[0;34m\u001b[0m\u001b[0m\n\u001b[0;32m-> 2527\u001b[0;31m                 \u001b[0;32mreturn\u001b[0m \u001b[0mself\u001b[0m\u001b[0;34m.\u001b[0m\u001b[0m_engine\u001b[0m\u001b[0;34m.\u001b[0m\u001b[0mget_loc\u001b[0m\u001b[0;34m(\u001b[0m\u001b[0mself\u001b[0m\u001b[0;34m.\u001b[0m\u001b[0m_maybe_cast_indexer\u001b[0m\u001b[0;34m(\u001b[0m\u001b[0mkey\u001b[0m\u001b[0;34m)\u001b[0m\u001b[0;34m)\u001b[0m\u001b[0;34m\u001b[0m\u001b[0;34m\u001b[0m\u001b[0m\n\u001b[0m\u001b[1;32m   2528\u001b[0m \u001b[0;34m\u001b[0m\u001b[0m\n\u001b[1;32m   2529\u001b[0m         \u001b[0mindexer\u001b[0m \u001b[0;34m=\u001b[0m \u001b[0mself\u001b[0m\u001b[0;34m.\u001b[0m\u001b[0mget_indexer\u001b[0m\u001b[0;34m(\u001b[0m\u001b[0;34m[\u001b[0m\u001b[0mkey\u001b[0m\u001b[0;34m]\u001b[0m\u001b[0;34m,\u001b[0m \u001b[0mmethod\u001b[0m\u001b[0;34m=\u001b[0m\u001b[0mmethod\u001b[0m\u001b[0;34m,\u001b[0m \u001b[0mtolerance\u001b[0m\u001b[0;34m=\u001b[0m\u001b[0mtolerance\u001b[0m\u001b[0;34m)\u001b[0m\u001b[0;34m\u001b[0m\u001b[0;34m\u001b[0m\u001b[0m\n",
            "\u001b[0;32mpandas/_libs/index.pyx\u001b[0m in \u001b[0;36mpandas._libs.index.IndexEngine.get_loc\u001b[0;34m()\u001b[0m\n",
            "\u001b[0;32mpandas/_libs/index.pyx\u001b[0m in \u001b[0;36mpandas._libs.index.IndexEngine.get_loc\u001b[0;34m()\u001b[0m\n",
            "\u001b[0;32mpandas/_libs/hashtable_class_helper.pxi\u001b[0m in \u001b[0;36mpandas._libs.hashtable.PyObjectHashTable.get_item\u001b[0;34m()\u001b[0m\n",
            "\u001b[0;32mpandas/_libs/hashtable_class_helper.pxi\u001b[0m in \u001b[0;36mpandas._libs.hashtable.PyObjectHashTable.get_item\u001b[0;34m()\u001b[0m\n",
            "\u001b[0;31mKeyError\u001b[0m: 'two'"
          ]
        }
      ]
    },
    {
      "metadata": {
        "id": "FJ8AMZ3My8Se",
        "colab_type": "code",
        "outputId": "2054df7a-4de4-499a-e1f0-894d853696c8",
        "colab": {
          "base_uri": "https://localhost:8080/",
          "height": 204
        }
      },
      "cell_type": "code",
      "source": [
        "df"
      ],
      "execution_count": 0,
      "outputs": [
        {
          "output_type": "execute_result",
          "data": {
            "text/html": [
              "<div>\n",
              "<style scoped>\n",
              "    .dataframe tbody tr th:only-of-type {\n",
              "        vertical-align: middle;\n",
              "    }\n",
              "\n",
              "    .dataframe tbody tr th {\n",
              "        vertical-align: top;\n",
              "    }\n",
              "\n",
              "    .dataframe thead th {\n",
              "        text-align: right;\n",
              "    }\n",
              "</style>\n",
              "<table border=\"1\" class=\"dataframe\">\n",
              "  <thead>\n",
              "    <tr style=\"text-align: right;\">\n",
              "      <th></th>\n",
              "      <th>one</th>\n",
              "      <th>flag</th>\n",
              "    </tr>\n",
              "  </thead>\n",
              "  <tbody>\n",
              "    <tr>\n",
              "      <th>apple</th>\n",
              "      <td>100.0</td>\n",
              "      <td>False</td>\n",
              "    </tr>\n",
              "    <tr>\n",
              "      <th>ball</th>\n",
              "      <td>200.0</td>\n",
              "      <td>False</td>\n",
              "    </tr>\n",
              "    <tr>\n",
              "      <th>cerill</th>\n",
              "      <td>NaN</td>\n",
              "      <td>False</td>\n",
              "    </tr>\n",
              "    <tr>\n",
              "      <th>clock</th>\n",
              "      <td>300.0</td>\n",
              "      <td>True</td>\n",
              "    </tr>\n",
              "    <tr>\n",
              "      <th>dancy</th>\n",
              "      <td>NaN</td>\n",
              "      <td>False</td>\n",
              "    </tr>\n",
              "  </tbody>\n",
              "</table>\n",
              "</div>"
            ],
            "text/plain": [
              "          one   flag\n",
              "apple   100.0  False\n",
              "ball    200.0  False\n",
              "cerill    NaN  False\n",
              "clock   300.0   True\n",
              "dancy     NaN  False"
            ]
          },
          "metadata": {
            "tags": []
          },
          "execution_count": 33
        }
      ]
    },
    {
      "metadata": {
        "id": "TfA9kAYsy8Si",
        "colab_type": "code",
        "outputId": "77004c45-f847-4605-a75a-0c64ce9f18c5",
        "colab": {
          "base_uri": "https://localhost:8080/",
          "height": 204
        }
      },
      "cell_type": "code",
      "source": [
        "df.insert(2, 'copy_of_one', df['one'])\n",
        "df"
      ],
      "execution_count": 0,
      "outputs": [
        {
          "output_type": "execute_result",
          "data": {
            "text/html": [
              "<div>\n",
              "<style scoped>\n",
              "    .dataframe tbody tr th:only-of-type {\n",
              "        vertical-align: middle;\n",
              "    }\n",
              "\n",
              "    .dataframe tbody tr th {\n",
              "        vertical-align: top;\n",
              "    }\n",
              "\n",
              "    .dataframe thead th {\n",
              "        text-align: right;\n",
              "    }\n",
              "</style>\n",
              "<table border=\"1\" class=\"dataframe\">\n",
              "  <thead>\n",
              "    <tr style=\"text-align: right;\">\n",
              "      <th></th>\n",
              "      <th>one</th>\n",
              "      <th>flag</th>\n",
              "      <th>copy_of_one</th>\n",
              "    </tr>\n",
              "  </thead>\n",
              "  <tbody>\n",
              "    <tr>\n",
              "      <th>apple</th>\n",
              "      <td>100.0</td>\n",
              "      <td>False</td>\n",
              "      <td>100.0</td>\n",
              "    </tr>\n",
              "    <tr>\n",
              "      <th>ball</th>\n",
              "      <td>200.0</td>\n",
              "      <td>False</td>\n",
              "      <td>200.0</td>\n",
              "    </tr>\n",
              "    <tr>\n",
              "      <th>cerill</th>\n",
              "      <td>NaN</td>\n",
              "      <td>False</td>\n",
              "      <td>NaN</td>\n",
              "    </tr>\n",
              "    <tr>\n",
              "      <th>clock</th>\n",
              "      <td>300.0</td>\n",
              "      <td>True</td>\n",
              "      <td>300.0</td>\n",
              "    </tr>\n",
              "    <tr>\n",
              "      <th>dancy</th>\n",
              "      <td>NaN</td>\n",
              "      <td>False</td>\n",
              "      <td>NaN</td>\n",
              "    </tr>\n",
              "  </tbody>\n",
              "</table>\n",
              "</div>"
            ],
            "text/plain": [
              "          one   flag  copy_of_one\n",
              "apple   100.0  False        100.0\n",
              "ball    200.0  False        200.0\n",
              "cerill    NaN  False          NaN\n",
              "clock   300.0   True        300.0\n",
              "dancy     NaN  False          NaN"
            ]
          },
          "metadata": {
            "tags": []
          },
          "execution_count": 34
        }
      ]
    },
    {
      "metadata": {
        "id": "NXNMA987y8Sj",
        "colab_type": "code",
        "outputId": "e94706d7-b2a4-44ff-8a34-fee32d203244",
        "colab": {
          "base_uri": "https://localhost:8080/",
          "height": 224
        }
      },
      "cell_type": "code",
      "source": [
        "df['one_upper_half'] = df['one'][:2]\n",
        "df"
      ],
      "execution_count": 0,
      "outputs": [
        {
          "output_type": "execute_result",
          "data": {
            "text/html": [
              "<div>\n",
              "<style scoped>\n",
              "    .dataframe tbody tr th:only-of-type {\n",
              "        vertical-align: middle;\n",
              "    }\n",
              "\n",
              "    .dataframe tbody tr th {\n",
              "        vertical-align: top;\n",
              "    }\n",
              "\n",
              "    .dataframe thead th {\n",
              "        text-align: right;\n",
              "    }\n",
              "</style>\n",
              "<table border=\"1\" class=\"dataframe\">\n",
              "  <thead>\n",
              "    <tr style=\"text-align: right;\">\n",
              "      <th></th>\n",
              "      <th>one</th>\n",
              "      <th>flag</th>\n",
              "      <th>copy_of_one</th>\n",
              "      <th>one_upper_half</th>\n",
              "    </tr>\n",
              "  </thead>\n",
              "  <tbody>\n",
              "    <tr>\n",
              "      <th>apple</th>\n",
              "      <td>100.0</td>\n",
              "      <td>False</td>\n",
              "      <td>100.0</td>\n",
              "      <td>100.0</td>\n",
              "    </tr>\n",
              "    <tr>\n",
              "      <th>ball</th>\n",
              "      <td>200.0</td>\n",
              "      <td>False</td>\n",
              "      <td>200.0</td>\n",
              "      <td>200.0</td>\n",
              "    </tr>\n",
              "    <tr>\n",
              "      <th>cerill</th>\n",
              "      <td>NaN</td>\n",
              "      <td>False</td>\n",
              "      <td>NaN</td>\n",
              "      <td>NaN</td>\n",
              "    </tr>\n",
              "    <tr>\n",
              "      <th>clock</th>\n",
              "      <td>300.0</td>\n",
              "      <td>True</td>\n",
              "      <td>300.0</td>\n",
              "      <td>NaN</td>\n",
              "    </tr>\n",
              "    <tr>\n",
              "      <th>dancy</th>\n",
              "      <td>NaN</td>\n",
              "      <td>False</td>\n",
              "      <td>NaN</td>\n",
              "      <td>NaN</td>\n",
              "    </tr>\n",
              "  </tbody>\n",
              "</table>\n",
              "</div>"
            ],
            "text/plain": [
              "          one   flag  copy_of_one  one_upper_half\n",
              "apple   100.0  False        100.0           100.0\n",
              "ball    200.0  False        200.0           200.0\n",
              "cerill    NaN  False          NaN             NaN\n",
              "clock   300.0   True        300.0             NaN\n",
              "dancy     NaN  False          NaN             NaN"
            ]
          },
          "metadata": {
            "tags": []
          },
          "execution_count": 35
        }
      ]
    },
    {
      "metadata": {
        "id": "8OToDGzEy8Sk",
        "colab_type": "text"
      },
      "cell_type": "markdown",
      "source": [
        "<p style=\"font-family: Arial; font-size:1.75em;color:#2462C0; font-style:bold\">\n",
        "Case Study: Movie Data Analysis</p>\n",
        "<br>This notebook uses a dataset from the MovieLens website. We will describe the dataset further as we explore with it using *pandas*. \n",
        "\n",
        "## Download the Dataset\n",
        "\n",
        "Please note that **you will need to download the dataset**. Although the video for this notebook says that the data is in your folder, the folder turned out to be too large to fit on the edX platform due to size constraints.\n",
        "\n",
        "Here are the links to the data source and location:\n",
        "* **Data Source:** MovieLens web site (filename: ml-20m.zip)\n",
        "* **Location:** https://grouplens.org/datasets/movielens/\n",
        "\n",
        "Once the download completes, please make sure the data files are in a directory called *movielens* in your *Week-3-pandas* folder. \n",
        "\n",
        "Let us look at the files in this dataset using the UNIX command ls.\n"
      ]
    },
    {
      "metadata": {
        "id": "UAXplZo1q_cg",
        "colab_type": "code",
        "outputId": "7cc602eb-947f-4664-def0-6f7a0c3de383",
        "colab": {
          "base_uri": "https://localhost:8080/",
          "height": 153
        }
      },
      "cell_type": "code",
      "source": [
        "import requests, zipfile, io\n",
        "\n",
        "# Download dataset\n",
        "url = \"http://files.grouplens.org/datasets/movielens/ml-20m.zip\"\n",
        "r = requests.get(url)\n",
        "z = zipfile.ZipFile(io.BytesIO(r.content))\n",
        "z.infolist()"
      ],
      "execution_count": 2,
      "outputs": [
        {
          "output_type": "execute_result",
          "data": {
            "text/plain": [
              "[<ZipInfo filename='ml-20m/' filemode='drwxr-xr-x' external_attr=0x10>,\n",
              " <ZipInfo filename='ml-20m/genome-scores.csv' compress_type=deflate filemode='-rw-r--r--' file_size=323544381 compress_size=60442683>,\n",
              " <ZipInfo filename='ml-20m/genome-tags.csv' compress_type=deflate filemode='-rw-r--r--' file_size=18103 compress_size=8359>,\n",
              " <ZipInfo filename='ml-20m/links.csv' compress_type=deflate filemode='-rw-r--r--' file_size=570090 compress_size=246387>,\n",
              " <ZipInfo filename='ml-20m/movies.csv' compress_type=deflate filemode='-rw-r--r--' file_size=1397542 compress_size=499415>,\n",
              " <ZipInfo filename='ml-20m/ratings.csv' compress_type=deflate filemode='-rw-r--r--' file_size=533444411 compress_size=132712092>,\n",
              " <ZipInfo filename='ml-20m/README.txt' compress_type=deflate filemode='-rw-r--r--' file_size=10261 compress_size=3940>,\n",
              " <ZipInfo filename='ml-20m/tags.csv' compress_type=deflate filemode='-rw-r--r--' file_size=16603996 compress_size=4787884>]"
            ]
          },
          "metadata": {
            "tags": []
          },
          "execution_count": 2
        }
      ]
    },
    {
      "metadata": {
        "id": "L8pDF0kly8Sk",
        "colab_type": "code",
        "outputId": "76783791-44b4-41be-9df2-b52849b3ded3",
        "colab": {
          "base_uri": "https://localhost:8080/",
          "height": 51
        }
      },
      "cell_type": "code",
      "source": [
        "# Note: Adjust the name of the folder to match your local directory\n",
        "\n",
        "# Extract data files\n",
        "data_filenames = [\"ratings.csv\", \"tags.csv\", \"movies.csv\"]\n",
        "for fpath in z.namelist():\n",
        "  # Look for file names of interest\n",
        "  if os.path.basename(fpath) in data_filenames:\n",
        "    # Extract a single file from zip\n",
        "    z.extract(fpath)\n",
        "    \n",
        "# Rename extracted directory\n",
        "!mv ml-20m movielens\n",
        "!ls\n",
        "!ls movielens"
      ],
      "execution_count": 12,
      "outputs": [
        {
          "output_type": "stream",
          "text": [
            "'Introduction to Pandas.ipynb'\t movielens\n",
            "movies.csv  ratings.csv  tags.csv\n"
          ],
          "name": "stdout"
        }
      ]
    },
    {
      "metadata": {
        "id": "qvJDpkWxy8Sl",
        "colab_type": "code",
        "colab": {
          "base_uri": "https://localhost:8080/",
          "height": 34
        },
        "outputId": "4f0b4100-5591-4093-c2c9-845618802432"
      },
      "cell_type": "code",
      "source": [
        "!cat ./movielens/movies.csv | wc -l"
      ],
      "execution_count": 9,
      "outputs": [
        {
          "output_type": "stream",
          "text": [
            "27279\n"
          ],
          "name": "stdout"
        }
      ]
    },
    {
      "metadata": {
        "id": "BRVoRzG8y8Sm",
        "colab_type": "code",
        "colab": {
          "base_uri": "https://localhost:8080/",
          "height": 102
        },
        "outputId": "49408c29-d9ff-4db2-f61b-89f79339f422"
      },
      "cell_type": "code",
      "source": [
        "!head -5 ./movielens/ratings.csv"
      ],
      "execution_count": 13,
      "outputs": [
        {
          "output_type": "stream",
          "text": [
            "userId,movieId,rating,timestamp\r\n",
            "1,2,3.5,1112486027\r\n",
            "1,29,3.5,1112484676\r\n",
            "1,32,3.5,1112484819\r\n",
            "1,47,3.5,1112484727\r\n"
          ],
          "name": "stdout"
        }
      ]
    },
    {
      "metadata": {
        "id": "fCR6ldRqy8Sn",
        "colab_type": "text"
      },
      "cell_type": "markdown",
      "source": [
        "<p style=\"font-family: Arial; font-size:1.75em;color:#2462C0; font-style:bold\">\n",
        "Use Pandas to Read the Dataset<br>\n",
        "</p>\n",
        "<br>\n",
        "In this notebook, we will be using three CSV files:\n",
        "* **ratings.csv :** *userId*,*movieId*,*rating*, *timestamp*\n",
        "* **tags.csv :** *userId*,*movieId*, *tag*, *timestamp*\n",
        "* **movies.csv :** *movieId*, *title*, *genres* <br>\n",
        "\n",
        "Using the *read_csv* function in pandas, we will ingest these three files."
      ]
    },
    {
      "metadata": {
        "id": "ahX8oQXLy8So",
        "colab_type": "code",
        "colab": {
          "base_uri": "https://localhost:8080/",
          "height": 531
        },
        "outputId": "8e0cdc25-89e5-492e-a413-c4d31966ec3f"
      },
      "cell_type": "code",
      "source": [
        "movies = pd.read_csv('./movielens/movies.csv', sep=',')\n",
        "print(type(movies))\n",
        "movies.head(15)"
      ],
      "execution_count": 16,
      "outputs": [
        {
          "output_type": "stream",
          "text": [
            "<class 'pandas.core.frame.DataFrame'>\n"
          ],
          "name": "stdout"
        },
        {
          "output_type": "execute_result",
          "data": {
            "text/html": [
              "<div>\n",
              "<style scoped>\n",
              "    .dataframe tbody tr th:only-of-type {\n",
              "        vertical-align: middle;\n",
              "    }\n",
              "\n",
              "    .dataframe tbody tr th {\n",
              "        vertical-align: top;\n",
              "    }\n",
              "\n",
              "    .dataframe thead th {\n",
              "        text-align: right;\n",
              "    }\n",
              "</style>\n",
              "<table border=\"1\" class=\"dataframe\">\n",
              "  <thead>\n",
              "    <tr style=\"text-align: right;\">\n",
              "      <th></th>\n",
              "      <th>movieId</th>\n",
              "      <th>title</th>\n",
              "      <th>genres</th>\n",
              "    </tr>\n",
              "  </thead>\n",
              "  <tbody>\n",
              "    <tr>\n",
              "      <th>0</th>\n",
              "      <td>1</td>\n",
              "      <td>Toy Story (1995)</td>\n",
              "      <td>Adventure|Animation|Children|Comedy|Fantasy</td>\n",
              "    </tr>\n",
              "    <tr>\n",
              "      <th>1</th>\n",
              "      <td>2</td>\n",
              "      <td>Jumanji (1995)</td>\n",
              "      <td>Adventure|Children|Fantasy</td>\n",
              "    </tr>\n",
              "    <tr>\n",
              "      <th>2</th>\n",
              "      <td>3</td>\n",
              "      <td>Grumpier Old Men (1995)</td>\n",
              "      <td>Comedy|Romance</td>\n",
              "    </tr>\n",
              "    <tr>\n",
              "      <th>3</th>\n",
              "      <td>4</td>\n",
              "      <td>Waiting to Exhale (1995)</td>\n",
              "      <td>Comedy|Drama|Romance</td>\n",
              "    </tr>\n",
              "    <tr>\n",
              "      <th>4</th>\n",
              "      <td>5</td>\n",
              "      <td>Father of the Bride Part II (1995)</td>\n",
              "      <td>Comedy</td>\n",
              "    </tr>\n",
              "    <tr>\n",
              "      <th>5</th>\n",
              "      <td>6</td>\n",
              "      <td>Heat (1995)</td>\n",
              "      <td>Action|Crime|Thriller</td>\n",
              "    </tr>\n",
              "    <tr>\n",
              "      <th>6</th>\n",
              "      <td>7</td>\n",
              "      <td>Sabrina (1995)</td>\n",
              "      <td>Comedy|Romance</td>\n",
              "    </tr>\n",
              "    <tr>\n",
              "      <th>7</th>\n",
              "      <td>8</td>\n",
              "      <td>Tom and Huck (1995)</td>\n",
              "      <td>Adventure|Children</td>\n",
              "    </tr>\n",
              "    <tr>\n",
              "      <th>8</th>\n",
              "      <td>9</td>\n",
              "      <td>Sudden Death (1995)</td>\n",
              "      <td>Action</td>\n",
              "    </tr>\n",
              "    <tr>\n",
              "      <th>9</th>\n",
              "      <td>10</td>\n",
              "      <td>GoldenEye (1995)</td>\n",
              "      <td>Action|Adventure|Thriller</td>\n",
              "    </tr>\n",
              "    <tr>\n",
              "      <th>10</th>\n",
              "      <td>11</td>\n",
              "      <td>American President, The (1995)</td>\n",
              "      <td>Comedy|Drama|Romance</td>\n",
              "    </tr>\n",
              "    <tr>\n",
              "      <th>11</th>\n",
              "      <td>12</td>\n",
              "      <td>Dracula: Dead and Loving It (1995)</td>\n",
              "      <td>Comedy|Horror</td>\n",
              "    </tr>\n",
              "    <tr>\n",
              "      <th>12</th>\n",
              "      <td>13</td>\n",
              "      <td>Balto (1995)</td>\n",
              "      <td>Adventure|Animation|Children</td>\n",
              "    </tr>\n",
              "    <tr>\n",
              "      <th>13</th>\n",
              "      <td>14</td>\n",
              "      <td>Nixon (1995)</td>\n",
              "      <td>Drama</td>\n",
              "    </tr>\n",
              "    <tr>\n",
              "      <th>14</th>\n",
              "      <td>15</td>\n",
              "      <td>Cutthroat Island (1995)</td>\n",
              "      <td>Action|Adventure|Romance</td>\n",
              "    </tr>\n",
              "  </tbody>\n",
              "</table>\n",
              "</div>"
            ],
            "text/plain": [
              "    movieId                               title  \\\n",
              "0         1                    Toy Story (1995)   \n",
              "1         2                      Jumanji (1995)   \n",
              "2         3             Grumpier Old Men (1995)   \n",
              "3         4            Waiting to Exhale (1995)   \n",
              "4         5  Father of the Bride Part II (1995)   \n",
              "5         6                         Heat (1995)   \n",
              "6         7                      Sabrina (1995)   \n",
              "7         8                 Tom and Huck (1995)   \n",
              "8         9                 Sudden Death (1995)   \n",
              "9        10                    GoldenEye (1995)   \n",
              "10       11      American President, The (1995)   \n",
              "11       12  Dracula: Dead and Loving It (1995)   \n",
              "12       13                        Balto (1995)   \n",
              "13       14                        Nixon (1995)   \n",
              "14       15             Cutthroat Island (1995)   \n",
              "\n",
              "                                         genres  \n",
              "0   Adventure|Animation|Children|Comedy|Fantasy  \n",
              "1                    Adventure|Children|Fantasy  \n",
              "2                                Comedy|Romance  \n",
              "3                          Comedy|Drama|Romance  \n",
              "4                                        Comedy  \n",
              "5                         Action|Crime|Thriller  \n",
              "6                                Comedy|Romance  \n",
              "7                            Adventure|Children  \n",
              "8                                        Action  \n",
              "9                     Action|Adventure|Thriller  \n",
              "10                         Comedy|Drama|Romance  \n",
              "11                                Comedy|Horror  \n",
              "12                 Adventure|Animation|Children  \n",
              "13                                        Drama  \n",
              "14                     Action|Adventure|Romance  "
            ]
          },
          "metadata": {
            "tags": []
          },
          "execution_count": 16
        }
      ]
    },
    {
      "metadata": {
        "id": "b9enMNNEy8Sp",
        "colab_type": "code",
        "colab": {
          "base_uri": "https://localhost:8080/",
          "height": 204
        },
        "outputId": "8be14827-c1f2-479b-e1ec-69701058c043"
      },
      "cell_type": "code",
      "source": [
        "# Timestamps represent seconds since midnight Coordinated Universal Time (UTC) of January 1, 1970\n",
        "\n",
        "tags = pd.read_csv('./movielens/tags.csv', sep=',')\n",
        "tags.head()"
      ],
      "execution_count": 17,
      "outputs": [
        {
          "output_type": "execute_result",
          "data": {
            "text/html": [
              "<div>\n",
              "<style scoped>\n",
              "    .dataframe tbody tr th:only-of-type {\n",
              "        vertical-align: middle;\n",
              "    }\n",
              "\n",
              "    .dataframe tbody tr th {\n",
              "        vertical-align: top;\n",
              "    }\n",
              "\n",
              "    .dataframe thead th {\n",
              "        text-align: right;\n",
              "    }\n",
              "</style>\n",
              "<table border=\"1\" class=\"dataframe\">\n",
              "  <thead>\n",
              "    <tr style=\"text-align: right;\">\n",
              "      <th></th>\n",
              "      <th>userId</th>\n",
              "      <th>movieId</th>\n",
              "      <th>tag</th>\n",
              "      <th>timestamp</th>\n",
              "    </tr>\n",
              "  </thead>\n",
              "  <tbody>\n",
              "    <tr>\n",
              "      <th>0</th>\n",
              "      <td>18</td>\n",
              "      <td>4141</td>\n",
              "      <td>Mark Waters</td>\n",
              "      <td>1240597180</td>\n",
              "    </tr>\n",
              "    <tr>\n",
              "      <th>1</th>\n",
              "      <td>65</td>\n",
              "      <td>208</td>\n",
              "      <td>dark hero</td>\n",
              "      <td>1368150078</td>\n",
              "    </tr>\n",
              "    <tr>\n",
              "      <th>2</th>\n",
              "      <td>65</td>\n",
              "      <td>353</td>\n",
              "      <td>dark hero</td>\n",
              "      <td>1368150079</td>\n",
              "    </tr>\n",
              "    <tr>\n",
              "      <th>3</th>\n",
              "      <td>65</td>\n",
              "      <td>521</td>\n",
              "      <td>noir thriller</td>\n",
              "      <td>1368149983</td>\n",
              "    </tr>\n",
              "    <tr>\n",
              "      <th>4</th>\n",
              "      <td>65</td>\n",
              "      <td>592</td>\n",
              "      <td>dark hero</td>\n",
              "      <td>1368150078</td>\n",
              "    </tr>\n",
              "  </tbody>\n",
              "</table>\n",
              "</div>"
            ],
            "text/plain": [
              "   userId  movieId            tag   timestamp\n",
              "0      18     4141    Mark Waters  1240597180\n",
              "1      65      208      dark hero  1368150078\n",
              "2      65      353      dark hero  1368150079\n",
              "3      65      521  noir thriller  1368149983\n",
              "4      65      592      dark hero  1368150078"
            ]
          },
          "metadata": {
            "tags": []
          },
          "execution_count": 17
        }
      ]
    },
    {
      "metadata": {
        "id": "wMyYf6e0y8Sq",
        "colab_type": "code",
        "colab": {
          "base_uri": "https://localhost:8080/",
          "height": 204
        },
        "outputId": "1dfe428f-b50c-4453-94db-a3424f4869bb"
      },
      "cell_type": "code",
      "source": [
        "ratings = pd.read_csv('./movielens/ratings.csv', sep=',', parse_dates=['timestamp'])\n",
        "ratings.head()"
      ],
      "execution_count": 18,
      "outputs": [
        {
          "output_type": "execute_result",
          "data": {
            "text/html": [
              "<div>\n",
              "<style scoped>\n",
              "    .dataframe tbody tr th:only-of-type {\n",
              "        vertical-align: middle;\n",
              "    }\n",
              "\n",
              "    .dataframe tbody tr th {\n",
              "        vertical-align: top;\n",
              "    }\n",
              "\n",
              "    .dataframe thead th {\n",
              "        text-align: right;\n",
              "    }\n",
              "</style>\n",
              "<table border=\"1\" class=\"dataframe\">\n",
              "  <thead>\n",
              "    <tr style=\"text-align: right;\">\n",
              "      <th></th>\n",
              "      <th>userId</th>\n",
              "      <th>movieId</th>\n",
              "      <th>rating</th>\n",
              "      <th>timestamp</th>\n",
              "    </tr>\n",
              "  </thead>\n",
              "  <tbody>\n",
              "    <tr>\n",
              "      <th>0</th>\n",
              "      <td>1</td>\n",
              "      <td>2</td>\n",
              "      <td>3.5</td>\n",
              "      <td>1112486027</td>\n",
              "    </tr>\n",
              "    <tr>\n",
              "      <th>1</th>\n",
              "      <td>1</td>\n",
              "      <td>29</td>\n",
              "      <td>3.5</td>\n",
              "      <td>1112484676</td>\n",
              "    </tr>\n",
              "    <tr>\n",
              "      <th>2</th>\n",
              "      <td>1</td>\n",
              "      <td>32</td>\n",
              "      <td>3.5</td>\n",
              "      <td>1112484819</td>\n",
              "    </tr>\n",
              "    <tr>\n",
              "      <th>3</th>\n",
              "      <td>1</td>\n",
              "      <td>47</td>\n",
              "      <td>3.5</td>\n",
              "      <td>1112484727</td>\n",
              "    </tr>\n",
              "    <tr>\n",
              "      <th>4</th>\n",
              "      <td>1</td>\n",
              "      <td>50</td>\n",
              "      <td>3.5</td>\n",
              "      <td>1112484580</td>\n",
              "    </tr>\n",
              "  </tbody>\n",
              "</table>\n",
              "</div>"
            ],
            "text/plain": [
              "   userId  movieId  rating   timestamp\n",
              "0       1        2     3.5  1112486027\n",
              "1       1       29     3.5  1112484676\n",
              "2       1       32     3.5  1112484819\n",
              "3       1       47     3.5  1112484727\n",
              "4       1       50     3.5  1112484580"
            ]
          },
          "metadata": {
            "tags": []
          },
          "execution_count": 18
        }
      ]
    },
    {
      "metadata": {
        "id": "zS01oRGFy8Ss",
        "colab_type": "code",
        "colab": {}
      },
      "cell_type": "code",
      "source": [
        "# For current analysis, we will remove timestamp (we will come back to it!)\n",
        "\n",
        "del ratings['timestamp']\n",
        "del tags['timestamp']"
      ],
      "execution_count": 0,
      "outputs": []
    },
    {
      "metadata": {
        "id": "SyDwoM-Gy8St",
        "colab_type": "text"
      },
      "cell_type": "markdown",
      "source": [
        "<h1 style=\"font-size:2em;color:#2467C0\">Data Structures </h1>"
      ]
    },
    {
      "metadata": {
        "id": "o8H2kP3py8St",
        "colab_type": "text"
      },
      "cell_type": "markdown",
      "source": [
        "<h1 style=\"font-size:1.5em;color:#2467C0\">Series</h1>"
      ]
    },
    {
      "metadata": {
        "id": "6TBKVteDy8St",
        "colab_type": "code",
        "colab": {
          "base_uri": "https://localhost:8080/",
          "height": 34
        },
        "outputId": "50703c84-1b89-4da0-e987-b53980397f17"
      },
      "cell_type": "code",
      "source": [
        "#Extract 0th row: notice that it is infact a Series\n",
        "\n",
        "row_0 = tags.iloc[0]\n",
        "type(row_0)"
      ],
      "execution_count": 20,
      "outputs": [
        {
          "output_type": "execute_result",
          "data": {
            "text/plain": [
              "pandas.core.series.Series"
            ]
          },
          "metadata": {
            "tags": []
          },
          "execution_count": 20
        }
      ]
    },
    {
      "metadata": {
        "id": "bV17DG3Ny8Su",
        "colab_type": "code",
        "colab": {
          "base_uri": "https://localhost:8080/",
          "height": 85
        },
        "outputId": "ad80fc49-6bff-42eb-b89c-ec3c82f32261"
      },
      "cell_type": "code",
      "source": [
        "print(row_0)"
      ],
      "execution_count": 21,
      "outputs": [
        {
          "output_type": "stream",
          "text": [
            "userId              18\n",
            "movieId           4141\n",
            "tag        Mark Waters\n",
            "Name: 0, dtype: object\n"
          ],
          "name": "stdout"
        }
      ]
    },
    {
      "metadata": {
        "id": "Ilm8ayHGy8Sv",
        "colab_type": "code",
        "colab": {
          "base_uri": "https://localhost:8080/",
          "height": 34
        },
        "outputId": "8c9f4b45-a617-4bce-d034-76052c8e25b7"
      },
      "cell_type": "code",
      "source": [
        "row_0.index"
      ],
      "execution_count": 22,
      "outputs": [
        {
          "output_type": "execute_result",
          "data": {
            "text/plain": [
              "Index(['userId', 'movieId', 'tag'], dtype='object')"
            ]
          },
          "metadata": {
            "tags": []
          },
          "execution_count": 22
        }
      ]
    },
    {
      "metadata": {
        "id": "_nUlIJRFy8Sv",
        "colab_type": "code",
        "colab": {
          "base_uri": "https://localhost:8080/",
          "height": 34
        },
        "outputId": "15f0dd26-e742-4fd7-8037-96e6fb4792b4"
      },
      "cell_type": "code",
      "source": [
        "row_0['userId']"
      ],
      "execution_count": 23,
      "outputs": [
        {
          "output_type": "execute_result",
          "data": {
            "text/plain": [
              "18"
            ]
          },
          "metadata": {
            "tags": []
          },
          "execution_count": 23
        }
      ]
    },
    {
      "metadata": {
        "id": "rrcOiuYvy8Sw",
        "colab_type": "code",
        "colab": {
          "base_uri": "https://localhost:8080/",
          "height": 34
        },
        "outputId": "b31c129a-808e-4f39-ffab-102fb20a1788"
      },
      "cell_type": "code",
      "source": [
        "'rating' in row_0"
      ],
      "execution_count": 24,
      "outputs": [
        {
          "output_type": "execute_result",
          "data": {
            "text/plain": [
              "False"
            ]
          },
          "metadata": {
            "tags": []
          },
          "execution_count": 24
        }
      ]
    },
    {
      "metadata": {
        "id": "Wcgg1ya3y8Sx",
        "colab_type": "code",
        "colab": {
          "base_uri": "https://localhost:8080/",
          "height": 34
        },
        "outputId": "88b3a995-570c-4b2b-8c90-d02d3dc013f8"
      },
      "cell_type": "code",
      "source": [
        "row_0.name"
      ],
      "execution_count": 25,
      "outputs": [
        {
          "output_type": "execute_result",
          "data": {
            "text/plain": [
              "0"
            ]
          },
          "metadata": {
            "tags": []
          },
          "execution_count": 25
        }
      ]
    },
    {
      "metadata": {
        "id": "BdlI3jRTy8Sy",
        "colab_type": "code",
        "colab": {
          "base_uri": "https://localhost:8080/",
          "height": 34
        },
        "outputId": "aba39404-08cb-47cd-f6f3-121767e8d2a6"
      },
      "cell_type": "code",
      "source": [
        "row_0 = row_0.rename('first_row')\n",
        "row_0.name"
      ],
      "execution_count": 26,
      "outputs": [
        {
          "output_type": "execute_result",
          "data": {
            "text/plain": [
              "'first_row'"
            ]
          },
          "metadata": {
            "tags": []
          },
          "execution_count": 26
        }
      ]
    },
    {
      "metadata": {
        "id": "XiYxf0cRy8Sy",
        "colab_type": "text"
      },
      "cell_type": "markdown",
      "source": [
        "<h1 style=\"font-size:1.5em;color:#2467C0\">DataFrames </h1>"
      ]
    },
    {
      "metadata": {
        "id": "9UpubD2Ly8Sy",
        "colab_type": "code",
        "colab": {
          "base_uri": "https://localhost:8080/",
          "height": 204
        },
        "outputId": "68f203d0-97bd-461f-8fc8-ff532ded8c2e"
      },
      "cell_type": "code",
      "source": [
        "tags.head()"
      ],
      "execution_count": 27,
      "outputs": [
        {
          "output_type": "execute_result",
          "data": {
            "text/html": [
              "<div>\n",
              "<style scoped>\n",
              "    .dataframe tbody tr th:only-of-type {\n",
              "        vertical-align: middle;\n",
              "    }\n",
              "\n",
              "    .dataframe tbody tr th {\n",
              "        vertical-align: top;\n",
              "    }\n",
              "\n",
              "    .dataframe thead th {\n",
              "        text-align: right;\n",
              "    }\n",
              "</style>\n",
              "<table border=\"1\" class=\"dataframe\">\n",
              "  <thead>\n",
              "    <tr style=\"text-align: right;\">\n",
              "      <th></th>\n",
              "      <th>userId</th>\n",
              "      <th>movieId</th>\n",
              "      <th>tag</th>\n",
              "    </tr>\n",
              "  </thead>\n",
              "  <tbody>\n",
              "    <tr>\n",
              "      <th>0</th>\n",
              "      <td>18</td>\n",
              "      <td>4141</td>\n",
              "      <td>Mark Waters</td>\n",
              "    </tr>\n",
              "    <tr>\n",
              "      <th>1</th>\n",
              "      <td>65</td>\n",
              "      <td>208</td>\n",
              "      <td>dark hero</td>\n",
              "    </tr>\n",
              "    <tr>\n",
              "      <th>2</th>\n",
              "      <td>65</td>\n",
              "      <td>353</td>\n",
              "      <td>dark hero</td>\n",
              "    </tr>\n",
              "    <tr>\n",
              "      <th>3</th>\n",
              "      <td>65</td>\n",
              "      <td>521</td>\n",
              "      <td>noir thriller</td>\n",
              "    </tr>\n",
              "    <tr>\n",
              "      <th>4</th>\n",
              "      <td>65</td>\n",
              "      <td>592</td>\n",
              "      <td>dark hero</td>\n",
              "    </tr>\n",
              "  </tbody>\n",
              "</table>\n",
              "</div>"
            ],
            "text/plain": [
              "   userId  movieId            tag\n",
              "0      18     4141    Mark Waters\n",
              "1      65      208      dark hero\n",
              "2      65      353      dark hero\n",
              "3      65      521  noir thriller\n",
              "4      65      592      dark hero"
            ]
          },
          "metadata": {
            "tags": []
          },
          "execution_count": 27
        }
      ]
    },
    {
      "metadata": {
        "id": "KqToi3xBy8S0",
        "colab_type": "code",
        "colab": {
          "base_uri": "https://localhost:8080/",
          "height": 34
        },
        "outputId": "afb56a99-d2f4-4f2b-e5d2-2e779b4c7942"
      },
      "cell_type": "code",
      "source": [
        "tags.index"
      ],
      "execution_count": 28,
      "outputs": [
        {
          "output_type": "execute_result",
          "data": {
            "text/plain": [
              "RangeIndex(start=0, stop=465564, step=1)"
            ]
          },
          "metadata": {
            "tags": []
          },
          "execution_count": 28
        }
      ]
    },
    {
      "metadata": {
        "id": "wByIlmHPy8S1",
        "colab_type": "code",
        "colab": {
          "base_uri": "https://localhost:8080/",
          "height": 34
        },
        "outputId": "5cf2c0e4-b2ae-43fb-e85a-4301cc6d8b4b"
      },
      "cell_type": "code",
      "source": [
        "tags.columns"
      ],
      "execution_count": 29,
      "outputs": [
        {
          "output_type": "execute_result",
          "data": {
            "text/plain": [
              "Index(['userId', 'movieId', 'tag'], dtype='object')"
            ]
          },
          "metadata": {
            "tags": []
          },
          "execution_count": 29
        }
      ]
    },
    {
      "metadata": {
        "id": "zT752lWAy8S2",
        "colab_type": "code",
        "colab": {
          "base_uri": "https://localhost:8080/",
          "height": 142
        },
        "outputId": "b8294b70-d134-49bb-fa92-f4f64d0fd731"
      },
      "cell_type": "code",
      "source": [
        "# Extract row 0, 11, 2000 from DataFrame\n",
        "\n",
        "tags.iloc[ [0,11,2000] ]"
      ],
      "execution_count": 30,
      "outputs": [
        {
          "output_type": "execute_result",
          "data": {
            "text/html": [
              "<div>\n",
              "<style scoped>\n",
              "    .dataframe tbody tr th:only-of-type {\n",
              "        vertical-align: middle;\n",
              "    }\n",
              "\n",
              "    .dataframe tbody tr th {\n",
              "        vertical-align: top;\n",
              "    }\n",
              "\n",
              "    .dataframe thead th {\n",
              "        text-align: right;\n",
              "    }\n",
              "</style>\n",
              "<table border=\"1\" class=\"dataframe\">\n",
              "  <thead>\n",
              "    <tr style=\"text-align: right;\">\n",
              "      <th></th>\n",
              "      <th>userId</th>\n",
              "      <th>movieId</th>\n",
              "      <th>tag</th>\n",
              "    </tr>\n",
              "  </thead>\n",
              "  <tbody>\n",
              "    <tr>\n",
              "      <th>0</th>\n",
              "      <td>18</td>\n",
              "      <td>4141</td>\n",
              "      <td>Mark Waters</td>\n",
              "    </tr>\n",
              "    <tr>\n",
              "      <th>11</th>\n",
              "      <td>65</td>\n",
              "      <td>1783</td>\n",
              "      <td>noir thriller</td>\n",
              "    </tr>\n",
              "    <tr>\n",
              "      <th>2000</th>\n",
              "      <td>910</td>\n",
              "      <td>68554</td>\n",
              "      <td>conspiracy theory</td>\n",
              "    </tr>\n",
              "  </tbody>\n",
              "</table>\n",
              "</div>"
            ],
            "text/plain": [
              "      userId  movieId                tag\n",
              "0         18     4141        Mark Waters\n",
              "11        65     1783      noir thriller\n",
              "2000     910    68554  conspiracy theory"
            ]
          },
          "metadata": {
            "tags": []
          },
          "execution_count": 30
        }
      ]
    },
    {
      "metadata": {
        "id": "FUzdeW88y8S2",
        "colab_type": "text"
      },
      "cell_type": "markdown",
      "source": [
        "<h1 style=\"font-size:2em;color:#2467C0\">Descriptive Statistics</h1>\n",
        "\n",
        "Let's look how the ratings are distributed! "
      ]
    },
    {
      "metadata": {
        "id": "oi1fb4m0y8S3",
        "colab_type": "code",
        "colab": {
          "base_uri": "https://localhost:8080/",
          "height": 170
        },
        "outputId": "cdad0976-631b-4a8f-d493-c15c8466d9c6"
      },
      "cell_type": "code",
      "source": [
        "ratings['rating'].describe()"
      ],
      "execution_count": 31,
      "outputs": [
        {
          "output_type": "execute_result",
          "data": {
            "text/plain": [
              "count    2.000026e+07\n",
              "mean     3.525529e+00\n",
              "std      1.051989e+00\n",
              "min      5.000000e-01\n",
              "25%      3.000000e+00\n",
              "50%      3.500000e+00\n",
              "75%      4.000000e+00\n",
              "max      5.000000e+00\n",
              "Name: rating, dtype: float64"
            ]
          },
          "metadata": {
            "tags": []
          },
          "execution_count": 31
        }
      ]
    },
    {
      "metadata": {
        "id": "mjAjronwy8S3",
        "colab_type": "code",
        "colab": {
          "base_uri": "https://localhost:8080/",
          "height": 297
        },
        "outputId": "e1e2e94d-f6ec-42dc-c026-ad8118d827cc"
      },
      "cell_type": "code",
      "source": [
        "ratings.describe()"
      ],
      "execution_count": 32,
      "outputs": [
        {
          "output_type": "execute_result",
          "data": {
            "text/html": [
              "<div>\n",
              "<style scoped>\n",
              "    .dataframe tbody tr th:only-of-type {\n",
              "        vertical-align: middle;\n",
              "    }\n",
              "\n",
              "    .dataframe tbody tr th {\n",
              "        vertical-align: top;\n",
              "    }\n",
              "\n",
              "    .dataframe thead th {\n",
              "        text-align: right;\n",
              "    }\n",
              "</style>\n",
              "<table border=\"1\" class=\"dataframe\">\n",
              "  <thead>\n",
              "    <tr style=\"text-align: right;\">\n",
              "      <th></th>\n",
              "      <th>userId</th>\n",
              "      <th>movieId</th>\n",
              "      <th>rating</th>\n",
              "    </tr>\n",
              "  </thead>\n",
              "  <tbody>\n",
              "    <tr>\n",
              "      <th>count</th>\n",
              "      <td>2.000026e+07</td>\n",
              "      <td>2.000026e+07</td>\n",
              "      <td>2.000026e+07</td>\n",
              "    </tr>\n",
              "    <tr>\n",
              "      <th>mean</th>\n",
              "      <td>6.904587e+04</td>\n",
              "      <td>9.041567e+03</td>\n",
              "      <td>3.525529e+00</td>\n",
              "    </tr>\n",
              "    <tr>\n",
              "      <th>std</th>\n",
              "      <td>4.003863e+04</td>\n",
              "      <td>1.978948e+04</td>\n",
              "      <td>1.051989e+00</td>\n",
              "    </tr>\n",
              "    <tr>\n",
              "      <th>min</th>\n",
              "      <td>1.000000e+00</td>\n",
              "      <td>1.000000e+00</td>\n",
              "      <td>5.000000e-01</td>\n",
              "    </tr>\n",
              "    <tr>\n",
              "      <th>25%</th>\n",
              "      <td>3.439500e+04</td>\n",
              "      <td>9.020000e+02</td>\n",
              "      <td>3.000000e+00</td>\n",
              "    </tr>\n",
              "    <tr>\n",
              "      <th>50%</th>\n",
              "      <td>6.914100e+04</td>\n",
              "      <td>2.167000e+03</td>\n",
              "      <td>3.500000e+00</td>\n",
              "    </tr>\n",
              "    <tr>\n",
              "      <th>75%</th>\n",
              "      <td>1.036370e+05</td>\n",
              "      <td>4.770000e+03</td>\n",
              "      <td>4.000000e+00</td>\n",
              "    </tr>\n",
              "    <tr>\n",
              "      <th>max</th>\n",
              "      <td>1.384930e+05</td>\n",
              "      <td>1.312620e+05</td>\n",
              "      <td>5.000000e+00</td>\n",
              "    </tr>\n",
              "  </tbody>\n",
              "</table>\n",
              "</div>"
            ],
            "text/plain": [
              "             userId       movieId        rating\n",
              "count  2.000026e+07  2.000026e+07  2.000026e+07\n",
              "mean   6.904587e+04  9.041567e+03  3.525529e+00\n",
              "std    4.003863e+04  1.978948e+04  1.051989e+00\n",
              "min    1.000000e+00  1.000000e+00  5.000000e-01\n",
              "25%    3.439500e+04  9.020000e+02  3.000000e+00\n",
              "50%    6.914100e+04  2.167000e+03  3.500000e+00\n",
              "75%    1.036370e+05  4.770000e+03  4.000000e+00\n",
              "max    1.384930e+05  1.312620e+05  5.000000e+00"
            ]
          },
          "metadata": {
            "tags": []
          },
          "execution_count": 32
        }
      ]
    },
    {
      "metadata": {
        "id": "M_rwechOy8S4",
        "colab_type": "code",
        "colab": {
          "base_uri": "https://localhost:8080/",
          "height": 34
        },
        "outputId": "cd650ab8-0d28-4a92-ccf5-bb9e81b742e6"
      },
      "cell_type": "code",
      "source": [
        "ratings['rating'].mean()"
      ],
      "execution_count": 33,
      "outputs": [
        {
          "output_type": "execute_result",
          "data": {
            "text/plain": [
              "3.5255285642993797"
            ]
          },
          "metadata": {
            "tags": []
          },
          "execution_count": 33
        }
      ]
    },
    {
      "metadata": {
        "id": "rh2mLi4Uy8S5",
        "colab_type": "code",
        "colab": {
          "base_uri": "https://localhost:8080/",
          "height": 85
        },
        "outputId": "2750713b-9c51-4118-d1cd-ac5fa2695692"
      },
      "cell_type": "code",
      "source": [
        "ratings.mean()"
      ],
      "execution_count": 34,
      "outputs": [
        {
          "output_type": "execute_result",
          "data": {
            "text/plain": [
              "userId     69045.872583\n",
              "movieId     9041.567330\n",
              "rating         3.525529\n",
              "dtype: float64"
            ]
          },
          "metadata": {
            "tags": []
          },
          "execution_count": 34
        }
      ]
    },
    {
      "metadata": {
        "id": "06PIV1tOy8S5",
        "colab_type": "code",
        "colab": {}
      },
      "cell_type": "code",
      "source": [
        "ratings['rating'].min()"
      ],
      "execution_count": 0,
      "outputs": []
    },
    {
      "metadata": {
        "id": "59LjcPoCy8S6",
        "colab_type": "code",
        "colab": {}
      },
      "cell_type": "code",
      "source": [
        "ratings['rating'].max()"
      ],
      "execution_count": 0,
      "outputs": []
    },
    {
      "metadata": {
        "id": "rT7qd7DXy8S7",
        "colab_type": "code",
        "colab": {}
      },
      "cell_type": "code",
      "source": [
        "ratings['rating'].std()"
      ],
      "execution_count": 0,
      "outputs": []
    },
    {
      "metadata": {
        "id": "kSny7iHDy8S7",
        "colab_type": "code",
        "colab": {
          "base_uri": "https://localhost:8080/",
          "height": 51
        },
        "outputId": "5488ed17-8c62-4486-b0c6-d8f79ad086c1"
      },
      "cell_type": "code",
      "source": [
        "ratings['rating'].mode()"
      ],
      "execution_count": 35,
      "outputs": [
        {
          "output_type": "execute_result",
          "data": {
            "text/plain": [
              "0    4.0\n",
              "dtype: float64"
            ]
          },
          "metadata": {
            "tags": []
          },
          "execution_count": 35
        }
      ]
    },
    {
      "metadata": {
        "scrolled": true,
        "id": "7vwNe_aBy8S8",
        "colab_type": "code",
        "colab": {
          "base_uri": "https://localhost:8080/",
          "height": 142
        },
        "outputId": "7eece1fb-b6b8-465b-92e2-39693ae1653a"
      },
      "cell_type": "code",
      "source": [
        "ratings.corr()"
      ],
      "execution_count": 36,
      "outputs": [
        {
          "output_type": "execute_result",
          "data": {
            "text/html": [
              "<div>\n",
              "<style scoped>\n",
              "    .dataframe tbody tr th:only-of-type {\n",
              "        vertical-align: middle;\n",
              "    }\n",
              "\n",
              "    .dataframe tbody tr th {\n",
              "        vertical-align: top;\n",
              "    }\n",
              "\n",
              "    .dataframe thead th {\n",
              "        text-align: right;\n",
              "    }\n",
              "</style>\n",
              "<table border=\"1\" class=\"dataframe\">\n",
              "  <thead>\n",
              "    <tr style=\"text-align: right;\">\n",
              "      <th></th>\n",
              "      <th>userId</th>\n",
              "      <th>movieId</th>\n",
              "      <th>rating</th>\n",
              "    </tr>\n",
              "  </thead>\n",
              "  <tbody>\n",
              "    <tr>\n",
              "      <th>userId</th>\n",
              "      <td>1.000000</td>\n",
              "      <td>-0.000850</td>\n",
              "      <td>0.001175</td>\n",
              "    </tr>\n",
              "    <tr>\n",
              "      <th>movieId</th>\n",
              "      <td>-0.000850</td>\n",
              "      <td>1.000000</td>\n",
              "      <td>0.002606</td>\n",
              "    </tr>\n",
              "    <tr>\n",
              "      <th>rating</th>\n",
              "      <td>0.001175</td>\n",
              "      <td>0.002606</td>\n",
              "      <td>1.000000</td>\n",
              "    </tr>\n",
              "  </tbody>\n",
              "</table>\n",
              "</div>"
            ],
            "text/plain": [
              "           userId   movieId    rating\n",
              "userId   1.000000 -0.000850  0.001175\n",
              "movieId -0.000850  1.000000  0.002606\n",
              "rating   0.001175  0.002606  1.000000"
            ]
          },
          "metadata": {
            "tags": []
          },
          "execution_count": 36
        }
      ]
    },
    {
      "metadata": {
        "id": "qJGv-kb2y8S9",
        "colab_type": "code",
        "colab": {
          "base_uri": "https://localhost:8080/",
          "height": 1088
        },
        "outputId": "9a4a1d48-5cb2-4a93-9ebf-4affe234f8e5"
      },
      "cell_type": "code",
      "source": [
        "filter_1 = ratings['rating'] > 5\n",
        "print(filter_1)\n",
        "filter_1.any()"
      ],
      "execution_count": 37,
      "outputs": [
        {
          "output_type": "stream",
          "text": [
            "0           False\n",
            "1           False\n",
            "2           False\n",
            "3           False\n",
            "4           False\n",
            "5           False\n",
            "6           False\n",
            "7           False\n",
            "8           False\n",
            "9           False\n",
            "10          False\n",
            "11          False\n",
            "12          False\n",
            "13          False\n",
            "14          False\n",
            "15          False\n",
            "16          False\n",
            "17          False\n",
            "18          False\n",
            "19          False\n",
            "20          False\n",
            "21          False\n",
            "22          False\n",
            "23          False\n",
            "24          False\n",
            "25          False\n",
            "26          False\n",
            "27          False\n",
            "28          False\n",
            "29          False\n",
            "            ...  \n",
            "20000233    False\n",
            "20000234    False\n",
            "20000235    False\n",
            "20000236    False\n",
            "20000237    False\n",
            "20000238    False\n",
            "20000239    False\n",
            "20000240    False\n",
            "20000241    False\n",
            "20000242    False\n",
            "20000243    False\n",
            "20000244    False\n",
            "20000245    False\n",
            "20000246    False\n",
            "20000247    False\n",
            "20000248    False\n",
            "20000249    False\n",
            "20000250    False\n",
            "20000251    False\n",
            "20000252    False\n",
            "20000253    False\n",
            "20000254    False\n",
            "20000255    False\n",
            "20000256    False\n",
            "20000257    False\n",
            "20000258    False\n",
            "20000259    False\n",
            "20000260    False\n",
            "20000261    False\n",
            "20000262    False\n",
            "Name: rating, Length: 20000263, dtype: bool\n"
          ],
          "name": "stdout"
        },
        {
          "output_type": "execute_result",
          "data": {
            "text/plain": [
              "False"
            ]
          },
          "metadata": {
            "tags": []
          },
          "execution_count": 37
        }
      ]
    },
    {
      "metadata": {
        "id": "eP_qV7Tiy8S9",
        "colab_type": "code",
        "colab": {
          "base_uri": "https://localhost:8080/",
          "height": 34
        },
        "outputId": "80b5960c-68d3-4a20-d820-3177ba3a2c1b"
      },
      "cell_type": "code",
      "source": [
        "filter_2 = ratings['rating'] > 0\n",
        "filter_2.all()"
      ],
      "execution_count": 38,
      "outputs": [
        {
          "output_type": "execute_result",
          "data": {
            "text/plain": [
              "True"
            ]
          },
          "metadata": {
            "tags": []
          },
          "execution_count": 38
        }
      ]
    },
    {
      "metadata": {
        "id": "3A7HvGqFy8S-",
        "colab_type": "text"
      },
      "cell_type": "markdown",
      "source": [
        "<h1 style=\"font-size:2em;color:#2467C0\">Data Cleaning: Handling Missing Data</h1>"
      ]
    },
    {
      "metadata": {
        "id": "yxrWTjEdy8S-",
        "colab_type": "code",
        "colab": {
          "base_uri": "https://localhost:8080/",
          "height": 34
        },
        "outputId": "c2217158-6b09-47ce-fb21-231c156fa8b9"
      },
      "cell_type": "code",
      "source": [
        "movies.shape"
      ],
      "execution_count": 39,
      "outputs": [
        {
          "output_type": "execute_result",
          "data": {
            "text/plain": [
              "(27278, 3)"
            ]
          },
          "metadata": {
            "tags": []
          },
          "execution_count": 39
        }
      ]
    },
    {
      "metadata": {
        "id": "cFbxgSK3y8S_",
        "colab_type": "code",
        "colab": {
          "base_uri": "https://localhost:8080/",
          "height": 85
        },
        "outputId": "396939e7-b839-48ed-e1a7-23d0a88dca0a"
      },
      "cell_type": "code",
      "source": [
        "#is any row NULL ?\n",
        "\n",
        "movies.isnull().any()"
      ],
      "execution_count": 40,
      "outputs": [
        {
          "output_type": "execute_result",
          "data": {
            "text/plain": [
              "movieId    False\n",
              "title      False\n",
              "genres     False\n",
              "dtype: bool"
            ]
          },
          "metadata": {
            "tags": []
          },
          "execution_count": 40
        }
      ]
    },
    {
      "metadata": {
        "collapsed": true,
        "id": "ScmcRa1Wy8TA",
        "colab_type": "text"
      },
      "cell_type": "markdown",
      "source": [
        "Thats nice ! No NULL values !"
      ]
    },
    {
      "metadata": {
        "id": "gEwl7Gc8y8TA",
        "colab_type": "code",
        "colab": {
          "base_uri": "https://localhost:8080/",
          "height": 34
        },
        "outputId": "9ac08bd8-af12-46ab-a419-b08a9a224ebd"
      },
      "cell_type": "code",
      "source": [
        "ratings.shape"
      ],
      "execution_count": 41,
      "outputs": [
        {
          "output_type": "execute_result",
          "data": {
            "text/plain": [
              "(20000263, 3)"
            ]
          },
          "metadata": {
            "tags": []
          },
          "execution_count": 41
        }
      ]
    },
    {
      "metadata": {
        "id": "s4WZ1__Wy8TB",
        "colab_type": "code",
        "colab": {
          "base_uri": "https://localhost:8080/",
          "height": 85
        },
        "outputId": "2a3d42a0-833b-4042-a27c-c6c77cea545b"
      },
      "cell_type": "code",
      "source": [
        "#is any row NULL ?\n",
        "\n",
        "ratings.isnull().any()"
      ],
      "execution_count": 42,
      "outputs": [
        {
          "output_type": "execute_result",
          "data": {
            "text/plain": [
              "userId     False\n",
              "movieId    False\n",
              "rating     False\n",
              "dtype: bool"
            ]
          },
          "metadata": {
            "tags": []
          },
          "execution_count": 42
        }
      ]
    },
    {
      "metadata": {
        "collapsed": true,
        "id": "T2cjNOtqy8TB",
        "colab_type": "text"
      },
      "cell_type": "markdown",
      "source": [
        "Thats nice ! No NULL values !"
      ]
    },
    {
      "metadata": {
        "id": "owQTfHv7y8TB",
        "colab_type": "code",
        "colab": {
          "base_uri": "https://localhost:8080/",
          "height": 34
        },
        "outputId": "374e4336-5279-469a-c269-93b5f312c09c"
      },
      "cell_type": "code",
      "source": [
        "tags.shape"
      ],
      "execution_count": 43,
      "outputs": [
        {
          "output_type": "execute_result",
          "data": {
            "text/plain": [
              "(465564, 3)"
            ]
          },
          "metadata": {
            "tags": []
          },
          "execution_count": 43
        }
      ]
    },
    {
      "metadata": {
        "id": "zovCZ5Bby8TD",
        "colab_type": "code",
        "colab": {
          "base_uri": "https://localhost:8080/",
          "height": 85
        },
        "outputId": "21ed40cc-fa4e-48e1-9ee2-1ec46e0b0ff6"
      },
      "cell_type": "code",
      "source": [
        "#is any row NULL ?\n",
        "\n",
        "tags.isnull().any()"
      ],
      "execution_count": 44,
      "outputs": [
        {
          "output_type": "execute_result",
          "data": {
            "text/plain": [
              "userId     False\n",
              "movieId    False\n",
              "tag         True\n",
              "dtype: bool"
            ]
          },
          "metadata": {
            "tags": []
          },
          "execution_count": 44
        }
      ]
    },
    {
      "metadata": {
        "collapsed": true,
        "id": "usbF8nYKy8TE",
        "colab_type": "text"
      },
      "cell_type": "markdown",
      "source": [
        "We have some tags which are NULL."
      ]
    },
    {
      "metadata": {
        "id": "7E8nz4rfy8TE",
        "colab_type": "code",
        "colab": {}
      },
      "cell_type": "code",
      "source": [
        "tags = tags.dropna()"
      ],
      "execution_count": 0,
      "outputs": []
    },
    {
      "metadata": {
        "id": "CDr3HdJYy8TF",
        "colab_type": "code",
        "colab": {
          "base_uri": "https://localhost:8080/",
          "height": 85
        },
        "outputId": "e3b750eb-6ac6-4439-fca1-9e3ee7d02d0d"
      },
      "cell_type": "code",
      "source": [
        "#Check again: is any row NULL ?\n",
        "\n",
        "tags.isnull().any()"
      ],
      "execution_count": 46,
      "outputs": [
        {
          "output_type": "execute_result",
          "data": {
            "text/plain": [
              "userId     False\n",
              "movieId    False\n",
              "tag        False\n",
              "dtype: bool"
            ]
          },
          "metadata": {
            "tags": []
          },
          "execution_count": 46
        }
      ]
    },
    {
      "metadata": {
        "id": "gVRLGO0Hy8TF",
        "colab_type": "code",
        "colab": {
          "base_uri": "https://localhost:8080/",
          "height": 34
        },
        "outputId": "30e58f6a-7207-469f-903b-99e14805c365"
      },
      "cell_type": "code",
      "source": [
        "tags.shape"
      ],
      "execution_count": 47,
      "outputs": [
        {
          "output_type": "execute_result",
          "data": {
            "text/plain": [
              "(465548, 3)"
            ]
          },
          "metadata": {
            "tags": []
          },
          "execution_count": 47
        }
      ]
    },
    {
      "metadata": {
        "collapsed": true,
        "id": "dx31TS3Sy8TG",
        "colab_type": "text"
      },
      "cell_type": "markdown",
      "source": [
        "Thats nice ! No NULL values ! Notice the number of lines have reduced."
      ]
    },
    {
      "metadata": {
        "id": "6gTV0rJzy8TG",
        "colab_type": "text"
      },
      "cell_type": "markdown",
      "source": [
        "<h1 style=\"font-size:2em;color:#2467C0\">Data Visualization</h1>"
      ]
    },
    {
      "metadata": {
        "id": "3E7w0w5Vy8TG",
        "colab_type": "code",
        "colab": {
          "base_uri": "https://localhost:8080/",
          "height": 640
        },
        "outputId": "403160c1-8e5c-4a93-a012-8d71032e2fde"
      },
      "cell_type": "code",
      "source": [
        "%matplotlib inline\n",
        "\n",
        "ratings.hist(column='rating', figsize=(15,10))"
      ],
      "execution_count": 48,
      "outputs": [
        {
          "output_type": "execute_result",
          "data": {
            "text/plain": [
              "array([[<matplotlib.axes._subplots.AxesSubplot object at 0x7fafcbffabe0>]],\n",
              "      dtype=object)"
            ]
          },
          "metadata": {
            "tags": []
          },
          "execution_count": 48
        },
        {
          "output_type": "display_data",
          "data": {
            "image/png": "[encoded data removed]",
            "text/plain": [
              "<matplotlib.figure.Figure at 0x7fb021115908>"
            ]
          },
          "metadata": {
            "tags": []
          }
        }
      ]
    },
    {
      "metadata": {
        "id": "-0rSm1YRy8TH",
        "colab_type": "code",
        "colab": {
          "base_uri": "https://localhost:8080/",
          "height": 1152
        },
        "outputId": "749bc8ee-877e-47b0-c120-a896b0c5f1c8"
      },
      "cell_type": "code",
      "source": [
        "ratings.boxplot(column='rating', figsize=(15,20))"
      ],
      "execution_count": 49,
      "outputs": [
        {
          "output_type": "execute_result",
          "data": {
            "text/plain": [
              "<matplotlib.axes._subplots.AxesSubplot at 0x7fafcbfb77f0>"
            ]
          },
          "metadata": {
            "tags": []
          },
          "execution_count": 49
        },
        {
          "output_type": "display_data",
          "data": {
            "image/png": "[encoded data removed]",
            "text/plain": [
              "<matplotlib.figure.Figure at 0x7fafcbf49940>"
            ]
          },
          "metadata": {
            "tags": []
          }
        }
      ]
    },
    {
      "metadata": {
        "id": "Zh4kUP-Fy8TI",
        "colab_type": "text"
      },
      "cell_type": "markdown",
      "source": [
        "<h1 style=\"font-size:2em;color:#2467C0\">Slicing Out Columns</h1>\n",
        " "
      ]
    },
    {
      "metadata": {
        "id": "kO_zPWwYy8TI",
        "colab_type": "code",
        "colab": {
          "base_uri": "https://localhost:8080/",
          "height": 119
        },
        "outputId": "2234090c-299e-4cf6-801a-25949fa11250"
      },
      "cell_type": "code",
      "source": [
        "tags['tag'].head()"
      ],
      "execution_count": 50,
      "outputs": [
        {
          "output_type": "execute_result",
          "data": {
            "text/plain": [
              "0      Mark Waters\n",
              "1        dark hero\n",
              "2        dark hero\n",
              "3    noir thriller\n",
              "4        dark hero\n",
              "Name: tag, dtype: object"
            ]
          },
          "metadata": {
            "tags": []
          },
          "execution_count": 50
        }
      ]
    },
    {
      "metadata": {
        "id": "lZHl2VJxy8TI",
        "colab_type": "code",
        "colab": {
          "base_uri": "https://localhost:8080/",
          "height": 204
        },
        "outputId": "0cf6924e-f4d4-43d8-d0d4-b2d4c67d1241"
      },
      "cell_type": "code",
      "source": [
        "movies[['title','genres']].head()"
      ],
      "execution_count": 51,
      "outputs": [
        {
          "output_type": "execute_result",
          "data": {
            "text/html": [
              "<div>\n",
              "<style scoped>\n",
              "    .dataframe tbody tr th:only-of-type {\n",
              "        vertical-align: middle;\n",
              "    }\n",
              "\n",
              "    .dataframe tbody tr th {\n",
              "        vertical-align: top;\n",
              "    }\n",
              "\n",
              "    .dataframe thead th {\n",
              "        text-align: right;\n",
              "    }\n",
              "</style>\n",
              "<table border=\"1\" class=\"dataframe\">\n",
              "  <thead>\n",
              "    <tr style=\"text-align: right;\">\n",
              "      <th></th>\n",
              "      <th>title</th>\n",
              "      <th>genres</th>\n",
              "    </tr>\n",
              "  </thead>\n",
              "  <tbody>\n",
              "    <tr>\n",
              "      <th>0</th>\n",
              "      <td>Toy Story (1995)</td>\n",
              "      <td>Adventure|Animation|Children|Comedy|Fantasy</td>\n",
              "    </tr>\n",
              "    <tr>\n",
              "      <th>1</th>\n",
              "      <td>Jumanji (1995)</td>\n",
              "      <td>Adventure|Children|Fantasy</td>\n",
              "    </tr>\n",
              "    <tr>\n",
              "      <th>2</th>\n",
              "      <td>Grumpier Old Men (1995)</td>\n",
              "      <td>Comedy|Romance</td>\n",
              "    </tr>\n",
              "    <tr>\n",
              "      <th>3</th>\n",
              "      <td>Waiting to Exhale (1995)</td>\n",
              "      <td>Comedy|Drama|Romance</td>\n",
              "    </tr>\n",
              "    <tr>\n",
              "      <th>4</th>\n",
              "      <td>Father of the Bride Part II (1995)</td>\n",
              "      <td>Comedy</td>\n",
              "    </tr>\n",
              "  </tbody>\n",
              "</table>\n",
              "</div>"
            ],
            "text/plain": [
              "                                title  \\\n",
              "0                    Toy Story (1995)   \n",
              "1                      Jumanji (1995)   \n",
              "2             Grumpier Old Men (1995)   \n",
              "3            Waiting to Exhale (1995)   \n",
              "4  Father of the Bride Part II (1995)   \n",
              "\n",
              "                                        genres  \n",
              "0  Adventure|Animation|Children|Comedy|Fantasy  \n",
              "1                   Adventure|Children|Fantasy  \n",
              "2                               Comedy|Romance  \n",
              "3                         Comedy|Drama|Romance  \n",
              "4                                       Comedy  "
            ]
          },
          "metadata": {
            "tags": []
          },
          "execution_count": 51
        }
      ]
    },
    {
      "metadata": {
        "id": "yIpEs51Yy8TJ",
        "colab_type": "code",
        "colab": {
          "base_uri": "https://localhost:8080/",
          "height": 359
        },
        "outputId": "ccc9862d-12fd-4faa-8d1f-df0c6e43b6dd"
      },
      "cell_type": "code",
      "source": [
        "ratings[-10:]"
      ],
      "execution_count": 52,
      "outputs": [
        {
          "output_type": "execute_result",
          "data": {
            "text/html": [
              "<div>\n",
              "<style scoped>\n",
              "    .dataframe tbody tr th:only-of-type {\n",
              "        vertical-align: middle;\n",
              "    }\n",
              "\n",
              "    .dataframe tbody tr th {\n",
              "        vertical-align: top;\n",
              "    }\n",
              "\n",
              "    .dataframe thead th {\n",
              "        text-align: right;\n",
              "    }\n",
              "</style>\n",
              "<table border=\"1\" class=\"dataframe\">\n",
              "  <thead>\n",
              "    <tr style=\"text-align: right;\">\n",
              "      <th></th>\n",
              "      <th>userId</th>\n",
              "      <th>movieId</th>\n",
              "      <th>rating</th>\n",
              "    </tr>\n",
              "  </thead>\n",
              "  <tbody>\n",
              "    <tr>\n",
              "      <th>20000253</th>\n",
              "      <td>138493</td>\n",
              "      <td>60816</td>\n",
              "      <td>4.5</td>\n",
              "    </tr>\n",
              "    <tr>\n",
              "      <th>20000254</th>\n",
              "      <td>138493</td>\n",
              "      <td>61160</td>\n",
              "      <td>4.0</td>\n",
              "    </tr>\n",
              "    <tr>\n",
              "      <th>20000255</th>\n",
              "      <td>138493</td>\n",
              "      <td>65682</td>\n",
              "      <td>4.5</td>\n",
              "    </tr>\n",
              "    <tr>\n",
              "      <th>20000256</th>\n",
              "      <td>138493</td>\n",
              "      <td>66762</td>\n",
              "      <td>4.5</td>\n",
              "    </tr>\n",
              "    <tr>\n",
              "      <th>20000257</th>\n",
              "      <td>138493</td>\n",
              "      <td>68319</td>\n",
              "      <td>4.5</td>\n",
              "    </tr>\n",
              "    <tr>\n",
              "      <th>20000258</th>\n",
              "      <td>138493</td>\n",
              "      <td>68954</td>\n",
              "      <td>4.5</td>\n",
              "    </tr>\n",
              "    <tr>\n",
              "      <th>20000259</th>\n",
              "      <td>138493</td>\n",
              "      <td>69526</td>\n",
              "      <td>4.5</td>\n",
              "    </tr>\n",
              "    <tr>\n",
              "      <th>20000260</th>\n",
              "      <td>138493</td>\n",
              "      <td>69644</td>\n",
              "      <td>3.0</td>\n",
              "    </tr>\n",
              "    <tr>\n",
              "      <th>20000261</th>\n",
              "      <td>138493</td>\n",
              "      <td>70286</td>\n",
              "      <td>5.0</td>\n",
              "    </tr>\n",
              "    <tr>\n",
              "      <th>20000262</th>\n",
              "      <td>138493</td>\n",
              "      <td>71619</td>\n",
              "      <td>2.5</td>\n",
              "    </tr>\n",
              "  </tbody>\n",
              "</table>\n",
              "</div>"
            ],
            "text/plain": [
              "          userId  movieId  rating\n",
              "20000253  138493    60816     4.5\n",
              "20000254  138493    61160     4.0\n",
              "20000255  138493    65682     4.5\n",
              "20000256  138493    66762     4.5\n",
              "20000257  138493    68319     4.5\n",
              "20000258  138493    68954     4.5\n",
              "20000259  138493    69526     4.5\n",
              "20000260  138493    69644     3.0\n",
              "20000261  138493    70286     5.0\n",
              "20000262  138493    71619     2.5"
            ]
          },
          "metadata": {
            "tags": []
          },
          "execution_count": 52
        }
      ]
    },
    {
      "metadata": {
        "id": "FCPcOkO8y8TK",
        "colab_type": "code",
        "colab": {
          "base_uri": "https://localhost:8080/",
          "height": 204
        },
        "outputId": "b1b25715-6cfb-4138-b7a2-2e077bcfaf5c"
      },
      "cell_type": "code",
      "source": [
        "tag_counts = tags['tag'].value_counts()\n",
        "tag_counts[-10:]"
      ],
      "execution_count": 53,
      "outputs": [
        {
          "output_type": "execute_result",
          "data": {
            "text/plain": [
              "sex education              1\n",
              "Concierge                  1\n",
              "Golden Dragon              1\n",
              "Anne Parillaud             1\n",
              "småland                    1\n",
              "vacuum cleaner salesman    1\n",
              "controlling                1\n",
              "very good!                 1\n",
              "finding love               1\n",
              "social realism             1\n",
              "Name: tag, dtype: int64"
            ]
          },
          "metadata": {
            "tags": []
          },
          "execution_count": 53
        }
      ]
    },
    {
      "metadata": {
        "id": "eHOrGSSHy8TK",
        "colab_type": "code",
        "colab": {
          "base_uri": "https://localhost:8080/",
          "height": 672
        },
        "outputId": "48b653fc-b23d-454f-fefd-f7b32616b5e1"
      },
      "cell_type": "code",
      "source": [
        "tag_counts[:10].plot(kind='bar', figsize=(15,10))"
      ],
      "execution_count": 54,
      "outputs": [
        {
          "output_type": "execute_result",
          "data": {
            "text/plain": [
              "<matplotlib.axes._subplots.AxesSubplot at 0x7fafc96b7780>"
            ]
          },
          "metadata": {
            "tags": []
          },
          "execution_count": 54
        },
        {
          "output_type": "display_data",
          "data": {
            "image/png": "[encoded data removed]",
            "text/plain": [
              "<matplotlib.figure.Figure at 0x7fafc96edb70>"
            ]
          },
          "metadata": {
            "tags": []
          }
        }
      ]
    },
    {
      "metadata": {
        "id": "NYsvPP4dy8TL",
        "colab_type": "text"
      },
      "cell_type": "markdown",
      "source": [
        "<h1 style=\"font-size:2em;color:#2467C0\">Filters for Selecting Rows</h1>"
      ]
    },
    {
      "metadata": {
        "id": "ErzMpwdwy8TL",
        "colab_type": "code",
        "colab": {
          "base_uri": "https://localhost:8080/",
          "height": 669
        },
        "outputId": "82f9f070-7e0a-4171-8cbc-b99a4a124cea"
      },
      "cell_type": "code",
      "source": [
        "is_highly_rated = ratings['rating'] >= 4.0\n",
        "\n",
        "ratings[is_highly_rated][30:50]"
      ],
      "execution_count": 55,
      "outputs": [
        {
          "output_type": "execute_result",
          "data": {
            "text/html": [
              "<div>\n",
              "<style scoped>\n",
              "    .dataframe tbody tr th:only-of-type {\n",
              "        vertical-align: middle;\n",
              "    }\n",
              "\n",
              "    .dataframe tbody tr th {\n",
              "        vertical-align: top;\n",
              "    }\n",
              "\n",
              "    .dataframe thead th {\n",
              "        text-align: right;\n",
              "    }\n",
              "</style>\n",
              "<table border=\"1\" class=\"dataframe\">\n",
              "  <thead>\n",
              "    <tr style=\"text-align: right;\">\n",
              "      <th></th>\n",
              "      <th>userId</th>\n",
              "      <th>movieId</th>\n",
              "      <th>rating</th>\n",
              "    </tr>\n",
              "  </thead>\n",
              "  <tbody>\n",
              "    <tr>\n",
              "      <th>68</th>\n",
              "      <td>1</td>\n",
              "      <td>2021</td>\n",
              "      <td>4.0</td>\n",
              "    </tr>\n",
              "    <tr>\n",
              "      <th>69</th>\n",
              "      <td>1</td>\n",
              "      <td>2100</td>\n",
              "      <td>4.0</td>\n",
              "    </tr>\n",
              "    <tr>\n",
              "      <th>70</th>\n",
              "      <td>1</td>\n",
              "      <td>2118</td>\n",
              "      <td>4.0</td>\n",
              "    </tr>\n",
              "    <tr>\n",
              "      <th>71</th>\n",
              "      <td>1</td>\n",
              "      <td>2138</td>\n",
              "      <td>4.0</td>\n",
              "    </tr>\n",
              "    <tr>\n",
              "      <th>72</th>\n",
              "      <td>1</td>\n",
              "      <td>2140</td>\n",
              "      <td>4.0</td>\n",
              "    </tr>\n",
              "    <tr>\n",
              "      <th>73</th>\n",
              "      <td>1</td>\n",
              "      <td>2143</td>\n",
              "      <td>4.0</td>\n",
              "    </tr>\n",
              "    <tr>\n",
              "      <th>74</th>\n",
              "      <td>1</td>\n",
              "      <td>2173</td>\n",
              "      <td>4.0</td>\n",
              "    </tr>\n",
              "    <tr>\n",
              "      <th>75</th>\n",
              "      <td>1</td>\n",
              "      <td>2174</td>\n",
              "      <td>4.0</td>\n",
              "    </tr>\n",
              "    <tr>\n",
              "      <th>76</th>\n",
              "      <td>1</td>\n",
              "      <td>2193</td>\n",
              "      <td>4.0</td>\n",
              "    </tr>\n",
              "    <tr>\n",
              "      <th>79</th>\n",
              "      <td>1</td>\n",
              "      <td>2288</td>\n",
              "      <td>4.0</td>\n",
              "    </tr>\n",
              "    <tr>\n",
              "      <th>80</th>\n",
              "      <td>1</td>\n",
              "      <td>2291</td>\n",
              "      <td>4.0</td>\n",
              "    </tr>\n",
              "    <tr>\n",
              "      <th>81</th>\n",
              "      <td>1</td>\n",
              "      <td>2542</td>\n",
              "      <td>4.0</td>\n",
              "    </tr>\n",
              "    <tr>\n",
              "      <th>82</th>\n",
              "      <td>1</td>\n",
              "      <td>2628</td>\n",
              "      <td>4.0</td>\n",
              "    </tr>\n",
              "    <tr>\n",
              "      <th>90</th>\n",
              "      <td>1</td>\n",
              "      <td>2762</td>\n",
              "      <td>4.0</td>\n",
              "    </tr>\n",
              "    <tr>\n",
              "      <th>92</th>\n",
              "      <td>1</td>\n",
              "      <td>2872</td>\n",
              "      <td>4.0</td>\n",
              "    </tr>\n",
              "    <tr>\n",
              "      <th>94</th>\n",
              "      <td>1</td>\n",
              "      <td>2944</td>\n",
              "      <td>4.0</td>\n",
              "    </tr>\n",
              "    <tr>\n",
              "      <th>96</th>\n",
              "      <td>1</td>\n",
              "      <td>2959</td>\n",
              "      <td>4.0</td>\n",
              "    </tr>\n",
              "    <tr>\n",
              "      <th>97</th>\n",
              "      <td>1</td>\n",
              "      <td>2968</td>\n",
              "      <td>4.0</td>\n",
              "    </tr>\n",
              "    <tr>\n",
              "      <th>101</th>\n",
              "      <td>1</td>\n",
              "      <td>3081</td>\n",
              "      <td>4.0</td>\n",
              "    </tr>\n",
              "    <tr>\n",
              "      <th>102</th>\n",
              "      <td>1</td>\n",
              "      <td>3153</td>\n",
              "      <td>4.0</td>\n",
              "    </tr>\n",
              "  </tbody>\n",
              "</table>\n",
              "</div>"
            ],
            "text/plain": [
              "     userId  movieId  rating\n",
              "68        1     2021     4.0\n",
              "69        1     2100     4.0\n",
              "70        1     2118     4.0\n",
              "71        1     2138     4.0\n",
              "72        1     2140     4.0\n",
              "73        1     2143     4.0\n",
              "74        1     2173     4.0\n",
              "75        1     2174     4.0\n",
              "76        1     2193     4.0\n",
              "79        1     2288     4.0\n",
              "80        1     2291     4.0\n",
              "81        1     2542     4.0\n",
              "82        1     2628     4.0\n",
              "90        1     2762     4.0\n",
              "92        1     2872     4.0\n",
              "94        1     2944     4.0\n",
              "96        1     2959     4.0\n",
              "97        1     2968     4.0\n",
              "101       1     3081     4.0\n",
              "102       1     3153     4.0"
            ]
          },
          "metadata": {
            "tags": []
          },
          "execution_count": 55
        }
      ]
    },
    {
      "metadata": {
        "id": "ChWMauvTy8TM",
        "colab_type": "code",
        "colab": {
          "base_uri": "https://localhost:8080/",
          "height": 359
        },
        "outputId": "cb7ce94e-d2e4-494f-fea2-1286c50ad24d"
      },
      "cell_type": "code",
      "source": [
        "is_animation = movies['genres'].str.contains('Animation')\n",
        "\n",
        "movies[is_animation][5:15]"
      ],
      "execution_count": 56,
      "outputs": [
        {
          "output_type": "execute_result",
          "data": {
            "text/html": [
              "<div>\n",
              "<style scoped>\n",
              "    .dataframe tbody tr th:only-of-type {\n",
              "        vertical-align: middle;\n",
              "    }\n",
              "\n",
              "    .dataframe tbody tr th {\n",
              "        vertical-align: top;\n",
              "    }\n",
              "\n",
              "    .dataframe thead th {\n",
              "        text-align: right;\n",
              "    }\n",
              "</style>\n",
              "<table border=\"1\" class=\"dataframe\">\n",
              "  <thead>\n",
              "    <tr style=\"text-align: right;\">\n",
              "      <th></th>\n",
              "      <th>movieId</th>\n",
              "      <th>title</th>\n",
              "      <th>genres</th>\n",
              "    </tr>\n",
              "  </thead>\n",
              "  <tbody>\n",
              "    <tr>\n",
              "      <th>310</th>\n",
              "      <td>313</td>\n",
              "      <td>Swan Princess, The (1994)</td>\n",
              "      <td>Animation|Children</td>\n",
              "    </tr>\n",
              "    <tr>\n",
              "      <th>360</th>\n",
              "      <td>364</td>\n",
              "      <td>Lion King, The (1994)</td>\n",
              "      <td>Adventure|Animation|Children|Drama|Musical|IMAX</td>\n",
              "    </tr>\n",
              "    <tr>\n",
              "      <th>388</th>\n",
              "      <td>392</td>\n",
              "      <td>Secret Adventures of Tom Thumb, The (1993)</td>\n",
              "      <td>Adventure|Animation</td>\n",
              "    </tr>\n",
              "    <tr>\n",
              "      <th>547</th>\n",
              "      <td>551</td>\n",
              "      <td>Nightmare Before Christmas, The (1993)</td>\n",
              "      <td>Animation|Children|Fantasy|Musical</td>\n",
              "    </tr>\n",
              "    <tr>\n",
              "      <th>553</th>\n",
              "      <td>558</td>\n",
              "      <td>Pagemaster, The (1994)</td>\n",
              "      <td>Action|Adventure|Animation|Children|Fantasy</td>\n",
              "    </tr>\n",
              "    <tr>\n",
              "      <th>582</th>\n",
              "      <td>588</td>\n",
              "      <td>Aladdin (1992)</td>\n",
              "      <td>Adventure|Animation|Children|Comedy|Musical</td>\n",
              "    </tr>\n",
              "    <tr>\n",
              "      <th>588</th>\n",
              "      <td>594</td>\n",
              "      <td>Snow White and the Seven Dwarfs (1937)</td>\n",
              "      <td>Animation|Children|Drama|Fantasy|Musical</td>\n",
              "    </tr>\n",
              "    <tr>\n",
              "      <th>589</th>\n",
              "      <td>595</td>\n",
              "      <td>Beauty and the Beast (1991)</td>\n",
              "      <td>Animation|Children|Fantasy|Musical|Romance|IMAX</td>\n",
              "    </tr>\n",
              "    <tr>\n",
              "      <th>590</th>\n",
              "      <td>596</td>\n",
              "      <td>Pinocchio (1940)</td>\n",
              "      <td>Animation|Children|Fantasy|Musical</td>\n",
              "    </tr>\n",
              "    <tr>\n",
              "      <th>604</th>\n",
              "      <td>610</td>\n",
              "      <td>Heavy Metal (1981)</td>\n",
              "      <td>Action|Adventure|Animation|Horror|Sci-Fi</td>\n",
              "    </tr>\n",
              "  </tbody>\n",
              "</table>\n",
              "</div>"
            ],
            "text/plain": [
              "     movieId                                       title  \\\n",
              "310      313                   Swan Princess, The (1994)   \n",
              "360      364                       Lion King, The (1994)   \n",
              "388      392  Secret Adventures of Tom Thumb, The (1993)   \n",
              "547      551      Nightmare Before Christmas, The (1993)   \n",
              "553      558                      Pagemaster, The (1994)   \n",
              "582      588                              Aladdin (1992)   \n",
              "588      594      Snow White and the Seven Dwarfs (1937)   \n",
              "589      595                 Beauty and the Beast (1991)   \n",
              "590      596                            Pinocchio (1940)   \n",
              "604      610                          Heavy Metal (1981)   \n",
              "\n",
              "                                              genres  \n",
              "310                               Animation|Children  \n",
              "360  Adventure|Animation|Children|Drama|Musical|IMAX  \n",
              "388                              Adventure|Animation  \n",
              "547               Animation|Children|Fantasy|Musical  \n",
              "553      Action|Adventure|Animation|Children|Fantasy  \n",
              "582      Adventure|Animation|Children|Comedy|Musical  \n",
              "588         Animation|Children|Drama|Fantasy|Musical  \n",
              "589  Animation|Children|Fantasy|Musical|Romance|IMAX  \n",
              "590               Animation|Children|Fantasy|Musical  \n",
              "604         Action|Adventure|Animation|Horror|Sci-Fi  "
            ]
          },
          "metadata": {
            "tags": []
          },
          "execution_count": 56
        }
      ]
    },
    {
      "metadata": {
        "id": "P1fEwt5Ay8TN",
        "colab_type": "code",
        "colab": {
          "base_uri": "https://localhost:8080/",
          "height": 514
        },
        "outputId": "5c3796c8-f03b-4b47-d65a-2bdac682e2c9"
      },
      "cell_type": "code",
      "source": [
        "movies[is_animation].head(15)"
      ],
      "execution_count": 57,
      "outputs": [
        {
          "output_type": "execute_result",
          "data": {
            "text/html": [
              "<div>\n",
              "<style scoped>\n",
              "    .dataframe tbody tr th:only-of-type {\n",
              "        vertical-align: middle;\n",
              "    }\n",
              "\n",
              "    .dataframe tbody tr th {\n",
              "        vertical-align: top;\n",
              "    }\n",
              "\n",
              "    .dataframe thead th {\n",
              "        text-align: right;\n",
              "    }\n",
              "</style>\n",
              "<table border=\"1\" class=\"dataframe\">\n",
              "  <thead>\n",
              "    <tr style=\"text-align: right;\">\n",
              "      <th></th>\n",
              "      <th>movieId</th>\n",
              "      <th>title</th>\n",
              "      <th>genres</th>\n",
              "    </tr>\n",
              "  </thead>\n",
              "  <tbody>\n",
              "    <tr>\n",
              "      <th>0</th>\n",
              "      <td>1</td>\n",
              "      <td>Toy Story (1995)</td>\n",
              "      <td>Adventure|Animation|Children|Comedy|Fantasy</td>\n",
              "    </tr>\n",
              "    <tr>\n",
              "      <th>12</th>\n",
              "      <td>13</td>\n",
              "      <td>Balto (1995)</td>\n",
              "      <td>Adventure|Animation|Children</td>\n",
              "    </tr>\n",
              "    <tr>\n",
              "      <th>47</th>\n",
              "      <td>48</td>\n",
              "      <td>Pocahontas (1995)</td>\n",
              "      <td>Animation|Children|Drama|Musical|Romance</td>\n",
              "    </tr>\n",
              "    <tr>\n",
              "      <th>236</th>\n",
              "      <td>239</td>\n",
              "      <td>Goofy Movie, A (1995)</td>\n",
              "      <td>Animation|Children|Comedy|Romance</td>\n",
              "    </tr>\n",
              "    <tr>\n",
              "      <th>241</th>\n",
              "      <td>244</td>\n",
              "      <td>Gumby: The Movie (1995)</td>\n",
              "      <td>Animation|Children</td>\n",
              "    </tr>\n",
              "    <tr>\n",
              "      <th>310</th>\n",
              "      <td>313</td>\n",
              "      <td>Swan Princess, The (1994)</td>\n",
              "      <td>Animation|Children</td>\n",
              "    </tr>\n",
              "    <tr>\n",
              "      <th>360</th>\n",
              "      <td>364</td>\n",
              "      <td>Lion King, The (1994)</td>\n",
              "      <td>Adventure|Animation|Children|Drama|Musical|IMAX</td>\n",
              "    </tr>\n",
              "    <tr>\n",
              "      <th>388</th>\n",
              "      <td>392</td>\n",
              "      <td>Secret Adventures of Tom Thumb, The (1993)</td>\n",
              "      <td>Adventure|Animation</td>\n",
              "    </tr>\n",
              "    <tr>\n",
              "      <th>547</th>\n",
              "      <td>551</td>\n",
              "      <td>Nightmare Before Christmas, The (1993)</td>\n",
              "      <td>Animation|Children|Fantasy|Musical</td>\n",
              "    </tr>\n",
              "    <tr>\n",
              "      <th>553</th>\n",
              "      <td>558</td>\n",
              "      <td>Pagemaster, The (1994)</td>\n",
              "      <td>Action|Adventure|Animation|Children|Fantasy</td>\n",
              "    </tr>\n",
              "    <tr>\n",
              "      <th>582</th>\n",
              "      <td>588</td>\n",
              "      <td>Aladdin (1992)</td>\n",
              "      <td>Adventure|Animation|Children|Comedy|Musical</td>\n",
              "    </tr>\n",
              "    <tr>\n",
              "      <th>588</th>\n",
              "      <td>594</td>\n",
              "      <td>Snow White and the Seven Dwarfs (1937)</td>\n",
              "      <td>Animation|Children|Drama|Fantasy|Musical</td>\n",
              "    </tr>\n",
              "    <tr>\n",
              "      <th>589</th>\n",
              "      <td>595</td>\n",
              "      <td>Beauty and the Beast (1991)</td>\n",
              "      <td>Animation|Children|Fantasy|Musical|Romance|IMAX</td>\n",
              "    </tr>\n",
              "    <tr>\n",
              "      <th>590</th>\n",
              "      <td>596</td>\n",
              "      <td>Pinocchio (1940)</td>\n",
              "      <td>Animation|Children|Fantasy|Musical</td>\n",
              "    </tr>\n",
              "    <tr>\n",
              "      <th>604</th>\n",
              "      <td>610</td>\n",
              "      <td>Heavy Metal (1981)</td>\n",
              "      <td>Action|Adventure|Animation|Horror|Sci-Fi</td>\n",
              "    </tr>\n",
              "  </tbody>\n",
              "</table>\n",
              "</div>"
            ],
            "text/plain": [
              "     movieId                                       title  \\\n",
              "0          1                            Toy Story (1995)   \n",
              "12        13                                Balto (1995)   \n",
              "47        48                           Pocahontas (1995)   \n",
              "236      239                       Goofy Movie, A (1995)   \n",
              "241      244                     Gumby: The Movie (1995)   \n",
              "310      313                   Swan Princess, The (1994)   \n",
              "360      364                       Lion King, The (1994)   \n",
              "388      392  Secret Adventures of Tom Thumb, The (1993)   \n",
              "547      551      Nightmare Before Christmas, The (1993)   \n",
              "553      558                      Pagemaster, The (1994)   \n",
              "582      588                              Aladdin (1992)   \n",
              "588      594      Snow White and the Seven Dwarfs (1937)   \n",
              "589      595                 Beauty and the Beast (1991)   \n",
              "590      596                            Pinocchio (1940)   \n",
              "604      610                          Heavy Metal (1981)   \n",
              "\n",
              "                                              genres  \n",
              "0        Adventure|Animation|Children|Comedy|Fantasy  \n",
              "12                      Adventure|Animation|Children  \n",
              "47          Animation|Children|Drama|Musical|Romance  \n",
              "236                Animation|Children|Comedy|Romance  \n",
              "241                               Animation|Children  \n",
              "310                               Animation|Children  \n",
              "360  Adventure|Animation|Children|Drama|Musical|IMAX  \n",
              "388                              Adventure|Animation  \n",
              "547               Animation|Children|Fantasy|Musical  \n",
              "553      Action|Adventure|Animation|Children|Fantasy  \n",
              "582      Adventure|Animation|Children|Comedy|Musical  \n",
              "588         Animation|Children|Drama|Fantasy|Musical  \n",
              "589  Animation|Children|Fantasy|Musical|Romance|IMAX  \n",
              "590               Animation|Children|Fantasy|Musical  \n",
              "604         Action|Adventure|Animation|Horror|Sci-Fi  "
            ]
          },
          "metadata": {
            "tags": []
          },
          "execution_count": 57
        }
      ]
    },
    {
      "metadata": {
        "id": "bEUtOi09y8TN",
        "colab_type": "text"
      },
      "cell_type": "markdown",
      "source": [
        "<h1 style=\"font-size:2em;color:#2467C0\">Group By and Aggregate </h1>"
      ]
    },
    {
      "metadata": {
        "id": "tcLcwviHy8TN",
        "colab_type": "code",
        "colab": {
          "base_uri": "https://localhost:8080/",
          "height": 390
        },
        "outputId": "3ddd1cad-9f39-42c2-9ce8-f9585e552af9"
      },
      "cell_type": "code",
      "source": [
        "ratings_count = ratings[['movieId','rating']].groupby('rating').count()\n",
        "ratings_count"
      ],
      "execution_count": 58,
      "outputs": [
        {
          "output_type": "execute_result",
          "data": {
            "text/html": [
              "<div>\n",
              "<style scoped>\n",
              "    .dataframe tbody tr th:only-of-type {\n",
              "        vertical-align: middle;\n",
              "    }\n",
              "\n",
              "    .dataframe tbody tr th {\n",
              "        vertical-align: top;\n",
              "    }\n",
              "\n",
              "    .dataframe thead th {\n",
              "        text-align: right;\n",
              "    }\n",
              "</style>\n",
              "<table border=\"1\" class=\"dataframe\">\n",
              "  <thead>\n",
              "    <tr style=\"text-align: right;\">\n",
              "      <th></th>\n",
              "      <th>movieId</th>\n",
              "    </tr>\n",
              "    <tr>\n",
              "      <th>rating</th>\n",
              "      <th></th>\n",
              "    </tr>\n",
              "  </thead>\n",
              "  <tbody>\n",
              "    <tr>\n",
              "      <th>0.5</th>\n",
              "      <td>239125</td>\n",
              "    </tr>\n",
              "    <tr>\n",
              "      <th>1.0</th>\n",
              "      <td>680732</td>\n",
              "    </tr>\n",
              "    <tr>\n",
              "      <th>1.5</th>\n",
              "      <td>279252</td>\n",
              "    </tr>\n",
              "    <tr>\n",
              "      <th>2.0</th>\n",
              "      <td>1430997</td>\n",
              "    </tr>\n",
              "    <tr>\n",
              "      <th>2.5</th>\n",
              "      <td>883398</td>\n",
              "    </tr>\n",
              "    <tr>\n",
              "      <th>3.0</th>\n",
              "      <td>4291193</td>\n",
              "    </tr>\n",
              "    <tr>\n",
              "      <th>3.5</th>\n",
              "      <td>2200156</td>\n",
              "    </tr>\n",
              "    <tr>\n",
              "      <th>4.0</th>\n",
              "      <td>5561926</td>\n",
              "    </tr>\n",
              "    <tr>\n",
              "      <th>4.5</th>\n",
              "      <td>1534824</td>\n",
              "    </tr>\n",
              "    <tr>\n",
              "      <th>5.0</th>\n",
              "      <td>2898660</td>\n",
              "    </tr>\n",
              "  </tbody>\n",
              "</table>\n",
              "</div>"
            ],
            "text/plain": [
              "        movieId\n",
              "rating         \n",
              "0.5      239125\n",
              "1.0      680732\n",
              "1.5      279252\n",
              "2.0     1430997\n",
              "2.5      883398\n",
              "3.0     4291193\n",
              "3.5     2200156\n",
              "4.0     5561926\n",
              "4.5     1534824\n",
              "5.0     2898660"
            ]
          },
          "metadata": {
            "tags": []
          },
          "execution_count": 58
        }
      ]
    },
    {
      "metadata": {
        "id": "Cm2ORjLly8TO",
        "colab_type": "code",
        "colab": {
          "base_uri": "https://localhost:8080/",
          "height": 235
        },
        "outputId": "d6711fbb-b66d-449d-d53d-53a8a23b1c52"
      },
      "cell_type": "code",
      "source": [
        "average_rating = ratings[['movieId','rating']].groupby('movieId').mean()\n",
        "average_rating.head()"
      ],
      "execution_count": 59,
      "outputs": [
        {
          "output_type": "execute_result",
          "data": {
            "text/html": [
              "<div>\n",
              "<style scoped>\n",
              "    .dataframe tbody tr th:only-of-type {\n",
              "        vertical-align: middle;\n",
              "    }\n",
              "\n",
              "    .dataframe tbody tr th {\n",
              "        vertical-align: top;\n",
              "    }\n",
              "\n",
              "    .dataframe thead th {\n",
              "        text-align: right;\n",
              "    }\n",
              "</style>\n",
              "<table border=\"1\" class=\"dataframe\">\n",
              "  <thead>\n",
              "    <tr style=\"text-align: right;\">\n",
              "      <th></th>\n",
              "      <th>rating</th>\n",
              "    </tr>\n",
              "    <tr>\n",
              "      <th>movieId</th>\n",
              "      <th></th>\n",
              "    </tr>\n",
              "  </thead>\n",
              "  <tbody>\n",
              "    <tr>\n",
              "      <th>1</th>\n",
              "      <td>3.921240</td>\n",
              "    </tr>\n",
              "    <tr>\n",
              "      <th>2</th>\n",
              "      <td>3.211977</td>\n",
              "    </tr>\n",
              "    <tr>\n",
              "      <th>3</th>\n",
              "      <td>3.151040</td>\n",
              "    </tr>\n",
              "    <tr>\n",
              "      <th>4</th>\n",
              "      <td>2.861393</td>\n",
              "    </tr>\n",
              "    <tr>\n",
              "      <th>5</th>\n",
              "      <td>3.064592</td>\n",
              "    </tr>\n",
              "  </tbody>\n",
              "</table>\n",
              "</div>"
            ],
            "text/plain": [
              "           rating\n",
              "movieId          \n",
              "1        3.921240\n",
              "2        3.211977\n",
              "3        3.151040\n",
              "4        2.861393\n",
              "5        3.064592"
            ]
          },
          "metadata": {
            "tags": []
          },
          "execution_count": 59
        }
      ]
    },
    {
      "metadata": {
        "id": "EDMYKRpBy8TP",
        "colab_type": "code",
        "colab": {
          "base_uri": "https://localhost:8080/",
          "height": 235
        },
        "outputId": "d2922afd-f55f-4b8e-9a37-9ef3e56d62cc"
      },
      "cell_type": "code",
      "source": [
        "movie_count = ratings[['movieId','rating']].groupby('movieId').count()\n",
        "movie_count.head()"
      ],
      "execution_count": 60,
      "outputs": [
        {
          "output_type": "execute_result",
          "data": {
            "text/html": [
              "<div>\n",
              "<style scoped>\n",
              "    .dataframe tbody tr th:only-of-type {\n",
              "        vertical-align: middle;\n",
              "    }\n",
              "\n",
              "    .dataframe tbody tr th {\n",
              "        vertical-align: top;\n",
              "    }\n",
              "\n",
              "    .dataframe thead th {\n",
              "        text-align: right;\n",
              "    }\n",
              "</style>\n",
              "<table border=\"1\" class=\"dataframe\">\n",
              "  <thead>\n",
              "    <tr style=\"text-align: right;\">\n",
              "      <th></th>\n",
              "      <th>rating</th>\n",
              "    </tr>\n",
              "    <tr>\n",
              "      <th>movieId</th>\n",
              "      <th></th>\n",
              "    </tr>\n",
              "  </thead>\n",
              "  <tbody>\n",
              "    <tr>\n",
              "      <th>1</th>\n",
              "      <td>49695</td>\n",
              "    </tr>\n",
              "    <tr>\n",
              "      <th>2</th>\n",
              "      <td>22243</td>\n",
              "    </tr>\n",
              "    <tr>\n",
              "      <th>3</th>\n",
              "      <td>12735</td>\n",
              "    </tr>\n",
              "    <tr>\n",
              "      <th>4</th>\n",
              "      <td>2756</td>\n",
              "    </tr>\n",
              "    <tr>\n",
              "      <th>5</th>\n",
              "      <td>12161</td>\n",
              "    </tr>\n",
              "  </tbody>\n",
              "</table>\n",
              "</div>"
            ],
            "text/plain": [
              "         rating\n",
              "movieId        \n",
              "1         49695\n",
              "2         22243\n",
              "3         12735\n",
              "4          2756\n",
              "5         12161"
            ]
          },
          "metadata": {
            "tags": []
          },
          "execution_count": 60
        }
      ]
    },
    {
      "metadata": {
        "id": "WLPSN5g3y8TP",
        "colab_type": "code",
        "colab": {
          "base_uri": "https://localhost:8080/",
          "height": 235
        },
        "outputId": "26978cd9-98be-4f04-8091-1dca956dee75"
      },
      "cell_type": "code",
      "source": [
        "movie_count = ratings[['movieId','rating']].groupby('movieId').count()\n",
        "movie_count.tail()"
      ],
      "execution_count": 61,
      "outputs": [
        {
          "output_type": "execute_result",
          "data": {
            "text/html": [
              "<div>\n",
              "<style scoped>\n",
              "    .dataframe tbody tr th:only-of-type {\n",
              "        vertical-align: middle;\n",
              "    }\n",
              "\n",
              "    .dataframe tbody tr th {\n",
              "        vertical-align: top;\n",
              "    }\n",
              "\n",
              "    .dataframe thead th {\n",
              "        text-align: right;\n",
              "    }\n",
              "</style>\n",
              "<table border=\"1\" class=\"dataframe\">\n",
              "  <thead>\n",
              "    <tr style=\"text-align: right;\">\n",
              "      <th></th>\n",
              "      <th>rating</th>\n",
              "    </tr>\n",
              "    <tr>\n",
              "      <th>movieId</th>\n",
              "      <th></th>\n",
              "    </tr>\n",
              "  </thead>\n",
              "  <tbody>\n",
              "    <tr>\n",
              "      <th>131254</th>\n",
              "      <td>1</td>\n",
              "    </tr>\n",
              "    <tr>\n",
              "      <th>131256</th>\n",
              "      <td>1</td>\n",
              "    </tr>\n",
              "    <tr>\n",
              "      <th>131258</th>\n",
              "      <td>1</td>\n",
              "    </tr>\n",
              "    <tr>\n",
              "      <th>131260</th>\n",
              "      <td>1</td>\n",
              "    </tr>\n",
              "    <tr>\n",
              "      <th>131262</th>\n",
              "      <td>1</td>\n",
              "    </tr>\n",
              "  </tbody>\n",
              "</table>\n",
              "</div>"
            ],
            "text/plain": [
              "         rating\n",
              "movieId        \n",
              "131254        1\n",
              "131256        1\n",
              "131258        1\n",
              "131260        1\n",
              "131262        1"
            ]
          },
          "metadata": {
            "tags": []
          },
          "execution_count": 61
        }
      ]
    },
    {
      "metadata": {
        "id": "GqdoTXMIy8TQ",
        "colab_type": "text"
      },
      "cell_type": "markdown",
      "source": [
        "<h1 style=\"font-size:2em;color:#2467C0\">Merge Dataframes</h1>"
      ]
    },
    {
      "metadata": {
        "id": "zYCmTWTcy8TQ",
        "colab_type": "code",
        "colab": {
          "base_uri": "https://localhost:8080/",
          "height": 204
        },
        "outputId": "12134798-f9ec-42aa-cc67-dcdb58fee43d"
      },
      "cell_type": "code",
      "source": [
        "tags.head()"
      ],
      "execution_count": 62,
      "outputs": [
        {
          "output_type": "execute_result",
          "data": {
            "text/html": [
              "<div>\n",
              "<style scoped>\n",
              "    .dataframe tbody tr th:only-of-type {\n",
              "        vertical-align: middle;\n",
              "    }\n",
              "\n",
              "    .dataframe tbody tr th {\n",
              "        vertical-align: top;\n",
              "    }\n",
              "\n",
              "    .dataframe thead th {\n",
              "        text-align: right;\n",
              "    }\n",
              "</style>\n",
              "<table border=\"1\" class=\"dataframe\">\n",
              "  <thead>\n",
              "    <tr style=\"text-align: right;\">\n",
              "      <th></th>\n",
              "      <th>userId</th>\n",
              "      <th>movieId</th>\n",
              "      <th>tag</th>\n",
              "    </tr>\n",
              "  </thead>\n",
              "  <tbody>\n",
              "    <tr>\n",
              "      <th>0</th>\n",
              "      <td>18</td>\n",
              "      <td>4141</td>\n",
              "      <td>Mark Waters</td>\n",
              "    </tr>\n",
              "    <tr>\n",
              "      <th>1</th>\n",
              "      <td>65</td>\n",
              "      <td>208</td>\n",
              "      <td>dark hero</td>\n",
              "    </tr>\n",
              "    <tr>\n",
              "      <th>2</th>\n",
              "      <td>65</td>\n",
              "      <td>353</td>\n",
              "      <td>dark hero</td>\n",
              "    </tr>\n",
              "    <tr>\n",
              "      <th>3</th>\n",
              "      <td>65</td>\n",
              "      <td>521</td>\n",
              "      <td>noir thriller</td>\n",
              "    </tr>\n",
              "    <tr>\n",
              "      <th>4</th>\n",
              "      <td>65</td>\n",
              "      <td>592</td>\n",
              "      <td>dark hero</td>\n",
              "    </tr>\n",
              "  </tbody>\n",
              "</table>\n",
              "</div>"
            ],
            "text/plain": [
              "   userId  movieId            tag\n",
              "0      18     4141    Mark Waters\n",
              "1      65      208      dark hero\n",
              "2      65      353      dark hero\n",
              "3      65      521  noir thriller\n",
              "4      65      592      dark hero"
            ]
          },
          "metadata": {
            "tags": []
          },
          "execution_count": 62
        }
      ]
    },
    {
      "metadata": {
        "id": "kCTQ67Hgy8TR",
        "colab_type": "code",
        "colab": {
          "base_uri": "https://localhost:8080/",
          "height": 204
        },
        "outputId": "bb5f3c4f-07e4-4592-c840-9ccc41830469"
      },
      "cell_type": "code",
      "source": [
        "movies.head()"
      ],
      "execution_count": 63,
      "outputs": [
        {
          "output_type": "execute_result",
          "data": {
            "text/html": [
              "<div>\n",
              "<style scoped>\n",
              "    .dataframe tbody tr th:only-of-type {\n",
              "        vertical-align: middle;\n",
              "    }\n",
              "\n",
              "    .dataframe tbody tr th {\n",
              "        vertical-align: top;\n",
              "    }\n",
              "\n",
              "    .dataframe thead th {\n",
              "        text-align: right;\n",
              "    }\n",
              "</style>\n",
              "<table border=\"1\" class=\"dataframe\">\n",
              "  <thead>\n",
              "    <tr style=\"text-align: right;\">\n",
              "      <th></th>\n",
              "      <th>movieId</th>\n",
              "      <th>title</th>\n",
              "      <th>genres</th>\n",
              "    </tr>\n",
              "  </thead>\n",
              "  <tbody>\n",
              "    <tr>\n",
              "      <th>0</th>\n",
              "      <td>1</td>\n",
              "      <td>Toy Story (1995)</td>\n",
              "      <td>Adventure|Animation|Children|Comedy|Fantasy</td>\n",
              "    </tr>\n",
              "    <tr>\n",
              "      <th>1</th>\n",
              "      <td>2</td>\n",
              "      <td>Jumanji (1995)</td>\n",
              "      <td>Adventure|Children|Fantasy</td>\n",
              "    </tr>\n",
              "    <tr>\n",
              "      <th>2</th>\n",
              "      <td>3</td>\n",
              "      <td>Grumpier Old Men (1995)</td>\n",
              "      <td>Comedy|Romance</td>\n",
              "    </tr>\n",
              "    <tr>\n",
              "      <th>3</th>\n",
              "      <td>4</td>\n",
              "      <td>Waiting to Exhale (1995)</td>\n",
              "      <td>Comedy|Drama|Romance</td>\n",
              "    </tr>\n",
              "    <tr>\n",
              "      <th>4</th>\n",
              "      <td>5</td>\n",
              "      <td>Father of the Bride Part II (1995)</td>\n",
              "      <td>Comedy</td>\n",
              "    </tr>\n",
              "  </tbody>\n",
              "</table>\n",
              "</div>"
            ],
            "text/plain": [
              "   movieId                               title  \\\n",
              "0        1                    Toy Story (1995)   \n",
              "1        2                      Jumanji (1995)   \n",
              "2        3             Grumpier Old Men (1995)   \n",
              "3        4            Waiting to Exhale (1995)   \n",
              "4        5  Father of the Bride Part II (1995)   \n",
              "\n",
              "                                        genres  \n",
              "0  Adventure|Animation|Children|Comedy|Fantasy  \n",
              "1                   Adventure|Children|Fantasy  \n",
              "2                               Comedy|Romance  \n",
              "3                         Comedy|Drama|Romance  \n",
              "4                                       Comedy  "
            ]
          },
          "metadata": {
            "tags": []
          },
          "execution_count": 63
        }
      ]
    },
    {
      "metadata": {
        "id": "CUM_h4nhy8TS",
        "colab_type": "code",
        "colab": {
          "base_uri": "https://localhost:8080/",
          "height": 204
        },
        "outputId": "5035a88e-1a06-4d9a-882b-7dd3f90a5220"
      },
      "cell_type": "code",
      "source": [
        "t = movies.merge(tags, on='movieId', how='inner')\n",
        "t.head()"
      ],
      "execution_count": 64,
      "outputs": [
        {
          "output_type": "execute_result",
          "data": {
            "text/html": [
              "<div>\n",
              "<style scoped>\n",
              "    .dataframe tbody tr th:only-of-type {\n",
              "        vertical-align: middle;\n",
              "    }\n",
              "\n",
              "    .dataframe tbody tr th {\n",
              "        vertical-align: top;\n",
              "    }\n",
              "\n",
              "    .dataframe thead th {\n",
              "        text-align: right;\n",
              "    }\n",
              "</style>\n",
              "<table border=\"1\" class=\"dataframe\">\n",
              "  <thead>\n",
              "    <tr style=\"text-align: right;\">\n",
              "      <th></th>\n",
              "      <th>movieId</th>\n",
              "      <th>title</th>\n",
              "      <th>genres</th>\n",
              "      <th>userId</th>\n",
              "      <th>tag</th>\n",
              "    </tr>\n",
              "  </thead>\n",
              "  <tbody>\n",
              "    <tr>\n",
              "      <th>0</th>\n",
              "      <td>1</td>\n",
              "      <td>Toy Story (1995)</td>\n",
              "      <td>Adventure|Animation|Children|Comedy|Fantasy</td>\n",
              "      <td>1644</td>\n",
              "      <td>Watched</td>\n",
              "    </tr>\n",
              "    <tr>\n",
              "      <th>1</th>\n",
              "      <td>1</td>\n",
              "      <td>Toy Story (1995)</td>\n",
              "      <td>Adventure|Animation|Children|Comedy|Fantasy</td>\n",
              "      <td>1741</td>\n",
              "      <td>computer animation</td>\n",
              "    </tr>\n",
              "    <tr>\n",
              "      <th>2</th>\n",
              "      <td>1</td>\n",
              "      <td>Toy Story (1995)</td>\n",
              "      <td>Adventure|Animation|Children|Comedy|Fantasy</td>\n",
              "      <td>1741</td>\n",
              "      <td>Disney animated feature</td>\n",
              "    </tr>\n",
              "    <tr>\n",
              "      <th>3</th>\n",
              "      <td>1</td>\n",
              "      <td>Toy Story (1995)</td>\n",
              "      <td>Adventure|Animation|Children|Comedy|Fantasy</td>\n",
              "      <td>1741</td>\n",
              "      <td>Pixar animation</td>\n",
              "    </tr>\n",
              "    <tr>\n",
              "      <th>4</th>\n",
              "      <td>1</td>\n",
              "      <td>Toy Story (1995)</td>\n",
              "      <td>Adventure|Animation|Children|Comedy|Fantasy</td>\n",
              "      <td>1741</td>\n",
              "      <td>TÃ©a Leoni does not star in this movie</td>\n",
              "    </tr>\n",
              "  </tbody>\n",
              "</table>\n",
              "</div>"
            ],
            "text/plain": [
              "   movieId             title                                       genres  \\\n",
              "0        1  Toy Story (1995)  Adventure|Animation|Children|Comedy|Fantasy   \n",
              "1        1  Toy Story (1995)  Adventure|Animation|Children|Comedy|Fantasy   \n",
              "2        1  Toy Story (1995)  Adventure|Animation|Children|Comedy|Fantasy   \n",
              "3        1  Toy Story (1995)  Adventure|Animation|Children|Comedy|Fantasy   \n",
              "4        1  Toy Story (1995)  Adventure|Animation|Children|Comedy|Fantasy   \n",
              "\n",
              "   userId                                     tag  \n",
              "0    1644                                 Watched  \n",
              "1    1741                      computer animation  \n",
              "2    1741                 Disney animated feature  \n",
              "3    1741                         Pixar animation  \n",
              "4    1741  TÃ©a Leoni does not star in this movie  "
            ]
          },
          "metadata": {
            "tags": []
          },
          "execution_count": 64
        }
      ]
    },
    {
      "metadata": {
        "id": "yqGw3Igmy8TS",
        "colab_type": "text"
      },
      "cell_type": "markdown",
      "source": [
        "More examples: http://pandas.pydata.org/pandas-docs/stable/merging.html"
      ]
    },
    {
      "metadata": {
        "id": "HaKNqmV5y8TS",
        "colab_type": "text"
      },
      "cell_type": "markdown",
      "source": [
        "<p style=\"font-family: Arial; font-size:1.75em;color:#2462C0; font-style:bold\"><br>\n",
        "\n",
        "\n",
        "Combine aggreagation, merging, and filters to get useful analytics\n",
        "</p>"
      ]
    },
    {
      "metadata": {
        "id": "EOpgvm1Ey8TT",
        "colab_type": "code",
        "colab": {
          "base_uri": "https://localhost:8080/",
          "height": 204
        },
        "outputId": "8f9d33f3-9c66-4807-e7f6-75952785648c"
      },
      "cell_type": "code",
      "source": [
        "avg_ratings = ratings.groupby('movieId', as_index=False).mean()\n",
        "del avg_ratings['userId']\n",
        "avg_ratings.head()"
      ],
      "execution_count": 65,
      "outputs": [
        {
          "output_type": "execute_result",
          "data": {
            "text/html": [
              "<div>\n",
              "<style scoped>\n",
              "    .dataframe tbody tr th:only-of-type {\n",
              "        vertical-align: middle;\n",
              "    }\n",
              "\n",
              "    .dataframe tbody tr th {\n",
              "        vertical-align: top;\n",
              "    }\n",
              "\n",
              "    .dataframe thead th {\n",
              "        text-align: right;\n",
              "    }\n",
              "</style>\n",
              "<table border=\"1\" class=\"dataframe\">\n",
              "  <thead>\n",
              "    <tr style=\"text-align: right;\">\n",
              "      <th></th>\n",
              "      <th>movieId</th>\n",
              "      <th>rating</th>\n",
              "    </tr>\n",
              "  </thead>\n",
              "  <tbody>\n",
              "    <tr>\n",
              "      <th>0</th>\n",
              "      <td>1</td>\n",
              "      <td>3.921240</td>\n",
              "    </tr>\n",
              "    <tr>\n",
              "      <th>1</th>\n",
              "      <td>2</td>\n",
              "      <td>3.211977</td>\n",
              "    </tr>\n",
              "    <tr>\n",
              "      <th>2</th>\n",
              "      <td>3</td>\n",
              "      <td>3.151040</td>\n",
              "    </tr>\n",
              "    <tr>\n",
              "      <th>3</th>\n",
              "      <td>4</td>\n",
              "      <td>2.861393</td>\n",
              "    </tr>\n",
              "    <tr>\n",
              "      <th>4</th>\n",
              "      <td>5</td>\n",
              "      <td>3.064592</td>\n",
              "    </tr>\n",
              "  </tbody>\n",
              "</table>\n",
              "</div>"
            ],
            "text/plain": [
              "   movieId    rating\n",
              "0        1  3.921240\n",
              "1        2  3.211977\n",
              "2        3  3.151040\n",
              "3        4  2.861393\n",
              "4        5  3.064592"
            ]
          },
          "metadata": {
            "tags": []
          },
          "execution_count": 65
        }
      ]
    },
    {
      "metadata": {
        "id": "4faFz8LNy8TT",
        "colab_type": "code",
        "colab": {
          "base_uri": "https://localhost:8080/",
          "height": 204
        },
        "outputId": "74dc1acb-5536-4851-c99b-48aa8b731e77"
      },
      "cell_type": "code",
      "source": [
        "box_office = movies.merge(avg_ratings, on='movieId', how='inner')\n",
        "box_office.tail()"
      ],
      "execution_count": 66,
      "outputs": [
        {
          "output_type": "execute_result",
          "data": {
            "text/html": [
              "<div>\n",
              "<style scoped>\n",
              "    .dataframe tbody tr th:only-of-type {\n",
              "        vertical-align: middle;\n",
              "    }\n",
              "\n",
              "    .dataframe tbody tr th {\n",
              "        vertical-align: top;\n",
              "    }\n",
              "\n",
              "    .dataframe thead th {\n",
              "        text-align: right;\n",
              "    }\n",
              "</style>\n",
              "<table border=\"1\" class=\"dataframe\">\n",
              "  <thead>\n",
              "    <tr style=\"text-align: right;\">\n",
              "      <th></th>\n",
              "      <th>movieId</th>\n",
              "      <th>title</th>\n",
              "      <th>genres</th>\n",
              "      <th>rating</th>\n",
              "    </tr>\n",
              "  </thead>\n",
              "  <tbody>\n",
              "    <tr>\n",
              "      <th>26739</th>\n",
              "      <td>131254</td>\n",
              "      <td>Kein Bund für's Leben (2007)</td>\n",
              "      <td>Comedy</td>\n",
              "      <td>4.0</td>\n",
              "    </tr>\n",
              "    <tr>\n",
              "      <th>26740</th>\n",
              "      <td>131256</td>\n",
              "      <td>Feuer, Eis &amp; Dosenbier (2002)</td>\n",
              "      <td>Comedy</td>\n",
              "      <td>4.0</td>\n",
              "    </tr>\n",
              "    <tr>\n",
              "      <th>26741</th>\n",
              "      <td>131258</td>\n",
              "      <td>The Pirates (2014)</td>\n",
              "      <td>Adventure</td>\n",
              "      <td>2.5</td>\n",
              "    </tr>\n",
              "    <tr>\n",
              "      <th>26742</th>\n",
              "      <td>131260</td>\n",
              "      <td>Rentun Ruusu (2001)</td>\n",
              "      <td>(no genres listed)</td>\n",
              "      <td>3.0</td>\n",
              "    </tr>\n",
              "    <tr>\n",
              "      <th>26743</th>\n",
              "      <td>131262</td>\n",
              "      <td>Innocence (2014)</td>\n",
              "      <td>Adventure|Fantasy|Horror</td>\n",
              "      <td>4.0</td>\n",
              "    </tr>\n",
              "  </tbody>\n",
              "</table>\n",
              "</div>"
            ],
            "text/plain": [
              "       movieId                          title                    genres  \\\n",
              "26739   131254   Kein Bund für's Leben (2007)                    Comedy   \n",
              "26740   131256  Feuer, Eis & Dosenbier (2002)                    Comedy   \n",
              "26741   131258             The Pirates (2014)                 Adventure   \n",
              "26742   131260            Rentun Ruusu (2001)        (no genres listed)   \n",
              "26743   131262               Innocence (2014)  Adventure|Fantasy|Horror   \n",
              "\n",
              "       rating  \n",
              "26739     4.0  \n",
              "26740     4.0  \n",
              "26741     2.5  \n",
              "26742     3.0  \n",
              "26743     4.0  "
            ]
          },
          "metadata": {
            "tags": []
          },
          "execution_count": 66
        }
      ]
    },
    {
      "metadata": {
        "id": "X0m2yiCOy8TU",
        "colab_type": "code",
        "colab": {
          "base_uri": "https://localhost:8080/",
          "height": 204
        },
        "outputId": "bb76a0e3-2b05-4d40-ef8c-f904dc7a870d"
      },
      "cell_type": "code",
      "source": [
        "is_highly_rated = box_office['rating'] >= 4.0\n",
        "\n",
        "box_office[is_highly_rated][-5:]"
      ],
      "execution_count": 67,
      "outputs": [
        {
          "output_type": "execute_result",
          "data": {
            "text/html": [
              "<div>\n",
              "<style scoped>\n",
              "    .dataframe tbody tr th:only-of-type {\n",
              "        vertical-align: middle;\n",
              "    }\n",
              "\n",
              "    .dataframe tbody tr th {\n",
              "        vertical-align: top;\n",
              "    }\n",
              "\n",
              "    .dataframe thead th {\n",
              "        text-align: right;\n",
              "    }\n",
              "</style>\n",
              "<table border=\"1\" class=\"dataframe\">\n",
              "  <thead>\n",
              "    <tr style=\"text-align: right;\">\n",
              "      <th></th>\n",
              "      <th>movieId</th>\n",
              "      <th>title</th>\n",
              "      <th>genres</th>\n",
              "      <th>rating</th>\n",
              "    </tr>\n",
              "  </thead>\n",
              "  <tbody>\n",
              "    <tr>\n",
              "      <th>26737</th>\n",
              "      <td>131250</td>\n",
              "      <td>No More School (2000)</td>\n",
              "      <td>Comedy</td>\n",
              "      <td>4.0</td>\n",
              "    </tr>\n",
              "    <tr>\n",
              "      <th>26738</th>\n",
              "      <td>131252</td>\n",
              "      <td>Forklift Driver Klaus: The First Day on the Jo...</td>\n",
              "      <td>Comedy|Horror</td>\n",
              "      <td>4.0</td>\n",
              "    </tr>\n",
              "    <tr>\n",
              "      <th>26739</th>\n",
              "      <td>131254</td>\n",
              "      <td>Kein Bund für's Leben (2007)</td>\n",
              "      <td>Comedy</td>\n",
              "      <td>4.0</td>\n",
              "    </tr>\n",
              "    <tr>\n",
              "      <th>26740</th>\n",
              "      <td>131256</td>\n",
              "      <td>Feuer, Eis &amp; Dosenbier (2002)</td>\n",
              "      <td>Comedy</td>\n",
              "      <td>4.0</td>\n",
              "    </tr>\n",
              "    <tr>\n",
              "      <th>26743</th>\n",
              "      <td>131262</td>\n",
              "      <td>Innocence (2014)</td>\n",
              "      <td>Adventure|Fantasy|Horror</td>\n",
              "      <td>4.0</td>\n",
              "    </tr>\n",
              "  </tbody>\n",
              "</table>\n",
              "</div>"
            ],
            "text/plain": [
              "       movieId                                              title  \\\n",
              "26737   131250                              No More School (2000)   \n",
              "26738   131252  Forklift Driver Klaus: The First Day on the Jo...   \n",
              "26739   131254                       Kein Bund für's Leben (2007)   \n",
              "26740   131256                      Feuer, Eis & Dosenbier (2002)   \n",
              "26743   131262                                   Innocence (2014)   \n",
              "\n",
              "                         genres  rating  \n",
              "26737                    Comedy     4.0  \n",
              "26738             Comedy|Horror     4.0  \n",
              "26739                    Comedy     4.0  \n",
              "26740                    Comedy     4.0  \n",
              "26743  Adventure|Fantasy|Horror     4.0  "
            ]
          },
          "metadata": {
            "tags": []
          },
          "execution_count": 67
        }
      ]
    },
    {
      "metadata": {
        "id": "j9V2U0Qky8TV",
        "colab_type": "code",
        "colab": {
          "base_uri": "https://localhost:8080/",
          "height": 204
        },
        "outputId": "8d40bd48-0e0f-43c3-92ca-98201aa2af24"
      },
      "cell_type": "code",
      "source": [
        "is_comedy = box_office['genres'].str.contains('Comedy')\n",
        "\n",
        "box_office[is_comedy][:5]"
      ],
      "execution_count": 68,
      "outputs": [
        {
          "output_type": "execute_result",
          "data": {
            "text/html": [
              "<div>\n",
              "<style scoped>\n",
              "    .dataframe tbody tr th:only-of-type {\n",
              "        vertical-align: middle;\n",
              "    }\n",
              "\n",
              "    .dataframe tbody tr th {\n",
              "        vertical-align: top;\n",
              "    }\n",
              "\n",
              "    .dataframe thead th {\n",
              "        text-align: right;\n",
              "    }\n",
              "</style>\n",
              "<table border=\"1\" class=\"dataframe\">\n",
              "  <thead>\n",
              "    <tr style=\"text-align: right;\">\n",
              "      <th></th>\n",
              "      <th>movieId</th>\n",
              "      <th>title</th>\n",
              "      <th>genres</th>\n",
              "      <th>rating</th>\n",
              "    </tr>\n",
              "  </thead>\n",
              "  <tbody>\n",
              "    <tr>\n",
              "      <th>0</th>\n",
              "      <td>1</td>\n",
              "      <td>Toy Story (1995)</td>\n",
              "      <td>Adventure|Animation|Children|Comedy|Fantasy</td>\n",
              "      <td>3.921240</td>\n",
              "    </tr>\n",
              "    <tr>\n",
              "      <th>2</th>\n",
              "      <td>3</td>\n",
              "      <td>Grumpier Old Men (1995)</td>\n",
              "      <td>Comedy|Romance</td>\n",
              "      <td>3.151040</td>\n",
              "    </tr>\n",
              "    <tr>\n",
              "      <th>3</th>\n",
              "      <td>4</td>\n",
              "      <td>Waiting to Exhale (1995)</td>\n",
              "      <td>Comedy|Drama|Romance</td>\n",
              "      <td>2.861393</td>\n",
              "    </tr>\n",
              "    <tr>\n",
              "      <th>4</th>\n",
              "      <td>5</td>\n",
              "      <td>Father of the Bride Part II (1995)</td>\n",
              "      <td>Comedy</td>\n",
              "      <td>3.064592</td>\n",
              "    </tr>\n",
              "    <tr>\n",
              "      <th>6</th>\n",
              "      <td>7</td>\n",
              "      <td>Sabrina (1995)</td>\n",
              "      <td>Comedy|Romance</td>\n",
              "      <td>3.366484</td>\n",
              "    </tr>\n",
              "  </tbody>\n",
              "</table>\n",
              "</div>"
            ],
            "text/plain": [
              "   movieId                               title  \\\n",
              "0        1                    Toy Story (1995)   \n",
              "2        3             Grumpier Old Men (1995)   \n",
              "3        4            Waiting to Exhale (1995)   \n",
              "4        5  Father of the Bride Part II (1995)   \n",
              "6        7                      Sabrina (1995)   \n",
              "\n",
              "                                        genres    rating  \n",
              "0  Adventure|Animation|Children|Comedy|Fantasy  3.921240  \n",
              "2                               Comedy|Romance  3.151040  \n",
              "3                         Comedy|Drama|Romance  2.861393  \n",
              "4                                       Comedy  3.064592  \n",
              "6                               Comedy|Romance  3.366484  "
            ]
          },
          "metadata": {
            "tags": []
          },
          "execution_count": 68
        }
      ]
    },
    {
      "metadata": {
        "id": "jilUjk6vy8TV",
        "colab_type": "code",
        "colab": {
          "base_uri": "https://localhost:8080/",
          "height": 204
        },
        "outputId": "87f4246a-d2e0-4507-8c53-d93b431fe361"
      },
      "cell_type": "code",
      "source": [
        "box_office[is_comedy & is_highly_rated][-5:]"
      ],
      "execution_count": 69,
      "outputs": [
        {
          "output_type": "execute_result",
          "data": {
            "text/html": [
              "<div>\n",
              "<style scoped>\n",
              "    .dataframe tbody tr th:only-of-type {\n",
              "        vertical-align: middle;\n",
              "    }\n",
              "\n",
              "    .dataframe tbody tr th {\n",
              "        vertical-align: top;\n",
              "    }\n",
              "\n",
              "    .dataframe thead th {\n",
              "        text-align: right;\n",
              "    }\n",
              "</style>\n",
              "<table border=\"1\" class=\"dataframe\">\n",
              "  <thead>\n",
              "    <tr style=\"text-align: right;\">\n",
              "      <th></th>\n",
              "      <th>movieId</th>\n",
              "      <th>title</th>\n",
              "      <th>genres</th>\n",
              "      <th>rating</th>\n",
              "    </tr>\n",
              "  </thead>\n",
              "  <tbody>\n",
              "    <tr>\n",
              "      <th>26736</th>\n",
              "      <td>131248</td>\n",
              "      <td>Brother Bear 2 (2006)</td>\n",
              "      <td>Adventure|Animation|Children|Comedy|Fantasy</td>\n",
              "      <td>4.0</td>\n",
              "    </tr>\n",
              "    <tr>\n",
              "      <th>26737</th>\n",
              "      <td>131250</td>\n",
              "      <td>No More School (2000)</td>\n",
              "      <td>Comedy</td>\n",
              "      <td>4.0</td>\n",
              "    </tr>\n",
              "    <tr>\n",
              "      <th>26738</th>\n",
              "      <td>131252</td>\n",
              "      <td>Forklift Driver Klaus: The First Day on the Jo...</td>\n",
              "      <td>Comedy|Horror</td>\n",
              "      <td>4.0</td>\n",
              "    </tr>\n",
              "    <tr>\n",
              "      <th>26739</th>\n",
              "      <td>131254</td>\n",
              "      <td>Kein Bund für's Leben (2007)</td>\n",
              "      <td>Comedy</td>\n",
              "      <td>4.0</td>\n",
              "    </tr>\n",
              "    <tr>\n",
              "      <th>26740</th>\n",
              "      <td>131256</td>\n",
              "      <td>Feuer, Eis &amp; Dosenbier (2002)</td>\n",
              "      <td>Comedy</td>\n",
              "      <td>4.0</td>\n",
              "    </tr>\n",
              "  </tbody>\n",
              "</table>\n",
              "</div>"
            ],
            "text/plain": [
              "       movieId                                              title  \\\n",
              "26736   131248                              Brother Bear 2 (2006)   \n",
              "26737   131250                              No More School (2000)   \n",
              "26738   131252  Forklift Driver Klaus: The First Day on the Jo...   \n",
              "26739   131254                       Kein Bund für's Leben (2007)   \n",
              "26740   131256                      Feuer, Eis & Dosenbier (2002)   \n",
              "\n",
              "                                            genres  rating  \n",
              "26736  Adventure|Animation|Children|Comedy|Fantasy     4.0  \n",
              "26737                                       Comedy     4.0  \n",
              "26738                                Comedy|Horror     4.0  \n",
              "26739                                       Comedy     4.0  \n",
              "26740                                       Comedy     4.0  "
            ]
          },
          "metadata": {
            "tags": []
          },
          "execution_count": 69
        }
      ]
    },
    {
      "metadata": {
        "id": "6ZL5YzxQy8TW",
        "colab_type": "text"
      },
      "cell_type": "markdown",
      "source": [
        "<h1 style=\"font-size:2em;color:#2467C0\">Vectorized String Operations</h1>\n"
      ]
    },
    {
      "metadata": {
        "id": "QEpR7heTy8TW",
        "colab_type": "code",
        "colab": {
          "base_uri": "https://localhost:8080/",
          "height": 204
        },
        "outputId": "56301417-baad-4231-cb2b-4bd81d025817"
      },
      "cell_type": "code",
      "source": [
        "movies.head()"
      ],
      "execution_count": 70,
      "outputs": [
        {
          "output_type": "execute_result",
          "data": {
            "text/html": [
              "<div>\n",
              "<style scoped>\n",
              "    .dataframe tbody tr th:only-of-type {\n",
              "        vertical-align: middle;\n",
              "    }\n",
              "\n",
              "    .dataframe tbody tr th {\n",
              "        vertical-align: top;\n",
              "    }\n",
              "\n",
              "    .dataframe thead th {\n",
              "        text-align: right;\n",
              "    }\n",
              "</style>\n",
              "<table border=\"1\" class=\"dataframe\">\n",
              "  <thead>\n",
              "    <tr style=\"text-align: right;\">\n",
              "      <th></th>\n",
              "      <th>movieId</th>\n",
              "      <th>title</th>\n",
              "      <th>genres</th>\n",
              "    </tr>\n",
              "  </thead>\n",
              "  <tbody>\n",
              "    <tr>\n",
              "      <th>0</th>\n",
              "      <td>1</td>\n",
              "      <td>Toy Story (1995)</td>\n",
              "      <td>Adventure|Animation|Children|Comedy|Fantasy</td>\n",
              "    </tr>\n",
              "    <tr>\n",
              "      <th>1</th>\n",
              "      <td>2</td>\n",
              "      <td>Jumanji (1995)</td>\n",
              "      <td>Adventure|Children|Fantasy</td>\n",
              "    </tr>\n",
              "    <tr>\n",
              "      <th>2</th>\n",
              "      <td>3</td>\n",
              "      <td>Grumpier Old Men (1995)</td>\n",
              "      <td>Comedy|Romance</td>\n",
              "    </tr>\n",
              "    <tr>\n",
              "      <th>3</th>\n",
              "      <td>4</td>\n",
              "      <td>Waiting to Exhale (1995)</td>\n",
              "      <td>Comedy|Drama|Romance</td>\n",
              "    </tr>\n",
              "    <tr>\n",
              "      <th>4</th>\n",
              "      <td>5</td>\n",
              "      <td>Father of the Bride Part II (1995)</td>\n",
              "      <td>Comedy</td>\n",
              "    </tr>\n",
              "  </tbody>\n",
              "</table>\n",
              "</div>"
            ],
            "text/plain": [
              "   movieId                               title  \\\n",
              "0        1                    Toy Story (1995)   \n",
              "1        2                      Jumanji (1995)   \n",
              "2        3             Grumpier Old Men (1995)   \n",
              "3        4            Waiting to Exhale (1995)   \n",
              "4        5  Father of the Bride Part II (1995)   \n",
              "\n",
              "                                        genres  \n",
              "0  Adventure|Animation|Children|Comedy|Fantasy  \n",
              "1                   Adventure|Children|Fantasy  \n",
              "2                               Comedy|Romance  \n",
              "3                         Comedy|Drama|Romance  \n",
              "4                                       Comedy  "
            ]
          },
          "metadata": {
            "tags": []
          },
          "execution_count": 70
        }
      ]
    },
    {
      "metadata": {
        "id": "5WW-Vebcy8TW",
        "colab_type": "text"
      },
      "cell_type": "markdown",
      "source": [
        "<p style=\"font-family: Arial; font-size:1.35em;color:#2462C0; font-style:bold\"><br>\n",
        "\n",
        "Split 'genres' into multiple columns\n",
        "\n",
        "<br> </p>"
      ]
    },
    {
      "metadata": {
        "id": "yM8HgsIoy8TX",
        "colab_type": "code",
        "colab": {}
      },
      "cell_type": "code",
      "source": [
        "movie_genres = movies['genres'].str.split('|', expand=True)"
      ],
      "execution_count": 0,
      "outputs": []
    },
    {
      "metadata": {
        "id": "YkwxxwNfy8TX",
        "colab_type": "code",
        "colab": {
          "base_uri": "https://localhost:8080/",
          "height": 359
        },
        "outputId": "deba5ca4-04c0-46d0-df70-ed1a08daa9a7"
      },
      "cell_type": "code",
      "source": [
        "movie_genres[:10]"
      ],
      "execution_count": 72,
      "outputs": [
        {
          "output_type": "execute_result",
          "data": {
            "text/html": [
              "<div>\n",
              "<style scoped>\n",
              "    .dataframe tbody tr th:only-of-type {\n",
              "        vertical-align: middle;\n",
              "    }\n",
              "\n",
              "    .dataframe tbody tr th {\n",
              "        vertical-align: top;\n",
              "    }\n",
              "\n",
              "    .dataframe thead th {\n",
              "        text-align: right;\n",
              "    }\n",
              "</style>\n",
              "<table border=\"1\" class=\"dataframe\">\n",
              "  <thead>\n",
              "    <tr style=\"text-align: right;\">\n",
              "      <th></th>\n",
              "      <th>0</th>\n",
              "      <th>1</th>\n",
              "      <th>2</th>\n",
              "      <th>3</th>\n",
              "      <th>4</th>\n",
              "      <th>5</th>\n",
              "      <th>6</th>\n",
              "      <th>7</th>\n",
              "      <th>8</th>\n",
              "      <th>9</th>\n",
              "    </tr>\n",
              "  </thead>\n",
              "  <tbody>\n",
              "    <tr>\n",
              "      <th>0</th>\n",
              "      <td>Adventure</td>\n",
              "      <td>Animation</td>\n",
              "      <td>Children</td>\n",
              "      <td>Comedy</td>\n",
              "      <td>Fantasy</td>\n",
              "      <td>None</td>\n",
              "      <td>None</td>\n",
              "      <td>None</td>\n",
              "      <td>None</td>\n",
              "      <td>None</td>\n",
              "    </tr>\n",
              "    <tr>\n",
              "      <th>1</th>\n",
              "      <td>Adventure</td>\n",
              "      <td>Children</td>\n",
              "      <td>Fantasy</td>\n",
              "      <td>None</td>\n",
              "      <td>None</td>\n",
              "      <td>None</td>\n",
              "      <td>None</td>\n",
              "      <td>None</td>\n",
              "      <td>None</td>\n",
              "      <td>None</td>\n",
              "    </tr>\n",
              "    <tr>\n",
              "      <th>2</th>\n",
              "      <td>Comedy</td>\n",
              "      <td>Romance</td>\n",
              "      <td>None</td>\n",
              "      <td>None</td>\n",
              "      <td>None</td>\n",
              "      <td>None</td>\n",
              "      <td>None</td>\n",
              "      <td>None</td>\n",
              "      <td>None</td>\n",
              "      <td>None</td>\n",
              "    </tr>\n",
              "    <tr>\n",
              "      <th>3</th>\n",
              "      <td>Comedy</td>\n",
              "      <td>Drama</td>\n",
              "      <td>Romance</td>\n",
              "      <td>None</td>\n",
              "      <td>None</td>\n",
              "      <td>None</td>\n",
              "      <td>None</td>\n",
              "      <td>None</td>\n",
              "      <td>None</td>\n",
              "      <td>None</td>\n",
              "    </tr>\n",
              "    <tr>\n",
              "      <th>4</th>\n",
              "      <td>Comedy</td>\n",
              "      <td>None</td>\n",
              "      <td>None</td>\n",
              "      <td>None</td>\n",
              "      <td>None</td>\n",
              "      <td>None</td>\n",
              "      <td>None</td>\n",
              "      <td>None</td>\n",
              "      <td>None</td>\n",
              "      <td>None</td>\n",
              "    </tr>\n",
              "    <tr>\n",
              "      <th>5</th>\n",
              "      <td>Action</td>\n",
              "      <td>Crime</td>\n",
              "      <td>Thriller</td>\n",
              "      <td>None</td>\n",
              "      <td>None</td>\n",
              "      <td>None</td>\n",
              "      <td>None</td>\n",
              "      <td>None</td>\n",
              "      <td>None</td>\n",
              "      <td>None</td>\n",
              "    </tr>\n",
              "    <tr>\n",
              "      <th>6</th>\n",
              "      <td>Comedy</td>\n",
              "      <td>Romance</td>\n",
              "      <td>None</td>\n",
              "      <td>None</td>\n",
              "      <td>None</td>\n",
              "      <td>None</td>\n",
              "      <td>None</td>\n",
              "      <td>None</td>\n",
              "      <td>None</td>\n",
              "      <td>None</td>\n",
              "    </tr>\n",
              "    <tr>\n",
              "      <th>7</th>\n",
              "      <td>Adventure</td>\n",
              "      <td>Children</td>\n",
              "      <td>None</td>\n",
              "      <td>None</td>\n",
              "      <td>None</td>\n",
              "      <td>None</td>\n",
              "      <td>None</td>\n",
              "      <td>None</td>\n",
              "      <td>None</td>\n",
              "      <td>None</td>\n",
              "    </tr>\n",
              "    <tr>\n",
              "      <th>8</th>\n",
              "      <td>Action</td>\n",
              "      <td>None</td>\n",
              "      <td>None</td>\n",
              "      <td>None</td>\n",
              "      <td>None</td>\n",
              "      <td>None</td>\n",
              "      <td>None</td>\n",
              "      <td>None</td>\n",
              "      <td>None</td>\n",
              "      <td>None</td>\n",
              "    </tr>\n",
              "    <tr>\n",
              "      <th>9</th>\n",
              "      <td>Action</td>\n",
              "      <td>Adventure</td>\n",
              "      <td>Thriller</td>\n",
              "      <td>None</td>\n",
              "      <td>None</td>\n",
              "      <td>None</td>\n",
              "      <td>None</td>\n",
              "      <td>None</td>\n",
              "      <td>None</td>\n",
              "      <td>None</td>\n",
              "    </tr>\n",
              "  </tbody>\n",
              "</table>\n",
              "</div>"
            ],
            "text/plain": [
              "           0          1         2       3        4     5     6     7     8  \\\n",
              "0  Adventure  Animation  Children  Comedy  Fantasy  None  None  None  None   \n",
              "1  Adventure   Children   Fantasy    None     None  None  None  None  None   \n",
              "2     Comedy    Romance      None    None     None  None  None  None  None   \n",
              "3     Comedy      Drama   Romance    None     None  None  None  None  None   \n",
              "4     Comedy       None      None    None     None  None  None  None  None   \n",
              "5     Action      Crime  Thriller    None     None  None  None  None  None   \n",
              "6     Comedy    Romance      None    None     None  None  None  None  None   \n",
              "7  Adventure   Children      None    None     None  None  None  None  None   \n",
              "8     Action       None      None    None     None  None  None  None  None   \n",
              "9     Action  Adventure  Thriller    None     None  None  None  None  None   \n",
              "\n",
              "      9  \n",
              "0  None  \n",
              "1  None  \n",
              "2  None  \n",
              "3  None  \n",
              "4  None  \n",
              "5  None  \n",
              "6  None  \n",
              "7  None  \n",
              "8  None  \n",
              "9  None  "
            ]
          },
          "metadata": {
            "tags": []
          },
          "execution_count": 72
        }
      ]
    },
    {
      "metadata": {
        "id": "aHswkqs7y8TY",
        "colab_type": "text"
      },
      "cell_type": "markdown",
      "source": [
        "<p style=\"font-family: Arial; font-size:1.35em;color:#2462C0; font-style:bold\"><br>\n",
        "\n",
        "Add a new column for comedy genre flag\n",
        "\n",
        "<br> </p>"
      ]
    },
    {
      "metadata": {
        "id": "Gq3GPHRry8TY",
        "colab_type": "code",
        "colab": {}
      },
      "cell_type": "code",
      "source": [
        "movie_genres['isComedy'] = movies['genres'].str.contains('Comedy')"
      ],
      "execution_count": 0,
      "outputs": []
    },
    {
      "metadata": {
        "id": "fWV9K_qyy8TZ",
        "colab_type": "code",
        "colab": {
          "base_uri": "https://localhost:8080/",
          "height": 359
        },
        "outputId": "853deef0-8e15-48fa-e7f1-050407f05a80"
      },
      "cell_type": "code",
      "source": [
        "movie_genres[:10]"
      ],
      "execution_count": 74,
      "outputs": [
        {
          "output_type": "execute_result",
          "data": {
            "text/html": [
              "<div>\n",
              "<style scoped>\n",
              "    .dataframe tbody tr th:only-of-type {\n",
              "        vertical-align: middle;\n",
              "    }\n",
              "\n",
              "    .dataframe tbody tr th {\n",
              "        vertical-align: top;\n",
              "    }\n",
              "\n",
              "    .dataframe thead th {\n",
              "        text-align: right;\n",
              "    }\n",
              "</style>\n",
              "<table border=\"1\" class=\"dataframe\">\n",
              "  <thead>\n",
              "    <tr style=\"text-align: right;\">\n",
              "      <th></th>\n",
              "      <th>0</th>\n",
              "      <th>1</th>\n",
              "      <th>2</th>\n",
              "      <th>3</th>\n",
              "      <th>4</th>\n",
              "      <th>5</th>\n",
              "      <th>6</th>\n",
              "      <th>7</th>\n",
              "      <th>8</th>\n",
              "      <th>9</th>\n",
              "      <th>isComedy</th>\n",
              "    </tr>\n",
              "  </thead>\n",
              "  <tbody>\n",
              "    <tr>\n",
              "      <th>0</th>\n",
              "      <td>Adventure</td>\n",
              "      <td>Animation</td>\n",
              "      <td>Children</td>\n",
              "      <td>Comedy</td>\n",
              "      <td>Fantasy</td>\n",
              "      <td>None</td>\n",
              "      <td>None</td>\n",
              "      <td>None</td>\n",
              "      <td>None</td>\n",
              "      <td>None</td>\n",
              "      <td>True</td>\n",
              "    </tr>\n",
              "    <tr>\n",
              "      <th>1</th>\n",
              "      <td>Adventure</td>\n",
              "      <td>Children</td>\n",
              "      <td>Fantasy</td>\n",
              "      <td>None</td>\n",
              "      <td>None</td>\n",
              "      <td>None</td>\n",
              "      <td>None</td>\n",
              "      <td>None</td>\n",
              "      <td>None</td>\n",
              "      <td>None</td>\n",
              "      <td>False</td>\n",
              "    </tr>\n",
              "    <tr>\n",
              "      <th>2</th>\n",
              "      <td>Comedy</td>\n",
              "      <td>Romance</td>\n",
              "      <td>None</td>\n",
              "      <td>None</td>\n",
              "      <td>None</td>\n",
              "      <td>None</td>\n",
              "      <td>None</td>\n",
              "      <td>None</td>\n",
              "      <td>None</td>\n",
              "      <td>None</td>\n",
              "      <td>True</td>\n",
              "    </tr>\n",
              "    <tr>\n",
              "      <th>3</th>\n",
              "      <td>Comedy</td>\n",
              "      <td>Drama</td>\n",
              "      <td>Romance</td>\n",
              "      <td>None</td>\n",
              "      <td>None</td>\n",
              "      <td>None</td>\n",
              "      <td>None</td>\n",
              "      <td>None</td>\n",
              "      <td>None</td>\n",
              "      <td>None</td>\n",
              "      <td>True</td>\n",
              "    </tr>\n",
              "    <tr>\n",
              "      <th>4</th>\n",
              "      <td>Comedy</td>\n",
              "      <td>None</td>\n",
              "      <td>None</td>\n",
              "      <td>None</td>\n",
              "      <td>None</td>\n",
              "      <td>None</td>\n",
              "      <td>None</td>\n",
              "      <td>None</td>\n",
              "      <td>None</td>\n",
              "      <td>None</td>\n",
              "      <td>True</td>\n",
              "    </tr>\n",
              "    <tr>\n",
              "      <th>5</th>\n",
              "      <td>Action</td>\n",
              "      <td>Crime</td>\n",
              "      <td>Thriller</td>\n",
              "      <td>None</td>\n",
              "      <td>None</td>\n",
              "      <td>None</td>\n",
              "      <td>None</td>\n",
              "      <td>None</td>\n",
              "      <td>None</td>\n",
              "      <td>None</td>\n",
              "      <td>False</td>\n",
              "    </tr>\n",
              "    <tr>\n",
              "      <th>6</th>\n",
              "      <td>Comedy</td>\n",
              "      <td>Romance</td>\n",
              "      <td>None</td>\n",
              "      <td>None</td>\n",
              "      <td>None</td>\n",
              "      <td>None</td>\n",
              "      <td>None</td>\n",
              "      <td>None</td>\n",
              "      <td>None</td>\n",
              "      <td>None</td>\n",
              "      <td>True</td>\n",
              "    </tr>\n",
              "    <tr>\n",
              "      <th>7</th>\n",
              "      <td>Adventure</td>\n",
              "      <td>Children</td>\n",
              "      <td>None</td>\n",
              "      <td>None</td>\n",
              "      <td>None</td>\n",
              "      <td>None</td>\n",
              "      <td>None</td>\n",
              "      <td>None</td>\n",
              "      <td>None</td>\n",
              "      <td>None</td>\n",
              "      <td>False</td>\n",
              "    </tr>\n",
              "    <tr>\n",
              "      <th>8</th>\n",
              "      <td>Action</td>\n",
              "      <td>None</td>\n",
              "      <td>None</td>\n",
              "      <td>None</td>\n",
              "      <td>None</td>\n",
              "      <td>None</td>\n",
              "      <td>None</td>\n",
              "      <td>None</td>\n",
              "      <td>None</td>\n",
              "      <td>None</td>\n",
              "      <td>False</td>\n",
              "    </tr>\n",
              "    <tr>\n",
              "      <th>9</th>\n",
              "      <td>Action</td>\n",
              "      <td>Adventure</td>\n",
              "      <td>Thriller</td>\n",
              "      <td>None</td>\n",
              "      <td>None</td>\n",
              "      <td>None</td>\n",
              "      <td>None</td>\n",
              "      <td>None</td>\n",
              "      <td>None</td>\n",
              "      <td>None</td>\n",
              "      <td>False</td>\n",
              "    </tr>\n",
              "  </tbody>\n",
              "</table>\n",
              "</div>"
            ],
            "text/plain": [
              "           0          1         2       3        4     5     6     7     8  \\\n",
              "0  Adventure  Animation  Children  Comedy  Fantasy  None  None  None  None   \n",
              "1  Adventure   Children   Fantasy    None     None  None  None  None  None   \n",
              "2     Comedy    Romance      None    None     None  None  None  None  None   \n",
              "3     Comedy      Drama   Romance    None     None  None  None  None  None   \n",
              "4     Comedy       None      None    None     None  None  None  None  None   \n",
              "5     Action      Crime  Thriller    None     None  None  None  None  None   \n",
              "6     Comedy    Romance      None    None     None  None  None  None  None   \n",
              "7  Adventure   Children      None    None     None  None  None  None  None   \n",
              "8     Action       None      None    None     None  None  None  None  None   \n",
              "9     Action  Adventure  Thriller    None     None  None  None  None  None   \n",
              "\n",
              "      9  isComedy  \n",
              "0  None      True  \n",
              "1  None     False  \n",
              "2  None      True  \n",
              "3  None      True  \n",
              "4  None      True  \n",
              "5  None     False  \n",
              "6  None      True  \n",
              "7  None     False  \n",
              "8  None     False  \n",
              "9  None     False  "
            ]
          },
          "metadata": {
            "tags": []
          },
          "execution_count": 74
        }
      ]
    },
    {
      "metadata": {
        "id": "kGNxNvVpy8Ta",
        "colab_type": "text"
      },
      "cell_type": "markdown",
      "source": [
        "<p style=\"font-family: Arial; font-size:1.35em;color:#2462C0; font-style:bold\"><br>\n",
        "\n",
        "Extract year from title e.g. (1995)\n",
        "\n",
        "<br> </p>"
      ]
    },
    {
      "metadata": {
        "id": "MDMHXO9Py8Tb",
        "colab_type": "code",
        "colab": {}
      },
      "cell_type": "code",
      "source": [
        "movies['year'] = movies['title'].str.extract('.*\\((.*)\\).*', expand=True)"
      ],
      "execution_count": 0,
      "outputs": []
    },
    {
      "metadata": {
        "id": "1zNU6R-Wy8Td",
        "colab_type": "code",
        "colab": {
          "base_uri": "https://localhost:8080/",
          "height": 204
        },
        "outputId": "e9adf42e-e58f-4ad9-9ce4-ab8272228663"
      },
      "cell_type": "code",
      "source": [
        "movies.tail()"
      ],
      "execution_count": 76,
      "outputs": [
        {
          "output_type": "execute_result",
          "data": {
            "text/html": [
              "<div>\n",
              "<style scoped>\n",
              "    .dataframe tbody tr th:only-of-type {\n",
              "        vertical-align: middle;\n",
              "    }\n",
              "\n",
              "    .dataframe tbody tr th {\n",
              "        vertical-align: top;\n",
              "    }\n",
              "\n",
              "    .dataframe thead th {\n",
              "        text-align: right;\n",
              "    }\n",
              "</style>\n",
              "<table border=\"1\" class=\"dataframe\">\n",
              "  <thead>\n",
              "    <tr style=\"text-align: right;\">\n",
              "      <th></th>\n",
              "      <th>movieId</th>\n",
              "      <th>title</th>\n",
              "      <th>genres</th>\n",
              "      <th>year</th>\n",
              "    </tr>\n",
              "  </thead>\n",
              "  <tbody>\n",
              "    <tr>\n",
              "      <th>27273</th>\n",
              "      <td>131254</td>\n",
              "      <td>Kein Bund für's Leben (2007)</td>\n",
              "      <td>Comedy</td>\n",
              "      <td>2007</td>\n",
              "    </tr>\n",
              "    <tr>\n",
              "      <th>27274</th>\n",
              "      <td>131256</td>\n",
              "      <td>Feuer, Eis &amp; Dosenbier (2002)</td>\n",
              "      <td>Comedy</td>\n",
              "      <td>2002</td>\n",
              "    </tr>\n",
              "    <tr>\n",
              "      <th>27275</th>\n",
              "      <td>131258</td>\n",
              "      <td>The Pirates (2014)</td>\n",
              "      <td>Adventure</td>\n",
              "      <td>2014</td>\n",
              "    </tr>\n",
              "    <tr>\n",
              "      <th>27276</th>\n",
              "      <td>131260</td>\n",
              "      <td>Rentun Ruusu (2001)</td>\n",
              "      <td>(no genres listed)</td>\n",
              "      <td>2001</td>\n",
              "    </tr>\n",
              "    <tr>\n",
              "      <th>27277</th>\n",
              "      <td>131262</td>\n",
              "      <td>Innocence (2014)</td>\n",
              "      <td>Adventure|Fantasy|Horror</td>\n",
              "      <td>2014</td>\n",
              "    </tr>\n",
              "  </tbody>\n",
              "</table>\n",
              "</div>"
            ],
            "text/plain": [
              "       movieId                          title                    genres  year\n",
              "27273   131254   Kein Bund für's Leben (2007)                    Comedy  2007\n",
              "27274   131256  Feuer, Eis & Dosenbier (2002)                    Comedy  2002\n",
              "27275   131258             The Pirates (2014)                 Adventure  2014\n",
              "27276   131260            Rentun Ruusu (2001)        (no genres listed)  2001\n",
              "27277   131262               Innocence (2014)  Adventure|Fantasy|Horror  2014"
            ]
          },
          "metadata": {
            "tags": []
          },
          "execution_count": 76
        }
      ]
    },
    {
      "metadata": {
        "id": "98IVLnkAy8Te",
        "colab_type": "text"
      },
      "cell_type": "markdown",
      "source": [
        "<p style=\"font-family: Arial; font-size:1.35em;color:#2462C0; font-style:bold\"><br>\n",
        "\n",
        "More here: http://pandas.pydata.org/pandas-docs/stable/text.html#text-string-methods\n",
        "<br> </p>"
      ]
    },
    {
      "metadata": {
        "id": "cHak6-dHy8Tf",
        "colab_type": "text"
      },
      "cell_type": "markdown",
      "source": [
        "<h1 style=\"font-size:2em;color:#2467C0\">Parsing Timestamps</h1>"
      ]
    },
    {
      "metadata": {
        "id": "xKe91_VJy8Tf",
        "colab_type": "text"
      },
      "cell_type": "markdown",
      "source": [
        "Timestamps are common in sensor data or other time series datasets.\n",
        "Let us revisit the *tags.csv* dataset and read the timestamps!\n"
      ]
    },
    {
      "metadata": {
        "id": "fKZCNEQsy8Tf",
        "colab_type": "code",
        "colab": {
          "base_uri": "https://localhost:8080/",
          "height": 204
        },
        "outputId": "ba9cd651-f92f-4a73-82ad-5192655d6a3f"
      },
      "cell_type": "code",
      "source": [
        "tags = pd.read_csv('./movielens/tags.csv', sep=',')\n",
        "tags.head()"
      ],
      "execution_count": 80,
      "outputs": [
        {
          "output_type": "execute_result",
          "data": {
            "text/html": [
              "<div>\n",
              "<style scoped>\n",
              "    .dataframe tbody tr th:only-of-type {\n",
              "        vertical-align: middle;\n",
              "    }\n",
              "\n",
              "    .dataframe tbody tr th {\n",
              "        vertical-align: top;\n",
              "    }\n",
              "\n",
              "    .dataframe thead th {\n",
              "        text-align: right;\n",
              "    }\n",
              "</style>\n",
              "<table border=\"1\" class=\"dataframe\">\n",
              "  <thead>\n",
              "    <tr style=\"text-align: right;\">\n",
              "      <th></th>\n",
              "      <th>userId</th>\n",
              "      <th>movieId</th>\n",
              "      <th>tag</th>\n",
              "      <th>timestamp</th>\n",
              "    </tr>\n",
              "  </thead>\n",
              "  <tbody>\n",
              "    <tr>\n",
              "      <th>0</th>\n",
              "      <td>18</td>\n",
              "      <td>4141</td>\n",
              "      <td>Mark Waters</td>\n",
              "      <td>1240597180</td>\n",
              "    </tr>\n",
              "    <tr>\n",
              "      <th>1</th>\n",
              "      <td>65</td>\n",
              "      <td>208</td>\n",
              "      <td>dark hero</td>\n",
              "      <td>1368150078</td>\n",
              "    </tr>\n",
              "    <tr>\n",
              "      <th>2</th>\n",
              "      <td>65</td>\n",
              "      <td>353</td>\n",
              "      <td>dark hero</td>\n",
              "      <td>1368150079</td>\n",
              "    </tr>\n",
              "    <tr>\n",
              "      <th>3</th>\n",
              "      <td>65</td>\n",
              "      <td>521</td>\n",
              "      <td>noir thriller</td>\n",
              "      <td>1368149983</td>\n",
              "    </tr>\n",
              "    <tr>\n",
              "      <th>4</th>\n",
              "      <td>65</td>\n",
              "      <td>592</td>\n",
              "      <td>dark hero</td>\n",
              "      <td>1368150078</td>\n",
              "    </tr>\n",
              "  </tbody>\n",
              "</table>\n",
              "</div>"
            ],
            "text/plain": [
              "   userId  movieId            tag   timestamp\n",
              "0      18     4141    Mark Waters  1240597180\n",
              "1      65      208      dark hero  1368150078\n",
              "2      65      353      dark hero  1368150079\n",
              "3      65      521  noir thriller  1368149983\n",
              "4      65      592      dark hero  1368150078"
            ]
          },
          "metadata": {
            "tags": []
          },
          "execution_count": 80
        }
      ]
    },
    {
      "metadata": {
        "id": "wsyP37Z7y8Tf",
        "colab_type": "code",
        "colab": {
          "base_uri": "https://localhost:8080/",
          "height": 102
        },
        "outputId": "7582c9a7-5c2f-4a4a-8773-c10c92328579"
      },
      "cell_type": "code",
      "source": [
        "tags.dtypes"
      ],
      "execution_count": 78,
      "outputs": [
        {
          "output_type": "execute_result",
          "data": {
            "text/plain": [
              "userId        int64\n",
              "movieId       int64\n",
              "tag          object\n",
              "timestamp     int64\n",
              "dtype: object"
            ]
          },
          "metadata": {
            "tags": []
          },
          "execution_count": 78
        }
      ]
    },
    {
      "metadata": {
        "collapsed": true,
        "id": "LBO_mvM0y8Tg",
        "colab_type": "text"
      },
      "cell_type": "markdown",
      "source": [
        "<p style=\"font-family: Arial; font-size:1.35em;color:#2462C0; font-style:bold\">\n",
        "\n",
        "Unix time / POSIX time / epoch time records \n",
        "time in seconds <br> since midnight Coordinated Universal Time (UTC) of January 1, 1970\n",
        "</p>"
      ]
    },
    {
      "metadata": {
        "id": "DBMP9YWFy8Tg",
        "colab_type": "code",
        "colab": {
          "base_uri": "https://localhost:8080/",
          "height": 204
        },
        "outputId": "f6bd5ac0-bc04-4a7b-d55a-db8f39cb91bb"
      },
      "cell_type": "code",
      "source": [
        "tags.head(5)"
      ],
      "execution_count": 81,
      "outputs": [
        {
          "output_type": "execute_result",
          "data": {
            "text/html": [
              "<div>\n",
              "<style scoped>\n",
              "    .dataframe tbody tr th:only-of-type {\n",
              "        vertical-align: middle;\n",
              "    }\n",
              "\n",
              "    .dataframe tbody tr th {\n",
              "        vertical-align: top;\n",
              "    }\n",
              "\n",
              "    .dataframe thead th {\n",
              "        text-align: right;\n",
              "    }\n",
              "</style>\n",
              "<table border=\"1\" class=\"dataframe\">\n",
              "  <thead>\n",
              "    <tr style=\"text-align: right;\">\n",
              "      <th></th>\n",
              "      <th>userId</th>\n",
              "      <th>movieId</th>\n",
              "      <th>tag</th>\n",
              "      <th>timestamp</th>\n",
              "    </tr>\n",
              "  </thead>\n",
              "  <tbody>\n",
              "    <tr>\n",
              "      <th>0</th>\n",
              "      <td>18</td>\n",
              "      <td>4141</td>\n",
              "      <td>Mark Waters</td>\n",
              "      <td>1240597180</td>\n",
              "    </tr>\n",
              "    <tr>\n",
              "      <th>1</th>\n",
              "      <td>65</td>\n",
              "      <td>208</td>\n",
              "      <td>dark hero</td>\n",
              "      <td>1368150078</td>\n",
              "    </tr>\n",
              "    <tr>\n",
              "      <th>2</th>\n",
              "      <td>65</td>\n",
              "      <td>353</td>\n",
              "      <td>dark hero</td>\n",
              "      <td>1368150079</td>\n",
              "    </tr>\n",
              "    <tr>\n",
              "      <th>3</th>\n",
              "      <td>65</td>\n",
              "      <td>521</td>\n",
              "      <td>noir thriller</td>\n",
              "      <td>1368149983</td>\n",
              "    </tr>\n",
              "    <tr>\n",
              "      <th>4</th>\n",
              "      <td>65</td>\n",
              "      <td>592</td>\n",
              "      <td>dark hero</td>\n",
              "      <td>1368150078</td>\n",
              "    </tr>\n",
              "  </tbody>\n",
              "</table>\n",
              "</div>"
            ],
            "text/plain": [
              "   userId  movieId            tag   timestamp\n",
              "0      18     4141    Mark Waters  1240597180\n",
              "1      65      208      dark hero  1368150078\n",
              "2      65      353      dark hero  1368150079\n",
              "3      65      521  noir thriller  1368149983\n",
              "4      65      592      dark hero  1368150078"
            ]
          },
          "metadata": {
            "tags": []
          },
          "execution_count": 81
        }
      ]
    },
    {
      "metadata": {
        "id": "5PNRnSUiy8Th",
        "colab_type": "code",
        "colab": {}
      },
      "cell_type": "code",
      "source": [
        "tags['parsed_time'] = pd.to_datetime(tags['timestamp'], unit='s')"
      ],
      "execution_count": 0,
      "outputs": []
    },
    {
      "metadata": {
        "id": "MOeZViiOy8Th",
        "colab_type": "text"
      },
      "cell_type": "markdown",
      "source": [
        "<p style=\"font-family: Arial; font-size:1.35em;color:#2462C0; font-style:bold\">\n",
        "\n",
        "Data Type datetime64[ns] maps to either <M8[ns] or >M8[ns] depending on the hardware\n",
        "\n",
        "</p>"
      ]
    },
    {
      "metadata": {
        "id": "bUHPNVAFy8Th",
        "colab_type": "code",
        "colab": {
          "base_uri": "https://localhost:8080/",
          "height": 34
        },
        "outputId": "e47b93a4-40ea-4b73-c577-19fd42a29ad1"
      },
      "cell_type": "code",
      "source": [
        "\n",
        "tags['parsed_time'].dtype"
      ],
      "execution_count": 83,
      "outputs": [
        {
          "output_type": "execute_result",
          "data": {
            "text/plain": [
              "dtype('<M8[ns]')"
            ]
          },
          "metadata": {
            "tags": []
          },
          "execution_count": 83
        }
      ]
    },
    {
      "metadata": {
        "id": "4ye0qPiby8Ti",
        "colab_type": "code",
        "colab": {
          "base_uri": "https://localhost:8080/",
          "height": 111
        },
        "outputId": "92aa9fed-d9e4-4242-f137-db5f079e97dd"
      },
      "cell_type": "code",
      "source": [
        "tags.head(2)"
      ],
      "execution_count": 84,
      "outputs": [
        {
          "output_type": "execute_result",
          "data": {
            "text/html": [
              "<div>\n",
              "<style scoped>\n",
              "    .dataframe tbody tr th:only-of-type {\n",
              "        vertical-align: middle;\n",
              "    }\n",
              "\n",
              "    .dataframe tbody tr th {\n",
              "        vertical-align: top;\n",
              "    }\n",
              "\n",
              "    .dataframe thead th {\n",
              "        text-align: right;\n",
              "    }\n",
              "</style>\n",
              "<table border=\"1\" class=\"dataframe\">\n",
              "  <thead>\n",
              "    <tr style=\"text-align: right;\">\n",
              "      <th></th>\n",
              "      <th>userId</th>\n",
              "      <th>movieId</th>\n",
              "      <th>tag</th>\n",
              "      <th>timestamp</th>\n",
              "      <th>parsed_time</th>\n",
              "    </tr>\n",
              "  </thead>\n",
              "  <tbody>\n",
              "    <tr>\n",
              "      <th>0</th>\n",
              "      <td>18</td>\n",
              "      <td>4141</td>\n",
              "      <td>Mark Waters</td>\n",
              "      <td>1240597180</td>\n",
              "      <td>2009-04-24 18:19:40</td>\n",
              "    </tr>\n",
              "    <tr>\n",
              "      <th>1</th>\n",
              "      <td>65</td>\n",
              "      <td>208</td>\n",
              "      <td>dark hero</td>\n",
              "      <td>1368150078</td>\n",
              "      <td>2013-05-10 01:41:18</td>\n",
              "    </tr>\n",
              "  </tbody>\n",
              "</table>\n",
              "</div>"
            ],
            "text/plain": [
              "   userId  movieId          tag   timestamp         parsed_time\n",
              "0      18     4141  Mark Waters  1240597180 2009-04-24 18:19:40\n",
              "1      65      208    dark hero  1368150078 2013-05-10 01:41:18"
            ]
          },
          "metadata": {
            "tags": []
          },
          "execution_count": 84
        }
      ]
    },
    {
      "metadata": {
        "id": "ZraSpCYfy8Tj",
        "colab_type": "text"
      },
      "cell_type": "markdown",
      "source": [
        "<p style=\"font-family: Arial; font-size:1.35em;color:#2462C0; font-style:bold\">\n",
        "\n",
        "Selecting rows based on timestamps\n",
        "</p>"
      ]
    },
    {
      "metadata": {
        "id": "zvE5PI49y8Tj",
        "colab_type": "code",
        "colab": {
          "base_uri": "https://localhost:8080/",
          "height": 34
        },
        "outputId": "da7d0d2c-07eb-42d2-b5a3-f5aae75f6543"
      },
      "cell_type": "code",
      "source": [
        "greater_than_t = tags['parsed_time'] > '2015-02-01'\n",
        "\n",
        "selected_rows = tags[greater_than_t]\n",
        "\n",
        "tags.shape, selected_rows.shape"
      ],
      "execution_count": 85,
      "outputs": [
        {
          "output_type": "execute_result",
          "data": {
            "text/plain": [
              "((465564, 5), (12130, 5))"
            ]
          },
          "metadata": {
            "tags": []
          },
          "execution_count": 85
        }
      ]
    },
    {
      "metadata": {
        "id": "mMfxBzpyy8Tj",
        "colab_type": "text"
      },
      "cell_type": "markdown",
      "source": [
        "<p style=\"font-family: Arial; font-size:1.35em;color:#2462C0; font-style:bold\">\n",
        "\n",
        "Sorting the table using the timestamps\n",
        "</p>"
      ]
    },
    {
      "metadata": {
        "id": "CT3wy4u1y8Tj",
        "colab_type": "code",
        "colab": {
          "base_uri": "https://localhost:8080/",
          "height": 359
        },
        "outputId": "a2a3f33d-aad5-426c-e927-bb469c3e647b"
      },
      "cell_type": "code",
      "source": [
        "tags.sort_values(by='parsed_time', ascending=True)[:10]"
      ],
      "execution_count": 86,
      "outputs": [
        {
          "output_type": "execute_result",
          "data": {
            "text/html": [
              "<div>\n",
              "<style scoped>\n",
              "    .dataframe tbody tr th:only-of-type {\n",
              "        vertical-align: middle;\n",
              "    }\n",
              "\n",
              "    .dataframe tbody tr th {\n",
              "        vertical-align: top;\n",
              "    }\n",
              "\n",
              "    .dataframe thead th {\n",
              "        text-align: right;\n",
              "    }\n",
              "</style>\n",
              "<table border=\"1\" class=\"dataframe\">\n",
              "  <thead>\n",
              "    <tr style=\"text-align: right;\">\n",
              "      <th></th>\n",
              "      <th>userId</th>\n",
              "      <th>movieId</th>\n",
              "      <th>tag</th>\n",
              "      <th>timestamp</th>\n",
              "      <th>parsed_time</th>\n",
              "    </tr>\n",
              "  </thead>\n",
              "  <tbody>\n",
              "    <tr>\n",
              "      <th>333932</th>\n",
              "      <td>100371</td>\n",
              "      <td>2788</td>\n",
              "      <td>monty python</td>\n",
              "      <td>1135429210</td>\n",
              "      <td>2005-12-24 13:00:10</td>\n",
              "    </tr>\n",
              "    <tr>\n",
              "      <th>333927</th>\n",
              "      <td>100371</td>\n",
              "      <td>1732</td>\n",
              "      <td>coen brothers</td>\n",
              "      <td>1135429236</td>\n",
              "      <td>2005-12-24 13:00:36</td>\n",
              "    </tr>\n",
              "    <tr>\n",
              "      <th>333924</th>\n",
              "      <td>100371</td>\n",
              "      <td>1206</td>\n",
              "      <td>stanley kubrick</td>\n",
              "      <td>1135429248</td>\n",
              "      <td>2005-12-24 13:00:48</td>\n",
              "    </tr>\n",
              "    <tr>\n",
              "      <th>333923</th>\n",
              "      <td>100371</td>\n",
              "      <td>1193</td>\n",
              "      <td>jack nicholson</td>\n",
              "      <td>1135429371</td>\n",
              "      <td>2005-12-24 13:02:51</td>\n",
              "    </tr>\n",
              "    <tr>\n",
              "      <th>333939</th>\n",
              "      <td>100371</td>\n",
              "      <td>5004</td>\n",
              "      <td>peter sellers</td>\n",
              "      <td>1135429399</td>\n",
              "      <td>2005-12-24 13:03:19</td>\n",
              "    </tr>\n",
              "    <tr>\n",
              "      <th>333922</th>\n",
              "      <td>100371</td>\n",
              "      <td>47</td>\n",
              "      <td>morgan freeman</td>\n",
              "      <td>1135429412</td>\n",
              "      <td>2005-12-24 13:03:32</td>\n",
              "    </tr>\n",
              "    <tr>\n",
              "      <th>333921</th>\n",
              "      <td>100371</td>\n",
              "      <td>47</td>\n",
              "      <td>brad pitt</td>\n",
              "      <td>1135429412</td>\n",
              "      <td>2005-12-24 13:03:32</td>\n",
              "    </tr>\n",
              "    <tr>\n",
              "      <th>333936</th>\n",
              "      <td>100371</td>\n",
              "      <td>4011</td>\n",
              "      <td>brad pitt</td>\n",
              "      <td>1135429431</td>\n",
              "      <td>2005-12-24 13:03:51</td>\n",
              "    </tr>\n",
              "    <tr>\n",
              "      <th>333937</th>\n",
              "      <td>100371</td>\n",
              "      <td>4011</td>\n",
              "      <td>guy ritchie</td>\n",
              "      <td>1135429431</td>\n",
              "      <td>2005-12-24 13:03:51</td>\n",
              "    </tr>\n",
              "    <tr>\n",
              "      <th>333920</th>\n",
              "      <td>100371</td>\n",
              "      <td>32</td>\n",
              "      <td>bruce willis</td>\n",
              "      <td>1135429442</td>\n",
              "      <td>2005-12-24 13:04:02</td>\n",
              "    </tr>\n",
              "  </tbody>\n",
              "</table>\n",
              "</div>"
            ],
            "text/plain": [
              "        userId  movieId              tag   timestamp         parsed_time\n",
              "333932  100371     2788     monty python  1135429210 2005-12-24 13:00:10\n",
              "333927  100371     1732    coen brothers  1135429236 2005-12-24 13:00:36\n",
              "333924  100371     1206  stanley kubrick  1135429248 2005-12-24 13:00:48\n",
              "333923  100371     1193   jack nicholson  1135429371 2005-12-24 13:02:51\n",
              "333939  100371     5004    peter sellers  1135429399 2005-12-24 13:03:19\n",
              "333922  100371       47   morgan freeman  1135429412 2005-12-24 13:03:32\n",
              "333921  100371       47        brad pitt  1135429412 2005-12-24 13:03:32\n",
              "333936  100371     4011        brad pitt  1135429431 2005-12-24 13:03:51\n",
              "333937  100371     4011      guy ritchie  1135429431 2005-12-24 13:03:51\n",
              "333920  100371       32     bruce willis  1135429442 2005-12-24 13:04:02"
            ]
          },
          "metadata": {
            "tags": []
          },
          "execution_count": 86
        }
      ]
    },
    {
      "metadata": {
        "id": "PX-HLWgLy8Tk",
        "colab_type": "text"
      },
      "cell_type": "markdown",
      "source": [
        "<h1 style=\"font-size:2em;color:#2467C0\">Average Movie Ratings over Time </h1>\n",
        "## Are Movie ratings related to the year of launch?"
      ]
    },
    {
      "metadata": {
        "id": "du6iGxNoy8Tk",
        "colab_type": "code",
        "colab": {
          "base_uri": "https://localhost:8080/",
          "height": 204
        },
        "outputId": "4839a55f-8b46-41fc-eb67-62de316cb9ae"
      },
      "cell_type": "code",
      "source": [
        "average_rating = ratings[['movieId','rating']].groupby('movieId', as_index=False).mean()\n",
        "average_rating.tail()"
      ],
      "execution_count": 87,
      "outputs": [
        {
          "output_type": "execute_result",
          "data": {
            "text/html": [
              "<div>\n",
              "<style scoped>\n",
              "    .dataframe tbody tr th:only-of-type {\n",
              "        vertical-align: middle;\n",
              "    }\n",
              "\n",
              "    .dataframe tbody tr th {\n",
              "        vertical-align: top;\n",
              "    }\n",
              "\n",
              "    .dataframe thead th {\n",
              "        text-align: right;\n",
              "    }\n",
              "</style>\n",
              "<table border=\"1\" class=\"dataframe\">\n",
              "  <thead>\n",
              "    <tr style=\"text-align: right;\">\n",
              "      <th></th>\n",
              "      <th>movieId</th>\n",
              "      <th>rating</th>\n",
              "    </tr>\n",
              "  </thead>\n",
              "  <tbody>\n",
              "    <tr>\n",
              "      <th>26739</th>\n",
              "      <td>131254</td>\n",
              "      <td>4.0</td>\n",
              "    </tr>\n",
              "    <tr>\n",
              "      <th>26740</th>\n",
              "      <td>131256</td>\n",
              "      <td>4.0</td>\n",
              "    </tr>\n",
              "    <tr>\n",
              "      <th>26741</th>\n",
              "      <td>131258</td>\n",
              "      <td>2.5</td>\n",
              "    </tr>\n",
              "    <tr>\n",
              "      <th>26742</th>\n",
              "      <td>131260</td>\n",
              "      <td>3.0</td>\n",
              "    </tr>\n",
              "    <tr>\n",
              "      <th>26743</th>\n",
              "      <td>131262</td>\n",
              "      <td>4.0</td>\n",
              "    </tr>\n",
              "  </tbody>\n",
              "</table>\n",
              "</div>"
            ],
            "text/plain": [
              "       movieId  rating\n",
              "26739   131254     4.0\n",
              "26740   131256     4.0\n",
              "26741   131258     2.5\n",
              "26742   131260     3.0\n",
              "26743   131262     4.0"
            ]
          },
          "metadata": {
            "tags": []
          },
          "execution_count": 87
        }
      ]
    },
    {
      "metadata": {
        "id": "6L05wLgGy8Tl",
        "colab_type": "code",
        "colab": {
          "base_uri": "https://localhost:8080/",
          "height": 111
        },
        "outputId": "d2200845-9291-40f9-975f-732baee29735"
      },
      "cell_type": "code",
      "source": [
        "joined = movies.merge(average_rating, on='movieId', how='inner')\n",
        "joined.head()\n",
        "joined.corr()"
      ],
      "execution_count": 88,
      "outputs": [
        {
          "output_type": "execute_result",
          "data": {
            "text/html": [
              "<div>\n",
              "<style scoped>\n",
              "    .dataframe tbody tr th:only-of-type {\n",
              "        vertical-align: middle;\n",
              "    }\n",
              "\n",
              "    .dataframe tbody tr th {\n",
              "        vertical-align: top;\n",
              "    }\n",
              "\n",
              "    .dataframe thead th {\n",
              "        text-align: right;\n",
              "    }\n",
              "</style>\n",
              "<table border=\"1\" class=\"dataframe\">\n",
              "  <thead>\n",
              "    <tr style=\"text-align: right;\">\n",
              "      <th></th>\n",
              "      <th>movieId</th>\n",
              "      <th>rating</th>\n",
              "    </tr>\n",
              "  </thead>\n",
              "  <tbody>\n",
              "    <tr>\n",
              "      <th>movieId</th>\n",
              "      <td>1.000000</td>\n",
              "      <td>-0.090369</td>\n",
              "    </tr>\n",
              "    <tr>\n",
              "      <th>rating</th>\n",
              "      <td>-0.090369</td>\n",
              "      <td>1.000000</td>\n",
              "    </tr>\n",
              "  </tbody>\n",
              "</table>\n",
              "</div>"
            ],
            "text/plain": [
              "          movieId    rating\n",
              "movieId  1.000000 -0.090369\n",
              "rating  -0.090369  1.000000"
            ]
          },
          "metadata": {
            "tags": []
          },
          "execution_count": 88
        }
      ]
    },
    {
      "metadata": {
        "id": "HYLFefhiy8Tl",
        "colab_type": "code",
        "colab": {
          "base_uri": "https://localhost:8080/",
          "height": 359
        },
        "outputId": "ac0ec6ae-288e-40c6-b90f-621d9a6ccd12"
      },
      "cell_type": "code",
      "source": [
        "yearly_average = joined[['year','rating']].groupby('year', as_index=False).mean()\n",
        "yearly_average[:10]"
      ],
      "execution_count": 89,
      "outputs": [
        {
          "output_type": "execute_result",
          "data": {
            "text/html": [
              "<div>\n",
              "<style scoped>\n",
              "    .dataframe tbody tr th:only-of-type {\n",
              "        vertical-align: middle;\n",
              "    }\n",
              "\n",
              "    .dataframe tbody tr th {\n",
              "        vertical-align: top;\n",
              "    }\n",
              "\n",
              "    .dataframe thead th {\n",
              "        text-align: right;\n",
              "    }\n",
              "</style>\n",
              "<table border=\"1\" class=\"dataframe\">\n",
              "  <thead>\n",
              "    <tr style=\"text-align: right;\">\n",
              "      <th></th>\n",
              "      <th>year</th>\n",
              "      <th>rating</th>\n",
              "    </tr>\n",
              "  </thead>\n",
              "  <tbody>\n",
              "    <tr>\n",
              "      <th>0</th>\n",
              "      <td>1891</td>\n",
              "      <td>3.000000</td>\n",
              "    </tr>\n",
              "    <tr>\n",
              "      <th>1</th>\n",
              "      <td>1893</td>\n",
              "      <td>3.375000</td>\n",
              "    </tr>\n",
              "    <tr>\n",
              "      <th>2</th>\n",
              "      <td>1894</td>\n",
              "      <td>3.071429</td>\n",
              "    </tr>\n",
              "    <tr>\n",
              "      <th>3</th>\n",
              "      <td>1895</td>\n",
              "      <td>3.125000</td>\n",
              "    </tr>\n",
              "    <tr>\n",
              "      <th>4</th>\n",
              "      <td>1896</td>\n",
              "      <td>3.183036</td>\n",
              "    </tr>\n",
              "    <tr>\n",
              "      <th>5</th>\n",
              "      <td>1898</td>\n",
              "      <td>3.850000</td>\n",
              "    </tr>\n",
              "    <tr>\n",
              "      <th>6</th>\n",
              "      <td>1899</td>\n",
              "      <td>3.625000</td>\n",
              "    </tr>\n",
              "    <tr>\n",
              "      <th>7</th>\n",
              "      <td>1900</td>\n",
              "      <td>3.166667</td>\n",
              "    </tr>\n",
              "    <tr>\n",
              "      <th>8</th>\n",
              "      <td>1901</td>\n",
              "      <td>5.000000</td>\n",
              "    </tr>\n",
              "    <tr>\n",
              "      <th>9</th>\n",
              "      <td>1902</td>\n",
              "      <td>3.738189</td>\n",
              "    </tr>\n",
              "  </tbody>\n",
              "</table>\n",
              "</div>"
            ],
            "text/plain": [
              "   year    rating\n",
              "0  1891  3.000000\n",
              "1  1893  3.375000\n",
              "2  1894  3.071429\n",
              "3  1895  3.125000\n",
              "4  1896  3.183036\n",
              "5  1898  3.850000\n",
              "6  1899  3.625000\n",
              "7  1900  3.166667\n",
              "8  1901  5.000000\n",
              "9  1902  3.738189"
            ]
          },
          "metadata": {
            "tags": []
          },
          "execution_count": 89
        }
      ]
    },
    {
      "metadata": {
        "id": "stEmeNgRy8Tm",
        "colab_type": "code",
        "colab": {
          "base_uri": "https://localhost:8080/",
          "height": 613
        },
        "outputId": "0df2ca79-369a-4041-e19c-6cc7829c1806"
      },
      "cell_type": "code",
      "source": [
        "yearly_average[-20:].plot(x='year', y='rating', figsize=(15,10), grid=True)"
      ],
      "execution_count": 90,
      "outputs": [
        {
          "output_type": "execute_result",
          "data": {
            "text/plain": [
              "<matplotlib.axes._subplots.AxesSubplot at 0x7fafc8d9a898>"
            ]
          },
          "metadata": {
            "tags": []
          },
          "execution_count": 90
        },
        {
          "output_type": "display_data",
          "data": {
            "image/png": "[encoded data removed]",
            "text/plain": [
              "<matplotlib.figure.Figure at 0x7fafc8d84dd8>"
            ]
          },
          "metadata": {
            "tags": []
          }
        }
      ]
    },
    {
      "metadata": {
        "id": "m78IagTJy8Tm",
        "colab_type": "text"
      },
      "cell_type": "markdown",
      "source": [
        "<p style=\"font-family: Arial; font-size:1.35em;color:#2462C0; font-style:bold\">\n",
        "\n",
        "Do some years look better for the boxoffice movies than others? <br><br>\n",
        "\n",
        "Does any data point seem like an outlier in some sense?\n",
        "\n",
        "</p>"
      ]
    },
    {
      "metadata": {
        "id": "3yYJKw69y8Tn",
        "colab_type": "code",
        "colab": {}
      },
      "cell_type": "code",
      "source": [
        ""
      ],
      "execution_count": 0,
      "outputs": []
    }
  ]
}