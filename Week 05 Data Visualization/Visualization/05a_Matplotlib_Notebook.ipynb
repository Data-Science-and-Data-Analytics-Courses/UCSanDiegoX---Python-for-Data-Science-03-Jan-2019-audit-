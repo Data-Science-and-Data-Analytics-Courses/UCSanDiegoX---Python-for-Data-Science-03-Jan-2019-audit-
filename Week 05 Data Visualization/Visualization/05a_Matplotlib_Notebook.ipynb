{
  "nbformat": 4,
  "nbformat_minor": 0,
  "metadata": {
    "colab": {
      "name": "05a_Matplotlib_Notebook.ipynb",
      "version": "0.3.2",
      "provenance": [],
      "include_colab_link": true
    },
    "kernelspec": {
      "name": "python3",
      "display_name": "Python 3"
    },
    "accelerator": "GPU"
  },
  "cells": [
    {
      "cell_type": "markdown",
      "metadata": {
        "id": "view-in-github",
        "colab_type": "text"
      },
      "source": [
        "<a href=\"https://colab.research.google.com/github/Data-Science-and-Data-Analytics-Courses/UCSanDiegoX---Python-for-Data-Science-03-Jan-2019-audit-/blob/Week-05-Data-Visualization/Week%2005%20Data%20Visualization/Visualization/05a_Matplotlib_Notebook.ipynb\" target=\"_parent\"><img src=\"https://colab.research.google.com/assets/colab-badge.svg\" alt=\"Open In Colab\"/></a>"
      ]
    },
    {
      "metadata": {
        "id": "B-hhhm9jmZjT",
        "colab_type": "code",
        "colab": {}
      },
      "cell_type": "code",
      "source": [
        "# Data Source: https://www.kaggle.com/worldbank/world-development-indicators\n",
        "# Folder: 'world-development-indicators'"
      ],
      "execution_count": 0,
      "outputs": []
    },
    {
      "metadata": {
        "id": "nlhT07NumZjf",
        "colab_type": "text"
      },
      "cell_type": "markdown",
      "source": [
        "<br><p style=\"font-family: Arial; font-size:3.75em;color:purple; font-style:bold\">\n",
        "Matplotlib: Exploring <br> <br> <br>Data Visualization</p><br><br>"
      ]
    },
    {
      "metadata": {
        "id": "BRCGeR00mZjg",
        "colab_type": "text"
      },
      "cell_type": "markdown",
      "source": [
        "<br><br><center><h1 style=\"font-size:2em;color:#2467C0\">World Development Indicators</h1></center>\n",
        "<br>\n",
        "<table>\n",
        "<col width=\"550\">\n",
        "<col width=\"450\">\n",
        "<tr>\n",
        "<td><img src=\"https://upload.wikimedia.org/wikipedia/commons/4/46/North_South_divide.svg\" align=\"middle\" style=\"width:550px;height:360px;\"/></td>\n",
        "<td>\n",
        "This week, we will be using an open dataset from <a href=\"https://www.kaggle.com\">Kaggle</a>. It is  <a href=\"https://www.kaggle.com/worldbank/world-development-indicators\">The World Development Indicators</a> dataset obtained from the World Bank containing over a thousand annual indicators of economic development from hundreds of countries around the world.\n",
        "<br>\n",
        "<br>\n",
        "This is a slightly modified version of the original dataset from <a href=\"http://data.worldbank.org/data-catalog/world-development-indicators\">The World Bank</a>\n",
        "<br>\n",
        "<br>\n",
        "List of the <a href=\"https://www.kaggle.com/benhamner/d/worldbank/world-development-indicators/indicators-in-data\">available indicators</a> and a <a href=\"https://www.kaggle.com/benhamner/d/worldbank/world-development-indicators/countries-in-the-wdi-data\">list of the available countries</a>.\n",
        "</td>\n",
        "</tr>\n",
        "</table>"
      ]
    },
    {
      "metadata": {
        "id": "c67GRNCPcSrD",
        "colab_type": "text"
      },
      "cell_type": "markdown",
      "source": [
        "# Pull notebook directory from GitHub remote repository to Google Colaboratory (run the following code cell one time only)"
      ]
    },
    {
      "metadata": {
        "id": "yYmfRpSNcuNx",
        "colab_type": "code",
        "outputId": "809e2e62-6ba6-4956-9b0e-8b3171ad6671",
        "colab": {
          "base_uri": "https://localhost:8080/",
          "height": 68
        }
      },
      "cell_type": "code",
      "source": [
        "import os\n",
        "\n",
        "repo_url = \"http://github.com/Data-Science-and-Data-Analytics-Courses/UCSanDiegoX---Python-for-Data-Science-03-Jan-2019-audit-\".strip(\"/\")\n",
        "repo_to_notebook_dir = \"Week 05 Data Visualization/Visualization\"\n",
        "\n",
        "# Create local repository\n",
        "repo_name = os.path.basename(repo_url)\n",
        "!git init \"$repo_name\"\n",
        "%cd \"$repo_name\"\n",
        "\n",
        "# Set up git for pull\n",
        "!git remote add origin \"$repo_url\" # remote repository\n",
        "!git config core.sparsecheckout true \n",
        "!echo \"$repo_to_notebook_dir\" >> .git/info/sparse-checkout # notebook directory to download\n",
        "\n",
        "# Pull notebook directory to local repository\n",
        "!git pull --all\n",
        "!git branch -r\n",
        "!git checkout master\n",
        "%cd \"$repo_to_notebook_dir\""
      ],
      "execution_count": 2,
      "outputs": [
        {
          "output_type": "stream",
          "text": [
            "Branch 'Week-05-Data-Visualization' set up to track remote branch 'Week-05-Data-Visualization' from 'origin'.\n",
            "Switched to a new branch 'Week-05-Data-Visualization'\n",
            "/content/UCSanDiegoX---Python-for-Data-Science-03-Jan-2019-audit-/Week 05 Data Visualization/Visualization\n"
          ],
          "name": "stdout"
        }
      ]
    },
    {
      "metadata": {
        "id": "Smy47H7Lq7eO",
        "colab_type": "text"
      },
      "cell_type": "markdown",
      "source": [
        "# Step 0: Download the Dataset from Kaggle (using Kaggle API)\n",
        "To use the Kaggle API, sign up for a Kaggle account at https://www.kaggle.com. Then go to the 'Account' tab of your user profile and select 'Create API Token'. This will trigger the download of kaggle.json, a file containing your API credentials.\n",
        "\n",
        "For more information about using Kaggle API, please visit https://github.com/Kaggle/kaggle-api."
      ]
    },
    {
      "metadata": {
        "id": "D_edKqVuq73k",
        "colab_type": "code",
        "outputId": "b034f234-3415-4c6b-d64d-da61bbcbeb98",
        "colab": {
          "base_uri": "https://localhost:8080/",
          "height": 51
        }
      },
      "cell_type": "code",
      "source": [
        "# Run this cell and select the downloaded kaggle.json file\n",
        "\n",
        "from google.colab import files\n",
        "import zipfile\n",
        "\n",
        "# Select kaggle.json file to upload to current working directory\n",
        "files.upload()\n",
        "!ls -lha kaggle.json\n",
        "\n",
        "# Place kaggle.json in directory ~/.kaggle\n",
        "!mkdir ~/.kaggle\n",
        "!mv kaggle.json ~/.kaggle/\n",
        "\n",
        "# Secure API credentials\n",
        "!chmod 600 ~/.kaggle/kaggle.json\n",
        "\n",
        "# Download Dataset\n",
        "!kaggle datasets download -d worldbank/world-development-indicators\n",
        "!mkdir 'world-development-indicators' # data files wiil be extracted into this directory\n",
        "data_filenames = ['Indicators.csv']\n",
        "with zipfile.ZipFile('world-development-indicators.zip') as z:\n",
        "  for name in z.namelist(): # zipped files already flattened (no top directory) \n",
        "    if name in data_filenames:\n",
        "      z.extract(name, 'world-development-indicators')\n",
        "!ls -sh 'world-development-indicators' # list extracted data files\n",
        "!rm 'world-development-indicators.zip' # remove zip file"
      ],
      "execution_count": 64,
      "outputs": [
        {
          "output_type": "stream",
          "text": [
            "total 548M\n",
            "548M Indicators.csv\n"
          ],
          "name": "stdout"
        }
      ]
    },
    {
      "metadata": {
        "id": "Ak_z0ClKmZjh",
        "colab_type": "text"
      },
      "cell_type": "markdown",
      "source": [
        "# Step 1: Initial exploration of the Dataset"
      ]
    },
    {
      "metadata": {
        "colab_type": "code",
        "id": "EyfCBt4j_how",
        "colab": {}
      },
      "cell_type": "code",
      "source": [
        "import pandas as pd\n",
        "import numpy as np\n",
        "import random\n",
        "import matplotlib.pyplot as plt"
      ],
      "execution_count": 0,
      "outputs": []
    },
    {
      "metadata": {
        "id": "6a9v-cPiUmZX",
        "colab_type": "code",
        "colab": {}
      },
      "cell_type": "code",
      "source": [
        "data = pd.read_csv(\"world-development-indicators/Indicators.csv\")"
      ],
      "execution_count": 0,
      "outputs": []
    },
    {
      "metadata": {
        "id": "EWpY_orJmZjp",
        "colab_type": "text"
      },
      "cell_type": "markdown",
      "source": [
        "This is a really large dataset, at least in terms of the number of rows.  But with 6 columns, what does this hold?"
      ]
    },
    {
      "metadata": {
        "id": "Pc_SMz_lmZjq",
        "colab_type": "code",
        "outputId": "064db7c1-7398-43d4-dff4-015c01c7a336",
        "colab": {
          "base_uri": "https://localhost:8080/",
          "height": 359
        }
      },
      "cell_type": "code",
      "source": [
        "data.head(10)"
      ],
      "execution_count": 67,
      "outputs": [
        {
          "output_type": "execute_result",
          "data": {
            "text/html": [
              "<div>\n",
              "<style scoped>\n",
              "    .dataframe tbody tr th:only-of-type {\n",
              "        vertical-align: middle;\n",
              "    }\n",
              "\n",
              "    .dataframe tbody tr th {\n",
              "        vertical-align: top;\n",
              "    }\n",
              "\n",
              "    .dataframe thead th {\n",
              "        text-align: right;\n",
              "    }\n",
              "</style>\n",
              "<table border=\"1\" class=\"dataframe\">\n",
              "  <thead>\n",
              "    <tr style=\"text-align: right;\">\n",
              "      <th></th>\n",
              "      <th>CountryName</th>\n",
              "      <th>CountryCode</th>\n",
              "      <th>IndicatorName</th>\n",
              "      <th>IndicatorCode</th>\n",
              "      <th>Year</th>\n",
              "      <th>Value</th>\n",
              "    </tr>\n",
              "  </thead>\n",
              "  <tbody>\n",
              "    <tr>\n",
              "      <th>0</th>\n",
              "      <td>Arab World</td>\n",
              "      <td>ARB</td>\n",
              "      <td>Adolescent fertility rate (births per 1,000 wo...</td>\n",
              "      <td>SP.ADO.TFRT</td>\n",
              "      <td>1960</td>\n",
              "      <td>1.335609e+02</td>\n",
              "    </tr>\n",
              "    <tr>\n",
              "      <th>1</th>\n",
              "      <td>Arab World</td>\n",
              "      <td>ARB</td>\n",
              "      <td>Age dependency ratio (% of working-age populat...</td>\n",
              "      <td>SP.POP.DPND</td>\n",
              "      <td>1960</td>\n",
              "      <td>8.779760e+01</td>\n",
              "    </tr>\n",
              "    <tr>\n",
              "      <th>2</th>\n",
              "      <td>Arab World</td>\n",
              "      <td>ARB</td>\n",
              "      <td>Age dependency ratio, old (% of working-age po...</td>\n",
              "      <td>SP.POP.DPND.OL</td>\n",
              "      <td>1960</td>\n",
              "      <td>6.634579e+00</td>\n",
              "    </tr>\n",
              "    <tr>\n",
              "      <th>3</th>\n",
              "      <td>Arab World</td>\n",
              "      <td>ARB</td>\n",
              "      <td>Age dependency ratio, young (% of working-age ...</td>\n",
              "      <td>SP.POP.DPND.YG</td>\n",
              "      <td>1960</td>\n",
              "      <td>8.102333e+01</td>\n",
              "    </tr>\n",
              "    <tr>\n",
              "      <th>4</th>\n",
              "      <td>Arab World</td>\n",
              "      <td>ARB</td>\n",
              "      <td>Arms exports (SIPRI trend indicator values)</td>\n",
              "      <td>MS.MIL.XPRT.KD</td>\n",
              "      <td>1960</td>\n",
              "      <td>3.000000e+06</td>\n",
              "    </tr>\n",
              "    <tr>\n",
              "      <th>5</th>\n",
              "      <td>Arab World</td>\n",
              "      <td>ARB</td>\n",
              "      <td>Arms imports (SIPRI trend indicator values)</td>\n",
              "      <td>MS.MIL.MPRT.KD</td>\n",
              "      <td>1960</td>\n",
              "      <td>5.380000e+08</td>\n",
              "    </tr>\n",
              "    <tr>\n",
              "      <th>6</th>\n",
              "      <td>Arab World</td>\n",
              "      <td>ARB</td>\n",
              "      <td>Birth rate, crude (per 1,000 people)</td>\n",
              "      <td>SP.DYN.CBRT.IN</td>\n",
              "      <td>1960</td>\n",
              "      <td>4.769789e+01</td>\n",
              "    </tr>\n",
              "    <tr>\n",
              "      <th>7</th>\n",
              "      <td>Arab World</td>\n",
              "      <td>ARB</td>\n",
              "      <td>CO2 emissions (kt)</td>\n",
              "      <td>EN.ATM.CO2E.KT</td>\n",
              "      <td>1960</td>\n",
              "      <td>5.956399e+04</td>\n",
              "    </tr>\n",
              "    <tr>\n",
              "      <th>8</th>\n",
              "      <td>Arab World</td>\n",
              "      <td>ARB</td>\n",
              "      <td>CO2 emissions (metric tons per capita)</td>\n",
              "      <td>EN.ATM.CO2E.PC</td>\n",
              "      <td>1960</td>\n",
              "      <td>6.439635e-01</td>\n",
              "    </tr>\n",
              "    <tr>\n",
              "      <th>9</th>\n",
              "      <td>Arab World</td>\n",
              "      <td>ARB</td>\n",
              "      <td>CO2 emissions from gaseous fuel consumption (%...</td>\n",
              "      <td>EN.ATM.CO2E.GF.ZS</td>\n",
              "      <td>1960</td>\n",
              "      <td>5.041292e+00</td>\n",
              "    </tr>\n",
              "  </tbody>\n",
              "</table>\n",
              "</div>"
            ],
            "text/plain": [
              "  CountryName CountryCode                                      IndicatorName  \\\n",
              "0  Arab World         ARB  Adolescent fertility rate (births per 1,000 wo...   \n",
              "1  Arab World         ARB  Age dependency ratio (% of working-age populat...   \n",
              "2  Arab World         ARB  Age dependency ratio, old (% of working-age po...   \n",
              "3  Arab World         ARB  Age dependency ratio, young (% of working-age ...   \n",
              "4  Arab World         ARB        Arms exports (SIPRI trend indicator values)   \n",
              "5  Arab World         ARB        Arms imports (SIPRI trend indicator values)   \n",
              "6  Arab World         ARB               Birth rate, crude (per 1,000 people)   \n",
              "7  Arab World         ARB                                 CO2 emissions (kt)   \n",
              "8  Arab World         ARB             CO2 emissions (metric tons per capita)   \n",
              "9  Arab World         ARB  CO2 emissions from gaseous fuel consumption (%...   \n",
              "\n",
              "       IndicatorCode  Year         Value  \n",
              "0        SP.ADO.TFRT  1960  1.335609e+02  \n",
              "1        SP.POP.DPND  1960  8.779760e+01  \n",
              "2     SP.POP.DPND.OL  1960  6.634579e+00  \n",
              "3     SP.POP.DPND.YG  1960  8.102333e+01  \n",
              "4     MS.MIL.XPRT.KD  1960  3.000000e+06  \n",
              "5     MS.MIL.MPRT.KD  1960  5.380000e+08  \n",
              "6     SP.DYN.CBRT.IN  1960  4.769789e+01  \n",
              "7     EN.ATM.CO2E.KT  1960  5.956399e+04  \n",
              "8     EN.ATM.CO2E.PC  1960  6.439635e-01  \n",
              "9  EN.ATM.CO2E.GF.ZS  1960  5.041292e+00  "
            ]
          },
          "metadata": {
            "tags": []
          },
          "execution_count": 67
        }
      ]
    },
    {
      "metadata": {
        "id": "Pgx4FZQPmZju",
        "colab_type": "text"
      },
      "cell_type": "markdown",
      "source": [
        "Looks like it has different indicators for different countries with the year and value of the indicator. "
      ]
    },
    {
      "metadata": {
        "id": "CQA1iPyJmZjv",
        "colab_type": "text"
      },
      "cell_type": "markdown",
      "source": [
        "### How many UNIQUE country names are there ?"
      ]
    },
    {
      "metadata": {
        "id": "kMGogu-EmZjv",
        "colab_type": "code",
        "outputId": "275a2194-1a3f-4ac3-c877-b63845a8730a",
        "colab": {
          "base_uri": "https://localhost:8080/",
          "height": 34
        }
      },
      "cell_type": "code",
      "source": [
        "countries = data['CountryName'].unique().tolist()\n",
        "len(countries)"
      ],
      "execution_count": 68,
      "outputs": [
        {
          "output_type": "execute_result",
          "data": {
            "text/plain": [
              "247"
            ]
          },
          "metadata": {
            "tags": []
          },
          "execution_count": 68
        }
      ]
    },
    {
      "metadata": {
        "id": "DZlNpbXMmZjz",
        "colab_type": "text"
      },
      "cell_type": "markdown",
      "source": [
        "### Are there same number of country codes ?"
      ]
    },
    {
      "metadata": {
        "id": "snofKv1_mZjz",
        "colab_type": "code",
        "outputId": "cca6ee51-8ddd-4881-8866-70d90587ffab",
        "colab": {
          "base_uri": "https://localhost:8080/",
          "height": 34
        }
      },
      "cell_type": "code",
      "source": [
        "# How many unique country codes are there ? (should be the same #)\n",
        "countryCodes = data['CountryCode'].unique().tolist()\n",
        "len(countryCodes)"
      ],
      "execution_count": 78,
      "outputs": [
        {
          "output_type": "execute_result",
          "data": {
            "text/plain": [
              "247"
            ]
          },
          "metadata": {
            "tags": []
          },
          "execution_count": 78
        }
      ]
    },
    {
      "metadata": {
        "id": "MM_tA19_mZj2",
        "colab_type": "text"
      },
      "cell_type": "markdown",
      "source": [
        "### Are there many indicators or few ?"
      ]
    },
    {
      "metadata": {
        "id": "C_XDs3r9mZj3",
        "colab_type": "code",
        "outputId": "0c967d98-05f3-43b7-a0a2-d1639b5cd367",
        "colab": {
          "base_uri": "https://localhost:8080/",
          "height": 34
        }
      },
      "cell_type": "code",
      "source": [
        "# How many unique indicators are there ? (should be the same #)\n",
        "indicators = data['IndicatorName'].unique().tolist()\n",
        "len(indicators)"
      ],
      "execution_count": 70,
      "outputs": [
        {
          "output_type": "execute_result",
          "data": {
            "text/plain": [
              "1344"
            ]
          },
          "metadata": {
            "tags": []
          },
          "execution_count": 70
        }
      ]
    },
    {
      "metadata": {
        "id": "sno96FFNmZj6",
        "colab_type": "text"
      },
      "cell_type": "markdown",
      "source": [
        "### How many years of data do we have ?"
      ]
    },
    {
      "metadata": {
        "id": "sGZejwe-mZj7",
        "colab_type": "code",
        "outputId": "e5865f02-ade2-4257-8b9a-58e7d29028db",
        "colab": {
          "base_uri": "https://localhost:8080/",
          "height": 34
        }
      },
      "cell_type": "code",
      "source": [
        "# How many years of data do we have ?\n",
        "years = data['Year'].unique().tolist()\n",
        "len(years)"
      ],
      "execution_count": 71,
      "outputs": [
        {
          "output_type": "execute_result",
          "data": {
            "text/plain": [
              "56"
            ]
          },
          "metadata": {
            "tags": []
          },
          "execution_count": 71
        }
      ]
    },
    {
      "metadata": {
        "id": "jxYLaKYYmZj9",
        "colab_type": "text"
      },
      "cell_type": "markdown",
      "source": [
        "### What's the range of years?"
      ]
    },
    {
      "metadata": {
        "id": "_eyCEGgBmZj-",
        "colab_type": "code",
        "outputId": "f92f75de-b991-4315-b175-9b565a7713ae",
        "colab": {
          "base_uri": "https://localhost:8080/",
          "height": 34
        }
      },
      "cell_type": "code",
      "source": [
        "print(min(years),\" to \",max(years))"
      ],
      "execution_count": 72,
      "outputs": [
        {
          "output_type": "stream",
          "text": [
            "1960  to  2015\n"
          ],
          "name": "stdout"
        }
      ]
    },
    {
      "metadata": {
        "id": "_klzPqXMmZkC",
        "colab_type": "text"
      },
      "cell_type": "markdown",
      "source": [
        "<p style=\"font-family: Arial; font-size:2.5em;color:blue; font-style:bold\">\n",
        "Matplotlib: Basic Plotting, Part 1</p><br>"
      ]
    },
    {
      "metadata": {
        "id": "8rI3SFWWmZkD",
        "colab_type": "text"
      },
      "cell_type": "markdown",
      "source": [
        "### Lets pick a country and an indicator to explore: CO2 Emissions per capita and the USA"
      ]
    },
    {
      "metadata": {
        "id": "ec5-NpyBmZkE",
        "colab_type": "code",
        "colab": {}
      },
      "cell_type": "code",
      "source": [
        "# select CO2 emissions for the United States\n",
        "hist_indicator = 'CO2 emissions \\(metric'\n",
        "hist_country = 'USA'\n",
        "\n",
        "mask1 = data['IndicatorName'].str.contains(hist_indicator) \n",
        "mask2 = data['CountryCode'].str.contains(hist_country)\n",
        "\n",
        "# stage is just those indicators matching the USA for country code and CO2 emissions over time.\n",
        "stage = data[mask1 & mask2]"
      ],
      "execution_count": 0,
      "outputs": []
    },
    {
      "metadata": {
        "id": "nc4ZZ2l0mZkG",
        "colab_type": "code",
        "outputId": "cc5dbbf0-b0d4-4959-94c0-35e2e131b61a",
        "colab": {
          "base_uri": "https://localhost:8080/",
          "height": 204
        }
      },
      "cell_type": "code",
      "source": [
        "stage.head()"
      ],
      "execution_count": 74,
      "outputs": [
        {
          "output_type": "execute_result",
          "data": {
            "text/html": [
              "<div>\n",
              "<style scoped>\n",
              "    .dataframe tbody tr th:only-of-type {\n",
              "        vertical-align: middle;\n",
              "    }\n",
              "\n",
              "    .dataframe tbody tr th {\n",
              "        vertical-align: top;\n",
              "    }\n",
              "\n",
              "    .dataframe thead th {\n",
              "        text-align: right;\n",
              "    }\n",
              "</style>\n",
              "<table border=\"1\" class=\"dataframe\">\n",
              "  <thead>\n",
              "    <tr style=\"text-align: right;\">\n",
              "      <th></th>\n",
              "      <th>CountryName</th>\n",
              "      <th>CountryCode</th>\n",
              "      <th>IndicatorName</th>\n",
              "      <th>IndicatorCode</th>\n",
              "      <th>Year</th>\n",
              "      <th>Value</th>\n",
              "    </tr>\n",
              "  </thead>\n",
              "  <tbody>\n",
              "    <tr>\n",
              "      <th>22232</th>\n",
              "      <td>United States</td>\n",
              "      <td>USA</td>\n",
              "      <td>CO2 emissions (metric tons per capita)</td>\n",
              "      <td>EN.ATM.CO2E.PC</td>\n",
              "      <td>1960</td>\n",
              "      <td>15.999779</td>\n",
              "    </tr>\n",
              "    <tr>\n",
              "      <th>48708</th>\n",
              "      <td>United States</td>\n",
              "      <td>USA</td>\n",
              "      <td>CO2 emissions (metric tons per capita)</td>\n",
              "      <td>EN.ATM.CO2E.PC</td>\n",
              "      <td>1961</td>\n",
              "      <td>15.681256</td>\n",
              "    </tr>\n",
              "    <tr>\n",
              "      <th>77087</th>\n",
              "      <td>United States</td>\n",
              "      <td>USA</td>\n",
              "      <td>CO2 emissions (metric tons per capita)</td>\n",
              "      <td>EN.ATM.CO2E.PC</td>\n",
              "      <td>1962</td>\n",
              "      <td>16.013937</td>\n",
              "    </tr>\n",
              "    <tr>\n",
              "      <th>105704</th>\n",
              "      <td>United States</td>\n",
              "      <td>USA</td>\n",
              "      <td>CO2 emissions (metric tons per capita)</td>\n",
              "      <td>EN.ATM.CO2E.PC</td>\n",
              "      <td>1963</td>\n",
              "      <td>16.482762</td>\n",
              "    </tr>\n",
              "    <tr>\n",
              "      <th>134742</th>\n",
              "      <td>United States</td>\n",
              "      <td>USA</td>\n",
              "      <td>CO2 emissions (metric tons per capita)</td>\n",
              "      <td>EN.ATM.CO2E.PC</td>\n",
              "      <td>1964</td>\n",
              "      <td>16.968119</td>\n",
              "    </tr>\n",
              "  </tbody>\n",
              "</table>\n",
              "</div>"
            ],
            "text/plain": [
              "          CountryName CountryCode                           IndicatorName  \\\n",
              "22232   United States         USA  CO2 emissions (metric tons per capita)   \n",
              "48708   United States         USA  CO2 emissions (metric tons per capita)   \n",
              "77087   United States         USA  CO2 emissions (metric tons per capita)   \n",
              "105704  United States         USA  CO2 emissions (metric tons per capita)   \n",
              "134742  United States         USA  CO2 emissions (metric tons per capita)   \n",
              "\n",
              "         IndicatorCode  Year      Value  \n",
              "22232   EN.ATM.CO2E.PC  1960  15.999779  \n",
              "48708   EN.ATM.CO2E.PC  1961  15.681256  \n",
              "77087   EN.ATM.CO2E.PC  1962  16.013937  \n",
              "105704  EN.ATM.CO2E.PC  1963  16.482762  \n",
              "134742  EN.ATM.CO2E.PC  1964  16.968119  "
            ]
          },
          "metadata": {
            "tags": []
          },
          "execution_count": 74
        }
      ]
    },
    {
      "metadata": {
        "id": "iRDrA-Q9mZkK",
        "colab_type": "text"
      },
      "cell_type": "markdown",
      "source": [
        "### Let's see how emissions have changed over time using MatplotLib"
      ]
    },
    {
      "metadata": {
        "id": "M1skGDkZmZkM",
        "colab_type": "code",
        "outputId": "11cb40ec-caa4-450e-a816-c71b21b39674",
        "colab": {
          "base_uri": "https://localhost:8080/",
          "height": 347
        }
      },
      "cell_type": "code",
      "source": [
        "# get the years\n",
        "years = stage['Year'].values\n",
        "# get the values \n",
        "co2 = stage['Value'].values\n",
        "\n",
        "# create\n",
        "plt.bar(years,co2)\n",
        "plt.show()"
      ],
      "execution_count": 79,
      "outputs": [
        {
          "output_type": "display_data",
          "data": {
            "image/png": "[encoded data removed]",
            "text/plain": [
              "<matplotlib.figure.Figure at 0x7fa418075fd0>"
            ]
          },
          "metadata": {
            "tags": []
          }
        }
      ]
    },
    {
      "metadata": {
        "id": "DKzyQ88lmZkP",
        "colab_type": "text"
      },
      "cell_type": "markdown",
      "source": [
        "Turns out emissions per capita have dropped a bit over time, but let's make this graphic a bit more appealing before we continue to explore it."
      ]
    },
    {
      "metadata": {
        "id": "B2c1SAEsmZkQ",
        "colab_type": "code",
        "outputId": "4c2b6bee-1f55-4426-8d1d-beb308839166",
        "colab": {
          "base_uri": "https://localhost:8080/",
          "height": 376
        }
      },
      "cell_type": "code",
      "source": [
        "# switch to a line plot\n",
        "plt.plot(stage['Year'].values, stage['Value'].values)\n",
        "\n",
        "# Label the axes\n",
        "plt.xlabel('Year')\n",
        "plt.ylabel(stage['IndicatorName'].iloc[0])\n",
        "\n",
        "#label the figure\n",
        "plt.title('CO2 Emissions in USA')\n",
        "\n",
        "# to make more honest, start they y axis at 0\n",
        "plt.axis([1959, 2011,0,25])\n",
        "\n",
        "plt.show()"
      ],
      "execution_count": 81,
      "outputs": [
        {
          "output_type": "display_data",
          "data": {
            "image/png": "[encoded data removed]",
            "text/plain": [
              "<matplotlib.figure.Figure at 0x7fa415736c18>"
            ]
          },
          "metadata": {
            "tags": []
          }
        }
      ]
    },
    {
      "metadata": {
        "id": "1lmyaEkumZkT",
        "colab_type": "text"
      },
      "cell_type": "markdown",
      "source": [
        "### Using Histograms to explore the distribution of values\n",
        "We could also visualize this data as a histogram to better explore the ranges of values in CO2 production per year. "
      ]
    },
    {
      "metadata": {
        "id": "kQ8lcGdemZkV",
        "colab_type": "code",
        "colab": {}
      },
      "cell_type": "code",
      "source": [
        "# If you want to just include those within one standard deviation fo the mean, you could do the following\n",
        "# lower = stage['Value'].mean() - stage['Value'].std()\n",
        "# upper = stage['Value'].mean() + stage['Value'].std()\n",
        "# hist_data = [x for x in stage[:10000]['Value'] if x>lower and x<upper ]\n",
        "\n",
        "# Otherwise, let's look at all the data\n",
        "hist_data = stage['Value'].values"
      ],
      "execution_count": 0,
      "outputs": []
    },
    {
      "metadata": {
        "id": "LLuC9UAQmZkW",
        "colab_type": "code",
        "outputId": "3fbe01be-c724-4854-e00d-75219121b78f",
        "colab": {
          "base_uri": "https://localhost:8080/",
          "height": 34
        }
      },
      "cell_type": "code",
      "source": [
        "print(len(hist_data))"
      ],
      "execution_count": 83,
      "outputs": [
        {
          "output_type": "stream",
          "text": [
            "52\n"
          ],
          "name": "stdout"
        }
      ]
    },
    {
      "metadata": {
        "scrolled": true,
        "id": "jRvvk0ofmZkZ",
        "colab_type": "code",
        "outputId": "d8b18e79-4c3f-41dd-e55b-4771eff6cf39",
        "colab": {
          "base_uri": "https://localhost:8080/",
          "height": 376
        }
      },
      "cell_type": "code",
      "source": [
        "# the histogram of the data\n",
        "plt.hist(hist_data, 10, normed=False, facecolor='green')\n",
        "\n",
        "plt.xlabel(stage['IndicatorName'].iloc[0])\n",
        "plt.ylabel('# of Years')\n",
        "plt.title('Histogram Example')\n",
        "\n",
        "plt.grid(True)\n",
        "\n",
        "plt.show()"
      ],
      "execution_count": 84,
      "outputs": [
        {
          "output_type": "display_data",
          "data": {
            "image/png": "[encoded data removed]",
            "text/plain": [
              "<matplotlib.figure.Figure at 0x7fa417f7ce10>"
            ]
          },
          "metadata": {
            "tags": []
          }
        }
      ]
    },
    {
      "metadata": {
        "id": "e5VmRzkvmZkb",
        "colab_type": "text"
      },
      "cell_type": "markdown",
      "source": [
        "So the USA has many years where it produced between 19-20 metric tons per capita with outliers on either side."
      ]
    },
    {
      "metadata": {
        "id": "5hN6QdnXmZkc",
        "colab_type": "text"
      },
      "cell_type": "markdown",
      "source": [
        "### But how do the USA's numbers relate to those of other countries?"
      ]
    },
    {
      "metadata": {
        "id": "ty4VFgUCmZkd",
        "colab_type": "code",
        "outputId": "20fe4f3b-6ab6-4058-c1d3-d814eadfd086",
        "colab": {
          "base_uri": "https://localhost:8080/",
          "height": 204
        }
      },
      "cell_type": "code",
      "source": [
        "# select CO2 emissions for all countries in 2011\n",
        "hist_indicator = 'CO2 emissions \\(metric'\n",
        "hist_year = 2011\n",
        "\n",
        "mask1 = data['IndicatorName'].str.contains(hist_indicator) \n",
        "mask2 = data['Year'].isin([hist_year])\n",
        "\n",
        "# apply our mask\n",
        "co2_2011 = data[mask1 & mask2]\n",
        "co2_2011.head()"
      ],
      "execution_count": 85,
      "outputs": [
        {
          "output_type": "execute_result",
          "data": {
            "text/html": [
              "<div>\n",
              "<style scoped>\n",
              "    .dataframe tbody tr th:only-of-type {\n",
              "        vertical-align: middle;\n",
              "    }\n",
              "\n",
              "    .dataframe tbody tr th {\n",
              "        vertical-align: top;\n",
              "    }\n",
              "\n",
              "    .dataframe thead th {\n",
              "        text-align: right;\n",
              "    }\n",
              "</style>\n",
              "<table border=\"1\" class=\"dataframe\">\n",
              "  <thead>\n",
              "    <tr style=\"text-align: right;\">\n",
              "      <th></th>\n",
              "      <th>CountryName</th>\n",
              "      <th>CountryCode</th>\n",
              "      <th>IndicatorName</th>\n",
              "      <th>IndicatorCode</th>\n",
              "      <th>Year</th>\n",
              "      <th>Value</th>\n",
              "    </tr>\n",
              "  </thead>\n",
              "  <tbody>\n",
              "    <tr>\n",
              "      <th>5026275</th>\n",
              "      <td>Arab World</td>\n",
              "      <td>ARB</td>\n",
              "      <td>CO2 emissions (metric tons per capita)</td>\n",
              "      <td>EN.ATM.CO2E.PC</td>\n",
              "      <td>2011</td>\n",
              "      <td>4.724500</td>\n",
              "    </tr>\n",
              "    <tr>\n",
              "      <th>5026788</th>\n",
              "      <td>Caribbean small states</td>\n",
              "      <td>CSS</td>\n",
              "      <td>CO2 emissions (metric tons per capita)</td>\n",
              "      <td>EN.ATM.CO2E.PC</td>\n",
              "      <td>2011</td>\n",
              "      <td>9.692960</td>\n",
              "    </tr>\n",
              "    <tr>\n",
              "      <th>5027295</th>\n",
              "      <td>Central Europe and the Baltics</td>\n",
              "      <td>CEB</td>\n",
              "      <td>CO2 emissions (metric tons per capita)</td>\n",
              "      <td>EN.ATM.CO2E.PC</td>\n",
              "      <td>2011</td>\n",
              "      <td>6.911131</td>\n",
              "    </tr>\n",
              "    <tr>\n",
              "      <th>5027870</th>\n",
              "      <td>East Asia &amp; Pacific (all income levels)</td>\n",
              "      <td>EAS</td>\n",
              "      <td>CO2 emissions (metric tons per capita)</td>\n",
              "      <td>EN.ATM.CO2E.PC</td>\n",
              "      <td>2011</td>\n",
              "      <td>5.859548</td>\n",
              "    </tr>\n",
              "    <tr>\n",
              "      <th>5028456</th>\n",
              "      <td>East Asia &amp; Pacific (developing only)</td>\n",
              "      <td>EAP</td>\n",
              "      <td>CO2 emissions (metric tons per capita)</td>\n",
              "      <td>EN.ATM.CO2E.PC</td>\n",
              "      <td>2011</td>\n",
              "      <td>5.302499</td>\n",
              "    </tr>\n",
              "  </tbody>\n",
              "</table>\n",
              "</div>"
            ],
            "text/plain": [
              "                                     CountryName CountryCode  \\\n",
              "5026275                               Arab World         ARB   \n",
              "5026788                   Caribbean small states         CSS   \n",
              "5027295           Central Europe and the Baltics         CEB   \n",
              "5027870  East Asia & Pacific (all income levels)         EAS   \n",
              "5028456    East Asia & Pacific (developing only)         EAP   \n",
              "\n",
              "                                  IndicatorName   IndicatorCode  Year  \\\n",
              "5026275  CO2 emissions (metric tons per capita)  EN.ATM.CO2E.PC  2011   \n",
              "5026788  CO2 emissions (metric tons per capita)  EN.ATM.CO2E.PC  2011   \n",
              "5027295  CO2 emissions (metric tons per capita)  EN.ATM.CO2E.PC  2011   \n",
              "5027870  CO2 emissions (metric tons per capita)  EN.ATM.CO2E.PC  2011   \n",
              "5028456  CO2 emissions (metric tons per capita)  EN.ATM.CO2E.PC  2011   \n",
              "\n",
              "            Value  \n",
              "5026275  4.724500  \n",
              "5026788  9.692960  \n",
              "5027295  6.911131  \n",
              "5027870  5.859548  \n",
              "5028456  5.302499  "
            ]
          },
          "metadata": {
            "tags": []
          },
          "execution_count": 85
        }
      ]
    },
    {
      "metadata": {
        "id": "H-OkDKiMmZkg",
        "colab_type": "text"
      },
      "cell_type": "markdown",
      "source": [
        "For how many countries do we have CO2 per capita emissions data in 2011"
      ]
    },
    {
      "metadata": {
        "id": "I8-kthsDmZki",
        "colab_type": "code",
        "outputId": "471fca29-9847-48e2-d0f3-e572c4dc623a",
        "colab": {
          "base_uri": "https://localhost:8080/",
          "height": 34
        }
      },
      "cell_type": "code",
      "source": [
        "print(len(co2_2011))"
      ],
      "execution_count": 86,
      "outputs": [
        {
          "output_type": "stream",
          "text": [
            "232\n"
          ],
          "name": "stdout"
        }
      ]
    },
    {
      "metadata": {
        "id": "lKfYFhiimZkl",
        "colab_type": "code",
        "outputId": "ac245396-2992-4fd1-ce14-9a1520d1508a",
        "colab": {
          "base_uri": "https://localhost:8080/",
          "height": 376
        }
      },
      "cell_type": "code",
      "source": [
        "# let's plot a histogram of the emmissions per capita by country\n",
        "\n",
        "# subplots returns a touple with the figure, axis attributes.\n",
        "fig, ax = plt.subplots()\n",
        "\n",
        "ax.annotate(\"USA\",\n",
        "            xy=(18, 5), xycoords='data',\n",
        "            xytext=(18, 30), textcoords='data',\n",
        "            arrowprops=dict(arrowstyle=\"->\",\n",
        "                            connectionstyle=\"arc3\"),\n",
        "            )\n",
        "\n",
        "plt.hist(co2_2011['Value'], 10, normed=False, facecolor='green')\n",
        "\n",
        "plt.xlabel(stage['IndicatorName'].iloc[0])\n",
        "plt.ylabel('# of Countries')\n",
        "plt.title('Histogram of CO2 Emissions Per Capita')\n",
        "\n",
        "#plt.axis([10, 22, 0, 14])\n",
        "plt.grid(True)\n",
        "\n",
        "plt.show()"
      ],
      "execution_count": 87,
      "outputs": [
        {
          "output_type": "display_data",
          "data": {
            "image/png": "[encoded data removed]",
            "text/plain": [
              "<matplotlib.figure.Figure at 0x7fa415703710>"
            ]
          },
          "metadata": {
            "tags": []
          }
        }
      ]
    },
    {
      "metadata": {
        "id": "1qB4BD6imZkq",
        "colab_type": "text"
      },
      "cell_type": "markdown",
      "source": [
        "So the USA, at ~18 CO2 emissions (metric tons per capital) is quite high among all countries.\n",
        "\n",
        "An interesting next step, which we'll save for you, would be to explore how this relates to other industrialized nations and to look at the outliers with those values in the 40s!"
      ]
    },
    {
      "metadata": {
        "id": "7DSsC2QYmZkq",
        "colab_type": "text"
      },
      "cell_type": "markdown",
      "source": [
        "<p style=\"font-family: Arial; font-size:2.0em;color:blue; font-style:bold\">\n",
        "Matplotlib: Basic Plotting, Part 2</p>"
      ]
    },
    {
      "metadata": {
        "id": "ppJXDciTmZkq",
        "colab_type": "text"
      },
      "cell_type": "markdown",
      "source": [
        "### Relationship between GPD and CO2 Emissions in USA"
      ]
    },
    {
      "metadata": {
        "id": "Rquhkjc2mZks",
        "colab_type": "code",
        "colab": {}
      },
      "cell_type": "code",
      "source": [
        "# select GDP Per capita emissions for the United States\n",
        "hist_indicator = 'GDP per capita \\(constant 2005'\n",
        "hist_country = 'USA'\n",
        "\n",
        "mask1 = data['IndicatorName'].str.contains(hist_indicator) \n",
        "mask2 = data['CountryCode'].str.contains(hist_country)\n",
        "\n",
        "# stage is just those indicators matching the USA for country code and CO2 emissions over time.\n",
        "gdp_stage = data[mask1 & mask2]\n",
        "\n",
        "#plot gdp_stage vs stage"
      ],
      "execution_count": 0,
      "outputs": []
    },
    {
      "metadata": {
        "id": "LPoRBbxpmZku",
        "colab_type": "code",
        "outputId": "4af45c53-1030-4849-f89a-b6b60ee1a633",
        "colab": {
          "base_uri": "https://localhost:8080/",
          "height": 111
        }
      },
      "cell_type": "code",
      "source": [
        "gdp_stage.head(2)"
      ],
      "execution_count": 89,
      "outputs": [
        {
          "output_type": "execute_result",
          "data": {
            "text/html": [
              "<div>\n",
              "<style scoped>\n",
              "    .dataframe tbody tr th:only-of-type {\n",
              "        vertical-align: middle;\n",
              "    }\n",
              "\n",
              "    .dataframe tbody tr th {\n",
              "        vertical-align: top;\n",
              "    }\n",
              "\n",
              "    .dataframe thead th {\n",
              "        text-align: right;\n",
              "    }\n",
              "</style>\n",
              "<table border=\"1\" class=\"dataframe\">\n",
              "  <thead>\n",
              "    <tr style=\"text-align: right;\">\n",
              "      <th></th>\n",
              "      <th>CountryName</th>\n",
              "      <th>CountryCode</th>\n",
              "      <th>IndicatorName</th>\n",
              "      <th>IndicatorCode</th>\n",
              "      <th>Year</th>\n",
              "      <th>Value</th>\n",
              "    </tr>\n",
              "  </thead>\n",
              "  <tbody>\n",
              "    <tr>\n",
              "      <th>22282</th>\n",
              "      <td>United States</td>\n",
              "      <td>USA</td>\n",
              "      <td>GDP per capita (constant 2005 US$)</td>\n",
              "      <td>NY.GDP.PCAP.KD</td>\n",
              "      <td>1960</td>\n",
              "      <td>15482.707760</td>\n",
              "    </tr>\n",
              "    <tr>\n",
              "      <th>48759</th>\n",
              "      <td>United States</td>\n",
              "      <td>USA</td>\n",
              "      <td>GDP per capita (constant 2005 US$)</td>\n",
              "      <td>NY.GDP.PCAP.KD</td>\n",
              "      <td>1961</td>\n",
              "      <td>15578.409657</td>\n",
              "    </tr>\n",
              "  </tbody>\n",
              "</table>\n",
              "</div>"
            ],
            "text/plain": [
              "         CountryName CountryCode                       IndicatorName  \\\n",
              "22282  United States         USA  GDP per capita (constant 2005 US$)   \n",
              "48759  United States         USA  GDP per capita (constant 2005 US$)   \n",
              "\n",
              "        IndicatorCode  Year         Value  \n",
              "22282  NY.GDP.PCAP.KD  1960  15482.707760  \n",
              "48759  NY.GDP.PCAP.KD  1961  15578.409657  "
            ]
          },
          "metadata": {
            "tags": []
          },
          "execution_count": 89
        }
      ]
    },
    {
      "metadata": {
        "id": "BXzjF3SHmZkx",
        "colab_type": "code",
        "outputId": "50d9c732-6318-4c17-8445-b87001cdcd0f",
        "colab": {}
      },
      "cell_type": "code",
      "source": [
        "stage.head(2)"
      ],
      "execution_count": 0,
      "outputs": [
        {
          "output_type": "execute_result",
          "data": {
            "text/html": [
              "<div>\n",
              "<table border=\"1\" class=\"dataframe\">\n",
              "  <thead>\n",
              "    <tr style=\"text-align: right;\">\n",
              "      <th></th>\n",
              "      <th>CountryName</th>\n",
              "      <th>CountryCode</th>\n",
              "      <th>IndicatorName</th>\n",
              "      <th>IndicatorCode</th>\n",
              "      <th>Year</th>\n",
              "      <th>Value</th>\n",
              "    </tr>\n",
              "  </thead>\n",
              "  <tbody>\n",
              "    <tr>\n",
              "      <th>22232</th>\n",
              "      <td>United States</td>\n",
              "      <td>USA</td>\n",
              "      <td>CO2 emissions (metric tons per capita)</td>\n",
              "      <td>EN.ATM.CO2E.PC</td>\n",
              "      <td>1960</td>\n",
              "      <td>15.999779</td>\n",
              "    </tr>\n",
              "    <tr>\n",
              "      <th>48708</th>\n",
              "      <td>United States</td>\n",
              "      <td>USA</td>\n",
              "      <td>CO2 emissions (metric tons per capita)</td>\n",
              "      <td>EN.ATM.CO2E.PC</td>\n",
              "      <td>1961</td>\n",
              "      <td>15.681256</td>\n",
              "    </tr>\n",
              "  </tbody>\n",
              "</table>\n",
              "</div>"
            ],
            "text/plain": [
              "         CountryName CountryCode                           IndicatorName  \\\n",
              "22232  United States         USA  CO2 emissions (metric tons per capita)   \n",
              "48708  United States         USA  CO2 emissions (metric tons per capita)   \n",
              "\n",
              "        IndicatorCode  Year      Value  \n",
              "22232  EN.ATM.CO2E.PC  1960  15.999779  \n",
              "48708  EN.ATM.CO2E.PC  1961  15.681256  "
            ]
          },
          "metadata": {
            "tags": []
          },
          "execution_count": 31
        }
      ]
    },
    {
      "metadata": {
        "id": "wtuumXxTmZk1",
        "colab_type": "code",
        "outputId": "03259f9a-c4af-444e-f7a1-a6831dbb11c1",
        "colab": {
          "base_uri": "https://localhost:8080/",
          "height": 376
        }
      },
      "cell_type": "code",
      "source": [
        "# switch to a line plot\n",
        "plt.plot(gdp_stage['Year'].values, gdp_stage['Value'].values)\n",
        "\n",
        "# Label the axes\n",
        "plt.xlabel('Year')\n",
        "plt.ylabel(gdp_stage['IndicatorName'].iloc[0])\n",
        "\n",
        "#label the figure\n",
        "plt.title('GDP Per Capita USA')\n",
        "\n",
        "# to make more honest, start they y axis at 0\n",
        "#plt.axis([1959, 2011,0,25])\n",
        "\n",
        "plt.show()"
      ],
      "execution_count": 90,
      "outputs": [
        {
          "output_type": "display_data",
          "data": {
            "image/png": "[encoded data removed]",
            "text/plain": [
              "<matplotlib.figure.Figure at 0x7fa4156820f0>"
            ]
          },
          "metadata": {
            "tags": []
          }
        }
      ]
    },
    {
      "metadata": {
        "id": "KH0pgaFjmZk4",
        "colab_type": "text"
      },
      "cell_type": "markdown",
      "source": [
        "So although we've seen a decline in the CO2 emissions per capita, it does not seem to translate to a decline in GDP per capita"
      ]
    },
    {
      "metadata": {
        "id": "O_JCYPrTmZk4",
        "colab_type": "text"
      },
      "cell_type": "markdown",
      "source": [
        "### ScatterPlot for comparing GDP against CO2 emissions (per capita)\n",
        "\n",
        "First, we'll need to make sure we're looking at the same time frames"
      ]
    },
    {
      "metadata": {
        "id": "2MLmA8WBmZk5",
        "colab_type": "code",
        "outputId": "49cf1213-6d9f-4e42-cc1d-ab03eab9a348",
        "colab": {
          "base_uri": "https://localhost:8080/",
          "height": 51
        }
      },
      "cell_type": "code",
      "source": [
        "print(\"GDP Min Year = \", gdp_stage['Year'].min(), \"max: \", gdp_stage['Year'].max())\n",
        "print(\"CO2 Min Year = \", stage['Year'].min(), \"max: \", stage['Year'].max())"
      ],
      "execution_count": 98,
      "outputs": [
        {
          "output_type": "stream",
          "text": [
            "GDP Min Year =  1960 max:  2014\n",
            "CO2 Min Year =  1960 max:  2011\n"
          ],
          "name": "stdout"
        }
      ]
    },
    {
      "metadata": {
        "id": "aC6f-qDzmZk9",
        "colab_type": "text"
      },
      "cell_type": "markdown",
      "source": [
        "We have 3 extra years of GDP data, so let's trim those off so the scatterplot has equal length arrays to compare (this is actually required by scatterplot)"
      ]
    },
    {
      "metadata": {
        "id": "j1YKLv57mZk9",
        "colab_type": "code",
        "outputId": "f0dc140f-a7a7-44cf-97cf-d0975c47a4ed",
        "colab": {
          "base_uri": "https://localhost:8080/",
          "height": 51
        }
      },
      "cell_type": "code",
      "source": [
        "gdp_stage_trunc = gdp_stage[gdp_stage['Year'] < 2012]\n",
        "print(len(gdp_stage_trunc))\n",
        "print(len(stage))"
      ],
      "execution_count": 99,
      "outputs": [
        {
          "output_type": "stream",
          "text": [
            "52\n",
            "52\n"
          ],
          "name": "stdout"
        }
      ]
    },
    {
      "metadata": {
        "id": "_eTXK2womZlA",
        "colab_type": "code",
        "outputId": "bb49c748-bd91-4221-b0cd-ae58b12cb82f",
        "colab": {
          "base_uri": "https://localhost:8080/",
          "height": 293
        }
      },
      "cell_type": "code",
      "source": [
        "%matplotlib inline\n",
        "import matplotlib.pyplot as plt\n",
        "\n",
        "fig, axis = plt.subplots()\n",
        "# Grid lines, Xticks, Xlabel, Ylabel\n",
        "\n",
        "axis.yaxis.grid(True)\n",
        "axis.set_title('CO2 Emissions vs. GDP \\(per capita\\)',fontsize=10)\n",
        "axis.set_xlabel(gdp_stage_trunc['IndicatorName'].iloc[0],fontsize=10)\n",
        "axis.set_ylabel(stage['IndicatorName'].iloc[0],fontsize=10)\n",
        "\n",
        "X = gdp_stage_trunc['Value']\n",
        "Y = stage['Value']\n",
        "\n",
        "axis.scatter(X, Y)\n",
        "plt.show()"
      ],
      "execution_count": 100,
      "outputs": [
        {
          "output_type": "display_data",
          "data": {
            "image/png": "[encoded data removed]",
            "text/plain": [
              "<matplotlib.figure.Figure at 0x7fa41542c0f0>"
            ]
          },
          "metadata": {
            "tags": []
          }
        }
      ]
    },
    {
      "metadata": {
        "id": "h6DXlpsTmZlC",
        "colab_type": "text"
      },
      "cell_type": "markdown",
      "source": [
        "This doesn't look like a strong relationship.  We can test this by looking at correlation."
      ]
    },
    {
      "metadata": {
        "id": "m_pY1KJjmZlD",
        "colab_type": "code",
        "outputId": "673d219b-014f-47f4-f7e3-5e71aea8b359",
        "colab": {
          "base_uri": "https://localhost:8080/",
          "height": 51
        }
      },
      "cell_type": "code",
      "source": [
        "np.corrcoef(gdp_stage_trunc['Value'],stage['Value'])"
      ],
      "execution_count": 101,
      "outputs": [
        {
          "output_type": "execute_result",
          "data": {
            "text/plain": [
              "array([[1.        , 0.07676005],\n",
              "       [0.07676005, 1.        ]])"
            ]
          },
          "metadata": {
            "tags": []
          },
          "execution_count": 101
        }
      ]
    },
    {
      "metadata": {
        "id": "xriLZgl5mZlK",
        "colab_type": "text"
      },
      "cell_type": "markdown",
      "source": [
        "A correlation of 0.07 is pretty weak, but you'll learn more about correlation in the next course.\n",
        "\n",
        "You could continue to explore this to see if other countries have a closer relationship between CO2 emissions and GDP.  Perhaps it is stronger for developing countries?"
      ]
    },
    {
      "metadata": {
        "collapsed": true,
        "id": "eA5TKs6PmZlK",
        "colab_type": "text"
      },
      "cell_type": "markdown",
      "source": [
        "## Want more ? \n",
        "\n",
        "### Matplotlib Examples Library"
      ]
    },
    {
      "metadata": {
        "id": "o2aDGWNCmZlL",
        "colab_type": "text"
      },
      "cell_type": "markdown",
      "source": [
        "http://matplotlib.org/examples/index.html"
      ]
    },
    {
      "metadata": {
        "id": "33S8lqRZmZlM",
        "colab_type": "code",
        "colab": {
          "base_uri": "https://localhost:8080/",
          "height": 17
        },
        "outputId": "5af6c97a-2938-455a-8c0f-9a1ac10abb77"
      },
      "cell_type": "code",
      "source": [
        "%%javascript\n",
        "IPython.OutputArea.auto_scroll_threshold = 9999;"
      ],
      "execution_count": 102,
      "outputs": [
        {
          "output_type": "display_data",
          "data": {
            "application/javascript": [
              "IPython.OutputArea.auto_scroll_threshold = 9999;"
            ],
            "text/plain": [
              "<IPython.core.display.Javascript object>"
            ]
          },
          "metadata": {
            "tags": []
          }
        }
      ]
    }
  ]
}